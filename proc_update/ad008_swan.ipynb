{
 "cells": [
  {
   "cell_type": "code",
   "execution_count": 1,
   "id": "25e2dc4b-2f4d-4221-8cae-acd10f66773d",
   "metadata": {},
   "outputs": [],
   "source": [
    "import pandas as pd\n",
    "import pdb\n",
    "import numpy as np\n",
    "import itertools\n",
    "from snakemake.io import expand\n",
    "import yaml\n",
    "import os\n",
    "import sys\n",
    "import pathlib\n",
    "import pyranges as pr\n",
    "import cerberus \n",
    "import swan_vis as swan\n",
    "import met_brewer\n",
    "import seaborn as sns\n",
    "\n",
    "p = os.path.dirname(os.getcwd())\n",
    "sys.path.append(p)\n",
    "\n",
    "from utils import *\n",
    "from sm_utils import *\n",
    "from humanized_utils import *"
   ]
  },
  {
   "cell_type": "code",
   "execution_count": 2,
   "id": "de400996-8934-4ef4-8b27-0f041e0b2f5e",
   "metadata": {},
   "outputs": [],
   "source": [
    "config_file = 'config.yml'\n",
    "with open(config_file) as f:\n",
    "    config = yaml.safe_load(f)"
   ]
  },
  {
   "cell_type": "code",
   "execution_count": 3,
   "id": "8d232d00-f357-45b1-839d-fd45b8317233",
   "metadata": {},
   "outputs": [],
   "source": [
    "swan_file = expand(config['swan']['swan_graph'], \n",
    "                   analysis='hABKI_Swe_IB_HET_WT')[0]\n",
    "cerberus_h5 = 'data/cerberus/ad008/hABKI_Swe_IB_WT_M_8_weeks_HC_8_annot.h5'\n",
    "\n"
   ]
  },
  {
   "cell_type": "code",
   "execution_count": 4,
   "id": "27d82ac7-46de-4ab3-ac1e-12b7ebadfa7f",
   "metadata": {},
   "outputs": [
    {
     "name": "stdout",
     "output_type": "stream",
     "text": [
      "Read in graph from data/swan/hABKI_Swe_IB_HET_WT/swan_graph.p\n"
     ]
    }
   ],
   "source": [
    "sg = swan.read(swan_file)\n",
    "obs = sg.adata.obs.copy(deep=True)"
   ]
  },
  {
   "cell_type": "code",
   "execution_count": 5,
   "id": "ebd7172c-8619-4071-8586-1501287d81af",
   "metadata": {},
   "outputs": [],
   "source": [
    "# get unique genotypes, timepoints, tissues, etc\n",
    "genotypes = obs.genotype.unique()\n",
    "sex = obs.sex.unique()\n",
    "ages = obs.age.unique()\n",
    "tissues = obs.tissue.unique()"
   ]
  },
  {
   "cell_type": "code",
   "execution_count": 6,
   "id": "3a715dae-84bc-42df-a9fe-07cb8dee8033",
   "metadata": {},
   "outputs": [
    {
     "name": "stdout",
     "output_type": "stream",
     "text": [
      "['hABKI_Swe_IB_HET' 'hABKI_Swe_IB_WT']\n",
      "['F' 'M']\n",
      "['8_weeks']\n",
      "['HC']\n"
     ]
    }
   ],
   "source": [
    "print(genotypes)\n",
    "print(sex)\n",
    "print(ages)\n",
    "print(tissues)"
   ]
  },
  {
   "cell_type": "code",
   "execution_count": 7,
   "id": "75c950b8-8a81-4c08-9b4f-06aff62a709d",
   "metadata": {},
   "outputs": [
    {
     "name": "stdout",
     "output_type": "stream",
     "text": [
      "{0: '#2b9b81', 1: '#fe9b00', 2: '#f4c40f', 3: '#fbe183', 4: '#633372', 5: '#9b3441', 6: '#e6a2a6', 7: '#92c051', 8: '#1f6e9c', 9: '#9f5691', 10: '#e87b89'}\n"
     ]
    },
    {
     "data": {
      "text/plain": [
       "<matplotlib.axes._subplots.AxesSubplot at 0x7fadf85fac10>"
      ]
     },
     "execution_count": 7,
     "metadata": {},
     "output_type": "execute_result"
    },
    {
     "data": {
      "image/png": "[encoded data removed]",
      "text/plain": [
       "<Figure size 432x288 with 1 Axes>"
      ]
     },
     "metadata": {
      "needs_background": "light"
     },
     "output_type": "display_data"
    }
   ],
   "source": [
    "df = pd.DataFrame()\n",
    "df['color'] = met_brewer.met_brew(\"Signac\", n=11, brew_type=\"discrete\")\n",
    "df['num'] = df.index.tolist()\n",
    "cmap = dict([(num, color) for num, color in zip(df.num.tolist(), df.color.tolist())])\n",
    "print(cmap)\n",
    "sns.barplot(df, y=[1 for i in range(len(df.index))], x='num', palette=cmap, saturation=1)"
   ]
  },
  {
   "cell_type": "code",
   "execution_count": 8,
   "id": "7c60f46b-715f-4f1a-9f83-2946c8286acf",
   "metadata": {},
   "outputs": [],
   "source": [
    "g_cmap = {'hABKI_Swe_IB_HET': cmap[1],\n",
    "          'hABKI_Swe_IB_WT': cmap[2]}\n",
    "s_cmap = {'M': cmap[3],\n",
    "          'F': cmap[7]}\n",
    "t_cmap = {'HC': cmap[10]}          "
   ]
  },
  {
   "cell_type": "code",
   "execution_count": 9,
   "id": "a3d535c5-9b3b-48db-818b-72db127e60d3",
   "metadata": {},
   "outputs": [
    {
     "data": {
      "image/png": "[encoded data removed]",
      "text/plain": [
       "<Figure size 432x288 with 1 Axes>"
      ]
     },
     "metadata": {
      "needs_background": "light"
     },
     "output_type": "display_data"
    }
   ],
   "source": [
    "df = pd.DataFrame()\n",
    "df['color'] = met_brewer.met_brew(\"OKeeffe2\", n=4, brew_type=\"continuous\")\n",
    "df['num'] = df.index.tolist()\n",
    "cmap = dict([(num, color) for num, color in zip(df.num.tolist(), df.color.tolist())])\n",
    "sns.barplot(df, y=[1 for i in range(len(df.index))], x='num', palette=cmap, saturation=1)\n",
    "order = ['8_weeks', \n",
    "         '10_weeks',\n",
    "         '4_months',\n",
    "         '18_months']\n",
    "a_cmap = dict()\n",
    "for i,t in enumerate(order):\n",
    "    a_cmap[t] = cmap[i]"
   ]
  },
  {
   "cell_type": "code",
   "execution_count": 10,
   "id": "eeadfbc9-c1c2-41cc-8641-29e6f0075f4e",
   "metadata": {},
   "outputs": [],
   "source": [
    "sg.set_metadata_colors('genotype', g_cmap)\n",
    "sg.set_metadata_colors('tissue', t_cmap)\n",
    "sg.set_metadata_colors('sex', s_cmap)\n",
    "sg.set_metadata_colors('age', a_cmap)"
   ]
  },
  {
   "cell_type": "markdown",
   "id": "dd2b41a7-4182-46e3-ab2f-0ee6523ad8fb",
   "metadata": {},
   "source": [
    "## Filtering the DU results"
   ]
  },
  {
   "cell_type": "code",
   "execution_count": 27,
   "id": "2bdc8d47-739b-4032-a46f-474269521553",
   "metadata": {},
   "outputs": [
    {
     "name": "stdout",
     "output_type": "stream",
     "text": [
      "data/swan/hABKI_Swe_IB_HET_WT/hABKI_Swe_IB_HET_vs_hABKI_Swe_IB_WT_genotype_du_tss.tsv\n",
      "data/swan/hABKI_Swe_IB_HET_WT/hABKI_Swe_IB_HET_vs_hABKI_Swe_IB_WT_genotype_du_ic.tsv\n",
      "data/swan/hABKI_Swe_IB_HET_WT/hABKI_Swe_IB_HET_vs_hABKI_Swe_IB_WT_genotype_du_iso.tsv\n",
      "data/swan/hABKI_Swe_IB_HET_WT/hABKI_Swe_IB_HET_vs_hABKI_Swe_IB_WT_genotype_du_tes.tsv\n"
     ]
    }
   ],
   "source": [
    "import glob\n",
    "# loc = 'data/swan/hABKI_Swe_IB_HET_WT/*genotype_sex_du_*.tsv'\n",
    "loc = 'data/swan/hABKI_Swe_IB_HET_WT/*genotype_du*.tsv'\n",
    "du_df = pd.DataFrame()\n",
    "for f in glob.glob(loc):\n",
    "    print(f)\n",
    "    feat = f.rsplit('_')[-1].split('.')[0]\n",
    "    cond1 = f.rsplit('/')[-1].split('_vs_')[0]\n",
    "    cond2 = f.rsplit('/')[-1].split('_vs_')[1].split('_genotype')[0]\n",
    "    # print(feat)\n",
    "    # print(cond1)\n",
    "    # print(cond2)\n",
    "    temp = pd.read_csv(f, sep='\\t')\n",
    "    temp['feat'] = feat\n",
    "    temp['cond1'] = cond1\n",
    "    temp['cond2'] = cond2\n",
    "    du_df = pd.concat([du_df, temp], axis=0)"
   ]
  },
  {
   "cell_type": "code",
   "execution_count": 28,
   "id": "8afb1cea-f634-4929-9ffb-fd35f5678b2d",
   "metadata": {},
   "outputs": [],
   "source": [
    "t_df = swan.calc_tpm(sg.adata, obs_col='genotype')\n",
    "t_df = t_df.sparse.to_dense()\n",
    "t_df = t_df.T\n",
    "t_df.reset_index(inplace=True)\n",
    "t_df.rename({'index': 'tid'}, axis=1, inplace=True)"
   ]
  },
  {
   "cell_type": "code",
   "execution_count": 29,
   "id": "ff5f0312-eecd-474c-ae84-8231759b531d",
   "metadata": {},
   "outputs": [
    {
     "data": {
      "text/plain": [
       "Index(['hABKI_Swe_IB_HET', 'hABKI_Swe_IB_WT'], dtype='object')"
      ]
     },
     "execution_count": 29,
     "metadata": {},
     "output_type": "execute_result"
    }
   ],
   "source": [
    "t_df['gid'] = t_df.tid.str.split('[', expand=True)[0]\n",
    "t_df.drop('tid', axis=1, inplace=True)\n",
    "g_df = t_df.groupby('gid').sum().reset_index()\n",
    "g_df.head()\n",
    "tpm_cols = g_df.columns[1:]\n",
    "tpm_cols"
   ]
  },
  {
   "cell_type": "code",
   "execution_count": 30,
   "id": "d28acbe3-f090-4904-a5bf-f094675e48fc",
   "metadata": {},
   "outputs": [],
   "source": [
    "du_df = du_df.merge(g_df, how='left', on='gid')"
   ]
  },
  {
   "cell_type": "code",
   "execution_count": 31,
   "id": "de5fcf6b-97c1-4b4a-b6be-58d1fdf2c566",
   "metadata": {},
   "outputs": [
    {
     "name": "stdout",
     "output_type": "stream",
     "text": [
      "35932\n",
      "27046\n"
     ]
    }
   ],
   "source": [
    "# filter df based on tpm\n",
    "# at least one transcript must be expressed above >10 TPM \n",
    "print(len(du_df))\n",
    "du_df = du_df.loc[du_df[tpm_cols].max(axis=1)>=10]\n",
    "print(len(du_df))"
   ]
  },
  {
   "cell_type": "code",
   "execution_count": 34,
   "id": "e838b21f-2b00-4055-b095-1a93e04706da",
   "metadata": {},
   "outputs": [],
   "source": [
    "# filter based on what the novelty type of transcripts is\n",
    "# and how many exons (no monoexonic)\n",
    "ca = cerberus.read(cerberus_h5)"
   ]
  },
  {
   "cell_type": "code",
   "execution_count": 35,
   "id": "4cec13e2-00cb-4313-acfa-2106ac877ce9",
   "metadata": {},
   "outputs": [
    {
     "name": "stdout",
     "output_type": "stream",
     "text": [
      "27046\n",
      "24726\n"
     ]
    }
   ],
   "source": [
    "print(len(du_df))\n",
    "for c in ['pos_iso_1', 'pos_iso_2', 'neg_iso_1', 'neg_iso_2']:\n",
    "    temp = ca.ic.copy(deep=True)\n",
    "    temp['monoexonic'] = (temp.Coordinates == '-')\n",
    "    temp = temp[['Name', 'novelty', 'monoexonic']]\n",
    "    temp.rename({'Name': c,\n",
    "                 'novelty': f'{c}_novelty',\n",
    "                 'monoexonic': f'{c}_monoexonic'}, axis=1, inplace=True)\n",
    "    du_df = du_df.merge(temp, how='left', on=c)\n",
    "    \n",
    "# no unspliced, no isms\n",
    "bad_novs = ['ISM', 'Unspliced']\n",
    "du_df = du_df.loc[~(du_df.pos_iso_1_novelty.isin(bad_novs))&\\\n",
    "                  ~(du_df.neg_iso_1_novelty.isin(bad_novs))]\n",
    "print(len(du_df))"
   ]
  },
  {
   "cell_type": "code",
   "execution_count": 18,
   "id": "2e938a7c-5a41-42e4-a883-730148f97f3a",
   "metadata": {},
   "outputs": [
    {
     "name": "stdout",
     "output_type": "stream",
     "text": [
      "14278\n"
     ]
    }
   ],
   "source": [
    "# no monoexonic\n",
    "du_df = du_df.loc[(du_df.pos_iso_1_monoexonic==False)&\\\n",
    "                  (du_df.neg_iso_1_monoexonic==False)]\n",
    "print(len(du_df))"
   ]
  },
  {
   "cell_type": "code",
   "execution_count": 37,
   "id": "be5980c9-f31d-46c2-bbe1-62e41e8ef44e",
   "metadata": {},
   "outputs": [
    {
     "data": {
      "text/html": [
       "<div>\n",
       "<style scoped>\n",
       "    .dataframe tbody tr th:only-of-type {\n",
       "        vertical-align: middle;\n",
       "    }\n",
       "\n",
       "    .dataframe tbody tr th {\n",
       "        vertical-align: top;\n",
       "    }\n",
       "\n",
       "    .dataframe thead th {\n",
       "        text-align: right;\n",
       "    }\n",
       "</style>\n",
       "<table border=\"1\" class=\"dataframe\">\n",
       "  <thead>\n",
       "    <tr style=\"text-align: right;\">\n",
       "      <th></th>\n",
       "      <th>Unnamed: 0</th>\n",
       "      <th>gid</th>\n",
       "      <th>p_val</th>\n",
       "      <th>dpi</th>\n",
       "      <th>pos_iso_1</th>\n",
       "      <th>pos_iso_2</th>\n",
       "      <th>pos_iso_1_dpi</th>\n",
       "      <th>pos_iso_2_dpi</th>\n",
       "      <th>neg_iso_1</th>\n",
       "      <th>neg_iso_2</th>\n",
       "      <th>...</th>\n",
       "      <th>hABKI_Swe_IB_HET</th>\n",
       "      <th>hABKI_Swe_IB_WT</th>\n",
       "      <th>pos_iso_1_novelty</th>\n",
       "      <th>pos_iso_1_monoexonic</th>\n",
       "      <th>pos_iso_2_novelty</th>\n",
       "      <th>pos_iso_2_monoexonic</th>\n",
       "      <th>neg_iso_1_novelty</th>\n",
       "      <th>neg_iso_1_monoexonic</th>\n",
       "      <th>neg_iso_2_novelty</th>\n",
       "      <th>neg_iso_2_monoexonic</th>\n",
       "    </tr>\n",
       "  </thead>\n",
       "  <tbody>\n",
       "    <tr>\n",
       "      <th>28</th>\n",
       "      <td>39</td>\n",
       "      <td>ENSMUSG00000000632</td>\n",
       "      <td>0.000000e+00</td>\n",
       "      <td>38.301750</td>\n",
       "      <td>ENSMUSG00000000632_7</td>\n",
       "      <td>ENSMUSG00000000632_6</td>\n",
       "      <td>28.080685</td>\n",
       "      <td>8.578466</td>\n",
       "      <td>ENSMUSG00000000632_1</td>\n",
       "      <td>NaN</td>\n",
       "      <td>...</td>\n",
       "      <td>284.659515</td>\n",
       "      <td>147.734161</td>\n",
       "      <td>Known</td>\n",
       "      <td>False</td>\n",
       "      <td>Known</td>\n",
       "      <td>False</td>\n",
       "      <td>Known</td>\n",
       "      <td>False</td>\n",
       "      <td>NaN</td>\n",
       "      <td>NaN</td>\n",
       "    </tr>\n",
       "    <tr>\n",
       "      <th>36</th>\n",
       "      <td>48</td>\n",
       "      <td>ENSMUSG00000000823</td>\n",
       "      <td>1.675203e-15</td>\n",
       "      <td>20.436955</td>\n",
       "      <td>ENSMUSG00000000823_1</td>\n",
       "      <td>ENSMUSG00000000823_2</td>\n",
       "      <td>15.605828</td>\n",
       "      <td>4.831127</td>\n",
       "      <td>ENSMUSG00000000823_3</td>\n",
       "      <td>NaN</td>\n",
       "      <td>...</td>\n",
       "      <td>22.910200</td>\n",
       "      <td>21.154467</td>\n",
       "      <td>Known</td>\n",
       "      <td>False</td>\n",
       "      <td>Known</td>\n",
       "      <td>False</td>\n",
       "      <td>Known</td>\n",
       "      <td>False</td>\n",
       "      <td>NaN</td>\n",
       "      <td>NaN</td>\n",
       "    </tr>\n",
       "    <tr>\n",
       "      <th>43</th>\n",
       "      <td>55</td>\n",
       "      <td>ENSMUSG00000000948</td>\n",
       "      <td>2.912477e-101</td>\n",
       "      <td>28.486624</td>\n",
       "      <td>ENSMUSG00000000948_6</td>\n",
       "      <td>ENSMUSG00000000948_5</td>\n",
       "      <td>26.735229</td>\n",
       "      <td>1.067920</td>\n",
       "      <td>ENSMUSG00000000948_1</td>\n",
       "      <td>ENSMUSG00000000948_7</td>\n",
       "      <td>...</td>\n",
       "      <td>81.340431</td>\n",
       "      <td>94.489845</td>\n",
       "      <td>NNC</td>\n",
       "      <td>False</td>\n",
       "      <td>NNC</td>\n",
       "      <td>False</td>\n",
       "      <td>Known</td>\n",
       "      <td>False</td>\n",
       "      <td>NNC</td>\n",
       "      <td>False</td>\n",
       "    </tr>\n",
       "    <tr>\n",
       "      <th>47</th>\n",
       "      <td>62</td>\n",
       "      <td>ENSMUSG00000001034</td>\n",
       "      <td>5.625502e-21</td>\n",
       "      <td>28.723003</td>\n",
       "      <td>ENSMUSG00000001034_4</td>\n",
       "      <td>NaN</td>\n",
       "      <td>28.722998</td>\n",
       "      <td>NaN</td>\n",
       "      <td>ENSMUSG00000001034_1</td>\n",
       "      <td>NaN</td>\n",
       "      <td>...</td>\n",
       "      <td>19.301006</td>\n",
       "      <td>15.537150</td>\n",
       "      <td>Known</td>\n",
       "      <td>False</td>\n",
       "      <td>NaN</td>\n",
       "      <td>NaN</td>\n",
       "      <td>Known</td>\n",
       "      <td>False</td>\n",
       "      <td>NaN</td>\n",
       "      <td>NaN</td>\n",
       "    </tr>\n",
       "    <tr>\n",
       "      <th>102</th>\n",
       "      <td>122</td>\n",
       "      <td>ENSMUSG00000001942</td>\n",
       "      <td>1.230453e-06</td>\n",
       "      <td>21.410543</td>\n",
       "      <td>ENSMUSG00000001942_1</td>\n",
       "      <td>ENSMUSG00000001942_4</td>\n",
       "      <td>15.084990</td>\n",
       "      <td>6.325554</td>\n",
       "      <td>ENSMUSG00000001942_5</td>\n",
       "      <td>NaN</td>\n",
       "      <td>...</td>\n",
       "      <td>9.359242</td>\n",
       "      <td>10.784737</td>\n",
       "      <td>Known</td>\n",
       "      <td>False</td>\n",
       "      <td>Known</td>\n",
       "      <td>True</td>\n",
       "      <td>Known</td>\n",
       "      <td>False</td>\n",
       "      <td>NaN</td>\n",
       "      <td>NaN</td>\n",
       "    </tr>\n",
       "  </tbody>\n",
       "</table>\n",
       "<p>5 rows × 27 columns</p>\n",
       "</div>"
      ],
      "text/plain": [
       "     Unnamed: 0                 gid          p_val        dpi  \\\n",
       "28           39  ENSMUSG00000000632   0.000000e+00  38.301750   \n",
       "36           48  ENSMUSG00000000823   1.675203e-15  20.436955   \n",
       "43           55  ENSMUSG00000000948  2.912477e-101  28.486624   \n",
       "47           62  ENSMUSG00000001034   5.625502e-21  28.723003   \n",
       "102         122  ENSMUSG00000001942   1.230453e-06  21.410543   \n",
       "\n",
       "                pos_iso_1             pos_iso_2  pos_iso_1_dpi  pos_iso_2_dpi  \\\n",
       "28   ENSMUSG00000000632_7  ENSMUSG00000000632_6      28.080685       8.578466   \n",
       "36   ENSMUSG00000000823_1  ENSMUSG00000000823_2      15.605828       4.831127   \n",
       "43   ENSMUSG00000000948_6  ENSMUSG00000000948_5      26.735229       1.067920   \n",
       "47   ENSMUSG00000001034_4                   NaN      28.722998            NaN   \n",
       "102  ENSMUSG00000001942_1  ENSMUSG00000001942_4      15.084990       6.325554   \n",
       "\n",
       "                neg_iso_1             neg_iso_2  ...  hABKI_Swe_IB_HET  \\\n",
       "28   ENSMUSG00000000632_1                   NaN  ...        284.659515   \n",
       "36   ENSMUSG00000000823_3                   NaN  ...         22.910200   \n",
       "43   ENSMUSG00000000948_1  ENSMUSG00000000948_7  ...         81.340431   \n",
       "47   ENSMUSG00000001034_1                   NaN  ...         19.301006   \n",
       "102  ENSMUSG00000001942_5                   NaN  ...          9.359242   \n",
       "\n",
       "     hABKI_Swe_IB_WT  pos_iso_1_novelty pos_iso_1_monoexonic  \\\n",
       "28        147.734161              Known                False   \n",
       "36         21.154467              Known                False   \n",
       "43         94.489845                NNC                False   \n",
       "47         15.537150              Known                False   \n",
       "102        10.784737              Known                False   \n",
       "\n",
       "    pos_iso_2_novelty pos_iso_2_monoexonic neg_iso_1_novelty  \\\n",
       "28              Known                False             Known   \n",
       "36              Known                False             Known   \n",
       "43                NNC                False             Known   \n",
       "47                NaN                  NaN             Known   \n",
       "102             Known                 True             Known   \n",
       "\n",
       "     neg_iso_1_monoexonic  neg_iso_2_novelty neg_iso_2_monoexonic  \n",
       "28                  False                NaN                  NaN  \n",
       "36                  False                NaN                  NaN  \n",
       "43                  False                NNC                False  \n",
       "47                  False                NaN                  NaN  \n",
       "102                 False                NaN                  NaN  \n",
       "\n",
       "[5 rows x 27 columns]"
      ]
     },
     "execution_count": 37,
     "metadata": {},
     "output_type": "execute_result"
    }
   ],
   "source": [
    "# filter on pval and dpi\n",
    "adj_p_thresh = 0.05\n",
    "dpi_thresh = 20\n",
    "du_df = du_df.loc[(du_df.adj_p_val<=adj_p_thresh)&(du_df.dpi>=dpi_thresh)]\n",
    "du_df.head()"
   ]
  },
  {
   "cell_type": "code",
   "execution_count": 39,
   "id": "4dcd6095-f320-47b7-9a5d-de49f1864e0f",
   "metadata": {},
   "outputs": [
    {
     "data": {
      "text/html": [
       "<div>\n",
       "<style scoped>\n",
       "    .dataframe tbody tr th:only-of-type {\n",
       "        vertical-align: middle;\n",
       "    }\n",
       "\n",
       "    .dataframe tbody tr th {\n",
       "        vertical-align: top;\n",
       "    }\n",
       "\n",
       "    .dataframe thead th {\n",
       "        text-align: right;\n",
       "    }\n",
       "</style>\n",
       "<table border=\"1\" class=\"dataframe\">\n",
       "  <thead>\n",
       "    <tr style=\"text-align: right;\">\n",
       "      <th></th>\n",
       "      <th>gid</th>\n",
       "    </tr>\n",
       "    <tr>\n",
       "      <th>feat</th>\n",
       "      <th></th>\n",
       "    </tr>\n",
       "  </thead>\n",
       "  <tbody>\n",
       "    <tr>\n",
       "      <th>ic</th>\n",
       "      <td>269</td>\n",
       "    </tr>\n",
       "    <tr>\n",
       "      <th>iso</th>\n",
       "      <td>1151</td>\n",
       "    </tr>\n",
       "    <tr>\n",
       "      <th>tes</th>\n",
       "      <td>750</td>\n",
       "    </tr>\n",
       "    <tr>\n",
       "      <th>tss</th>\n",
       "      <td>275</td>\n",
       "    </tr>\n",
       "  </tbody>\n",
       "</table>\n",
       "</div>"
      ],
      "text/plain": [
       "       gid\n",
       "feat      \n",
       "ic     269\n",
       "iso   1151\n",
       "tes    750\n",
       "tss    275"
      ]
     },
     "execution_count": 39,
     "metadata": {},
     "output_type": "execute_result"
    }
   ],
   "source": [
    "du_df[['gid', 'feat']].groupby('feat').count()"
   ]
  },
  {
   "cell_type": "code",
   "execution_count": 40,
   "id": "48c9e9e4-9191-4652-8507-b2bfd230d6e1",
   "metadata": {},
   "outputs": [
    {
     "data": {
      "text/plain": [
       "12261          Gm45640\n",
       "5266             P4htm\n",
       "11068            Rtl8c\n",
       "12032          Plekhn1\n",
       "11708            Ppcdc\n",
       "9427             Ap2b1\n",
       "8594              Ipo5\n",
       "12174    A930015D03Rik\n",
       "6176              Atl1\n",
       "12237           Snhg14\n",
       "Name: gname, dtype: object"
      ]
     },
     "execution_count": 40,
     "metadata": {},
     "output_type": "execute_result"
    }
   ],
   "source": [
    "du_df.loc[(du_df.feat=='ic')].sort_values(by='dpi', ascending=False).head(10).tail(10).gname"
   ]
  },
  {
   "cell_type": "code",
   "execution_count": 23,
   "id": "2cd6a5c7-28a0-44e3-99d9-77e7e0acb131",
   "metadata": {},
   "outputs": [],
   "source": [
    "# du_df = du_df.sort_values(by='dpi', ascending=False)\n",
    "# du_df.loc[(du_df.feat=='ic')&\\\n",
    "#           (du_df.pos_iso_1_dpi.abs()!=100)&\\\n",
    "#           (du_df.pos_iso_2_dpi.abs()!=100)&\\\n",
    "#           (du_df.neg_iso_1_dpi.abs()!=100)&\\\n",
    "#           (du_df.neg_iso_2_dpi.abs()!=100)].head()"
   ]
  },
  {
   "cell_type": "code",
   "execution_count": 24,
   "id": "0f59f8a8-eac9-4c58-ab0a-d2b805f8b82d",
   "metadata": {},
   "outputs": [
    {
     "data": {
      "text/html": [
       "<div>\n",
       "<style scoped>\n",
       "    .dataframe tbody tr th:only-of-type {\n",
       "        vertical-align: middle;\n",
       "    }\n",
       "\n",
       "    .dataframe tbody tr th {\n",
       "        vertical-align: top;\n",
       "    }\n",
       "\n",
       "    .dataframe thead th {\n",
       "        text-align: right;\n",
       "    }\n",
       "</style>\n",
       "<table border=\"1\" class=\"dataframe\">\n",
       "  <thead>\n",
       "    <tr style=\"text-align: right;\">\n",
       "      <th></th>\n",
       "      <th>gid</th>\n",
       "      <th>gname</th>\n",
       "      <th>ic_name</th>\n",
       "    </tr>\n",
       "    <tr>\n",
       "      <th>ic_id</th>\n",
       "      <th></th>\n",
       "      <th></th>\n",
       "      <th></th>\n",
       "    </tr>\n",
       "  </thead>\n",
       "  <tbody>\n",
       "    <tr>\n",
       "      <th>ENSMUSG00000000001_1</th>\n",
       "      <td>ENSMUSG00000000001</td>\n",
       "      <td>Gnai3</td>\n",
       "      <td>Gnai3_1</td>\n",
       "    </tr>\n",
       "    <tr>\n",
       "      <th>ENSMUSG00000000028_5</th>\n",
       "      <td>ENSMUSG00000000028</td>\n",
       "      <td>Cdc45</td>\n",
       "      <td>Cdc45_5</td>\n",
       "    </tr>\n",
       "    <tr>\n",
       "      <th>ENSMUSG00000000056_4</th>\n",
       "      <td>ENSMUSG00000000056</td>\n",
       "      <td>Narf</td>\n",
       "      <td>Narf_4</td>\n",
       "    </tr>\n",
       "    <tr>\n",
       "      <th>ENSMUSG00000000058_1</th>\n",
       "      <td>ENSMUSG00000000058</td>\n",
       "      <td>Cav2</td>\n",
       "      <td>Cav2_1</td>\n",
       "    </tr>\n",
       "    <tr>\n",
       "      <th>ENSMUSG00000000078_1</th>\n",
       "      <td>ENSMUSG00000000078</td>\n",
       "      <td>Klf6</td>\n",
       "      <td>Klf6_1</td>\n",
       "    </tr>\n",
       "  </tbody>\n",
       "</table>\n",
       "</div>"
      ],
      "text/plain": [
       "                                     gid  gname  ic_name\n",
       "ic_id                                                   \n",
       "ENSMUSG00000000001_1  ENSMUSG00000000001  Gnai3  Gnai3_1\n",
       "ENSMUSG00000000028_5  ENSMUSG00000000028  Cdc45  Cdc45_5\n",
       "ENSMUSG00000000056_4  ENSMUSG00000000056   Narf   Narf_4\n",
       "ENSMUSG00000000058_1  ENSMUSG00000000058   Cav2   Cav2_1\n",
       "ENSMUSG00000000078_1  ENSMUSG00000000078   Klf6   Klf6_1"
      ]
     },
     "execution_count": 24,
     "metadata": {},
     "output_type": "execute_result"
    }
   ],
   "source": [
    "sg.ic_adata.var.head()"
   ]
  },
  {
   "cell_type": "code",
   "execution_count": 25,
   "id": "d99e929f-1fef-4baf-bc05-4cc9b18213cb",
   "metadata": {},
   "outputs": [
    {
     "data": {
      "text/html": [
       "<div>\n",
       "<style scoped>\n",
       "    .dataframe tbody tr th:only-of-type {\n",
       "        vertical-align: middle;\n",
       "    }\n",
       "\n",
       "    .dataframe tbody tr th {\n",
       "        vertical-align: top;\n",
       "    }\n",
       "\n",
       "    .dataframe thead th {\n",
       "        text-align: right;\n",
       "    }\n",
       "</style>\n",
       "<table border=\"1\" class=\"dataframe\">\n",
       "  <thead>\n",
       "    <tr style=\"text-align: right;\">\n",
       "      <th></th>\n",
       "      <th>Unnamed: 0</th>\n",
       "      <th>gid</th>\n",
       "      <th>p_val</th>\n",
       "      <th>dpi</th>\n",
       "      <th>pos_iso_1</th>\n",
       "      <th>pos_iso_2</th>\n",
       "      <th>pos_iso_1_dpi</th>\n",
       "      <th>pos_iso_2_dpi</th>\n",
       "      <th>neg_iso_1</th>\n",
       "      <th>neg_iso_2</th>\n",
       "      <th>...</th>\n",
       "      <th>hABKI_Swe_IB_HET</th>\n",
       "      <th>hABKI_Swe_IB_WT</th>\n",
       "      <th>pos_iso_1_novelty</th>\n",
       "      <th>pos_iso_1_monoexonic</th>\n",
       "      <th>pos_iso_2_novelty</th>\n",
       "      <th>pos_iso_2_monoexonic</th>\n",
       "      <th>neg_iso_1_novelty</th>\n",
       "      <th>neg_iso_1_monoexonic</th>\n",
       "      <th>neg_iso_2_novelty</th>\n",
       "      <th>neg_iso_2_monoexonic</th>\n",
       "    </tr>\n",
       "  </thead>\n",
       "  <tbody>\n",
       "    <tr>\n",
       "      <th>11746</th>\n",
       "      <td>8738</td>\n",
       "      <td>ENSMUSG00000066151</td>\n",
       "      <td>5.917625e-09</td>\n",
       "      <td>23.724449</td>\n",
       "      <td>ENSMUSG00000066151_1</td>\n",
       "      <td>ENSMUSG00000066151_13</td>\n",
       "      <td>20.714630</td>\n",
       "      <td>3.009819</td>\n",
       "      <td>ENSMUSG00000066151_2</td>\n",
       "      <td>ENSMUSG00000066151_12</td>\n",
       "      <td>...</td>\n",
       "      <td>6.589409</td>\n",
       "      <td>10.833746</td>\n",
       "      <td>Known</td>\n",
       "      <td>False</td>\n",
       "      <td>NIC</td>\n",
       "      <td>False</td>\n",
       "      <td>Known</td>\n",
       "      <td>False</td>\n",
       "      <td>NIC</td>\n",
       "      <td>False</td>\n",
       "    </tr>\n",
       "    <tr>\n",
       "      <th>11756</th>\n",
       "      <td>8751</td>\n",
       "      <td>ENSMUSG00000066571</td>\n",
       "      <td>5.126801e-14</td>\n",
       "      <td>21.138211</td>\n",
       "      <td>ENSMUSG00000066571_10</td>\n",
       "      <td>ENSMUSG00000066571_12</td>\n",
       "      <td>15.176151</td>\n",
       "      <td>5.962059</td>\n",
       "      <td>ENSMUSG00000066571_11</td>\n",
       "      <td>ENSMUSG00000066571_1</td>\n",
       "      <td>...</td>\n",
       "      <td>12.791306</td>\n",
       "      <td>9.448186</td>\n",
       "      <td>Known</td>\n",
       "      <td>False</td>\n",
       "      <td>ISM</td>\n",
       "      <td>False</td>\n",
       "      <td>NIC</td>\n",
       "      <td>False</td>\n",
       "      <td>Known</td>\n",
       "      <td>False</td>\n",
       "    </tr>\n",
       "    <tr>\n",
       "      <th>11874</th>\n",
       "      <td>8912</td>\n",
       "      <td>ENSMUSG00000070953</td>\n",
       "      <td>2.989631e-40</td>\n",
       "      <td>45.110546</td>\n",
       "      <td>ENSMUSG00000070953_3</td>\n",
       "      <td>ENSMUSG00000070953_11</td>\n",
       "      <td>38.275119</td>\n",
       "      <td>6.835427</td>\n",
       "      <td>ENSMUSG00000070953_1</td>\n",
       "      <td>ENSMUSG00000070953_8</td>\n",
       "      <td>...</td>\n",
       "      <td>22.035051</td>\n",
       "      <td>9.789830</td>\n",
       "      <td>Known</td>\n",
       "      <td>False</td>\n",
       "      <td>NIC</td>\n",
       "      <td>False</td>\n",
       "      <td>Known</td>\n",
       "      <td>False</td>\n",
       "      <td>ISM</td>\n",
       "      <td>False</td>\n",
       "    </tr>\n",
       "    <tr>\n",
       "      <th>11882</th>\n",
       "      <td>8926</td>\n",
       "      <td>ENSMUSG00000071180</td>\n",
       "      <td>5.162333e-92</td>\n",
       "      <td>43.151908</td>\n",
       "      <td>ENSMUSG00000071180_5</td>\n",
       "      <td>ENSMUSG00000071180_4</td>\n",
       "      <td>28.905159</td>\n",
       "      <td>8.460173</td>\n",
       "      <td>ENSMUSG00000071180_2</td>\n",
       "      <td>NaN</td>\n",
       "      <td>...</td>\n",
       "      <td>28.056732</td>\n",
       "      <td>45.504471</td>\n",
       "      <td>Known</td>\n",
       "      <td>False</td>\n",
       "      <td>Known</td>\n",
       "      <td>False</td>\n",
       "      <td>Known</td>\n",
       "      <td>False</td>\n",
       "      <td>NaN</td>\n",
       "      <td>NaN</td>\n",
       "    </tr>\n",
       "    <tr>\n",
       "      <th>11931</th>\n",
       "      <td>8994</td>\n",
       "      <td>ENSMUSG00000072964</td>\n",
       "      <td>4.745561e-84</td>\n",
       "      <td>28.131175</td>\n",
       "      <td>ENSMUSG00000072964_24</td>\n",
       "      <td>ENSMUSG00000072964_2</td>\n",
       "      <td>14.251208</td>\n",
       "      <td>8.381765</td>\n",
       "      <td>ENSMUSG00000072964_19</td>\n",
       "      <td>ENSMUSG00000072964_27</td>\n",
       "      <td>...</td>\n",
       "      <td>28.244947</td>\n",
       "      <td>52.752193</td>\n",
       "      <td>NNC</td>\n",
       "      <td>False</td>\n",
       "      <td>Known</td>\n",
       "      <td>False</td>\n",
       "      <td>NNC</td>\n",
       "      <td>False</td>\n",
       "      <td>NNC</td>\n",
       "      <td>False</td>\n",
       "    </tr>\n",
       "    <tr>\n",
       "      <th>11997</th>\n",
       "      <td>9096</td>\n",
       "      <td>ENSMUSG00000074923</td>\n",
       "      <td>3.230034e-36</td>\n",
       "      <td>32.260498</td>\n",
       "      <td>ENSMUSG00000074923_8</td>\n",
       "      <td>NaN</td>\n",
       "      <td>32.260498</td>\n",
       "      <td>NaN</td>\n",
       "      <td>ENSMUSG00000074923_6</td>\n",
       "      <td>NaN</td>\n",
       "      <td>...</td>\n",
       "      <td>29.681038</td>\n",
       "      <td>22.640089</td>\n",
       "      <td>NNC</td>\n",
       "      <td>False</td>\n",
       "      <td>NaN</td>\n",
       "      <td>NaN</td>\n",
       "      <td>NNC</td>\n",
       "      <td>False</td>\n",
       "      <td>NaN</td>\n",
       "      <td>NaN</td>\n",
       "    </tr>\n",
       "    <tr>\n",
       "      <th>12032</th>\n",
       "      <td>9143</td>\n",
       "      <td>ENSMUSG00000078485</td>\n",
       "      <td>1.997284e-88</td>\n",
       "      <td>94.594594</td>\n",
       "      <td>ENSMUSG00000078485_13</td>\n",
       "      <td>ENSMUSG00000078485_11</td>\n",
       "      <td>54.054050</td>\n",
       "      <td>40.540539</td>\n",
       "      <td>ENSMUSG00000078485_12</td>\n",
       "      <td>ENSMUSG00000078485_14</td>\n",
       "      <td>...</td>\n",
       "      <td>1.363656</td>\n",
       "      <td>13.110827</td>\n",
       "      <td>NNC</td>\n",
       "      <td>False</td>\n",
       "      <td>NNC</td>\n",
       "      <td>False</td>\n",
       "      <td>NNC</td>\n",
       "      <td>False</td>\n",
       "      <td>NNC</td>\n",
       "      <td>False</td>\n",
       "    </tr>\n",
       "    <tr>\n",
       "      <th>12070</th>\n",
       "      <td>9194</td>\n",
       "      <td>ENSMUSG00000079036</td>\n",
       "      <td>1.098364e-12</td>\n",
       "      <td>20.412645</td>\n",
       "      <td>ENSMUSG00000079036_1</td>\n",
       "      <td>ENSMUSG00000079036_2</td>\n",
       "      <td>12.053986</td>\n",
       "      <td>8.358660</td>\n",
       "      <td>ENSMUSG00000079036_12</td>\n",
       "      <td>ENSMUSG00000079036_8</td>\n",
       "      <td>...</td>\n",
       "      <td>15.518479</td>\n",
       "      <td>13.306887</td>\n",
       "      <td>Known</td>\n",
       "      <td>False</td>\n",
       "      <td>Known</td>\n",
       "      <td>True</td>\n",
       "      <td>NNC</td>\n",
       "      <td>False</td>\n",
       "      <td>Known</td>\n",
       "      <td>False</td>\n",
       "    </tr>\n",
       "    <tr>\n",
       "      <th>12127</th>\n",
       "      <td>9303</td>\n",
       "      <td>ENSMUSG00000087143</td>\n",
       "      <td>2.390758e-15</td>\n",
       "      <td>27.907953</td>\n",
       "      <td>ENSMUSG00000087143_4</td>\n",
       "      <td>ENSMUSG00000087143_8</td>\n",
       "      <td>19.279217</td>\n",
       "      <td>8.628736</td>\n",
       "      <td>ENSMUSG00000087143_11</td>\n",
       "      <td>ENSMUSG00000087143_10</td>\n",
       "      <td>...</td>\n",
       "      <td>8.967472</td>\n",
       "      <td>11.147193</td>\n",
       "      <td>Known</td>\n",
       "      <td>False</td>\n",
       "      <td>NIC</td>\n",
       "      <td>False</td>\n",
       "      <td>NNC</td>\n",
       "      <td>False</td>\n",
       "      <td>NNC</td>\n",
       "      <td>False</td>\n",
       "    </tr>\n",
       "    <tr>\n",
       "      <th>12170</th>\n",
       "      <td>9369</td>\n",
       "      <td>ENSMUSG00000091780</td>\n",
       "      <td>4.630107e-67</td>\n",
       "      <td>36.869207</td>\n",
       "      <td>ENSMUSG00000091780_3</td>\n",
       "      <td>NaN</td>\n",
       "      <td>36.869205</td>\n",
       "      <td>NaN</td>\n",
       "      <td>ENSMUSG00000091780_2</td>\n",
       "      <td>ENSMUSG00000091780_1</td>\n",
       "      <td>...</td>\n",
       "      <td>33.966824</td>\n",
       "      <td>21.240953</td>\n",
       "      <td>NNC</td>\n",
       "      <td>False</td>\n",
       "      <td>NaN</td>\n",
       "      <td>NaN</td>\n",
       "      <td>Known</td>\n",
       "      <td>False</td>\n",
       "      <td>Known</td>\n",
       "      <td>False</td>\n",
       "    </tr>\n",
       "  </tbody>\n",
       "</table>\n",
       "<p>10 rows × 27 columns</p>\n",
       "</div>"
      ],
      "text/plain": [
       "       Unnamed: 0                 gid         p_val        dpi  \\\n",
       "11746        8738  ENSMUSG00000066151  5.917625e-09  23.724449   \n",
       "11756        8751  ENSMUSG00000066571  5.126801e-14  21.138211   \n",
       "11874        8912  ENSMUSG00000070953  2.989631e-40  45.110546   \n",
       "11882        8926  ENSMUSG00000071180  5.162333e-92  43.151908   \n",
       "11931        8994  ENSMUSG00000072964  4.745561e-84  28.131175   \n",
       "11997        9096  ENSMUSG00000074923  3.230034e-36  32.260498   \n",
       "12032        9143  ENSMUSG00000078485  1.997284e-88  94.594594   \n",
       "12070        9194  ENSMUSG00000079036  1.098364e-12  20.412645   \n",
       "12127        9303  ENSMUSG00000087143  2.390758e-15  27.907953   \n",
       "12170        9369  ENSMUSG00000091780  4.630107e-67  36.869207   \n",
       "\n",
       "                   pos_iso_1              pos_iso_2  pos_iso_1_dpi  \\\n",
       "11746   ENSMUSG00000066151_1  ENSMUSG00000066151_13      20.714630   \n",
       "11756  ENSMUSG00000066571_10  ENSMUSG00000066571_12      15.176151   \n",
       "11874   ENSMUSG00000070953_3  ENSMUSG00000070953_11      38.275119   \n",
       "11882   ENSMUSG00000071180_5   ENSMUSG00000071180_4      28.905159   \n",
       "11931  ENSMUSG00000072964_24   ENSMUSG00000072964_2      14.251208   \n",
       "11997   ENSMUSG00000074923_8                    NaN      32.260498   \n",
       "12032  ENSMUSG00000078485_13  ENSMUSG00000078485_11      54.054050   \n",
       "12070   ENSMUSG00000079036_1   ENSMUSG00000079036_2      12.053986   \n",
       "12127   ENSMUSG00000087143_4   ENSMUSG00000087143_8      19.279217   \n",
       "12170   ENSMUSG00000091780_3                    NaN      36.869205   \n",
       "\n",
       "       pos_iso_2_dpi              neg_iso_1              neg_iso_2  ...  \\\n",
       "11746       3.009819   ENSMUSG00000066151_2  ENSMUSG00000066151_12  ...   \n",
       "11756       5.962059  ENSMUSG00000066571_11   ENSMUSG00000066571_1  ...   \n",
       "11874       6.835427   ENSMUSG00000070953_1   ENSMUSG00000070953_8  ...   \n",
       "11882       8.460173   ENSMUSG00000071180_2                    NaN  ...   \n",
       "11931       8.381765  ENSMUSG00000072964_19  ENSMUSG00000072964_27  ...   \n",
       "11997            NaN   ENSMUSG00000074923_6                    NaN  ...   \n",
       "12032      40.540539  ENSMUSG00000078485_12  ENSMUSG00000078485_14  ...   \n",
       "12070       8.358660  ENSMUSG00000079036_12   ENSMUSG00000079036_8  ...   \n",
       "12127       8.628736  ENSMUSG00000087143_11  ENSMUSG00000087143_10  ...   \n",
       "12170            NaN   ENSMUSG00000091780_2   ENSMUSG00000091780_1  ...   \n",
       "\n",
       "       hABKI_Swe_IB_HET  hABKI_Swe_IB_WT  pos_iso_1_novelty  \\\n",
       "11746          6.589409        10.833746              Known   \n",
       "11756         12.791306         9.448186              Known   \n",
       "11874         22.035051         9.789830              Known   \n",
       "11882         28.056732        45.504471              Known   \n",
       "11931         28.244947        52.752193                NNC   \n",
       "11997         29.681038        22.640089                NNC   \n",
       "12032          1.363656        13.110827                NNC   \n",
       "12070         15.518479        13.306887              Known   \n",
       "12127          8.967472        11.147193              Known   \n",
       "12170         33.966824        21.240953                NNC   \n",
       "\n",
       "      pos_iso_1_monoexonic pos_iso_2_novelty pos_iso_2_monoexonic  \\\n",
       "11746                False               NIC                False   \n",
       "11756                False               ISM                False   \n",
       "11874                False               NIC                False   \n",
       "11882                False             Known                False   \n",
       "11931                False             Known                False   \n",
       "11997                False               NaN                  NaN   \n",
       "12032                False               NNC                False   \n",
       "12070                False             Known                 True   \n",
       "12127                False               NIC                False   \n",
       "12170                False               NaN                  NaN   \n",
       "\n",
       "      neg_iso_1_novelty  neg_iso_1_monoexonic  neg_iso_2_novelty  \\\n",
       "11746             Known                 False                NIC   \n",
       "11756               NIC                 False              Known   \n",
       "11874             Known                 False                ISM   \n",
       "11882             Known                 False                NaN   \n",
       "11931               NNC                 False                NNC   \n",
       "11997               NNC                 False                NaN   \n",
       "12032               NNC                 False                NNC   \n",
       "12070               NNC                 False              Known   \n",
       "12127               NNC                 False                NNC   \n",
       "12170             Known                 False              Known   \n",
       "\n",
       "      neg_iso_2_monoexonic  \n",
       "11746                False  \n",
       "11756                False  \n",
       "11874                False  \n",
       "11882                  NaN  \n",
       "11931                False  \n",
       "11997                  NaN  \n",
       "12032                False  \n",
       "12070                False  \n",
       "12127                False  \n",
       "12170                False  \n",
       "\n",
       "[10 rows x 27 columns]"
      ]
     },
     "execution_count": 25,
     "metadata": {},
     "output_type": "execute_result"
    }
   ],
   "source": [
    "du_df.loc[(du_df.feat=='ic')].tail(20).head(10)"
   ]
  },
  {
   "cell_type": "code",
   "execution_count": 41,
   "id": "735b363f-c939-4aa3-b24f-16b0a9a3d183",
   "metadata": {},
   "outputs": [],
   "source": [
    "def plot_report(sg, gene):\n",
    "    study = sg.adata.obs.study.tolist()[0]\n",
    "    sg.gen_report(gene,\n",
    "                  f'figures/{gene}_{study}',\n",
    "                  novelty=True,\n",
    "                  cmap='viridis',\n",
    "                  indicate_novel=True,\n",
    "                  transcript_col='tname',\n",
    "                  metadata_cols=['genotype', 'sex', 'tissue', 'age'],\n",
    "                  datasets={'genotype': ['hABKI_Swe_IB_HET', 'hABKI_Swe_IB_WT']})\n",
    "    sg.gen_report(gene,\n",
    "                  f'figures/{gene}_{study}',\n",
    "                  novelty=True,\n",
    "                  cmap='viridis',\n",
    "                  transcript_col='tname',\n",
    "                  display_numbers=True,\n",
    "                  browser=True,\n",
    "                  layer='pi',\n",
    "                  metadata_cols=['genotype', 'sex', 'tissue', 'age'],\n",
    "                  datasets={'genotype': ['hABKI_Swe_IB_HET', 'hABKI_Swe_IB_WT']})"
   ]
  },
  {
   "cell_type": "code",
   "execution_count": 54,
   "id": "c59dcc85-082b-4441-b511-0b70c4a5a5bd",
   "metadata": {},
   "outputs": [
    {
     "name": "stdout",
     "output_type": "stream",
     "text": [
      "\n",
      "Plotting transcripts for ENSMUSG00000021066\n",
      "Saving transcript path graph for ENSMUSG00000021066[3,8,5] as figures/Atl1_ad008_novel_ENSMUSG00000021066[3,8,5]_path.png\n",
      "Saving transcript path graph for ENSMUSG00000021066[7,6,5] as figures/Atl1_ad008_novel_ENSMUSG00000021066[7,6,5]_path.png\n",
      "Saving transcript path graph for ENSMUSG00000021066[3,9,5] as figures/Atl1_ad008_novel_ENSMUSG00000021066[3,9,5]_path.png\n",
      "Saving transcript path graph for ENSMUSG00000021066[1,6,5] as figures/Atl1_ad008_novel_ENSMUSG00000021066[1,6,5]_path.png\n",
      "Saving transcript path graph for ENSMUSG00000021066[2,6,5] as figures/Atl1_ad008_novel_ENSMUSG00000021066[2,6,5]_path.png\n",
      "Saving transcript path graph for ENSMUSG00000021066[3,12,5] as figures/Atl1_ad008_novel_ENSMUSG00000021066[3,12,5]_path.png\n",
      "Saving transcript path graph for ENSMUSG00000021066[3,13,5] as figures/Atl1_ad008_novel_ENSMUSG00000021066[3,13,5]_path.png\n",
      "Saving transcript path graph for ENSMUSG00000021066[3,14,5] as figures/Atl1_ad008_novel_ENSMUSG00000021066[3,14,5]_path.png\n",
      "Saving transcript path graph for ENSMUSG00000021066[6,6,5] as figures/Atl1_ad008_novel_ENSMUSG00000021066[6,6,5]_path.png\n",
      "Generating report for ENSMUSG00000021066\n",
      "\n",
      "Plotting transcripts for ENSMUSG00000021066\n",
      "Saving transcript path graph for ENSMUSG00000021066[3,8,5] as figures/Atl1_ad008_browser_ENSMUSG00000021066[3,8,5]_path.png\n",
      "Saving transcript path graph for ENSMUSG00000021066[7,6,5] as figures/Atl1_ad008_browser_ENSMUSG00000021066[7,6,5]_path.png\n",
      "Saving transcript path graph for ENSMUSG00000021066[3,9,5] as figures/Atl1_ad008_browser_ENSMUSG00000021066[3,9,5]_path.png\n",
      "Saving transcript path graph for ENSMUSG00000021066[1,6,5] as figures/Atl1_ad008_browser_ENSMUSG00000021066[1,6,5]_path.png\n",
      "Saving transcript path graph for ENSMUSG00000021066[2,6,5] as figures/Atl1_ad008_browser_ENSMUSG00000021066[2,6,5]_path.png\n",
      "Saving transcript path graph for ENSMUSG00000021066[3,12,5] as figures/Atl1_ad008_browser_ENSMUSG00000021066[3,12,5]_path.png\n",
      "Saving transcript path graph for ENSMUSG00000021066[3,13,5] as figures/Atl1_ad008_browser_ENSMUSG00000021066[3,13,5]_path.png\n",
      "Saving transcript path graph for ENSMUSG00000021066[3,14,5] as figures/Atl1_ad008_browser_ENSMUSG00000021066[3,14,5]_path.png\n",
      "Saving transcript path graph for ENSMUSG00000021066[6,6,5] as figures/Atl1_ad008_browser_ENSMUSG00000021066[6,6,5]_path.png\n",
      "Generating report for ENSMUSG00000021066\n"
     ]
    },
    {
     "data": {
      "text/html": [
       "<div>\n",
       "<style scoped>\n",
       "    .dataframe tbody tr th:only-of-type {\n",
       "        vertical-align: middle;\n",
       "    }\n",
       "\n",
       "    .dataframe tbody tr th {\n",
       "        vertical-align: top;\n",
       "    }\n",
       "\n",
       "    .dataframe thead th {\n",
       "        text-align: right;\n",
       "    }\n",
       "</style>\n",
       "<table border=\"1\" class=\"dataframe\">\n",
       "  <thead>\n",
       "    <tr style=\"text-align: right;\">\n",
       "      <th></th>\n",
       "      <th>Unnamed: 0</th>\n",
       "      <th>gid</th>\n",
       "      <th>p_val</th>\n",
       "      <th>dpi</th>\n",
       "      <th>pos_iso_1</th>\n",
       "      <th>pos_iso_2</th>\n",
       "      <th>pos_iso_1_dpi</th>\n",
       "      <th>pos_iso_2_dpi</th>\n",
       "      <th>neg_iso_1</th>\n",
       "      <th>neg_iso_2</th>\n",
       "      <th>...</th>\n",
       "      <th>hABKI_Swe_IB_HET</th>\n",
       "      <th>hABKI_Swe_IB_WT</th>\n",
       "      <th>pos_iso_1_novelty</th>\n",
       "      <th>pos_iso_1_monoexonic</th>\n",
       "      <th>pos_iso_2_novelty</th>\n",
       "      <th>pos_iso_2_monoexonic</th>\n",
       "      <th>neg_iso_1_novelty</th>\n",
       "      <th>neg_iso_1_monoexonic</th>\n",
       "      <th>neg_iso_2_novelty</th>\n",
       "      <th>neg_iso_2_monoexonic</th>\n",
       "    </tr>\n",
       "  </thead>\n",
       "  <tbody>\n",
       "    <tr>\n",
       "      <th>865</th>\n",
       "      <td>1034</td>\n",
       "      <td>ENSMUSG00000021066</td>\n",
       "      <td>1.642587e-115</td>\n",
       "      <td>52.213080</td>\n",
       "      <td>ENSMUSG00000021066_7</td>\n",
       "      <td>ENSMUSG00000021066_2</td>\n",
       "      <td>27.715052</td>\n",
       "      <td>14.293520</td>\n",
       "      <td>ENSMUSG00000021066_3</td>\n",
       "      <td>ENSMUSG00000021066_6</td>\n",
       "      <td>...</td>\n",
       "      <td>12.548113</td>\n",
       "      <td>69.657501</td>\n",
       "      <td>NIC</td>\n",
       "      <td>False</td>\n",
       "      <td>Known</td>\n",
       "      <td>False</td>\n",
       "      <td>Known</td>\n",
       "      <td>False</td>\n",
       "      <td>NNC</td>\n",
       "      <td>False</td>\n",
       "    </tr>\n",
       "    <tr>\n",
       "      <th>6176</th>\n",
       "      <td>1716</td>\n",
       "      <td>ENSMUSG00000021066</td>\n",
       "      <td>1.853199e-206</td>\n",
       "      <td>80.888679</td>\n",
       "      <td>ENSMUSG00000021066_6</td>\n",
       "      <td>ENSMUSG00000021066_9</td>\n",
       "      <td>52.117520</td>\n",
       "      <td>23.740571</td>\n",
       "      <td>ENSMUSG00000021066_8</td>\n",
       "      <td>ENSMUSG00000021066_13</td>\n",
       "      <td>...</td>\n",
       "      <td>12.548113</td>\n",
       "      <td>69.657501</td>\n",
       "      <td>NNC</td>\n",
       "      <td>False</td>\n",
       "      <td>NIC</td>\n",
       "      <td>False</td>\n",
       "      <td>NNC</td>\n",
       "      <td>False</td>\n",
       "      <td>NNC</td>\n",
       "      <td>False</td>\n",
       "    </tr>\n",
       "    <tr>\n",
       "      <th>13816</th>\n",
       "      <td>1922</td>\n",
       "      <td>ENSMUSG00000021066</td>\n",
       "      <td>1.500341e-211</td>\n",
       "      <td>80.888679</td>\n",
       "      <td>ENSMUSG00000021066[7,6,5]</td>\n",
       "      <td>ENSMUSG00000021066[3,9,5]</td>\n",
       "      <td>27.715052</td>\n",
       "      <td>23.740571</td>\n",
       "      <td>ENSMUSG00000021066[3,8,5]</td>\n",
       "      <td>ENSMUSG00000021066[3,13,5]</td>\n",
       "      <td>...</td>\n",
       "      <td>12.548113</td>\n",
       "      <td>69.657501</td>\n",
       "      <td>NaN</td>\n",
       "      <td>NaN</td>\n",
       "      <td>NaN</td>\n",
       "      <td>NaN</td>\n",
       "      <td>NaN</td>\n",
       "      <td>NaN</td>\n",
       "      <td>NaN</td>\n",
       "      <td>NaN</td>\n",
       "    </tr>\n",
       "  </tbody>\n",
       "</table>\n",
       "<p>3 rows × 27 columns</p>\n",
       "</div>"
      ],
      "text/plain": [
       "       Unnamed: 0                 gid          p_val        dpi  \\\n",
       "865          1034  ENSMUSG00000021066  1.642587e-115  52.213080   \n",
       "6176         1716  ENSMUSG00000021066  1.853199e-206  80.888679   \n",
       "13816        1922  ENSMUSG00000021066  1.500341e-211  80.888679   \n",
       "\n",
       "                       pos_iso_1                  pos_iso_2  pos_iso_1_dpi  \\\n",
       "865         ENSMUSG00000021066_7       ENSMUSG00000021066_2      27.715052   \n",
       "6176        ENSMUSG00000021066_6       ENSMUSG00000021066_9      52.117520   \n",
       "13816  ENSMUSG00000021066[7,6,5]  ENSMUSG00000021066[3,9,5]      27.715052   \n",
       "\n",
       "       pos_iso_2_dpi                  neg_iso_1                   neg_iso_2  \\\n",
       "865        14.293520       ENSMUSG00000021066_3        ENSMUSG00000021066_6   \n",
       "6176       23.740571       ENSMUSG00000021066_8       ENSMUSG00000021066_13   \n",
       "13816      23.740571  ENSMUSG00000021066[3,8,5]  ENSMUSG00000021066[3,13,5]   \n",
       "\n",
       "       ...  hABKI_Swe_IB_HET  hABKI_Swe_IB_WT  pos_iso_1_novelty  \\\n",
       "865    ...         12.548113        69.657501                NIC   \n",
       "6176   ...         12.548113        69.657501                NNC   \n",
       "13816  ...         12.548113        69.657501                NaN   \n",
       "\n",
       "      pos_iso_1_monoexonic pos_iso_2_novelty pos_iso_2_monoexonic  \\\n",
       "865                  False             Known                False   \n",
       "6176                 False               NIC                False   \n",
       "13816                  NaN               NaN                  NaN   \n",
       "\n",
       "      neg_iso_1_novelty  neg_iso_1_monoexonic  neg_iso_2_novelty  \\\n",
       "865               Known                 False                NNC   \n",
       "6176                NNC                 False                NNC   \n",
       "13816               NaN                   NaN                NaN   \n",
       "\n",
       "      neg_iso_2_monoexonic  \n",
       "865                  False  \n",
       "6176                 False  \n",
       "13816                  NaN  \n",
       "\n",
       "[3 rows x 27 columns]"
      ]
     },
     "execution_count": 54,
     "metadata": {},
     "output_type": "execute_result"
    }
   ],
   "source": [
    "g = 'Atl1'\n",
    "plot_report(sg, g)\n",
    "du_df.loc[du_df.gname==g]"
   ]
  },
  {
   "cell_type": "code",
   "execution_count": 53,
   "id": "0d427e45-76a5-4f14-8576-a91b4b8660d4",
   "metadata": {},
   "outputs": [],
   "source": [
    "# g = 'Ipo5'\n",
    "# plot_report(sg, g)\n",
    "# du_df.loc[du_df.gname==g]"
   ]
  },
  {
   "cell_type": "code",
   "execution_count": 51,
   "id": "301f032a-0e17-4ba8-a049-7b1f9c220252",
   "metadata": {},
   "outputs": [],
   "source": [
    "# g = 'Snhg14'\n",
    "# plot_report(sg, g)\n",
    "# du_df.loc[du_df.gname==g]"
   ]
  },
  {
   "cell_type": "code",
   "execution_count": 47,
   "id": "73fe000d-e2be-4598-9672-617b13919f9b",
   "metadata": {},
   "outputs": [],
   "source": [
    "# du_df.loc[du_df.gname=='Rpl11']"
   ]
  },
  {
   "cell_type": "code",
   "execution_count": 48,
   "id": "d3c5c463-84f2-40e5-b39b-660910eb16f2",
   "metadata": {},
   "outputs": [],
   "source": [
    "# du_df.loc[du_df.gname=='Ap2b1']"
   ]
  },
  {
   "cell_type": "code",
   "execution_count": 49,
   "id": "84f5316c-769a-437f-8b3a-e622bab5c1ea",
   "metadata": {},
   "outputs": [],
   "source": [
    "# du_df.loc[du_df.gname=='Ap2b1', tpm_cols]"
   ]
  },
  {
   "cell_type": "code",
   "execution_count": 43,
   "id": "b2bc5f6f-c648-4417-aa56-cc131766cd16",
   "metadata": {},
   "outputs": [],
   "source": [
    "# g = 'Gm45640'\n",
    "# plot_report(sg, g)\n",
    "# du_df.loc[du_df.gname==g]"
   ]
  },
  {
   "cell_type": "code",
   "execution_count": 45,
   "id": "6be7b337-8879-45ca-a8aa-cb8aa559cf0f",
   "metadata": {},
   "outputs": [],
   "source": [
    "# g = 'Ap2b1'\n",
    "# plot_report(sg, g)"
   ]
  },
  {
   "cell_type": "code",
   "execution_count": 46,
   "id": "b2bf9166-31c5-4d75-8647-d369e85b79f9",
   "metadata": {},
   "outputs": [],
   "source": [
    "# g ='Rpl11'\n",
    "# plot_report(sg, g)"
   ]
  },
  {
   "cell_type": "code",
   "execution_count": 99,
   "id": "450a4c7f-8d4c-46ed-a30a-dd43b520d60e",
   "metadata": {},
   "outputs": [
    {
     "name": "stdout",
     "output_type": "stream",
     "text": [
      "\n",
      "Plotting transcripts for ENSMUSG00000051851\n",
      "Saving transcript path graph for ENSMUSG00000051851[1,2,3] as figures/Rtl8c_ad008_novel_ENSMUSG00000051851[1,2,3]_path.png\n",
      "Saving transcript path graph for ENSMUSG00000051851[1,1,1] as figures/Rtl8c_ad008_novel_ENSMUSG00000051851[1,1,1]_path.png\n",
      "Generating report for ENSMUSG00000051851\n",
      "\n",
      "Plotting transcripts for ENSMUSG00000051851\n",
      "Saving transcript path graph for ENSMUSG00000051851[1,2,3] as figures/Rtl8c_ad008_browser_ENSMUSG00000051851[1,2,3]_path.png\n",
      "Saving transcript path graph for ENSMUSG00000051851[1,1,1] as figures/Rtl8c_ad008_browser_ENSMUSG00000051851[1,1,1]_path.png\n",
      "Generating report for ENSMUSG00000051851\n"
     ]
    }
   ],
   "source": [
    "g ='Rtl8c'\n",
    "plot_report(sg, g)"
   ]
  },
  {
   "cell_type": "code",
   "execution_count": 61,
   "id": "1f604eb1-3281-4be6-b596-375d9be499e4",
   "metadata": {},
   "outputs": [
    {
     "name": "stdout",
     "output_type": "stream",
     "text": [
      "\n",
      "Plotting transcripts for ENSMUSG00000000632\n",
      "Saving transcript path graph for ENSMUSG00000000632[7,15,1] as figures/Sez6_ad008_novel_ENSMUSG00000000632[7,15,1]_path.png\n",
      "Saving transcript path graph for ENSMUSG00000000632[7,16,1] as figures/Sez6_ad008_novel_ENSMUSG00000000632[7,16,1]_path.png\n",
      "Saving transcript path graph for ENSMUSG00000000632[1,1,1] as figures/Sez6_ad008_novel_ENSMUSG00000000632[1,1,1]_path.png\n",
      "Saving transcript path graph for ENSMUSG00000000632[6,13,1] as figures/Sez6_ad008_novel_ENSMUSG00000000632[6,13,1]_path.png\n",
      "Saving transcript path graph for ENSMUSG00000000632[1,12,1] as figures/Sez6_ad008_novel_ENSMUSG00000000632[1,12,1]_path.png\n",
      "Saving transcript path graph for ENSMUSG00000000632[6,14,1] as figures/Sez6_ad008_novel_ENSMUSG00000000632[6,14,1]_path.png\n",
      "Saving transcript path graph for ENSMUSG00000000632[1,11,6] as figures/Sez6_ad008_novel_ENSMUSG00000000632[1,11,6]_path.png\n",
      "Saving transcript path graph for ENSMUSG00000000632[7,10,1] as figures/Sez6_ad008_novel_ENSMUSG00000000632[7,10,1]_path.png\n",
      "Saving transcript path graph for ENSMUSG00000000632[8,23,6] as figures/Sez6_ad008_novel_ENSMUSG00000000632[8,23,6]_path.png\n",
      "Saving transcript path graph for ENSMUSG00000000632[8,19,1] as figures/Sez6_ad008_novel_ENSMUSG00000000632[8,19,1]_path.png\n",
      "Saving transcript path graph for ENSMUSG00000000632[1,21,1] as figures/Sez6_ad008_novel_ENSMUSG00000000632[1,21,1]_path.png\n",
      "Saving transcript path graph for ENSMUSG00000000632[1,22,5] as figures/Sez6_ad008_novel_ENSMUSG00000000632[1,22,5]_path.png\n",
      "Saving transcript path graph for ENSMUSG00000000632[6,20,1] as figures/Sez6_ad008_novel_ENSMUSG00000000632[6,20,1]_path.png\n",
      "Saving transcript path graph for ENSMUSG00000000632[1,3,3] as figures/Sez6_ad008_novel_ENSMUSG00000000632[1,3,3]_path.png\n",
      "Saving transcript path graph for ENSMUSG00000000632[1,2,1] as figures/Sez6_ad008_novel_ENSMUSG00000000632[1,2,1]_path.png\n",
      "Saving transcript path graph for ENSMUSG00000000632[1,17,7] as figures/Sez6_ad008_novel_ENSMUSG00000000632[1,17,7]_path.png\n",
      "Saving transcript path graph for ENSMUSG00000000632[1,4,1] as figures/Sez6_ad008_novel_ENSMUSG00000000632[1,4,1]_path.png\n",
      "Saving transcript path graph for ENSMUSG00000000632[8,18,1] as figures/Sez6_ad008_novel_ENSMUSG00000000632[8,18,1]_path.png\n",
      "Saving transcript path graph for ENSMUSG00000000632[6,24,1] as figures/Sez6_ad008_novel_ENSMUSG00000000632[6,24,1]_path.png\n",
      "Saving transcript path graph for ENSMUSG00000000632[1,25,1] as figures/Sez6_ad008_novel_ENSMUSG00000000632[1,25,1]_path.png\n",
      "Saving transcript path graph for ENSMUSG00000000632[1,26,1] as figures/Sez6_ad008_novel_ENSMUSG00000000632[1,26,1]_path.png\n",
      "Saving transcript path graph for ENSMUSG00000000632[1,4,5] as figures/Sez6_ad008_novel_ENSMUSG00000000632[1,4,5]_path.png\n",
      "Saving transcript path graph for ENSMUSG00000000632[1,27,1] as figures/Sez6_ad008_novel_ENSMUSG00000000632[1,27,1]_path.png\n",
      "Generating report for ENSMUSG00000000632\n",
      "\n",
      "Plotting transcripts for ENSMUSG00000000632\n",
      "Saving transcript path graph for ENSMUSG00000000632[7,15,1] as figures/Sez6_ad008_browser_ENSMUSG00000000632[7,15,1]_path.png\n",
      "Saving transcript path graph for ENSMUSG00000000632[7,16,1] as figures/Sez6_ad008_browser_ENSMUSG00000000632[7,16,1]_path.png\n",
      "Saving transcript path graph for ENSMUSG00000000632[1,1,1] as figures/Sez6_ad008_browser_ENSMUSG00000000632[1,1,1]_path.png\n",
      "Saving transcript path graph for ENSMUSG00000000632[6,13,1] as figures/Sez6_ad008_browser_ENSMUSG00000000632[6,13,1]_path.png\n",
      "Saving transcript path graph for ENSMUSG00000000632[1,12,1] as figures/Sez6_ad008_browser_ENSMUSG00000000632[1,12,1]_path.png\n",
      "Saving transcript path graph for ENSMUSG00000000632[6,14,1] as figures/Sez6_ad008_browser_ENSMUSG00000000632[6,14,1]_path.png\n",
      "Saving transcript path graph for ENSMUSG00000000632[1,11,6] as figures/Sez6_ad008_browser_ENSMUSG00000000632[1,11,6]_path.png\n",
      "Saving transcript path graph for ENSMUSG00000000632[7,10,1] as figures/Sez6_ad008_browser_ENSMUSG00000000632[7,10,1]_path.png\n",
      "Saving transcript path graph for ENSMUSG00000000632[8,23,6] as figures/Sez6_ad008_browser_ENSMUSG00000000632[8,23,6]_path.png\n",
      "Saving transcript path graph for ENSMUSG00000000632[8,19,1] as figures/Sez6_ad008_browser_ENSMUSG00000000632[8,19,1]_path.png\n",
      "Saving transcript path graph for ENSMUSG00000000632[1,21,1] as figures/Sez6_ad008_browser_ENSMUSG00000000632[1,21,1]_path.png\n",
      "Saving transcript path graph for ENSMUSG00000000632[1,22,5] as figures/Sez6_ad008_browser_ENSMUSG00000000632[1,22,5]_path.png\n",
      "Saving transcript path graph for ENSMUSG00000000632[6,20,1] as figures/Sez6_ad008_browser_ENSMUSG00000000632[6,20,1]_path.png\n",
      "Saving transcript path graph for ENSMUSG00000000632[1,3,3] as figures/Sez6_ad008_browser_ENSMUSG00000000632[1,3,3]_path.png\n",
      "Saving transcript path graph for ENSMUSG00000000632[1,2,1] as figures/Sez6_ad008_browser_ENSMUSG00000000632[1,2,1]_path.png\n",
      "Saving transcript path graph for ENSMUSG00000000632[1,17,7] as figures/Sez6_ad008_browser_ENSMUSG00000000632[1,17,7]_path.png\n",
      "Saving transcript path graph for ENSMUSG00000000632[1,4,1] as figures/Sez6_ad008_browser_ENSMUSG00000000632[1,4,1]_path.png\n",
      "Saving transcript path graph for ENSMUSG00000000632[8,18,1] as figures/Sez6_ad008_browser_ENSMUSG00000000632[8,18,1]_path.png\n",
      "Saving transcript path graph for ENSMUSG00000000632[6,24,1] as figures/Sez6_ad008_browser_ENSMUSG00000000632[6,24,1]_path.png\n",
      "Saving transcript path graph for ENSMUSG00000000632[1,25,1] as figures/Sez6_ad008_browser_ENSMUSG00000000632[1,25,1]_path.png\n",
      "Saving transcript path graph for ENSMUSG00000000632[1,26,1] as figures/Sez6_ad008_browser_ENSMUSG00000000632[1,26,1]_path.png\n",
      "Saving transcript path graph for ENSMUSG00000000632[1,4,5] as figures/Sez6_ad008_browser_ENSMUSG00000000632[1,4,5]_path.png\n",
      "Saving transcript path graph for ENSMUSG00000000632[1,27,1] as figures/Sez6_ad008_browser_ENSMUSG00000000632[1,27,1]_path.png\n",
      "Generating report for ENSMUSG00000000632\n"
     ]
    }
   ],
   "source": [
    "g = 'Sez6'\n",
    "plot_report(sg, g)"
   ]
  },
  {
   "cell_type": "code",
   "execution_count": 49,
   "id": "a682cc13-2e36-4740-b8c9-bfac0387ae0d",
   "metadata": {},
   "outputs": [
    {
     "name": "stdout",
     "output_type": "stream",
     "text": [
      "\n",
      "Plotting transcripts for ENSMUSG00000078485\n",
      "Saving transcript path graph for ENSMUSG00000078485[1,12,4] as figures/Plekhn1_ad008_novel_ENSMUSG00000078485[1,12,4]_path.png\n",
      "Saving transcript path graph for ENSMUSG00000078485[1,14,1] as figures/Plekhn1_ad008_novel_ENSMUSG00000078485[1,14,1]_path.png\n",
      "Saving transcript path graph for ENSMUSG00000078485[1,13,1] as figures/Plekhn1_ad008_novel_ENSMUSG00000078485[1,13,1]_path.png\n",
      "Saving transcript path graph for ENSMUSG00000078485[1,11,1] as figures/Plekhn1_ad008_novel_ENSMUSG00000078485[1,11,1]_path.png\n",
      "Generating report for ENSMUSG00000078485\n",
      "\n",
      "Plotting transcripts for ENSMUSG00000078485\n",
      "Saving transcript path graph for ENSMUSG00000078485[1,12,4] as figures/Plekhn1_ad008_browser_ENSMUSG00000078485[1,12,4]_path.png\n",
      "Saving transcript path graph for ENSMUSG00000078485[1,14,1] as figures/Plekhn1_ad008_browser_ENSMUSG00000078485[1,14,1]_path.png\n",
      "Saving transcript path graph for ENSMUSG00000078485[1,13,1] as figures/Plekhn1_ad008_browser_ENSMUSG00000078485[1,13,1]_path.png\n",
      "Saving transcript path graph for ENSMUSG00000078485[1,11,1] as figures/Plekhn1_ad008_browser_ENSMUSG00000078485[1,11,1]_path.png\n",
      "Generating report for ENSMUSG00000078485\n"
     ]
    }
   ],
   "source": [
    "g = 'Plekhn1'\n",
    "plot_report(sg, g)"
   ]
  },
  {
   "cell_type": "code",
   "execution_count": 44,
   "id": "8e452948-a96b-4340-966d-602868909cca",
   "metadata": {},
   "outputs": [
    {
     "name": "stdout",
     "output_type": "stream",
     "text": [
      "\n",
      "Plotting transcripts for ENSMUSG00000043336\n",
      "Saving transcript path graph for ENSMUSG00000043336[4,4,4] as figures/Filip1l_ad008_novel_ENSMUSG00000043336[4,4,4]_path.png\n",
      "Saving transcript path graph for ENSMUSG00000043336[3,3,3] as figures/Filip1l_ad008_novel_ENSMUSG00000043336[3,3,3]_path.png\n",
      "Generating report for ENSMUSG00000043336\n",
      "\n",
      "Plotting transcripts for ENSMUSG00000043336\n",
      "Saving transcript path graph for ENSMUSG00000043336[4,4,4] as figures/Filip1l_ad008_browser_ENSMUSG00000043336[4,4,4]_path.png\n",
      "Saving transcript path graph for ENSMUSG00000043336[3,3,3] as figures/Filip1l_ad008_browser_ENSMUSG00000043336[3,3,3]_path.png\n",
      "Generating report for ENSMUSG00000043336\n"
     ]
    }
   ],
   "source": [
    "g = 'Filip1l'\n",
    "plot_report(sg, g)"
   ]
  },
  {
   "cell_type": "code",
   "execution_count": 46,
   "id": "e96fe2ce-aac2-4fda-981b-a5e47e239210",
   "metadata": {},
   "outputs": [],
   "source": [
    "# g = 'Shank1'\n",
    "# plot_report(sg, g)"
   ]
  },
  {
   "cell_type": "code",
   "execution_count": 43,
   "id": "b86a7da6-7d3f-4276-8931-90e13f04e135",
   "metadata": {},
   "outputs": [
    {
     "name": "stdout",
     "output_type": "stream",
     "text": [
      "\n",
      "Plotting transcripts for ENSMUSG00000069539\n",
      "Saving transcript path graph for ENSMUSG00000069539[1,7,10] as figures/Scyl2_ad008_novel_ENSMUSG00000069539[1,7,10]_path.png\n",
      "Saving transcript path graph for ENSMUSG00000069539[1,8,9] as figures/Scyl2_ad008_novel_ENSMUSG00000069539[1,8,9]_path.png\n",
      "Saving transcript path graph for ENSMUSG00000069539[1,9,11] as figures/Scyl2_ad008_novel_ENSMUSG00000069539[1,9,11]_path.png\n",
      "Saving transcript path graph for ENSMUSG00000069539[1,7,6] as figures/Scyl2_ad008_novel_ENSMUSG00000069539[1,7,6]_path.png\n",
      "Generating report for ENSMUSG00000069539\n",
      "\n",
      "Plotting transcripts for ENSMUSG00000069539\n",
      "Saving transcript path graph for ENSMUSG00000069539[1,7,10] as figures/Scyl2_ad008_browser_ENSMUSG00000069539[1,7,10]_path.png\n",
      "Saving transcript path graph for ENSMUSG00000069539[1,8,9] as figures/Scyl2_ad008_browser_ENSMUSG00000069539[1,8,9]_path.png\n",
      "Saving transcript path graph for ENSMUSG00000069539[1,9,11] as figures/Scyl2_ad008_browser_ENSMUSG00000069539[1,9,11]_path.png\n",
      "Saving transcript path graph for ENSMUSG00000069539[1,7,6] as figures/Scyl2_ad008_browser_ENSMUSG00000069539[1,7,6]_path.png\n",
      "Generating report for ENSMUSG00000069539\n"
     ]
    }
   ],
   "source": [
    "g = 'Scyl2'\n",
    "plot_report(sg, g)"
   ]
  },
  {
   "cell_type": "code",
   "execution_count": 17,
   "id": "020a4627-d1ee-4dd3-aa02-e601e7ffe66f",
   "metadata": {},
   "outputs": [
    {
     "name": "stdout",
     "output_type": "stream",
     "text": [
      "\n",
      "Plotting transcripts for ENSMUSG00000042901\n",
      "Saving transcript path graph for ENSMUSG00000042901[2,1,2] as figures/Aida_ad008_novel_ENSMUSG00000042901[2,1,2]_path.png\n",
      "Saving transcript path graph for ENSMUSG00000042901[2,1,12] as figures/Aida_ad008_novel_ENSMUSG00000042901[2,1,12]_path.png\n",
      "Saving transcript path graph for ENSMUSG00000042901[8,10,2] as figures/Aida_ad008_novel_ENSMUSG00000042901[8,10,2]_path.png\n",
      "Saving transcript path graph for ENSMUSG00000042901[1,1,1] as figures/Aida_ad008_novel_ENSMUSG00000042901[1,1,1]_path.png\n",
      "Saving transcript path graph for ENSMUSG00000042901[2,11,11] as figures/Aida_ad008_novel_ENSMUSG00000042901[2,11,11]_path.png\n",
      "Saving transcript path graph for ENSMUSG00000042901[1,1,12] as figures/Aida_ad008_novel_ENSMUSG00000042901[1,1,12]_path.png\n",
      "Saving transcript path graph for ENSMUSG00000042901[1,11,11] as figures/Aida_ad008_novel_ENSMUSG00000042901[1,11,11]_path.png\n",
      "Saving transcript path graph for ENSMUSG00000042901[2,1,1] as figures/Aida_ad008_novel_ENSMUSG00000042901[2,1,1]_path.png\n",
      "Saving transcript path graph for ENSMUSG00000042901[2,11,5] as figures/Aida_ad008_novel_ENSMUSG00000042901[2,11,5]_path.png\n",
      "Saving transcript path graph for ENSMUSG00000042901[1,1,2] as figures/Aida_ad008_novel_ENSMUSG00000042901[1,1,2]_path.png\n",
      "Generating report for ENSMUSG00000042901\n",
      "\n",
      "Plotting transcripts for ENSMUSG00000042901\n",
      "Saving transcript path graph for ENSMUSG00000042901[2,1,2] as figures/Aida_ad008_browser_ENSMUSG00000042901[2,1,2]_path.png\n",
      "Saving transcript path graph for ENSMUSG00000042901[2,1,12] as figures/Aida_ad008_browser_ENSMUSG00000042901[2,1,12]_path.png\n",
      "Saving transcript path graph for ENSMUSG00000042901[8,10,2] as figures/Aida_ad008_browser_ENSMUSG00000042901[8,10,2]_path.png\n",
      "Saving transcript path graph for ENSMUSG00000042901[1,1,1] as figures/Aida_ad008_browser_ENSMUSG00000042901[1,1,1]_path.png\n",
      "Saving transcript path graph for ENSMUSG00000042901[2,11,11] as figures/Aida_ad008_browser_ENSMUSG00000042901[2,11,11]_path.png\n",
      "Saving transcript path graph for ENSMUSG00000042901[1,1,12] as figures/Aida_ad008_browser_ENSMUSG00000042901[1,1,12]_path.png\n",
      "Saving transcript path graph for ENSMUSG00000042901[1,11,11] as figures/Aida_ad008_browser_ENSMUSG00000042901[1,11,11]_path.png\n",
      "Saving transcript path graph for ENSMUSG00000042901[2,1,1] as figures/Aida_ad008_browser_ENSMUSG00000042901[2,1,1]_path.png\n",
      "Saving transcript path graph for ENSMUSG00000042901[2,11,5] as figures/Aida_ad008_browser_ENSMUSG00000042901[2,11,5]_path.png\n",
      "Saving transcript path graph for ENSMUSG00000042901[1,1,2] as figures/Aida_ad008_browser_ENSMUSG00000042901[1,1,2]_path.png\n",
      "Generating report for ENSMUSG00000042901\n"
     ]
    }
   ],
   "source": [
    "g = 'Aida'\n",
    "plot_report(sg, g)"
   ]
  },
  {
   "cell_type": "code",
   "execution_count": 16,
   "id": "b58290c6-0165-4a0a-8f8c-8d8322a24a6b",
   "metadata": {},
   "outputs": [
    {
     "name": "stdout",
     "output_type": "stream",
     "text": [
      "\n",
      "Plotting transcripts for ENSMUSG00000038331\n",
      "Saving transcript path graph for ENSMUSG00000038331[1,1,1] as figures/Satb2_ad008_novel_ENSMUSG00000038331[1,1,1]_path.png\n",
      "Saving transcript path graph for ENSMUSG00000038331[2,8,4] as figures/Satb2_ad008_novel_ENSMUSG00000038331[2,8,4]_path.png\n",
      "Saving transcript path graph for ENSMUSG00000038331[2,6,1] as figures/Satb2_ad008_novel_ENSMUSG00000038331[2,6,1]_path.png\n",
      "Generating report for ENSMUSG00000038331\n",
      "\n",
      "Plotting transcripts for ENSMUSG00000038331\n",
      "Saving transcript path graph for ENSMUSG00000038331[1,1,1] as figures/Satb2_ad008_browser_ENSMUSG00000038331[1,1,1]_path.png\n",
      "Saving transcript path graph for ENSMUSG00000038331[2,8,4] as figures/Satb2_ad008_browser_ENSMUSG00000038331[2,8,4]_path.png\n",
      "Saving transcript path graph for ENSMUSG00000038331[2,6,1] as figures/Satb2_ad008_browser_ENSMUSG00000038331[2,6,1]_path.png\n",
      "Generating report for ENSMUSG00000038331\n"
     ]
    }
   ],
   "source": [
    "plot_report(sg, 'Satb2')"
   ]
  },
  {
   "cell_type": "code",
   "execution_count": 57,
   "id": "4db3e2c8-adce-47b3-a4a6-fdcf7cae1e02",
   "metadata": {},
   "outputs": [
    {
     "name": "stdout",
     "output_type": "stream",
     "text": [
      "\n",
      "Plotting transcripts for ENSMUSG00000032280\n",
      "Saving transcript path graph for ENSMUSG00000032280[12,21,5] as figures/Tle3_ad008_novel_ENSMUSG00000032280[12,21,5]_path.png\n",
      "Saving transcript path graph for ENSMUSG00000032280[12,21,1] as figures/Tle3_ad008_novel_ENSMUSG00000032280[12,21,1]_path.png\n",
      "Saving transcript path graph for ENSMUSG00000032280[2,4,5] as figures/Tle3_ad008_novel_ENSMUSG00000032280[2,4,5]_path.png\n",
      "Saving transcript path graph for ENSMUSG00000032280[4,4,5] as figures/Tle3_ad008_novel_ENSMUSG00000032280[4,4,5]_path.png\n",
      "Saving transcript path graph for ENSMUSG00000032280[2,4,1] as figures/Tle3_ad008_novel_ENSMUSG00000032280[2,4,1]_path.png\n",
      "Saving transcript path graph for ENSMUSG00000032280[1,6,5] as figures/Tle3_ad008_novel_ENSMUSG00000032280[1,6,5]_path.png\n",
      "Saving transcript path graph for ENSMUSG00000032280[2,6,5] as figures/Tle3_ad008_novel_ENSMUSG00000032280[2,6,5]_path.png\n",
      "Saving transcript path graph for ENSMUSG00000032280[2,6,1] as figures/Tle3_ad008_novel_ENSMUSG00000032280[2,6,1]_path.png\n",
      "Generating report for ENSMUSG00000032280\n",
      "\n",
      "Plotting transcripts for ENSMUSG00000032280\n",
      "Saving transcript path graph for ENSMUSG00000032280[12,21,5] as figures/Tle3_ad008_browser_ENSMUSG00000032280[12,21,5]_path.png\n",
      "Saving transcript path graph for ENSMUSG00000032280[12,21,1] as figures/Tle3_ad008_browser_ENSMUSG00000032280[12,21,1]_path.png\n",
      "Saving transcript path graph for ENSMUSG00000032280[2,4,5] as figures/Tle3_ad008_browser_ENSMUSG00000032280[2,4,5]_path.png\n",
      "Saving transcript path graph for ENSMUSG00000032280[4,4,5] as figures/Tle3_ad008_browser_ENSMUSG00000032280[4,4,5]_path.png\n",
      "Saving transcript path graph for ENSMUSG00000032280[2,4,1] as figures/Tle3_ad008_browser_ENSMUSG00000032280[2,4,1]_path.png\n",
      "Saving transcript path graph for ENSMUSG00000032280[1,6,5] as figures/Tle3_ad008_browser_ENSMUSG00000032280[1,6,5]_path.png\n",
      "Saving transcript path graph for ENSMUSG00000032280[2,6,5] as figures/Tle3_ad008_browser_ENSMUSG00000032280[2,6,5]_path.png\n",
      "Saving transcript path graph for ENSMUSG00000032280[2,6,1] as figures/Tle3_ad008_browser_ENSMUSG00000032280[2,6,1]_path.png\n",
      "Generating report for ENSMUSG00000032280\n"
     ]
    }
   ],
   "source": [
    "plot_report(sg, 'Tle3')"
   ]
  },
  {
   "cell_type": "code",
   "execution_count": 56,
   "id": "bb1d3483-a32f-4ea8-809d-22b05ecea7cc",
   "metadata": {},
   "outputs": [
    {
     "name": "stdout",
     "output_type": "stream",
     "text": [
      "\n",
      "Plotting transcripts for ENSMUSG00000051029\n",
      "Saving transcript path graph for ENSMUSG00000051029[2,3,4] as figures/Serpinb1b_ad008_novel_ENSMUSG00000051029[2,3,4]_path.png\n",
      "Saving transcript path graph for ENSMUSG00000051029[2,4,1] as figures/Serpinb1b_ad008_novel_ENSMUSG00000051029[2,4,1]_path.png\n",
      "Saving transcript path graph for ENSMUSG00000051029[2,3,1] as figures/Serpinb1b_ad008_novel_ENSMUSG00000051029[2,3,1]_path.png\n",
      "Generating report for ENSMUSG00000051029\n",
      "\n",
      "Plotting transcripts for ENSMUSG00000051029\n",
      "Saving transcript path graph for ENSMUSG00000051029[2,3,4] as figures/Serpinb1b_ad008_browser_ENSMUSG00000051029[2,3,4]_path.png\n",
      "Saving transcript path graph for ENSMUSG00000051029[2,4,1] as figures/Serpinb1b_ad008_browser_ENSMUSG00000051029[2,4,1]_path.png\n",
      "Saving transcript path graph for ENSMUSG00000051029[2,3,1] as figures/Serpinb1b_ad008_browser_ENSMUSG00000051029[2,3,1]_path.png\n",
      "Generating report for ENSMUSG00000051029\n"
     ]
    }
   ],
   "source": [
    "plot_report(sg, 'Serpinb1b')"
   ]
  },
  {
   "cell_type": "code",
   "execution_count": 58,
   "id": "a3fab56b-5a68-4b8e-89a6-91aaee949efc",
   "metadata": {},
   "outputs": [
    {
     "name": "stdout",
     "output_type": "stream",
     "text": [
      "\n",
      "Plotting transcripts for ENSMUSG00000026648\n",
      "Saving transcript path graph for ENSMUSG00000026648[1,2,3] as figures/Dclre1c_ad008_novel_ENSMUSG00000026648[1,2,3]_path.png\n",
      "Saving transcript path graph for ENSMUSG00000026648[1,1,1] as figures/Dclre1c_ad008_novel_ENSMUSG00000026648[1,1,1]_path.png\n",
      "Saving transcript path graph for ENSMUSG00000026648[1,10,3] as figures/Dclre1c_ad008_novel_ENSMUSG00000026648[1,10,3]_path.png\n",
      "Generating report for ENSMUSG00000026648\n",
      "\n",
      "Plotting transcripts for ENSMUSG00000026648\n",
      "Saving transcript path graph for ENSMUSG00000026648[1,2,3] as figures/Dclre1c_ad008_browser_ENSMUSG00000026648[1,2,3]_path.png\n",
      "Saving transcript path graph for ENSMUSG00000026648[1,1,1] as figures/Dclre1c_ad008_browser_ENSMUSG00000026648[1,1,1]_path.png\n",
      "Saving transcript path graph for ENSMUSG00000026648[1,10,3] as figures/Dclre1c_ad008_browser_ENSMUSG00000026648[1,10,3]_path.png\n",
      "Generating report for ENSMUSG00000026648\n"
     ]
    }
   ],
   "source": [
    "g = 'Dclre1c'\n",
    "plot_report(sg, g)"
   ]
  },
  {
   "cell_type": "code",
   "execution_count": 53,
   "id": "7b9edb17-8eb5-4cbc-a0e6-44dad12f04bd",
   "metadata": {},
   "outputs": [
    {
     "name": "stdout",
     "output_type": "stream",
     "text": [
      "\n",
      "Plotting transcripts for ENSMUSG00000032702\n",
      "Saving transcript path graph for ENSMUSG00000032702[1,14,6] as figures/Kank1_ad008_novel_ENSMUSG00000032702[1,14,6]_path.png\n",
      "Saving transcript path graph for ENSMUSG00000032702[3,11,1] as figures/Kank1_ad008_novel_ENSMUSG00000032702[3,11,1]_path.png\n",
      "Saving transcript path graph for ENSMUSG00000032702[6,7,1] as figures/Kank1_ad008_novel_ENSMUSG00000032702[6,7,1]_path.png\n",
      "Saving transcript path graph for ENSMUSG00000032702[1,6,1] as figures/Kank1_ad008_novel_ENSMUSG00000032702[1,6,1]_path.png\n",
      "Saving transcript path graph for ENSMUSG00000032702[6,8,1] as figures/Kank1_ad008_novel_ENSMUSG00000032702[6,8,1]_path.png\n",
      "Saving transcript path graph for ENSMUSG00000032702[3,8,1] as figures/Kank1_ad008_novel_ENSMUSG00000032702[3,8,1]_path.png\n",
      "Saving transcript path graph for ENSMUSG00000032702[3,7,1] as figures/Kank1_ad008_novel_ENSMUSG00000032702[3,7,1]_path.png\n",
      "Generating report for ENSMUSG00000032702\n",
      "\n",
      "Plotting transcripts for ENSMUSG00000032702\n",
      "Saving transcript path graph for ENSMUSG00000032702[1,14,6] as figures/Kank1_ad008_browser_ENSMUSG00000032702[1,14,6]_path.png\n",
      "Saving transcript path graph for ENSMUSG00000032702[3,11,1] as figures/Kank1_ad008_browser_ENSMUSG00000032702[3,11,1]_path.png\n",
      "Saving transcript path graph for ENSMUSG00000032702[6,7,1] as figures/Kank1_ad008_browser_ENSMUSG00000032702[6,7,1]_path.png\n",
      "Saving transcript path graph for ENSMUSG00000032702[1,6,1] as figures/Kank1_ad008_browser_ENSMUSG00000032702[1,6,1]_path.png\n",
      "Saving transcript path graph for ENSMUSG00000032702[6,8,1] as figures/Kank1_ad008_browser_ENSMUSG00000032702[6,8,1]_path.png\n",
      "Saving transcript path graph for ENSMUSG00000032702[3,8,1] as figures/Kank1_ad008_browser_ENSMUSG00000032702[3,8,1]_path.png\n",
      "Saving transcript path graph for ENSMUSG00000032702[3,7,1] as figures/Kank1_ad008_browser_ENSMUSG00000032702[3,7,1]_path.png\n",
      "Generating report for ENSMUSG00000032702\n"
     ]
    }
   ],
   "source": [
    "g = 'Kank1'\n",
    "plot_report(sg, g)"
   ]
  },
  {
   "cell_type": "code",
   "execution_count": 54,
   "id": "2d117fd8-a1bb-424e-8d9e-a87ffb940002",
   "metadata": {},
   "outputs": [
    {
     "name": "stdout",
     "output_type": "stream",
     "text": [
      "\n",
      "Plotting transcripts for ENSMUSG00000022475\n",
      "Saving transcript path graph for ENSMUSG00000022475[3,16,5] as figures/Hdac7_ad008_novel_ENSMUSG00000022475[3,16,5]_path.png\n",
      "Saving transcript path graph for ENSMUSG00000022475[9,15,1] as figures/Hdac7_ad008_novel_ENSMUSG00000022475[9,15,1]_path.png\n",
      "Saving transcript path graph for ENSMUSG00000022475[3,14,1] as figures/Hdac7_ad008_novel_ENSMUSG00000022475[3,14,1]_path.png\n",
      "Saving transcript path graph for ENSMUSG00000022475[3,1,1] as figures/Hdac7_ad008_novel_ENSMUSG00000022475[3,1,1]_path.png\n",
      "Saving transcript path graph for ENSMUSG00000022475[1,1,1] as figures/Hdac7_ad008_novel_ENSMUSG00000022475[1,1,1]_path.png\n",
      "Generating report for ENSMUSG00000022475\n",
      "\n",
      "Plotting transcripts for ENSMUSG00000022475\n",
      "Saving transcript path graph for ENSMUSG00000022475[3,16,5] as figures/Hdac7_ad008_browser_ENSMUSG00000022475[3,16,5]_path.png\n",
      "Saving transcript path graph for ENSMUSG00000022475[9,15,1] as figures/Hdac7_ad008_browser_ENSMUSG00000022475[9,15,1]_path.png\n",
      "Saving transcript path graph for ENSMUSG00000022475[3,14,1] as figures/Hdac7_ad008_browser_ENSMUSG00000022475[3,14,1]_path.png\n",
      "Saving transcript path graph for ENSMUSG00000022475[3,1,1] as figures/Hdac7_ad008_browser_ENSMUSG00000022475[3,1,1]_path.png\n",
      "Saving transcript path graph for ENSMUSG00000022475[1,1,1] as figures/Hdac7_ad008_browser_ENSMUSG00000022475[1,1,1]_path.png\n",
      "Generating report for ENSMUSG00000022475\n"
     ]
    }
   ],
   "source": [
    "g = 'Hdac7'\n",
    "plot_report(sg, g)"
   ]
  },
  {
   "cell_type": "code",
   "execution_count": 55,
   "id": "287a9994-01d7-4569-bc10-4d91bdc28c16",
   "metadata": {},
   "outputs": [
    {
     "name": "stdout",
     "output_type": "stream",
     "text": [
      "\n",
      "Plotting transcripts for ENSMUSG00000038738\n",
      "Saving transcript path graph for ENSMUSG00000038738[13,7,11] as figures/Shank1_ad008_novel_ENSMUSG00000038738[13,7,11]_path.png\n",
      "Saving transcript path graph for ENSMUSG00000038738[11,15,8] as figures/Shank1_ad008_novel_ENSMUSG00000038738[11,15,8]_path.png\n",
      "Saving transcript path graph for ENSMUSG00000038738[13,7,12] as figures/Shank1_ad008_novel_ENSMUSG00000038738[13,7,12]_path.png\n",
      "Saving transcript path graph for ENSMUSG00000038738[13,7,13] as figures/Shank1_ad008_novel_ENSMUSG00000038738[13,7,13]_path.png\n",
      "Saving transcript path graph for ENSMUSG00000038738[11,14,8] as figures/Shank1_ad008_novel_ENSMUSG00000038738[11,14,8]_path.png\n",
      "Saving transcript path graph for ENSMUSG00000038738[11,15,10] as figures/Shank1_ad008_novel_ENSMUSG00000038738[11,15,10]_path.png\n",
      "Saving transcript path graph for ENSMUSG00000038738[13,7,15] as figures/Shank1_ad008_novel_ENSMUSG00000038738[13,7,15]_path.png\n",
      "Saving transcript path graph for ENSMUSG00000038738[5,6,5] as figures/Shank1_ad008_novel_ENSMUSG00000038738[5,6,5]_path.png\n",
      "Saving transcript path graph for ENSMUSG00000038738[13,7,14] as figures/Shank1_ad008_novel_ENSMUSG00000038738[13,7,14]_path.png\n",
      "Saving transcript path graph for ENSMUSG00000038738[6,12,5] as figures/Shank1_ad008_novel_ENSMUSG00000038738[6,12,5]_path.png\n",
      "Saving transcript path graph for ENSMUSG00000038738[1,9,6] as figures/Shank1_ad008_novel_ENSMUSG00000038738[1,9,6]_path.png\n",
      "Saving transcript path graph for ENSMUSG00000038738[12,15,8] as figures/Shank1_ad008_novel_ENSMUSG00000038738[12,15,8]_path.png\n",
      "Saving transcript path graph for ENSMUSG00000038738[3,11,6] as figures/Shank1_ad008_novel_ENSMUSG00000038738[3,11,6]_path.png\n",
      "Saving transcript path graph for ENSMUSG00000038738[11,15,11] as figures/Shank1_ad008_novel_ENSMUSG00000038738[11,15,11]_path.png\n",
      "Saving transcript path graph for ENSMUSG00000038738[11,14,10] as figures/Shank1_ad008_novel_ENSMUSG00000038738[11,14,10]_path.png\n",
      "Saving transcript path graph for ENSMUSG00000038738[3,16,8] as figures/Shank1_ad008_novel_ENSMUSG00000038738[3,16,8]_path.png\n",
      "Saving transcript path graph for ENSMUSG00000038738[10,12,6] as figures/Shank1_ad008_novel_ENSMUSG00000038738[10,12,6]_path.png\n",
      "Saving transcript path graph for ENSMUSG00000038738[11,15,9] as figures/Shank1_ad008_novel_ENSMUSG00000038738[11,15,9]_path.png\n",
      "Saving transcript path graph for ENSMUSG00000038738[11,17,8] as figures/Shank1_ad008_novel_ENSMUSG00000038738[11,17,8]_path.png\n",
      "Saving transcript path graph for ENSMUSG00000038738[12,14,8] as figures/Shank1_ad008_novel_ENSMUSG00000038738[12,14,8]_path.png\n",
      "Saving transcript path graph for ENSMUSG00000038738[12,15,10] as figures/Shank1_ad008_novel_ENSMUSG00000038738[12,15,10]_path.png\n",
      "Saving transcript path graph for ENSMUSG00000038738[11,14,11] as figures/Shank1_ad008_novel_ENSMUSG00000038738[11,14,11]_path.png\n",
      "Saving transcript path graph for ENSMUSG00000038738[11,15,2] as figures/Shank1_ad008_novel_ENSMUSG00000038738[11,15,2]_path.png\n",
      "Saving transcript path graph for ENSMUSG00000038738[12,15,9] as figures/Shank1_ad008_novel_ENSMUSG00000038738[12,15,9]_path.png\n",
      "Saving transcript path graph for ENSMUSG00000038738[11,15,12] as figures/Shank1_ad008_novel_ENSMUSG00000038738[11,15,12]_path.png\n",
      "Generating report for ENSMUSG00000038738\n",
      "\n",
      "Plotting transcripts for ENSMUSG00000038738\n",
      "Saving transcript path graph for ENSMUSG00000038738[13,7,11] as figures/Shank1_ad008_browser_ENSMUSG00000038738[13,7,11]_path.png\n",
      "Saving transcript path graph for ENSMUSG00000038738[11,15,8] as figures/Shank1_ad008_browser_ENSMUSG00000038738[11,15,8]_path.png\n",
      "Saving transcript path graph for ENSMUSG00000038738[13,7,12] as figures/Shank1_ad008_browser_ENSMUSG00000038738[13,7,12]_path.png\n",
      "Saving transcript path graph for ENSMUSG00000038738[13,7,13] as figures/Shank1_ad008_browser_ENSMUSG00000038738[13,7,13]_path.png\n",
      "Saving transcript path graph for ENSMUSG00000038738[11,14,8] as figures/Shank1_ad008_browser_ENSMUSG00000038738[11,14,8]_path.png\n",
      "Saving transcript path graph for ENSMUSG00000038738[11,15,10] as figures/Shank1_ad008_browser_ENSMUSG00000038738[11,15,10]_path.png\n",
      "Saving transcript path graph for ENSMUSG00000038738[13,7,15] as figures/Shank1_ad008_browser_ENSMUSG00000038738[13,7,15]_path.png\n",
      "Saving transcript path graph for ENSMUSG00000038738[5,6,5] as figures/Shank1_ad008_browser_ENSMUSG00000038738[5,6,5]_path.png\n",
      "Saving transcript path graph for ENSMUSG00000038738[13,7,14] as figures/Shank1_ad008_browser_ENSMUSG00000038738[13,7,14]_path.png\n",
      "Saving transcript path graph for ENSMUSG00000038738[6,12,5] as figures/Shank1_ad008_browser_ENSMUSG00000038738[6,12,5]_path.png\n",
      "Saving transcript path graph for ENSMUSG00000038738[1,9,6] as figures/Shank1_ad008_browser_ENSMUSG00000038738[1,9,6]_path.png\n",
      "Saving transcript path graph for ENSMUSG00000038738[12,15,8] as figures/Shank1_ad008_browser_ENSMUSG00000038738[12,15,8]_path.png\n",
      "Saving transcript path graph for ENSMUSG00000038738[3,11,6] as figures/Shank1_ad008_browser_ENSMUSG00000038738[3,11,6]_path.png\n",
      "Saving transcript path graph for ENSMUSG00000038738[11,15,11] as figures/Shank1_ad008_browser_ENSMUSG00000038738[11,15,11]_path.png\n",
      "Saving transcript path graph for ENSMUSG00000038738[11,14,10] as figures/Shank1_ad008_browser_ENSMUSG00000038738[11,14,10]_path.png\n",
      "Saving transcript path graph for ENSMUSG00000038738[3,16,8] as figures/Shank1_ad008_browser_ENSMUSG00000038738[3,16,8]_path.png\n",
      "Saving transcript path graph for ENSMUSG00000038738[10,12,6] as figures/Shank1_ad008_browser_ENSMUSG00000038738[10,12,6]_path.png\n",
      "Saving transcript path graph for ENSMUSG00000038738[11,15,9] as figures/Shank1_ad008_browser_ENSMUSG00000038738[11,15,9]_path.png\n",
      "Saving transcript path graph for ENSMUSG00000038738[11,17,8] as figures/Shank1_ad008_browser_ENSMUSG00000038738[11,17,8]_path.png\n",
      "Saving transcript path graph for ENSMUSG00000038738[12,14,8] as figures/Shank1_ad008_browser_ENSMUSG00000038738[12,14,8]_path.png\n",
      "Saving transcript path graph for ENSMUSG00000038738[12,15,10] as figures/Shank1_ad008_browser_ENSMUSG00000038738[12,15,10]_path.png\n",
      "Saving transcript path graph for ENSMUSG00000038738[11,14,11] as figures/Shank1_ad008_browser_ENSMUSG00000038738[11,14,11]_path.png\n",
      "Saving transcript path graph for ENSMUSG00000038738[11,15,2] as figures/Shank1_ad008_browser_ENSMUSG00000038738[11,15,2]_path.png\n",
      "Saving transcript path graph for ENSMUSG00000038738[12,15,9] as figures/Shank1_ad008_browser_ENSMUSG00000038738[12,15,9]_path.png\n",
      "Saving transcript path graph for ENSMUSG00000038738[11,15,12] as figures/Shank1_ad008_browser_ENSMUSG00000038738[11,15,12]_path.png\n",
      "Generating report for ENSMUSG00000038738\n"
     ]
    }
   ],
   "source": [
    "g = 'Shank1'\n",
    "plot_report(sg, g)"
   ]
  },
  {
   "cell_type": "code",
   "execution_count": 59,
   "id": "dc4c4e79-e161-48d0-a055-be93ae3c50ae",
   "metadata": {},
   "outputs": [
    {
     "name": "stdout",
     "output_type": "stream",
     "text": [
      "\n",
      "Plotting transcripts for ENSMUSG00000024030\n",
      "Saving transcript path graph for ENSMUSG00000024030[4,6,9] as figures/Abcg1_ad008_novel_ENSMUSG00000024030[4,6,9]_path.png\n",
      "Saving transcript path graph for ENSMUSG00000024030[4,6,6] as figures/Abcg1_ad008_novel_ENSMUSG00000024030[4,6,6]_path.png\n",
      "Saving transcript path graph for ENSMUSG00000024030[4,6,1] as figures/Abcg1_ad008_novel_ENSMUSG00000024030[4,6,1]_path.png\n",
      "Saving transcript path graph for ENSMUSG00000024030[1,1,6] as figures/Abcg1_ad008_novel_ENSMUSG00000024030[1,1,6]_path.png\n",
      "Saving transcript path graph for ENSMUSG00000024030[1,1,1] as figures/Abcg1_ad008_novel_ENSMUSG00000024030[1,1,1]_path.png\n",
      "Saving transcript path graph for ENSMUSG00000024030[1,7,7] as figures/Abcg1_ad008_novel_ENSMUSG00000024030[1,7,7]_path.png\n",
      "Saving transcript path graph for ENSMUSG00000024030[1,1,9] as figures/Abcg1_ad008_novel_ENSMUSG00000024030[1,1,9]_path.png\n",
      "Generating report for ENSMUSG00000024030\n",
      "\n",
      "Plotting transcripts for ENSMUSG00000024030\n",
      "Saving transcript path graph for ENSMUSG00000024030[4,6,9] as figures/Abcg1_ad008_browser_ENSMUSG00000024030[4,6,9]_path.png\n",
      "Saving transcript path graph for ENSMUSG00000024030[4,6,6] as figures/Abcg1_ad008_browser_ENSMUSG00000024030[4,6,6]_path.png\n",
      "Saving transcript path graph for ENSMUSG00000024030[4,6,1] as figures/Abcg1_ad008_browser_ENSMUSG00000024030[4,6,1]_path.png\n",
      "Saving transcript path graph for ENSMUSG00000024030[1,1,6] as figures/Abcg1_ad008_browser_ENSMUSG00000024030[1,1,6]_path.png\n",
      "Saving transcript path graph for ENSMUSG00000024030[1,1,1] as figures/Abcg1_ad008_browser_ENSMUSG00000024030[1,1,1]_path.png\n",
      "Saving transcript path graph for ENSMUSG00000024030[1,7,7] as figures/Abcg1_ad008_browser_ENSMUSG00000024030[1,7,7]_path.png\n",
      "Saving transcript path graph for ENSMUSG00000024030[1,1,9] as figures/Abcg1_ad008_browser_ENSMUSG00000024030[1,1,9]_path.png\n",
      "Generating report for ENSMUSG00000024030\n"
     ]
    }
   ],
   "source": [
    "g = 'Abcg1'\n",
    "plot_report(sg, g)"
   ]
  },
  {
   "cell_type": "code",
   "execution_count": 60,
   "id": "fccd195c-472d-4de0-88a9-fbb00c7a532f",
   "metadata": {},
   "outputs": [
    {
     "name": "stdout",
     "output_type": "stream",
     "text": [
      "\n",
      "Plotting transcripts for ENSMUSG00000043336\n",
      "Saving transcript path graph for ENSMUSG00000043336[4,4,4] as figures/Filip1l_ad008_novel_ENSMUSG00000043336[4,4,4]_path.png\n",
      "Saving transcript path graph for ENSMUSG00000043336[3,3,3] as figures/Filip1l_ad008_novel_ENSMUSG00000043336[3,3,3]_path.png\n",
      "Generating report for ENSMUSG00000043336\n",
      "\n",
      "Plotting transcripts for ENSMUSG00000043336\n",
      "Saving transcript path graph for ENSMUSG00000043336[4,4,4] as figures/Filip1l_ad008_browser_ENSMUSG00000043336[4,4,4]_path.png\n",
      "Saving transcript path graph for ENSMUSG00000043336[3,3,3] as figures/Filip1l_ad008_browser_ENSMUSG00000043336[3,3,3]_path.png\n",
      "Generating report for ENSMUSG00000043336\n"
     ]
    }
   ],
   "source": [
    "g = 'Filip1l'\n",
    "plot_report(sg, g)"
   ]
  },
  {
   "cell_type": "code",
   "execution_count": 64,
   "id": "07535e6a-bed6-4020-8a84-3c6c389a0c48",
   "metadata": {},
   "outputs": [
    {
     "name": "stdout",
     "output_type": "stream",
     "text": [
      "\n",
      "Plotting transcripts for ENSMUSG00000039361\n",
      "Saving transcript path graph for ENSMUSG00000039361[10,7,4] as figures/Picalm_ad008_novel_ENSMUSG00000039361[10,7,4]_path.png\n",
      "Saving transcript path graph for ENSMUSG00000039361[1,3,2] as figures/Picalm_ad008_novel_ENSMUSG00000039361[1,3,2]_path.png\n",
      "Saving transcript path graph for ENSMUSG00000039361[1,6,2] as figures/Picalm_ad008_novel_ENSMUSG00000039361[1,6,2]_path.png\n",
      "Saving transcript path graph for ENSMUSG00000039361[1,7,4] as figures/Picalm_ad008_novel_ENSMUSG00000039361[1,7,4]_path.png\n",
      "Saving transcript path graph for ENSMUSG00000039361[1,1,2] as figures/Picalm_ad008_novel_ENSMUSG00000039361[1,1,2]_path.png\n",
      "Saving transcript path graph for ENSMUSG00000039361[1,20,2] as figures/Picalm_ad008_novel_ENSMUSG00000039361[1,20,2]_path.png\n",
      "Saving transcript path graph for ENSMUSG00000039361[1,3,12] as figures/Picalm_ad008_novel_ENSMUSG00000039361[1,3,12]_path.png\n",
      "Saving transcript path graph for ENSMUSG00000039361[1,5,2] as figures/Picalm_ad008_novel_ENSMUSG00000039361[1,5,2]_path.png\n",
      "Saving transcript path graph for ENSMUSG00000039361[1,19,2] as figures/Picalm_ad008_novel_ENSMUSG00000039361[1,19,2]_path.png\n",
      "Saving transcript path graph for ENSMUSG00000039361[2,3,3] as figures/Picalm_ad008_novel_ENSMUSG00000039361[2,3,3]_path.png\n",
      "Saving transcript path graph for ENSMUSG00000039361[1,20,12] as figures/Picalm_ad008_novel_ENSMUSG00000039361[1,20,12]_path.png\n",
      "Saving transcript path graph for ENSMUSG00000039361[1,1,1] as figures/Picalm_ad008_novel_ENSMUSG00000039361[1,1,1]_path.png\n",
      "Saving transcript path graph for ENSMUSG00000039361[1,1,12] as figures/Picalm_ad008_novel_ENSMUSG00000039361[1,1,12]_path.png\n",
      "Saving transcript path graph for ENSMUSG00000039361[1,6,12] as figures/Picalm_ad008_novel_ENSMUSG00000039361[1,6,12]_path.png\n",
      "Saving transcript path graph for ENSMUSG00000039361[1,19,12] as figures/Picalm_ad008_novel_ENSMUSG00000039361[1,19,12]_path.png\n",
      "Saving transcript path graph for ENSMUSG00000039361[12,18,12] as figures/Picalm_ad008_novel_ENSMUSG00000039361[12,18,12]_path.png\n",
      "Saving transcript path graph for ENSMUSG00000039361[11,18,12] as figures/Picalm_ad008_novel_ENSMUSG00000039361[11,18,12]_path.png\n",
      "Saving transcript path graph for ENSMUSG00000039361[1,5,12] as figures/Picalm_ad008_novel_ENSMUSG00000039361[1,5,12]_path.png\n",
      "Saving transcript path graph for ENSMUSG00000039361[1,15,2] as figures/Picalm_ad008_novel_ENSMUSG00000039361[1,15,2]_path.png\n",
      "Saving transcript path graph for ENSMUSG00000039361[1,15,12] as figures/Picalm_ad008_novel_ENSMUSG00000039361[1,15,12]_path.png\n",
      "Saving transcript path graph for ENSMUSG00000039361[11,21,12] as figures/Picalm_ad008_novel_ENSMUSG00000039361[11,21,12]_path.png\n",
      "Saving transcript path graph for ENSMUSG00000039361[1,2,2] as figures/Picalm_ad008_novel_ENSMUSG00000039361[1,2,2]_path.png\n",
      "Saving transcript path graph for ENSMUSG00000039361[12,21,12] as figures/Picalm_ad008_novel_ENSMUSG00000039361[12,21,12]_path.png\n",
      "Saving transcript path graph for ENSMUSG00000039361[11,18,2] as figures/Picalm_ad008_novel_ENSMUSG00000039361[11,18,2]_path.png\n",
      "Saving transcript path graph for ENSMUSG00000039361[1,2,12] as figures/Picalm_ad008_novel_ENSMUSG00000039361[1,2,12]_path.png\n",
      "Saving transcript path graph for ENSMUSG00000039361[12,18,2] as figures/Picalm_ad008_novel_ENSMUSG00000039361[12,18,2]_path.png\n",
      "Saving transcript path graph for ENSMUSG00000039361[1,19,11] as figures/Picalm_ad008_novel_ENSMUSG00000039361[1,19,11]_path.png\n",
      "Saving transcript path graph for ENSMUSG00000039361[1,20,3] as figures/Picalm_ad008_novel_ENSMUSG00000039361[1,20,3]_path.png\n",
      "Saving transcript path graph for ENSMUSG00000039361[1,6,3] as figures/Picalm_ad008_novel_ENSMUSG00000039361[1,6,3]_path.png\n",
      "Saving transcript path graph for ENSMUSG00000039361[1,1,11] as figures/Picalm_ad008_novel_ENSMUSG00000039361[1,1,11]_path.png\n",
      "Saving transcript path graph for ENSMUSG00000039361[1,2,3] as figures/Picalm_ad008_novel_ENSMUSG00000039361[1,2,3]_path.png\n",
      "Saving transcript path graph for ENSMUSG00000039361[1,3,3] as figures/Picalm_ad008_novel_ENSMUSG00000039361[1,3,3]_path.png\n",
      "Saving transcript path graph for ENSMUSG00000039361[1,3,11] as figures/Picalm_ad008_novel_ENSMUSG00000039361[1,3,11]_path.png\n",
      "Saving transcript path graph for ENSMUSG00000039361[11,21,2] as figures/Picalm_ad008_novel_ENSMUSG00000039361[11,21,2]_path.png\n",
      "Saving transcript path graph for ENSMUSG00000039361[1,1,3] as figures/Picalm_ad008_novel_ENSMUSG00000039361[1,1,3]_path.png\n",
      "Saving transcript path graph for ENSMUSG00000039361[2,2,2] as figures/Picalm_ad008_novel_ENSMUSG00000039361[2,2,2]_path.png\n",
      "Generating report for ENSMUSG00000039361\n",
      "\n",
      "Plotting transcripts for ENSMUSG00000039361\n",
      "Saving transcript path graph for ENSMUSG00000039361[10,7,4] as figures/Picalm_ad008_browser_ENSMUSG00000039361[10,7,4]_path.png\n",
      "Saving transcript path graph for ENSMUSG00000039361[1,3,2] as figures/Picalm_ad008_browser_ENSMUSG00000039361[1,3,2]_path.png\n",
      "Saving transcript path graph for ENSMUSG00000039361[1,6,2] as figures/Picalm_ad008_browser_ENSMUSG00000039361[1,6,2]_path.png\n",
      "Saving transcript path graph for ENSMUSG00000039361[1,7,4] as figures/Picalm_ad008_browser_ENSMUSG00000039361[1,7,4]_path.png\n",
      "Saving transcript path graph for ENSMUSG00000039361[1,1,2] as figures/Picalm_ad008_browser_ENSMUSG00000039361[1,1,2]_path.png\n",
      "Saving transcript path graph for ENSMUSG00000039361[1,20,2] as figures/Picalm_ad008_browser_ENSMUSG00000039361[1,20,2]_path.png\n",
      "Saving transcript path graph for ENSMUSG00000039361[1,3,12] as figures/Picalm_ad008_browser_ENSMUSG00000039361[1,3,12]_path.png\n",
      "Saving transcript path graph for ENSMUSG00000039361[1,5,2] as figures/Picalm_ad008_browser_ENSMUSG00000039361[1,5,2]_path.png\n",
      "Saving transcript path graph for ENSMUSG00000039361[1,19,2] as figures/Picalm_ad008_browser_ENSMUSG00000039361[1,19,2]_path.png\n",
      "Saving transcript path graph for ENSMUSG00000039361[2,3,3] as figures/Picalm_ad008_browser_ENSMUSG00000039361[2,3,3]_path.png\n",
      "Saving transcript path graph for ENSMUSG00000039361[1,20,12] as figures/Picalm_ad008_browser_ENSMUSG00000039361[1,20,12]_path.png\n",
      "Saving transcript path graph for ENSMUSG00000039361[1,1,1] as figures/Picalm_ad008_browser_ENSMUSG00000039361[1,1,1]_path.png\n",
      "Saving transcript path graph for ENSMUSG00000039361[1,1,12] as figures/Picalm_ad008_browser_ENSMUSG00000039361[1,1,12]_path.png\n",
      "Saving transcript path graph for ENSMUSG00000039361[1,6,12] as figures/Picalm_ad008_browser_ENSMUSG00000039361[1,6,12]_path.png\n",
      "Saving transcript path graph for ENSMUSG00000039361[1,19,12] as figures/Picalm_ad008_browser_ENSMUSG00000039361[1,19,12]_path.png\n",
      "Saving transcript path graph for ENSMUSG00000039361[12,18,12] as figures/Picalm_ad008_browser_ENSMUSG00000039361[12,18,12]_path.png\n",
      "Saving transcript path graph for ENSMUSG00000039361[11,18,12] as figures/Picalm_ad008_browser_ENSMUSG00000039361[11,18,12]_path.png\n",
      "Saving transcript path graph for ENSMUSG00000039361[1,5,12] as figures/Picalm_ad008_browser_ENSMUSG00000039361[1,5,12]_path.png\n",
      "Saving transcript path graph for ENSMUSG00000039361[1,15,2] as figures/Picalm_ad008_browser_ENSMUSG00000039361[1,15,2]_path.png\n",
      "Saving transcript path graph for ENSMUSG00000039361[1,15,12] as figures/Picalm_ad008_browser_ENSMUSG00000039361[1,15,12]_path.png\n",
      "Saving transcript path graph for ENSMUSG00000039361[11,21,12] as figures/Picalm_ad008_browser_ENSMUSG00000039361[11,21,12]_path.png\n",
      "Saving transcript path graph for ENSMUSG00000039361[1,2,2] as figures/Picalm_ad008_browser_ENSMUSG00000039361[1,2,2]_path.png\n",
      "Saving transcript path graph for ENSMUSG00000039361[12,21,12] as figures/Picalm_ad008_browser_ENSMUSG00000039361[12,21,12]_path.png\n",
      "Saving transcript path graph for ENSMUSG00000039361[11,18,2] as figures/Picalm_ad008_browser_ENSMUSG00000039361[11,18,2]_path.png\n",
      "Saving transcript path graph for ENSMUSG00000039361[1,2,12] as figures/Picalm_ad008_browser_ENSMUSG00000039361[1,2,12]_path.png\n",
      "Saving transcript path graph for ENSMUSG00000039361[12,18,2] as figures/Picalm_ad008_browser_ENSMUSG00000039361[12,18,2]_path.png\n",
      "Saving transcript path graph for ENSMUSG00000039361[1,19,11] as figures/Picalm_ad008_browser_ENSMUSG00000039361[1,19,11]_path.png\n",
      "Saving transcript path graph for ENSMUSG00000039361[1,20,3] as figures/Picalm_ad008_browser_ENSMUSG00000039361[1,20,3]_path.png\n",
      "Saving transcript path graph for ENSMUSG00000039361[1,6,3] as figures/Picalm_ad008_browser_ENSMUSG00000039361[1,6,3]_path.png\n",
      "Saving transcript path graph for ENSMUSG00000039361[1,1,11] as figures/Picalm_ad008_browser_ENSMUSG00000039361[1,1,11]_path.png\n",
      "Saving transcript path graph for ENSMUSG00000039361[1,2,3] as figures/Picalm_ad008_browser_ENSMUSG00000039361[1,2,3]_path.png\n",
      "Saving transcript path graph for ENSMUSG00000039361[1,3,3] as figures/Picalm_ad008_browser_ENSMUSG00000039361[1,3,3]_path.png\n",
      "Saving transcript path graph for ENSMUSG00000039361[1,3,11] as figures/Picalm_ad008_browser_ENSMUSG00000039361[1,3,11]_path.png\n",
      "Saving transcript path graph for ENSMUSG00000039361[11,21,2] as figures/Picalm_ad008_browser_ENSMUSG00000039361[11,21,2]_path.png\n",
      "Saving transcript path graph for ENSMUSG00000039361[1,1,3] as figures/Picalm_ad008_browser_ENSMUSG00000039361[1,1,3]_path.png\n",
      "Saving transcript path graph for ENSMUSG00000039361[2,2,2] as figures/Picalm_ad008_browser_ENSMUSG00000039361[2,2,2]_path.png\n",
      "Generating report for ENSMUSG00000039361\n"
     ]
    }
   ],
   "source": [
    "g = 'Picalm'\n",
    "plot_report(sg, g)"
   ]
  },
  {
   "cell_type": "code",
   "execution_count": null,
   "id": "84c4d4a6-186e-46e0-8a6c-9cbf2c857523",
   "metadata": {},
   "outputs": [],
   "source": []
  }
 ],
 "metadata": {
  "kernelspec": {
   "display_name": "Python 3",
   "language": "python",
   "name": "python3"
  },
  "language_info": {
   "codemirror_mode": {
    "name": "ipython",
    "version": 3
   },
   "file_extension": ".py",
   "mimetype": "text/x-python",
   "name": "python",
   "nbconvert_exporter": "python",
   "pygments_lexer": "ipython3",
   "version": "3.7.12"
  }
 },
 "nbformat": 4,
 "nbformat_minor": 5
}
