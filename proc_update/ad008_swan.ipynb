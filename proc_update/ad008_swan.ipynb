{
 "cells": [
  {
   "cell_type": "code",
   "execution_count": 12,
   "id": "25e2dc4b-2f4d-4221-8cae-acd10f66773d",
   "metadata": {},
   "outputs": [],
   "source": [
    "import pandas as pd\n",
    "import pdb\n",
    "import numpy as np\n",
    "import itertools\n",
    "from snakemake.io import expand\n",
    "import yaml\n",
    "import os\n",
    "import sys\n",
    "import pathlib\n",
    "import pyranges as pr\n",
    "import cerberus \n",
    "import swan_vis as swan\n",
    "import met_brewer\n",
    "import seaborn as sns\n",
    "\n",
    "p = os.path.dirname(os.getcwd())\n",
    "sys.path.append(p)\n",
    "\n",
    "from utils import *\n",
    "from sm_utils import *\n",
    "from humanized_utils import *"
   ]
  },
  {
   "cell_type": "code",
   "execution_count": 2,
   "id": "de400996-8934-4ef4-8b27-0f041e0b2f5e",
   "metadata": {},
   "outputs": [],
   "source": [
    "config_file = 'config.yml'\n",
    "with open(config_file) as f:\n",
    "    config = yaml.safe_load(f)"
   ]
  },
  {
   "cell_type": "code",
   "execution_count": 3,
   "id": "8d232d00-f357-45b1-839d-fd45b8317233",
   "metadata": {},
   "outputs": [],
   "source": [
    "swan_file = expand(config['swan']['swan_graph'], \n",
    "                   analysis='hABKI_Swe_IB_HET_WT')[0]\n"
   ]
  },
  {
   "cell_type": "code",
   "execution_count": 6,
   "id": "27d82ac7-46de-4ab3-ac1e-12b7ebadfa7f",
   "metadata": {},
   "outputs": [
    {
     "name": "stdout",
     "output_type": "stream",
     "text": [
      "Read in graph from data/swan/hABKI_Swe_IB_HET_WT/swan_graph.p\n"
     ]
    }
   ],
   "source": [
    "sg = swan.read(swan_file)\n",
    "obs = sg.adata.obs.copy(deep=True)"
   ]
  },
  {
   "cell_type": "code",
   "execution_count": 7,
   "id": "ebd7172c-8619-4071-8586-1501287d81af",
   "metadata": {},
   "outputs": [],
   "source": [
    "# get unique genotypes, timepoints, tissues, etc\n",
    "genotypes = obs.genotype.unique()\n",
    "sex = obs.sex.unique()\n",
    "ages = obs.age.unique()\n",
    "tissues = obs.tissue.unique()"
   ]
  },
  {
   "cell_type": "code",
   "execution_count": 8,
   "id": "3a715dae-84bc-42df-a9fe-07cb8dee8033",
   "metadata": {},
   "outputs": [
    {
     "name": "stdout",
     "output_type": "stream",
     "text": [
      "['hABKI_Swe_IB_HET' 'hABKI_Swe_IB_WT']\n",
      "['F' 'M']\n",
      "['8_weeks']\n",
      "['HC']\n"
     ]
    }
   ],
   "source": [
    "print(genotypes)\n",
    "print(sex)\n",
    "print(ages)\n",
    "print(tissues)"
   ]
  },
  {
   "cell_type": "code",
   "execution_count": 13,
   "id": "75c950b8-8a81-4c08-9b4f-06aff62a709d",
   "metadata": {},
   "outputs": [
    {
     "name": "stdout",
     "output_type": "stream",
     "text": [
      "{0: '#2b9b81', 1: '#fe9b00', 2: '#f4c40f', 3: '#fbe183', 4: '#633372', 5: '#9b3441', 6: '#e6a2a6', 7: '#92c051', 8: '#1f6e9c', 9: '#9f5691', 10: '#e87b89'}\n"
     ]
    },
    {
     "data": {
      "text/plain": [
       "<AxesSubplot:xlabel='num'>"
      ]
     },
     "execution_count": 13,
     "metadata": {},
     "output_type": "execute_result"
    },
    {
     "data": {
      "image/png": "[encoded data removed]",
      "text/plain": [
       "<Figure size 432x288 with 1 Axes>"
      ]
     },
     "metadata": {
      "needs_background": "light"
     },
     "output_type": "display_data"
    }
   ],
   "source": [
    "df = pd.DataFrame()\n",
    "df['color'] = met_brewer.met_brew(\"Signac\", n=11, brew_type=\"discrete\")\n",
    "df['num'] = df.index.tolist()\n",
    "cmap = dict([(num, color) for num, color in zip(df.num.tolist(), df.color.tolist())])\n",
    "print(cmap)\n",
    "sns.barplot(df, y=[1 for i in range(len(df.index))], x='num', palette=cmap, saturation=1)"
   ]
  },
  {
   "cell_type": "code",
   "execution_count": 14,
   "id": "7c60f46b-715f-4f1a-9f83-2946c8286acf",
   "metadata": {},
   "outputs": [],
   "source": [
    "g_cmap = {'hABKI_Swe_IB_HET': cmap[1],\n",
    "          'hABKI_Swe_IB_WT': cmap[2]}\n",
    "s_cmap = {'M': cmap[3],\n",
    "          'F': cmap[7]}\n",
    "t_cmap = {'HC': cmap[10]}          "
   ]
  },
  {
   "cell_type": "code",
   "execution_count": 15,
   "id": "a3d535c5-9b3b-48db-818b-72db127e60d3",
   "metadata": {},
   "outputs": [
    {
     "data": {
      "image/png": "[encoded data removed]",
      "text/plain": [
       "<Figure size 432x288 with 1 Axes>"
      ]
     },
     "metadata": {
      "needs_background": "light"
     },
     "output_type": "display_data"
    }
   ],
   "source": [
    "df = pd.DataFrame()\n",
    "df['color'] = met_brewer.met_brew(\"OKeeffe2\", n=4, brew_type=\"continuous\")\n",
    "df['num'] = df.index.tolist()\n",
    "cmap = dict([(num, color) for num, color in zip(df.num.tolist(), df.color.tolist())])\n",
    "sns.barplot(df, y=[1 for i in range(len(df.index))], x='num', palette=cmap, saturation=1)\n",
    "order = ['8_weeks', \n",
    "         '10_weeks',\n",
    "         '4_months',\n",
    "         '18_months']\n",
    "a_cmap = dict()\n",
    "for i,t in enumerate(order):\n",
    "    a_cmap[t] = cmap[i]"
   ]
  },
  {
   "cell_type": "code",
   "execution_count": 16,
   "id": "eeadfbc9-c1c2-41cc-8641-29e6f0075f4e",
   "metadata": {},
   "outputs": [],
   "source": [
    "sg.set_metadata_colors('genotype', g_cmap)\n",
    "sg.set_metadata_colors('tissue', t_cmap)\n",
    "sg.set_metadata_colors('sex', s_cmap)\n",
    "sg.set_metadata_colors('age', a_cmap)"
   ]
  },
  {
   "cell_type": "code",
   "execution_count": 29,
   "id": "2bdc8d47-739b-4032-a46f-474269521553",
   "metadata": {},
   "outputs": [
    {
     "name": "stdout",
     "output_type": "stream",
     "text": [
      "data/swan/hABKI_Swe_IB_HET_WT/hABKI_Swe_IB_HET_vs_hABKI_Swe_IB_WT_genotype_du_tss.tsv\n",
      "data/swan/hABKI_Swe_IB_HET_WT/hABKI_Swe_IB_HET_vs_hABKI_Swe_IB_WT_genotype_du_iso.tsv\n",
      "data/swan/hABKI_Swe_IB_HET_WT/hABKI_Swe_IB_HET_vs_hABKI_Swe_IB_WT_genotype_du_tes.tsv\n"
     ]
    }
   ],
   "source": [
    "import glob\n",
    "# loc = 'data/swan/hABKI_Swe_IB_HET_WT/*genotype_sex_du_*.tsv'\n",
    "loc = 'data/swan/hABKI_Swe_IB_HET_WT/*genotype_du*.tsv'\n",
    "du_df = pd.DataFrame()\n",
    "for f in glob.glob(loc):\n",
    "    print(f)\n",
    "    feat = f.rsplit('_')[-1].split('.')[0]\n",
    "    cond1 = f.rsplit('/')[-1].split('_vs_')[0]\n",
    "    cond2 = f.rsplit('/')[-1].split('_vs_')[1].split('_genotype')[0]\n",
    "    # print(feat)\n",
    "    # print(cond1)\n",
    "    # print(cond2)\n",
    "    temp = pd.read_csv(f, sep='\\t')\n",
    "    temp['feat'] = feat\n",
    "    temp['cond1'] = cond1\n",
    "    temp['cond2'] = cond2\n",
    "    du_df = pd.concat([du_df, temp], axis=0)"
   ]
  },
  {
   "cell_type": "code",
   "execution_count": 33,
   "id": "be5980c9-f31d-46c2-bbe1-62e41e8ef44e",
   "metadata": {},
   "outputs": [
    {
     "data": {
      "text/html": [
       "<div>\n",
       "<style scoped>\n",
       "    .dataframe tbody tr th:only-of-type {\n",
       "        vertical-align: middle;\n",
       "    }\n",
       "\n",
       "    .dataframe tbody tr th {\n",
       "        vertical-align: top;\n",
       "    }\n",
       "\n",
       "    .dataframe thead th {\n",
       "        text-align: right;\n",
       "    }\n",
       "</style>\n",
       "<table border=\"1\" class=\"dataframe\">\n",
       "  <thead>\n",
       "    <tr style=\"text-align: right;\">\n",
       "      <th></th>\n",
       "      <th>Unnamed: 0</th>\n",
       "      <th>gid</th>\n",
       "      <th>p_val</th>\n",
       "      <th>dpi</th>\n",
       "      <th>pos_iso_1</th>\n",
       "      <th>pos_iso_2</th>\n",
       "      <th>pos_iso_1_dpi</th>\n",
       "      <th>pos_iso_2_dpi</th>\n",
       "      <th>neg_iso_1</th>\n",
       "      <th>neg_iso_2</th>\n",
       "      <th>neg_iso_1_dpi</th>\n",
       "      <th>neg_iso_2_dpi</th>\n",
       "      <th>adj_p_val</th>\n",
       "      <th>gname</th>\n",
       "      <th>feat</th>\n",
       "      <th>cond1</th>\n",
       "      <th>cond2</th>\n",
       "    </tr>\n",
       "  </thead>\n",
       "  <tbody>\n",
       "    <tr>\n",
       "      <th>2</th>\n",
       "      <td>2</td>\n",
       "      <td>ENSMUSG00000000093</td>\n",
       "      <td>1.388435e-06</td>\n",
       "      <td>40.845074</td>\n",
       "      <td>ENSMUSG00000000093_1</td>\n",
       "      <td>NaN</td>\n",
       "      <td>40.845074</td>\n",
       "      <td>NaN</td>\n",
       "      <td>ENSMUSG00000000093_2</td>\n",
       "      <td>NaN</td>\n",
       "      <td>-40.845070</td>\n",
       "      <td>NaN</td>\n",
       "      <td>4.367816e-06</td>\n",
       "      <td>Tbx2</td>\n",
       "      <td>tss</td>\n",
       "      <td>hABKI_Swe_IB_HET</td>\n",
       "      <td>hABKI_Swe_IB_WT</td>\n",
       "    </tr>\n",
       "    <tr>\n",
       "      <th>3</th>\n",
       "      <td>3</td>\n",
       "      <td>ENSMUSG00000000125</td>\n",
       "      <td>5.169985e-04</td>\n",
       "      <td>48.148148</td>\n",
       "      <td>ENSMUSG00000000125_2</td>\n",
       "      <td>NaN</td>\n",
       "      <td>48.148148</td>\n",
       "      <td>NaN</td>\n",
       "      <td>ENSMUSG00000000125_3</td>\n",
       "      <td>NaN</td>\n",
       "      <td>-48.148148</td>\n",
       "      <td>NaN</td>\n",
       "      <td>1.106542e-03</td>\n",
       "      <td>Wnt3</td>\n",
       "      <td>tss</td>\n",
       "      <td>hABKI_Swe_IB_HET</td>\n",
       "      <td>hABKI_Swe_IB_WT</td>\n",
       "    </tr>\n",
       "    <tr>\n",
       "      <th>6</th>\n",
       "      <td>6</td>\n",
       "      <td>ENSMUSG00000000142</td>\n",
       "      <td>1.806651e-09</td>\n",
       "      <td>24.166666</td>\n",
       "      <td>ENSMUSG00000000142_3</td>\n",
       "      <td>NaN</td>\n",
       "      <td>24.166666</td>\n",
       "      <td>NaN</td>\n",
       "      <td>ENSMUSG00000000142_1</td>\n",
       "      <td>NaN</td>\n",
       "      <td>-24.166664</td>\n",
       "      <td>NaN</td>\n",
       "      <td>7.653674e-09</td>\n",
       "      <td>Axin2</td>\n",
       "      <td>tss</td>\n",
       "      <td>hABKI_Swe_IB_HET</td>\n",
       "      <td>hABKI_Swe_IB_WT</td>\n",
       "    </tr>\n",
       "    <tr>\n",
       "      <th>9</th>\n",
       "      <td>9</td>\n",
       "      <td>ENSMUSG00000000215</td>\n",
       "      <td>1.636984e-04</td>\n",
       "      <td>43.478264</td>\n",
       "      <td>ENSMUSG00000000215_3</td>\n",
       "      <td>NaN</td>\n",
       "      <td>43.478260</td>\n",
       "      <td>NaN</td>\n",
       "      <td>ENSMUSG00000000215_2</td>\n",
       "      <td>NaN</td>\n",
       "      <td>-43.478264</td>\n",
       "      <td>NaN</td>\n",
       "      <td>3.840663e-04</td>\n",
       "      <td>Ins2</td>\n",
       "      <td>tss</td>\n",
       "      <td>hABKI_Swe_IB_HET</td>\n",
       "      <td>hABKI_Swe_IB_WT</td>\n",
       "    </tr>\n",
       "    <tr>\n",
       "      <th>13</th>\n",
       "      <td>13</td>\n",
       "      <td>ENSMUSG00000000266</td>\n",
       "      <td>1.591154e-09</td>\n",
       "      <td>21.857925</td>\n",
       "      <td>ENSMUSG00000000266_3</td>\n",
       "      <td>NaN</td>\n",
       "      <td>21.857925</td>\n",
       "      <td>NaN</td>\n",
       "      <td>ENSMUSG00000000266_2</td>\n",
       "      <td>ENSMUSG00000000266_5</td>\n",
       "      <td>-15.846994</td>\n",
       "      <td>-6.010929</td>\n",
       "      <td>6.778117e-09</td>\n",
       "      <td>Mid2</td>\n",
       "      <td>tss</td>\n",
       "      <td>hABKI_Swe_IB_HET</td>\n",
       "      <td>hABKI_Swe_IB_WT</td>\n",
       "    </tr>\n",
       "  </tbody>\n",
       "</table>\n",
       "</div>"
      ],
      "text/plain": [
       "    Unnamed: 0                 gid         p_val        dpi  \\\n",
       "2            2  ENSMUSG00000000093  1.388435e-06  40.845074   \n",
       "3            3  ENSMUSG00000000125  5.169985e-04  48.148148   \n",
       "6            6  ENSMUSG00000000142  1.806651e-09  24.166666   \n",
       "9            9  ENSMUSG00000000215  1.636984e-04  43.478264   \n",
       "13          13  ENSMUSG00000000266  1.591154e-09  21.857925   \n",
       "\n",
       "               pos_iso_1 pos_iso_2  pos_iso_1_dpi  pos_iso_2_dpi  \\\n",
       "2   ENSMUSG00000000093_1       NaN      40.845074            NaN   \n",
       "3   ENSMUSG00000000125_2       NaN      48.148148            NaN   \n",
       "6   ENSMUSG00000000142_3       NaN      24.166666            NaN   \n",
       "9   ENSMUSG00000000215_3       NaN      43.478260            NaN   \n",
       "13  ENSMUSG00000000266_3       NaN      21.857925            NaN   \n",
       "\n",
       "               neg_iso_1             neg_iso_2  neg_iso_1_dpi  neg_iso_2_dpi  \\\n",
       "2   ENSMUSG00000000093_2                   NaN     -40.845070            NaN   \n",
       "3   ENSMUSG00000000125_3                   NaN     -48.148148            NaN   \n",
       "6   ENSMUSG00000000142_1                   NaN     -24.166664            NaN   \n",
       "9   ENSMUSG00000000215_2                   NaN     -43.478264            NaN   \n",
       "13  ENSMUSG00000000266_2  ENSMUSG00000000266_5     -15.846994      -6.010929   \n",
       "\n",
       "       adj_p_val  gname feat             cond1            cond2  \n",
       "2   4.367816e-06   Tbx2  tss  hABKI_Swe_IB_HET  hABKI_Swe_IB_WT  \n",
       "3   1.106542e-03   Wnt3  tss  hABKI_Swe_IB_HET  hABKI_Swe_IB_WT  \n",
       "6   7.653674e-09  Axin2  tss  hABKI_Swe_IB_HET  hABKI_Swe_IB_WT  \n",
       "9   3.840663e-04   Ins2  tss  hABKI_Swe_IB_HET  hABKI_Swe_IB_WT  \n",
       "13  6.778117e-09   Mid2  tss  hABKI_Swe_IB_HET  hABKI_Swe_IB_WT  "
      ]
     },
     "execution_count": 33,
     "metadata": {},
     "output_type": "execute_result"
    }
   ],
   "source": [
    "# filter on pval and dpi\n",
    "adj_p_thresh = 0.05\n",
    "dpi_thresh = 20\n",
    "du_df = du_df.loc[(du_df.adj_p_val<=adj_p_thresh)&(du_df.dpi>=dpi_thresh)]\n",
    "du_df.head()"
   ]
  },
  {
   "cell_type": "code",
   "execution_count": 34,
   "id": "4dcd6095-f320-47b7-9a5d-de49f1864e0f",
   "metadata": {},
   "outputs": [
    {
     "data": {
      "text/html": [
       "<div>\n",
       "<style scoped>\n",
       "    .dataframe tbody tr th:only-of-type {\n",
       "        vertical-align: middle;\n",
       "    }\n",
       "\n",
       "    .dataframe tbody tr th {\n",
       "        vertical-align: top;\n",
       "    }\n",
       "\n",
       "    .dataframe thead th {\n",
       "        text-align: right;\n",
       "    }\n",
       "</style>\n",
       "<table border=\"1\" class=\"dataframe\">\n",
       "  <thead>\n",
       "    <tr style=\"text-align: right;\">\n",
       "      <th></th>\n",
       "      <th>gid</th>\n",
       "    </tr>\n",
       "    <tr>\n",
       "      <th>feat</th>\n",
       "      <th></th>\n",
       "    </tr>\n",
       "  </thead>\n",
       "  <tbody>\n",
       "    <tr>\n",
       "      <th>iso</th>\n",
       "      <td>2642</td>\n",
       "    </tr>\n",
       "    <tr>\n",
       "      <th>tes</th>\n",
       "      <td>1843</td>\n",
       "    </tr>\n",
       "    <tr>\n",
       "      <th>tss</th>\n",
       "      <td>833</td>\n",
       "    </tr>\n",
       "  </tbody>\n",
       "</table>\n",
       "</div>"
      ],
      "text/plain": [
       "       gid\n",
       "feat      \n",
       "iso   2642\n",
       "tes   1843\n",
       "tss    833"
      ]
     },
     "execution_count": 34,
     "metadata": {},
     "output_type": "execute_result"
    }
   ],
   "source": [
    "du_df[['gid', 'feat']].groupby('feat').count()"
   ]
  },
  {
   "cell_type": "code",
   "execution_count": 35,
   "id": "2cd6a5c7-28a0-44e3-99d9-77e7e0acb131",
   "metadata": {},
   "outputs": [
    {
     "data": {
      "text/html": [
       "<div>\n",
       "<style scoped>\n",
       "    .dataframe tbody tr th:only-of-type {\n",
       "        vertical-align: middle;\n",
       "    }\n",
       "\n",
       "    .dataframe tbody tr th {\n",
       "        vertical-align: top;\n",
       "    }\n",
       "\n",
       "    .dataframe thead th {\n",
       "        text-align: right;\n",
       "    }\n",
       "</style>\n",
       "<table border=\"1\" class=\"dataframe\">\n",
       "  <thead>\n",
       "    <tr style=\"text-align: right;\">\n",
       "      <th></th>\n",
       "      <th>Unnamed: 0</th>\n",
       "      <th>gid</th>\n",
       "      <th>p_val</th>\n",
       "      <th>dpi</th>\n",
       "      <th>pos_iso_1</th>\n",
       "      <th>pos_iso_2</th>\n",
       "      <th>pos_iso_1_dpi</th>\n",
       "      <th>pos_iso_2_dpi</th>\n",
       "      <th>neg_iso_1</th>\n",
       "      <th>neg_iso_2</th>\n",
       "      <th>neg_iso_1_dpi</th>\n",
       "      <th>neg_iso_2_dpi</th>\n",
       "      <th>adj_p_val</th>\n",
       "      <th>gname</th>\n",
       "      <th>feat</th>\n",
       "      <th>cond1</th>\n",
       "      <th>cond2</th>\n",
       "    </tr>\n",
       "  </thead>\n",
       "  <tbody>\n",
       "    <tr>\n",
       "      <th>5719</th>\n",
       "      <td>5719</td>\n",
       "      <td>ENSMUSG00000032280</td>\n",
       "      <td>9.182448e-21</td>\n",
       "      <td>100.000006</td>\n",
       "      <td>ENSMUSG00000032280[12,21,5]</td>\n",
       "      <td>ENSMUSG00000032280[12,21,1]</td>\n",
       "      <td>73.015877</td>\n",
       "      <td>26.984129</td>\n",
       "      <td>ENSMUSG00000032280[2,4,5]</td>\n",
       "      <td>ENSMUSG00000032280[1,6,5]</td>\n",
       "      <td>-31.914892</td>\n",
       "      <td>-14.893617</td>\n",
       "      <td>4.185953e-20</td>\n",
       "      <td>Tle3</td>\n",
       "      <td>iso</td>\n",
       "      <td>hABKI_Swe_IB_HET</td>\n",
       "      <td>hABKI_Swe_IB_WT</td>\n",
       "    </tr>\n",
       "    <tr>\n",
       "      <th>4742</th>\n",
       "      <td>4742</td>\n",
       "      <td>ENSMUSG00000029313</td>\n",
       "      <td>2.269842e-14</td>\n",
       "      <td>100.000005</td>\n",
       "      <td>ENSMUSG00000029313[2,8,8]</td>\n",
       "      <td>ENSMUSG00000029313[2,8,5]</td>\n",
       "      <td>62.790699</td>\n",
       "      <td>30.232557</td>\n",
       "      <td>ENSMUSG00000029313[2,8,10]</td>\n",
       "      <td>ENSMUSG00000029313[2,9,9]</td>\n",
       "      <td>-88.888893</td>\n",
       "      <td>-11.111112</td>\n",
       "      <td>7.622302e-14</td>\n",
       "      <td>Aff1</td>\n",
       "      <td>iso</td>\n",
       "      <td>hABKI_Swe_IB_HET</td>\n",
       "      <td>hABKI_Swe_IB_WT</td>\n",
       "    </tr>\n",
       "    <tr>\n",
       "      <th>8897</th>\n",
       "      <td>8897</td>\n",
       "      <td>ENSMUSG00000051029</td>\n",
       "      <td>8.423464e-12</td>\n",
       "      <td>100.000004</td>\n",
       "      <td>ENSMUSG00000051029[2,3,4]</td>\n",
       "      <td>NaN</td>\n",
       "      <td>100.000000</td>\n",
       "      <td>NaN</td>\n",
       "      <td>ENSMUSG00000051029[2,4,1]</td>\n",
       "      <td>ENSMUSG00000051029[2,3,1]</td>\n",
       "      <td>-55.555557</td>\n",
       "      <td>-44.444447</td>\n",
       "      <td>2.413716e-11</td>\n",
       "      <td>Serpinb1b</td>\n",
       "      <td>iso</td>\n",
       "      <td>hABKI_Swe_IB_HET</td>\n",
       "      <td>hABKI_Swe_IB_WT</td>\n",
       "    </tr>\n",
       "    <tr>\n",
       "      <th>7454</th>\n",
       "      <td>7454</td>\n",
       "      <td>ENSMUSG00000039834</td>\n",
       "      <td>5.364245e-39</td>\n",
       "      <td>100.000004</td>\n",
       "      <td>ENSMUSG00000039834[1,6,1]</td>\n",
       "      <td>ENSMUSG00000039834[4,6,1]</td>\n",
       "      <td>50.549454</td>\n",
       "      <td>49.450550</td>\n",
       "      <td>ENSMUSG00000039834[1,6,3]</td>\n",
       "      <td>ENSMUSG00000039834[4,7,1]</td>\n",
       "      <td>-92.222221</td>\n",
       "      <td>-7.777778</td>\n",
       "      <td>4.186998e-38</td>\n",
       "      <td>Zfp335</td>\n",
       "      <td>iso</td>\n",
       "      <td>hABKI_Swe_IB_HET</td>\n",
       "      <td>hABKI_Swe_IB_WT</td>\n",
       "    </tr>\n",
       "    <tr>\n",
       "      <th>9407</th>\n",
       "      <td>9407</td>\n",
       "      <td>ENSMUSG00000056763</td>\n",
       "      <td>3.442477e-14</td>\n",
       "      <td>100.000004</td>\n",
       "      <td>ENSMUSG00000056763[18,7,24]</td>\n",
       "      <td>NaN</td>\n",
       "      <td>100.000000</td>\n",
       "      <td>NaN</td>\n",
       "      <td>ENSMUSG00000056763[2,3,4]</td>\n",
       "      <td>ENSMUSG00000056763[2,3,3]</td>\n",
       "      <td>-55.555557</td>\n",
       "      <td>-44.444447</td>\n",
       "      <td>1.144793e-13</td>\n",
       "      <td>Cspp1</td>\n",
       "      <td>iso</td>\n",
       "      <td>hABKI_Swe_IB_HET</td>\n",
       "      <td>hABKI_Swe_IB_WT</td>\n",
       "    </tr>\n",
       "  </tbody>\n",
       "</table>\n",
       "</div>"
      ],
      "text/plain": [
       "      Unnamed: 0                 gid         p_val         dpi  \\\n",
       "5719        5719  ENSMUSG00000032280  9.182448e-21  100.000006   \n",
       "4742        4742  ENSMUSG00000029313  2.269842e-14  100.000005   \n",
       "8897        8897  ENSMUSG00000051029  8.423464e-12  100.000004   \n",
       "7454        7454  ENSMUSG00000039834  5.364245e-39  100.000004   \n",
       "9407        9407  ENSMUSG00000056763  3.442477e-14  100.000004   \n",
       "\n",
       "                        pos_iso_1                    pos_iso_2  pos_iso_1_dpi  \\\n",
       "5719  ENSMUSG00000032280[12,21,5]  ENSMUSG00000032280[12,21,1]      73.015877   \n",
       "4742    ENSMUSG00000029313[2,8,8]    ENSMUSG00000029313[2,8,5]      62.790699   \n",
       "8897    ENSMUSG00000051029[2,3,4]                          NaN     100.000000   \n",
       "7454    ENSMUSG00000039834[1,6,1]    ENSMUSG00000039834[4,6,1]      50.549454   \n",
       "9407  ENSMUSG00000056763[18,7,24]                          NaN     100.000000   \n",
       "\n",
       "      pos_iso_2_dpi                   neg_iso_1                  neg_iso_2  \\\n",
       "5719      26.984129   ENSMUSG00000032280[2,4,5]  ENSMUSG00000032280[1,6,5]   \n",
       "4742      30.232557  ENSMUSG00000029313[2,8,10]  ENSMUSG00000029313[2,9,9]   \n",
       "8897            NaN   ENSMUSG00000051029[2,4,1]  ENSMUSG00000051029[2,3,1]   \n",
       "7454      49.450550   ENSMUSG00000039834[1,6,3]  ENSMUSG00000039834[4,7,1]   \n",
       "9407            NaN   ENSMUSG00000056763[2,3,4]  ENSMUSG00000056763[2,3,3]   \n",
       "\n",
       "      neg_iso_1_dpi  neg_iso_2_dpi     adj_p_val      gname feat  \\\n",
       "5719     -31.914892     -14.893617  4.185953e-20       Tle3  iso   \n",
       "4742     -88.888893     -11.111112  7.622302e-14       Aff1  iso   \n",
       "8897     -55.555557     -44.444447  2.413716e-11  Serpinb1b  iso   \n",
       "7454     -92.222221      -7.777778  4.186998e-38     Zfp335  iso   \n",
       "9407     -55.555557     -44.444447  1.144793e-13      Cspp1  iso   \n",
       "\n",
       "                 cond1            cond2  \n",
       "5719  hABKI_Swe_IB_HET  hABKI_Swe_IB_WT  \n",
       "4742  hABKI_Swe_IB_HET  hABKI_Swe_IB_WT  \n",
       "8897  hABKI_Swe_IB_HET  hABKI_Swe_IB_WT  \n",
       "7454  hABKI_Swe_IB_HET  hABKI_Swe_IB_WT  \n",
       "9407  hABKI_Swe_IB_HET  hABKI_Swe_IB_WT  "
      ]
     },
     "execution_count": 35,
     "metadata": {},
     "output_type": "execute_result"
    }
   ],
   "source": [
    "du_df = du_df.sort_values(by='dpi', ascending=False)\n",
    "du_df.loc[du_df.feat=='iso'].head()"
   ]
  },
  {
   "cell_type": "code",
   "execution_count": 41,
   "id": "735b363f-c939-4aa3-b24f-16b0a9a3d183",
   "metadata": {},
   "outputs": [],
   "source": [
    "def plot_report(sg, gene):\n",
    "    study = sg.adata.obs.study.tolist()[0]\n",
    "    sg.gen_report(gene,\n",
    "                  f'figures/{gene}_{study}',\n",
    "                  novelty=True,\n",
    "                  cmap='viridis',\n",
    "                  indicate_novel=True,\n",
    "                  transcript_col='tname',\n",
    "                  metadata_cols=['genotype', 'sex', 'tissue', 'age'],\n",
    "                  datasets={'genotype': ['hABKI_Swe_IB_HET', 'hABKI_Swe_IB_WT']})\n",
    "    sg.gen_report(gene,\n",
    "                  f'figures/{gene}_{study}',\n",
    "                  novelty=True,\n",
    "                  cmap='viridis',\n",
    "                  transcript_col='tname',\n",
    "                  display_numbers=True,\n",
    "                  browser=True,\n",
    "                  layer='pi',\n",
    "                  metadata_cols=['genotype', 'sex', 'tissue', 'age'],\n",
    "                  datasets={'genotype': ['hABKI_Swe_IB_HET', 'hABKI_Swe_IB_WT']})"
   ]
  },
  {
   "cell_type": "code",
   "execution_count": 43,
   "id": "4db3e2c8-adce-47b3-a4a6-fdcf7cae1e02",
   "metadata": {},
   "outputs": [
    {
     "name": "stdout",
     "output_type": "stream",
     "text": [
      "\n",
      "Plotting transcripts for ENSMUSG00000032280\n",
      "Saving transcript path graph for ENSMUSG00000032280[12,21,5] as figures/Tle3_ad008_novel_ENSMUSG00000032280[12,21,5]_path.png\n",
      "Saving transcript path graph for ENSMUSG00000032280[12,21,1] as figures/Tle3_ad008_novel_ENSMUSG00000032280[12,21,1]_path.png\n",
      "Saving transcript path graph for ENSMUSG00000032280[2,4,5] as figures/Tle3_ad008_novel_ENSMUSG00000032280[2,4,5]_path.png\n",
      "Saving transcript path graph for ENSMUSG00000032280[4,4,5] as figures/Tle3_ad008_novel_ENSMUSG00000032280[4,4,5]_path.png\n",
      "Saving transcript path graph for ENSMUSG00000032280[2,4,1] as figures/Tle3_ad008_novel_ENSMUSG00000032280[2,4,1]_path.png\n",
      "Saving transcript path graph for ENSMUSG00000032280[1,6,5] as figures/Tle3_ad008_novel_ENSMUSG00000032280[1,6,5]_path.png\n",
      "Saving transcript path graph for ENSMUSG00000032280[2,6,5] as figures/Tle3_ad008_novel_ENSMUSG00000032280[2,6,5]_path.png\n",
      "Saving transcript path graph for ENSMUSG00000032280[2,6,1] as figures/Tle3_ad008_novel_ENSMUSG00000032280[2,6,1]_path.png\n",
      "Generating report for ENSMUSG00000032280\n",
      "\n",
      "Plotting transcripts for ENSMUSG00000032280\n",
      "Saving transcript path graph for ENSMUSG00000032280[12,21,5] as figures/Tle3_ad008_browser_ENSMUSG00000032280[12,21,5]_path.png\n",
      "Saving transcript path graph for ENSMUSG00000032280[12,21,1] as figures/Tle3_ad008_browser_ENSMUSG00000032280[12,21,1]_path.png\n",
      "Saving transcript path graph for ENSMUSG00000032280[2,4,5] as figures/Tle3_ad008_browser_ENSMUSG00000032280[2,4,5]_path.png\n",
      "Saving transcript path graph for ENSMUSG00000032280[4,4,5] as figures/Tle3_ad008_browser_ENSMUSG00000032280[4,4,5]_path.png\n",
      "Saving transcript path graph for ENSMUSG00000032280[2,4,1] as figures/Tle3_ad008_browser_ENSMUSG00000032280[2,4,1]_path.png\n",
      "Saving transcript path graph for ENSMUSG00000032280[1,6,5] as figures/Tle3_ad008_browser_ENSMUSG00000032280[1,6,5]_path.png\n",
      "Saving transcript path graph for ENSMUSG00000032280[2,6,5] as figures/Tle3_ad008_browser_ENSMUSG00000032280[2,6,5]_path.png\n",
      "Saving transcript path graph for ENSMUSG00000032280[2,6,1] as figures/Tle3_ad008_browser_ENSMUSG00000032280[2,6,1]_path.png\n",
      "Generating report for ENSMUSG00000032280\n"
     ]
    }
   ],
   "source": [
    "plot_report(sg, 'Tle3')"
   ]
  },
  {
   "cell_type": "code",
   "execution_count": 44,
   "id": "bb1d3483-a32f-4ea8-809d-22b05ecea7cc",
   "metadata": {},
   "outputs": [
    {
     "name": "stdout",
     "output_type": "stream",
     "text": [
      "\n",
      "Plotting transcripts for ENSMUSG00000051029\n",
      "Saving transcript path graph for ENSMUSG00000051029[2,3,4] as figures/Serpinb1b_ad008_novel_ENSMUSG00000051029[2,3,4]_path.png\n",
      "Saving transcript path graph for ENSMUSG00000051029[2,4,1] as figures/Serpinb1b_ad008_novel_ENSMUSG00000051029[2,4,1]_path.png\n",
      "Saving transcript path graph for ENSMUSG00000051029[2,3,1] as figures/Serpinb1b_ad008_novel_ENSMUSG00000051029[2,3,1]_path.png\n",
      "Generating report for ENSMUSG00000051029\n",
      "\n",
      "Plotting transcripts for ENSMUSG00000051029\n",
      "Saving transcript path graph for ENSMUSG00000051029[2,3,4] as figures/Serpinb1b_ad008_browser_ENSMUSG00000051029[2,3,4]_path.png\n",
      "Saving transcript path graph for ENSMUSG00000051029[2,4,1] as figures/Serpinb1b_ad008_browser_ENSMUSG00000051029[2,4,1]_path.png\n",
      "Saving transcript path graph for ENSMUSG00000051029[2,3,1] as figures/Serpinb1b_ad008_browser_ENSMUSG00000051029[2,3,1]_path.png\n",
      "Generating report for ENSMUSG00000051029\n"
     ]
    }
   ],
   "source": [
    "plot_report(sg, 'Serpinb1b')"
   ]
  },
  {
   "cell_type": "code",
   "execution_count": null,
   "id": "a3fab56b-5a68-4b8e-89a6-91aaee949efc",
   "metadata": {},
   "outputs": [],
   "source": []
  }
 ],
 "metadata": {
  "kernelspec": {
   "display_name": "Python 3",
   "language": "python",
   "name": "python3"
  },
  "language_info": {
   "codemirror_mode": {
    "name": "ipython",
    "version": 3
   },
   "file_extension": ".py",
   "mimetype": "text/x-python",
   "name": "python",
   "nbconvert_exporter": "python",
   "pygments_lexer": "ipython3",
   "version": "3.7.12"
  }
 },
 "nbformat": 4,
 "nbformat_minor": 5
}
