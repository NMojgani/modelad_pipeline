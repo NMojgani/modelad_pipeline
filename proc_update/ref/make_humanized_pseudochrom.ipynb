{
 "cells": [
  {
   "cell_type": "code",
   "execution_count": 1,
   "id": "3a7630f9-ce4a-4179-8fc8-e8d47c3b12b7",
   "metadata": {},
   "outputs": [],
   "source": [
    "import pandas as pd\n",
    "import pdb\n",
    "import numpy as np\n",
    "import itertools\n",
    "from snakemake.io import expand\n",
    "import yaml\n",
    "import os\n",
    "import sys\n",
    "import pyfaidx\n",
    "\n",
    "p = os.path.dirname(os.getcwd())\n",
    "sys.path.append(p)\n",
    "\n",
    "from utils import *\n",
    "from sm_utils import *\n",
    "from humanized_utils import *"
   ]
  },
  {
   "cell_type": "code",
   "execution_count": 2,
   "id": "65901404-066e-4d01-abc3-966b13fda6b3",
   "metadata": {},
   "outputs": [],
   "source": [
    "config_file = '../config.yml'\n",
    "with open(config_file) as f:\n",
    "    config = yaml.safe_load(f)"
   ]
  },
  {
   "cell_type": "markdown",
   "id": "8ed19466-e499-486a-a573-dd4634469270",
   "metadata": {},
   "source": [
    "## 231122 hAPOE pseudochromosome"
   ]
  },
  {
   "cell_type": "code",
   "execution_count": 4,
   "id": "ab4c7893-1b37-440c-91c6-8ff145780361",
   "metadata": {},
   "outputs": [],
   "source": [
    "mouse_fa_file = '../'+expand(config['ref']['fa'])[0]\n",
    "mouse_gtf_file = '../'+expand(config['ref']['gtf'])[0]\n",
    "human_fa_file = '../'+expand(config['human_ref']['fa'])[0]\n",
    "\n",
    "replacement_fa_file = 'pseudochrom/hAPOE4/insert_seq.fa'"
   ]
  },
  {
   "cell_type": "code",
   "execution_count": 25,
   "id": "4545d4ea-0a60-4eaf-9a48-21ce1bfa872e",
   "metadata": {},
   "outputs": [
    {
     "name": "stdout",
     "output_type": "stream",
     "text": [
      "4272\n",
      "ACTGGCCAATCACAGGCAGG\n",
      "atttttgtatttttggtag \n"
     ]
    }
   ],
   "source": [
    "# sequence that will replace \n",
    "replacement_seq = pyfaidx.Fasta(replacement_fa_file)['hAPOE4'][:].seq\n",
    "print(len(replacement_seq))\n",
    "print(replacement_seq[:20])\n",
    "print(replacement_seq[-20:])"
   ]
  },
  {
   "cell_type": "code",
   "execution_count": 7,
   "id": "ee22e4b5-64d8-493b-a311-188bdbf18aaf",
   "metadata": {},
   "outputs": [],
   "source": [
    "# coordinates of deleted mouse stuff (mm10)\n",
    "chrom = 'chr7'\n",
    "start = 19698253\n",
    "stop = 19696380\n",
    "\n",
    "if start > stop:\n",
    "    temp = start\n",
    "    start = stop\n",
    "    stop = temp"
   ]
  },
  {
   "cell_type": "code",
   "execution_count": 8,
   "id": "8d5d00b2-39b0-4026-ade7-cba70c1c341b",
   "metadata": {},
   "outputs": [],
   "source": [
    "fa = pyfaidx.Fasta(mouse_fa_file)\n",
    "seq = fa[chrom][start:stop]\n",
    "# seq.seq"
   ]
  },
  {
   "cell_type": "code",
   "execution_count": 16,
   "id": "2456c13d-29fd-4e86-8ffb-32c55bc72ed3",
   "metadata": {},
   "outputs": [],
   "source": [
    "# sequence in mouse gene to get replaced\n",
    "replaced_seq = str(seq)"
   ]
  },
  {
   "cell_type": "code",
   "execution_count": 10,
   "id": "b8d261b0-90fa-4c13-8b99-7f6c1a4f9f18",
   "metadata": {},
   "outputs": [],
   "source": [
    "# # human stuff -- first verify the strandedness and the coordinates\n",
    "# chrom = 'chr19'\n",
    "# start =  44906622\n",
    "# stop = 44910874\n",
    "# inc_stop = 0\n",
    "# inc_start = -1\n",
    "# complement = True\n",
    "# rev = True\n",
    "\n",
    "# if start > stop:\n",
    "#     temp = start\n",
    "#     start = stop\n",
    "#     stop = temp"
   ]
  },
  {
   "cell_type": "code",
   "execution_count": 11,
   "id": "8b974ad5-f980-427a-85a8-8194f7d60dc6",
   "metadata": {},
   "outputs": [],
   "source": [
    "# fa = pyfaidx.Fasta(human_fa_file)\n",
    "# seq = fa[chrom][start+inc_start:stop+inc_stop]\n",
    "# if complement: \n",
    "#     seq = seq.complement\n",
    "# else: \n",
    "#     seq = seq.seq\n",
    "# if rev:\n",
    "#     seq = seq[::-1]\n",
    "# print(len(seq))"
   ]
  },
  {
   "cell_type": "code",
   "execution_count": 12,
   "id": "69d62285-0e2b-4f59-8943-684c7bc5d386",
   "metadata": {},
   "outputs": [],
   "source": [
    "# seq[:20]\n",
    "# seq[-20:]"
   ]
  },
  {
   "cell_type": "code",
   "execution_count": 5,
   "id": "a534507b-d316-42e4-8a40-9a5525d8f6c2",
   "metadata": {},
   "outputs": [
    {
     "name": "stdout",
     "output_type": "stream",
     "text": [
      "chr7\n",
      "19693108\n",
      "19702188\n",
      "Length of pseudochrom: 9080\n"
     ]
    }
   ],
   "source": [
    "# get mouse Trem2 sequence to jam the new sequence in\n",
    "gene = 'Apoe'\n",
    "gene_seq = get_gene_seq(mouse_fa_file,\n",
    "                   mouse_gtf_file, \n",
    "                   gene,\n",
    "                   ofile = 'gene_fastas/apoe.fa',\n",
    "                   slack=3000,\n",
    "                   complement_rev=False)"
   ]
  },
  {
   "cell_type": "code",
   "execution_count": 20,
   "id": "15816fe2-dea5-427b-9618-8f6b78c67f24",
   "metadata": {},
   "outputs": [],
   "source": [
    "anchor_5 = replaced_seq[:20]\n",
    "anchor_3 = replaced_seq[-20:]"
   ]
  },
  {
   "cell_type": "code",
   "execution_count": 21,
   "id": "0fcdeb10-4b3d-418e-ac87-2b5f079abb99",
   "metadata": {},
   "outputs": [],
   "source": [
    "start_inds = [(m.start(), m.end()) for m in re.finditer(anchor_5, gene_seq, re.IGNORECASE)]\n",
    "assert len(start_inds) == 1"
   ]
  },
  {
   "cell_type": "code",
   "execution_count": 22,
   "id": "36c8fa4d-1200-44a4-9a75-8e6f6e5632d2",
   "metadata": {},
   "outputs": [],
   "source": [
    "end_inds = [(m.start(), m.end()) for m in re.finditer(anchor_3, gene_seq, re.IGNORECASE)]\n",
    "assert len(end_inds) == 1"
   ]
  },
  {
   "cell_type": "code",
   "execution_count": 23,
   "id": "20314457-94eb-4717-b786-23626bcdfab1",
   "metadata": {},
   "outputs": [],
   "source": [
    "assert gene_seq[start_inds[0][0]:start_inds[0][1]].lower() == anchor_5.lower()\n",
    "assert gene_seq[end_inds[0][0]:end_inds[0][1]].lower() == anchor_3.lower()"
   ]
  },
  {
   "cell_type": "code",
   "execution_count": 26,
   "id": "ef965b8f-120b-47f7-abe3-0f9bacaa9c7f",
   "metadata": {},
   "outputs": [
    {
     "name": "stdout",
     "output_type": "stream",
     "text": [
      "T\n",
      "C\n"
     ]
    }
   ],
   "source": [
    "# pieces to stitch together\n",
    "seq_1 = gene_seq[:start_inds[0][0]]\n",
    "print(seq_1[-1])\n",
    "print(replaced_seq[0])\n",
    "\n",
    "seq_2 = replacement_seq\n",
    "seq_3 = gene_seq[end_inds[0][1]:]\n",
    "new_seq = seq_1+seq_2+seq_3"
   ]
  },
  {
   "cell_type": "code",
   "execution_count": 27,
   "id": "f09b0813-e4d5-44a1-904a-bec0f9f47790",
   "metadata": {},
   "outputs": [
    {
     "name": "stdout",
     "output_type": "stream",
     "text": [
      "9080\n",
      "1873\n",
      "4272\n",
      "11479\n"
     ]
    }
   ],
   "source": [
    "print(len(gene_seq))\n",
    "print(len(replaced_seq))\n",
    "print(len(replacement_seq))\n",
    "\n",
    "new_len = len(gene_seq)-len(replaced_seq)+len(replacement_seq)\n",
    "print(new_len)\n",
    "assert new_len == len(new_seq)"
   ]
  },
  {
   "cell_type": "code",
   "execution_count": 29,
   "id": "0da34393-435d-4a0b-ae00-2dc84ede69be",
   "metadata": {},
   "outputs": [],
   "source": [
    "ofile = 'pseudochrom/hAPOE4/ref.fa'\n",
    "chr_name = 'hAPOE4'\n",
    "write_chr(new_seq, ofile, chr_name)"
   ]
  },
  {
   "cell_type": "code",
   "execution_count": null,
   "id": "d855c961-589b-4f6f-a3cd-cd768f15fc57",
   "metadata": {},
   "outputs": [],
   "source": []
  },
  {
   "cell_type": "code",
   "execution_count": null,
   "id": "dd973971-dd99-45f0-ac9a-96e20c153099",
   "metadata": {},
   "outputs": [],
   "source": []
  },
  {
   "cell_type": "code",
   "execution_count": null,
   "id": "022fde76-2a82-414b-985b-3b9a832030d0",
   "metadata": {},
   "outputs": [],
   "source": []
  },
  {
   "cell_type": "code",
   "execution_count": null,
   "id": "dc0448de-046b-40dc-9054-0c12dba16253",
   "metadata": {},
   "outputs": [],
   "source": []
  },
  {
   "cell_type": "code",
   "execution_count": null,
   "id": "b96055fa-38ce-4a15-be05-d7ca99aed30e",
   "metadata": {},
   "outputs": [],
   "source": []
  },
  {
   "cell_type": "code",
   "execution_count": null,
   "id": "153c84e4-f40d-44ac-949d-947f6b3a5c87",
   "metadata": {},
   "outputs": [],
   "source": []
  },
  {
   "cell_type": "code",
   "execution_count": null,
   "id": "808b8fb6-7200-4872-942d-eb675a279371",
   "metadata": {},
   "outputs": [],
   "source": []
  },
  {
   "cell_type": "markdown",
   "id": "052cf59d-7e46-458d-9496-cc4af6a0a04c",
   "metadata": {},
   "source": [
    "## idk"
   ]
  },
  {
   "cell_type": "code",
   "execution_count": 100,
   "id": "f6a77e66-9787-4c87-ad07-c3193670383f",
   "metadata": {},
   "outputs": [],
   "source": [
    "mouse_fa_file = '../'+expand(config['ref']['fa'])[0]\n",
    "mouse_gtf_file = '../'+expand(config['ref']['gtf'])[0]\n",
    "human_fa_file = '../'+expand(config['human_ref']['fa'])[0]\n",
    "\n",
    "replacement_fa_file = 'hTREM2-R47HKI/seq.fa'"
   ]
  },
  {
   "cell_type": "code",
   "execution_count": 11,
   "id": "57e28cb0-ac6b-4dc8-a4ba-47982579ca5b",
   "metadata": {},
   "outputs": [],
   "source": [
    "config_tsv = '../231020_config.tsv'\n",
    "meta_tsv = '../mouse_metadata.tsv'\n",
    "auto_dedupe = True\n",
    "\n",
    "df = parse_config_file(config_tsv,\n",
    "                       meta_tsv,\n",
    "                       auto_dedupe=auto_dedupe,\n",
    "                       include_humanized=True)"
   ]
  },
  {
   "cell_type": "code",
   "execution_count": 21,
   "id": "0c7ed305-d24d-4dfd-bfc8-9049644d9f1d",
   "metadata": {},
   "outputs": [],
   "source": [
    "# gs = [f for f in df.genotype.unique().tolist()]\n",
    "# for g in gs:\n",
    "#     print(g)"
   ]
  },
  {
   "cell_type": "markdown",
   "id": "304751fc-0896-463c-862a-2b0483372274",
   "metadata": {},
   "source": [
    "## hTREM2 pseudochromosome"
   ]
  },
  {
   "cell_type": "code",
   "execution_count": 2,
   "id": "795eada4-38cd-46ec-a89f-7e94b2c405c2",
   "metadata": {},
   "outputs": [],
   "source": [
    "with open('hTREM2-R47HKI/seq.fa', 'r') as f:\n",
    "    for line in f:\n",
    "        if line.startswith('>'):\n",
    "            continue\n",
    "        else:\n",
    "            seq = line.strip()"
   ]
  },
  {
   "cell_type": "code",
   "execution_count": 32,
   "id": "3f87a828-4be5-40cb-ac2a-4b4a9d91082f",
   "metadata": {},
   "outputs": [],
   "source": [
    "# mouse stuff\n",
    "chrom = 'chr17'\n",
    "start = 48346556\n",
    "stop = 48352024\n",
    "\n",
    "if start > stop:\n",
    "    temp = start\n",
    "    start = stop\n",
    "    stop = temp"
   ]
  },
  {
   "cell_type": "code",
   "execution_count": 31,
   "id": "1fbd8ad2-d6d1-453f-ba94-15969fedb4b3",
   "metadata": {},
   "outputs": [],
   "source": [
    "fa = pyfaidx.Fasta(mouse_fa_file)\n",
    "seq = fa[chrom][start:stop]\n",
    "seq.seq"
   ]
  },
  {
   "cell_type": "code",
   "execution_count": 63,
   "id": "a973159e-b7c8-4673-9cfe-96824eca4b86",
   "metadata": {},
   "outputs": [],
   "source": [
    "# human stuff -- first verify the strandedness and the coordinates\n",
    "chrom = 'chr6'\n",
    "start =  41158764\n",
    "stop = 41163082\n",
    "inc_stop = 0\n",
    "inc_start = -1\n",
    "complement = True\n",
    "rev = True\n",
    "\n",
    "if start > stop:\n",
    "    temp = start\n",
    "    start = stop\n",
    "    stop = temp"
   ]
  },
  {
   "cell_type": "code",
   "execution_count": 64,
   "id": "218b68bb-51ac-4dd7-b0b5-4713ab817723",
   "metadata": {},
   "outputs": [
    {
     "name": "stdout",
     "output_type": "stream",
     "text": [
      "4319\n"
     ]
    }
   ],
   "source": [
    "fa = pyfaidx.Fasta(human_fa_file)\n",
    "seq = fa[chrom][start+inc_start:stop+inc_stop]\n",
    "if complement: \n",
    "    seq = seq.complement\n",
    "else: \n",
    "    seq = seq.seq\n",
    "if rev:\n",
    "    seq = seq[::-1]\n",
    "print(len(seq))"
   ]
  },
  {
   "cell_type": "code",
   "execution_count": null,
   "id": "9d9566ff-8262-4e54-9133-35c368e287e3",
   "metadata": {},
   "outputs": [],
   "source": [
    "print(seq[:22])\n",
    "print(seq[-22:])"
   ]
  },
  {
   "cell_type": "code",
   "execution_count": null,
   "id": "7eb671b2-455f-495c-8cae-a46ba30cdfd1",
   "metadata": {},
   "outputs": [],
   "source": [
    "# so this sequence was on the minus strand"
   ]
  },
  {
   "cell_type": "code",
   "execution_count": 87,
   "id": "7c9a7e8a-8899-4378-8856-ba6b66bcf679",
   "metadata": {},
   "outputs": [
    {
     "name": "stdout",
     "output_type": "stream",
     "text": [
      "5469\n"
     ]
    }
   ],
   "source": [
    "# mouse stuff\n",
    "chrom = 'chr17'\n",
    "start = 48346556\n",
    "stop = 48352024\n",
    "inc_stop = 1\n",
    "inc_start = 0\n",
    "complement = False\n",
    "rev = False\n",
    "\n",
    "print(abs(start-stop)+1)\n",
    "\n",
    "if start > stop:\n",
    "    temp = start\n",
    "    start = stop\n",
    "    stop = temp"
   ]
  },
  {
   "cell_type": "code",
   "execution_count": 88,
   "id": "18ef50f3-1bf5-4845-b8e3-ea774502aa2d",
   "metadata": {},
   "outputs": [
    {
     "name": "stdout",
     "output_type": "stream",
     "text": [
      "5469\n"
     ]
    }
   ],
   "source": [
    "fa = pyfaidx.Fasta(mouse_fa_file)\n",
    "seq = fa[chrom][start+inc_start:stop+inc_stop]\n",
    "if complement: \n",
    "    seq = seq.complement\n",
    "else: \n",
    "    seq = seq.seq\n",
    "if rev:\n",
    "    seq = seq[::-1]\n",
    "print(len(seq))"
   ]
  },
  {
   "cell_type": "code",
   "execution_count": 96,
   "id": "f2d8ee64-75ae-40bf-9631-11d167fbafed",
   "metadata": {},
   "outputs": [],
   "source": [
    "# sequence in mouse gene to get replaced\n",
    "replaced_seq = seq"
   ]
  },
  {
   "cell_type": "code",
   "execution_count": 139,
   "id": "b54a07f2-e25e-4bd8-9a77-94991b25c29c",
   "metadata": {},
   "outputs": [],
   "source": [
    "# sequence that will replace \n",
    "replacement_seq = pyfaidx.Fasta(replacement_fa_file)['hTREM2-R47HKI'][:].seq\n",
    "# type(replacement_seq)"
   ]
  },
  {
   "cell_type": "code",
   "execution_count": 86,
   "id": "f5ad84a2-ca48-41bf-8cea-acc9425f92e4",
   "metadata": {},
   "outputs": [
    {
     "name": "stdout",
     "output_type": "stream",
     "text": [
      "chr17\n",
      "48343400\n",
      "48357147\n"
     ]
    }
   ],
   "source": [
    "# get mouse Trem2 sequence to jam the new sequence in\n",
    "gene = 'Trem2'\n",
    "gene_seq = get_gene_seq(mouse_fa_file,\n",
    "                   mouse_gtf_file, \n",
    "                   gene,\n",
    "                   ofile = 'gene_fastas/trem2.fa',\n",
    "                   slack=3000)"
   ]
  },
  {
   "cell_type": "code",
   "execution_count": 89,
   "id": "b569268c-8b27-4e1b-8b42-2b94a00e98cf",
   "metadata": {},
   "outputs": [
    {
     "data": {
      "text/plain": [
       "13747"
      ]
     },
     "execution_count": 89,
     "metadata": {},
     "output_type": "execute_result"
    }
   ],
   "source": [
    "len(gene_seq)"
   ]
  },
  {
   "cell_type": "code",
   "execution_count": 114,
   "id": "e8aa19df-9b9b-4c63-a6cc-f27d80b6cc1e",
   "metadata": {},
   "outputs": [
    {
     "name": "stdout",
     "output_type": "stream",
     "text": [
      "TGGGACCTCT\n",
      "GGTACGTGAG\n"
     ]
    }
   ],
   "source": [
    "print(replaced_seq[:10])\n",
    "print(replaced_seq[-10:])"
   ]
  },
  {
   "cell_type": "code",
   "execution_count": 97,
   "id": "99011a67-7e08-4ce4-8f3a-65b6bc781428",
   "metadata": {},
   "outputs": [],
   "source": [
    "anchor_5 = replaced_seq[:20]\n",
    "anchor_3 = replaced_seq[-20:]"
   ]
  },
  {
   "cell_type": "code",
   "execution_count": 98,
   "id": "40032ce2-0df6-4237-8747-e2065efc0be4",
   "metadata": {},
   "outputs": [],
   "source": [
    "start_inds = [(m.start(), m.end()) for m in re.finditer(anchor_5, gene_seq, re.IGNORECASE)]\n",
    "assert len(start_inds) == 1"
   ]
  },
  {
   "cell_type": "code",
   "execution_count": 99,
   "id": "102f1955-e072-490f-b22b-92972b601f72",
   "metadata": {},
   "outputs": [],
   "source": [
    "end_inds = [(m.start(), m.end()) for m in re.finditer(anchor_3, gene_seq, re.IGNORECASE)]\n",
    "assert len(end_inds) == 1"
   ]
  },
  {
   "cell_type": "code",
   "execution_count": 94,
   "id": "8885d63b-6dbb-4530-aabb-0dedcbee2e8f",
   "metadata": {},
   "outputs": [],
   "source": [
    "assert gene_seq[start_inds[0][0]:start_inds[0][1]].lower() == anchor_5.lower()\n",
    "assert gene_seq[end_inds[0][0]:end_inds[0][1]].lower() == anchor_3.lower()"
   ]
  },
  {
   "cell_type": "code",
   "execution_count": 125,
   "id": "83090db6-9884-40e5-a821-fb219ee24fe9",
   "metadata": {},
   "outputs": [],
   "source": [
    "# assert len(gene_seq[start_inds[0][0]:end_inds[0][1]]) == len(replaced_seq)\n",
    "# temp = gene_seq[start_inds[0][0]:end_inds[0][1]]\n",
    "# assert temp[:10] == replaced_seq[:10]\n",
    "# assert temp[-10:] == replaced_seq[-10:]"
   ]
  },
  {
   "cell_type": "code",
   "execution_count": 126,
   "id": "ffd5792b-2e5e-4169-aa9e-f50cf7c37727",
   "metadata": {},
   "outputs": [],
   "source": [
    "# gene_seq[:start_inds[0][0]+20][-35:]"
   ]
  },
  {
   "cell_type": "code",
   "execution_count": 127,
   "id": "b28e9240-a093-47a4-9f5f-833816b6594a",
   "metadata": {},
   "outputs": [],
   "source": [
    "# replaced_seq[:10]"
   ]
  },
  {
   "cell_type": "code",
   "execution_count": 140,
   "id": "3f7bd7ac-ff19-4fa1-a94e-bdefcdb29c80",
   "metadata": {},
   "outputs": [
    {
     "name": "stdout",
     "output_type": "stream",
     "text": [
      "A\n",
      "T\n"
     ]
    }
   ],
   "source": [
    "# pieces to stitch together\n",
    "seq_1 = gene_seq[:start_inds[0][0]]\n",
    "print(seq_1[-1])\n",
    "print(replaced_seq[0])\n",
    "\n",
    "seq_2 = replacement_seq\n",
    "seq_3 = gene_seq[end_inds[0][1]:]\n",
    "new_seq = seq_1+seq_2+seq_3"
   ]
  },
  {
   "cell_type": "code",
   "execution_count": 141,
   "id": "92a9d3b7-ebeb-4c09-9e62-b0778e652545",
   "metadata": {},
   "outputs": [
    {
     "name": "stdout",
     "output_type": "stream",
     "text": [
      "13747\n",
      "5469\n",
      "4319\n",
      "12597\n"
     ]
    }
   ],
   "source": [
    "print(len(gene_seq))\n",
    "print(len(replaced_seq))\n",
    "print(len(replacement_seq))\n",
    "\n",
    "new_len = len(gene_seq)-len(replaced_seq)+len(replacement_seq)\n",
    "print(new_len)\n",
    "assert new_len == len(new_seq)"
   ]
  },
  {
   "cell_type": "code",
   "execution_count": 142,
   "id": "8d2ac3ba-e849-457e-8c73-2c14091f2857",
   "metadata": {},
   "outputs": [],
   "source": [
    "ofile = 'hTREM2-R47HKI/pseudochrom.fa'\n",
    "chr_name = 'hTREM2-R47HKI'\n",
    "write_chr(new_seq, ofile, chr_name)"
   ]
  },
  {
   "cell_type": "code",
   "execution_count": null,
   "id": "03973832-aa20-4ec8-b2ef-cfd6741b2ee5",
   "metadata": {},
   "outputs": [],
   "source": []
  }
 ],
 "metadata": {
  "kernelspec": {
   "display_name": "Python 3",
   "language": "python",
   "name": "python3"
  },
  "language_info": {
   "codemirror_mode": {
    "name": "ipython",
    "version": 3
   },
   "file_extension": ".py",
   "mimetype": "text/x-python",
   "name": "python",
   "nbconvert_exporter": "python",
   "pygments_lexer": "ipython3",
   "version": "3.7.12"
  }
 },
 "nbformat": 4,
 "nbformat_minor": 5
}
