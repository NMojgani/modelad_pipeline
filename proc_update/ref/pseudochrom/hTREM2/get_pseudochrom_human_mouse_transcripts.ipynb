{
 "cells": [
  {
   "cell_type": "code",
   "execution_count": 6,
   "id": "4f0823ac-b676-4f6e-8052-5f0e750c46a0",
   "metadata": {},
   "outputs": [],
   "source": [
    "import pandas as pd\n",
    "import pdb\n",
    "import numpy as np\n",
    "import itertools\n",
    "from snakemake.io import expand\n",
    "import yaml\n",
    "import os\n",
    "import sys\n",
    "import pyfaidx\n",
    "\n",
    "p = os.path.dirname(os.path.dirname(os.path.dirname(os.getcwd())))\n",
    "sys.path.append(p)\n",
    "\n",
    "\n",
    "from utils import *\n",
    "from humanized_utils import *\n",
    "from sm_utils import *"
   ]
  },
  {
   "cell_type": "code",
   "execution_count": 4,
   "id": "77195fc3-8a67-4804-853f-1696c1087d73",
   "metadata": {},
   "outputs": [],
   "source": [
    "config_file = '../../../ad004/config.yml'\n",
    "with open(config_file) as f:\n",
    "    config = yaml.safe_load(f)"
   ]
  },
  {
   "cell_type": "code",
   "execution_count": 14,
   "id": "6255ec36-3a63-408d-aa9c-227353897505",
   "metadata": {},
   "outputs": [],
   "source": [
    "m_t_fa = '../../../'+config['ref']['t_fa']\n",
    "h_t_fa = '../../../'+config['human_ref']['t_fa']\n",
    "\n",
    "gname = 'TREM2'\n",
    "ofile = f'../../../human_ref/{gname}/{gname}_t.fa'"
   ]
  },
  {
   "cell_type": "code",
   "execution_count": 22,
   "id": "be9132ef-fe10-4c8f-86b6-916e534a7637",
   "metadata": {},
   "outputs": [],
   "source": [
    "def get_gene_t_fastq(fa, \n",
    "                     gene,\n",
    "                     ofile):\n",
    "    \"\"\"\n",
    "    Get the fastq for the reference transcript associated with \n",
    "    \"gene\"\n",
    "    \"\"\"\n",
    "    fa = pyfaidx.Fasta(fa)\n",
    "    t_keys = list(fa.keys())\n",
    "    t_df = pd.DataFrame()\n",
    "    t_df['t_key'] = t_keys\n",
    "    t_keys = t_df.loc[t_df.t_key.str.contains(gene)].t_key.tolist()\n",
    "    \n",
    "    with open(ofile, 'w') as o:\n",
    "        for t in t_keys:\n",
    "            read_name = f'@{t}'\n",
    "            read = fa[t][:].seq\n",
    "            phred = ''.join(['5' for i in range(len(read))])\n",
    "            o.write(read_name+'\\n')\n",
    "            o.write(read+'\\n')\n",
    "            o.write('+\\n')\n",
    "            o.write(phred+'\\n')"
   ]
  },
  {
   "cell_type": "code",
   "execution_count": 24,
   "id": "69ff71bb-31fb-46c9-8a9a-4512d88f333a",
   "metadata": {},
   "outputs": [],
   "source": [
    "get_gene_t_fastq(h_t_fa, \n",
    "                     gname,\n",
    "                     ofile)"
   ]
  },
  {
   "cell_type": "code",
   "execution_count": 7,
   "id": "41b54099-8638-4f26-a30f-247d52bf33e9",
   "metadata": {},
   "outputs": [],
   "source": [
    "fa = pyfaidx.Fasta(h_t_fa)"
   ]
  },
  {
   "cell_type": "code",
   "execution_count": 9,
   "id": "bac31330-3824-4da3-bd39-34773bca8bbb",
   "metadata": {},
   "outputs": [
    {
     "data": {
      "text/plain": [
       "['ENST00000456328.2|ENSG00000223972.5|OTTHUMG00000000961.2|OTTHUMT00000362751.1|DDX11L1-202|DDX11L1|1657|processed_transcript|',\n",
       " 'ENST00000450305.2|ENSG00000223972.5|OTTHUMG00000000961.2|OTTHUMT00000002844.2|DDX11L1-201|DDX11L1|632|transcribed_unprocessed_pseudogene|',\n",
       " 'ENST00000488147.1|ENSG00000227232.5|OTTHUMG00000000958.1|OTTHUMT00000002839.1|WASH7P-201|WASH7P|1351|unprocessed_pseudogene|',\n",
       " 'ENST00000619216.1|ENSG00000278267.1|-|-|MIR6859-1-201|MIR6859-1|68|miRNA|',\n",
       " 'ENST00000473358.1|ENSG00000243485.5|OTTHUMG00000000959.2|OTTHUMT00000002840.1|MIR1302-2HG-202|MIR1302-2HG|712|lincRNA|']"
      ]
     },
     "execution_count": 9,
     "metadata": {},
     "output_type": "execute_result"
    }
   ],
   "source": [
    "list(fa.keys())[:5]"
   ]
  },
  {
   "cell_type": "code",
   "execution_count": 12,
   "id": "d717fcc0-ccef-4477-898c-c2efc4be9b27",
   "metadata": {},
   "outputs": [],
   "source": [
    "t_keys = list(fa.keys())\n",
    "t_df = pd.DataFrame()\n",
    "t_df['t_key'] = t_keys\n",
    "t_keys = t_df.loc[t_df.t_key.str.contains(gname)].t_key.tolist()"
   ]
  },
  {
   "cell_type": "code",
   "execution_count": 21,
   "id": "baf412b9-ee16-47be-9f64-5fb489c12c12",
   "metadata": {},
   "outputs": [],
   "source": [
    "with open(ofile, 'w') as o:\n",
    "    for t in t_keys:\n",
    "        read_name = f'@{t}'\n",
    "        read = fa[t][:].seq\n",
    "        phred = ''.join(['5' for i in range(len(read))])\n",
    "        o.write(read_name+'\\n')\n",
    "        o.write(read+'\\n')\n",
    "        o.write('+\\n')\n",
    "        o.write(phred+'\\n')"
   ]
  },
  {
   "cell_type": "code",
   "execution_count": null,
   "id": "91c634a8-aa7d-4bae-a386-77fdef9c01c3",
   "metadata": {},
   "outputs": [],
   "source": []
  }
 ],
 "metadata": {
  "kernelspec": {
   "display_name": "Python 3",
   "language": "python",
   "name": "python3"
  },
  "language_info": {
   "codemirror_mode": {
    "name": "ipython",
    "version": 3
   },
   "file_extension": ".py",
   "mimetype": "text/x-python",
   "name": "python",
   "nbconvert_exporter": "python",
   "pygments_lexer": "ipython3",
   "version": "3.7.12"
  }
 },
 "nbformat": 4,
 "nbformat_minor": 5
}
