{
 "cells": [
  {
   "cell_type": "code",
   "execution_count": 1,
   "id": "3939da3e-f967-4020-a505-39e032dfc54c",
   "metadata": {},
   "outputs": [],
   "source": [
    "import pyranges as pr\n",
    "import yaml\n"
   ]
  },
  {
   "cell_type": "code",
   "execution_count": 4,
   "id": "de8d5b8b-38b1-43b7-b085-bad1905cb63d",
   "metadata": {},
   "outputs": [],
   "source": [
    "# config_file = s'../ad008/config.yml'\n",
    "config_file = '../../../../config.yml'\n",
    "with open(config_file) as f:\n",
    "    config = yaml.safe_load(f)"
   ]
  },
  {
   "cell_type": "code",
   "execution_count": 12,
   "id": "4c490900-caaa-4268-a71d-b656ae872fe0",
   "metadata": {},
   "outputs": [
    {
     "name": "stdout",
     "output_type": "stream",
     "text": [
      "../../../../human_ref/annot.gtf\n",
      "../../../../ref/annot.gtf\n"
     ]
    }
   ],
   "source": [
    "ofile = 'Clu_talon_reformatted.gtf'\n",
    "ifile = 'Clu_talon_observedOnly.gtf'\n",
    "\n",
    "human_annot = '../../../../'+config['human_ref']['gtf']\n",
    "annot = '../../../../'+config['ref']['gtf']\n",
    "\n",
    "wc = {'mouse_gene': 'Clu'}\n",
    "\n",
    "locus_type = 'human'\n",
    "\n",
    "print(human_annot)\n",
    "print(annot)"
   ]
  },
  {
   "cell_type": "code",
   "execution_count": 19,
   "id": "f0750802-c581-4587-acf3-071679848215",
   "metadata": {},
   "outputs": [],
   "source": [
    "if 'mouse_gene' in list(wc.keys()):\n",
    "        species = 'mouse'\n",
    "        gene = wc['mouse_gene']\n",
    "elif 'human_gene' in list(wc.keys()):\n",
    "    species = 'human'\n",
    "    gene = wc['human_gene']\n",
    "\n",
    "new_gene = f'{species}_{gene}'\n",
    "\n",
    "if gene == 'dummy':\n",
    "    pathlib.Path(ofile).touch()\n",
    "    # return\n",
    "\n",
    "# for whole chrom, extract all GTF entries from the corresponding gene\n",
    "elif locus_type == 'human':\n",
    "    if species == 'human':\n",
    "        gtf_file = human_annot\n",
    "    elif species == 'mouse':\n",
    "        gtf_file = annot\n",
    "    df = pr.read_gtf(gtf_file).df\n",
    "    df = df.loc[df.gene_name == gene]\n",
    "    \n",
    "# for other cases, use the mapped transcript TALON output\n",
    "else:\n",
    "    df = pr.read_gtf(ifile, rename_attr=True).df\n",
    "\n",
    "    keep_cols = ['Chromosome', 'Source', 'Feature', 'Start', 'End', 'Score', 'Strand',\n",
    "       'Frame', 'gene_id', 'gene_name', 'gene_status', 'source_attr',\n",
    "       'transcript_id', 'transcript_status', 'transcript_name', 'exon_number', 'exon_id',\n",
    "       'exon_status']\n",
    "    df = df[keep_cols]\n",
    "\n",
    "    df.loc[df.Feature.isin(['transcript','exon']), 'transcript_status'] = 'KNOWN'\n",
    "    df.loc[df.Feature=='exon', 'exon_status'] = 'KNOWN'\n",
    "    df.gene_status = 'KNOWN'\n",
    "    \n",
    "# assign these models new gene names and write to output\n",
    "df.gene_id = new_gene\n",
    "df.gene_name = new_gene\n",
    "\n",
    "pr.PyRanges(df).to_gtf(ofile)"
   ]
  },
  {
   "cell_type": "code",
   "execution_count": null,
   "id": "ee6bf610-53a7-4d42-abc8-1b873211c7e4",
   "metadata": {},
   "outputs": [],
   "source": []
  },
  {
   "cell_type": "code",
   "execution_count": 16,
   "id": "2980c104-9888-42f0-b1ad-6ced654a5b10",
   "metadata": {},
   "outputs": [
    {
     "name": "stdout",
     "output_type": "stream",
     "text": [
      "1853209\n",
      "108\n"
     ]
    }
   ],
   "source": [
    "print(len(df.index))\n",
    "df = df.loc[df.gene_name==gene]\n",
    "print(len(df.index))"
   ]
  },
  {
   "cell_type": "code",
   "execution_count": null,
   "id": "5d640b65-5d53-4f97-ab0d-3ccb8f614403",
   "metadata": {},
   "outputs": [],
   "source": []
  },
  {
   "cell_type": "code",
   "execution_count": null,
   "id": "f427065a-59c2-4a8a-8293-ea3756adc6c8",
   "metadata": {},
   "outputs": [],
   "source": []
  },
  {
   "cell_type": "code",
   "execution_count": null,
   "id": "13cf4c1b-0c65-4aa9-a0c8-1e0ba3f897f6",
   "metadata": {},
   "outputs": [],
   "source": []
  },
  {
   "cell_type": "code",
   "execution_count": null,
   "id": "c484b558-2f85-4927-9e7b-f1ad1f01caaa",
   "metadata": {},
   "outputs": [],
   "source": []
  },
  {
   "cell_type": "code",
   "execution_count": null,
   "id": "52564a3c-5c96-4612-a30d-933609e1a9c5",
   "metadata": {},
   "outputs": [],
   "source": []
  },
  {
   "cell_type": "code",
   "execution_count": null,
   "id": "e417074b-4532-45de-8175-30e5d85a8ae5",
   "metadata": {},
   "outputs": [],
   "source": []
  },
  {
   "cell_type": "code",
   "execution_count": null,
   "id": "298f18fb-c415-496c-b676-399613d7962f",
   "metadata": {},
   "outputs": [],
   "source": []
  },
  {
   "cell_type": "code",
   "execution_count": null,
   "id": "a1408725-676d-485b-9e41-c34f2056b0fc",
   "metadata": {},
   "outputs": [],
   "source": []
  },
  {
   "cell_type": "code",
   "execution_count": 22,
   "id": "4e62a007-575b-46d7-9657-7fc6a996e890",
   "metadata": {},
   "outputs": [],
   "source": [
    "def refmt_mapped_transcript_gtf(wc, ifile, ofile):\n",
    "    \"\"\"\n",
    "    Format a TALON gtf output from annotated transcripts mapped \n",
    "    onto pseudochromosomes in order to make them appear as known.\n",
    "    \n",
    "    # TODO - support whole chrom\n",
    "    \"\"\"\n",
    "    if 'mouse_gene' in list(wc.keys()):\n",
    "        species = 'mouse'\n",
    "        gene = wc['mouse_gene']\n",
    "    elif 'human_gene' in list(wc.keys()):\n",
    "        species = 'human'\n",
    "        gene = wc['human_gene']\n",
    "    df = pr.read_gtf(ifile, rename_attr=True).df    \n",
    "    \n",
    "    keep_cols = ['Chromosome', 'Source', 'Feature', 'Start', 'End', 'Score', 'Strand',\n",
    "       'Frame', 'gene_id', 'gene_name', 'gene_status', 'source_attr',\n",
    "       'transcript_id', 'transcript_status', 'transcript_name', 'exon_number', 'exon_id',\n",
    "       'exon_status']\n",
    "    df = df[keep_cols]\n",
    "    \n",
    "    df.loc[df.Feature == 'transcript', 'transcript_status'] = 'KNOWN'\n",
    "    df.gene_status = 'KNOWN'\n",
    "    df.gene_id = gname\n",
    "    df.gene_name = gname\n",
    "    \n",
    "    pr.PyRanges(df).to_gtf(ofile)"
   ]
  },
  {
   "cell_type": "code",
   "execution_count": 23,
   "id": "b7009506-927a-48dd-b594-6aa35e5af24e",
   "metadata": {},
   "outputs": [
    {
     "name": "stdout",
     "output_type": "stream",
     "text": [
      "Found attributes with reserved names: ['source'].\n",
      "Renaming attributes with suffix '_attr'\n"
     ]
    }
   ],
   "source": [
    "refmt_mapped_transcript_gtf(wc, ifile, ofile)"
   ]
  },
  {
   "cell_type": "code",
   "execution_count": 11,
   "id": "78569b7b-9b07-425d-b9a8-c79783b8928d",
   "metadata": {},
   "outputs": [
    {
     "name": "stdout",
     "output_type": "stream",
     "text": [
      "Found attributes with reserved names: ['source'].\n",
      "Renaming attributes with suffix '_attr'\n"
     ]
    }
   ],
   "source": [
    "gname = 'hClu'\n",
    "ofile = 'Clu_talon_reformatted.gtf'\n",
    "\n",
    "df = pr.read_gtf('Clu_talon_observedOnly.gtf', rename_attr=True).df"
   ]
  },
  {
   "cell_type": "code",
   "execution_count": 12,
   "id": "5c2efdef-379f-4eee-809e-feacccb2bfe8",
   "metadata": {},
   "outputs": [],
   "source": [
    "# rm_cols = ['NIC_transcript', 'NNC_transcript', 'ISM_transcript',\n",
    "#            'intergenic_transcript', 'antisense_transcript',\n",
    "#             'ISM-prefix_to_IDs',\n",
    "#              'ISM-prefix_transcript',\n",
    "#              'ISM_to_IDs',\n",
    "#              'ISM-suffix_to_IDs',\n",
    "#              'ISM-suffix_transcript',\n",
    "#            'antisense_gene',\n",
    "#     'gene_antisense_to_IDs', 'intergenic_novel', 'fusion_transcript',\n",
    "#            'fusion_novel', 'genomic_transcript']\n",
    "# for c in rm_cols:\n",
    "#     if c in df.columns.tolist():\n",
    "#         df.drop(c, axis=1, inplace=True)\n",
    "keep_cols = ['Chromosome', 'Source', 'Feature', 'Start', 'End', 'Score', 'Strand',\n",
    "       'Frame', 'gene_id', 'gene_name', 'gene_status', 'source_attr',\n",
    "       'transcript_id', 'transcript_status', 'transcript_name', 'exon_number', 'exon_id',\n",
    "       'exon_status']\n",
    "df = df[keep_cols]"
   ]
  },
  {
   "cell_type": "code",
   "execution_count": 13,
   "id": "c5d40deb-2e26-4368-a5b7-aca9b580f88e",
   "metadata": {},
   "outputs": [
    {
     "data": {
      "text/plain": [
       "array(['NOVEL'], dtype=object)"
      ]
     },
     "execution_count": 13,
     "metadata": {},
     "output_type": "execute_result"
    }
   ],
   "source": [
    "df.gene_status.unique()"
   ]
  },
  {
   "cell_type": "code",
   "execution_count": 14,
   "id": "d8f829a0-bc66-42af-bd32-0a91e51f4097",
   "metadata": {},
   "outputs": [
    {
     "data": {
      "text/plain": [
       "array([nan, 'NOVEL'], dtype=object)"
      ]
     },
     "execution_count": 14,
     "metadata": {},
     "output_type": "execute_result"
    }
   ],
   "source": [
    "df.transcript_status.unique()"
   ]
  },
  {
   "cell_type": "code",
   "execution_count": 15,
   "id": "7a966e0f-c404-4ed7-8809-3894d09c6605",
   "metadata": {},
   "outputs": [
    {
     "data": {
      "text/plain": [
       "['Chromosome',\n",
       " 'Source',\n",
       " 'Feature',\n",
       " 'Start',\n",
       " 'End',\n",
       " 'Score',\n",
       " 'Strand',\n",
       " 'Frame',\n",
       " 'gene_id',\n",
       " 'gene_name',\n",
       " 'gene_status',\n",
       " 'source_attr',\n",
       " 'transcript_id',\n",
       " 'transcript_status',\n",
       " 'transcript_name',\n",
       " 'exon_number',\n",
       " 'exon_id',\n",
       " 'exon_status']"
      ]
     },
     "execution_count": 15,
     "metadata": {},
     "output_type": "execute_result"
    }
   ],
   "source": [
    "df.columns.tolist()"
   ]
  },
  {
   "cell_type": "code",
   "execution_count": 16,
   "id": "779e7d52-25f7-4c90-a7fb-2038109fe97b",
   "metadata": {},
   "outputs": [
    {
     "data": {
      "text/html": [
       "<div>\n",
       "<style scoped>\n",
       "    .dataframe tbody tr th:only-of-type {\n",
       "        vertical-align: middle;\n",
       "    }\n",
       "\n",
       "    .dataframe tbody tr th {\n",
       "        vertical-align: top;\n",
       "    }\n",
       "\n",
       "    .dataframe thead th {\n",
       "        text-align: right;\n",
       "    }\n",
       "</style>\n",
       "<table border=\"1\" class=\"dataframe\">\n",
       "  <thead>\n",
       "    <tr style=\"text-align: right;\">\n",
       "      <th></th>\n",
       "      <th>Chromosome</th>\n",
       "      <th>Source</th>\n",
       "      <th>Feature</th>\n",
       "      <th>Start</th>\n",
       "      <th>End</th>\n",
       "      <th>Score</th>\n",
       "      <th>Strand</th>\n",
       "      <th>Frame</th>\n",
       "      <th>gene_id</th>\n",
       "      <th>gene_name</th>\n",
       "      <th>gene_status</th>\n",
       "      <th>source_attr</th>\n",
       "      <th>transcript_id</th>\n",
       "      <th>transcript_status</th>\n",
       "      <th>transcript_name</th>\n",
       "      <th>exon_number</th>\n",
       "      <th>exon_id</th>\n",
       "      <th>exon_status</th>\n",
       "    </tr>\n",
       "  </thead>\n",
       "  <tbody>\n",
       "    <tr>\n",
       "      <th>0</th>\n",
       "      <td>hCLU</td>\n",
       "      <td>TALON</td>\n",
       "      <td>gene</td>\n",
       "      <td>3000</td>\n",
       "      <td>10510</td>\n",
       "      <td>.</td>\n",
       "      <td>+</td>\n",
       "      <td>.</td>\n",
       "      <td>hClu</td>\n",
       "      <td>hClu</td>\n",
       "      <td>KNOWN</td>\n",
       "      <td>TALON</td>\n",
       "      <td>NaN</td>\n",
       "      <td>NaN</td>\n",
       "      <td>NaN</td>\n",
       "      <td>NaN</td>\n",
       "      <td>NaN</td>\n",
       "      <td>NaN</td>\n",
       "    </tr>\n",
       "    <tr>\n",
       "      <th>1</th>\n",
       "      <td>hCLU</td>\n",
       "      <td>TALON</td>\n",
       "      <td>transcript</td>\n",
       "      <td>3000</td>\n",
       "      <td>15595</td>\n",
       "      <td>.</td>\n",
       "      <td>+</td>\n",
       "      <td>.</td>\n",
       "      <td>hClu</td>\n",
       "      <td>hClu</td>\n",
       "      <td>KNOWN</td>\n",
       "      <td>NaN</td>\n",
       "      <td>TALONT000141863</td>\n",
       "      <td>KNOWN</td>\n",
       "      <td>TALONT000141863</td>\n",
       "      <td>NaN</td>\n",
       "      <td>NaN</td>\n",
       "      <td>NaN</td>\n",
       "    </tr>\n",
       "    <tr>\n",
       "      <th>2</th>\n",
       "      <td>hCLU</td>\n",
       "      <td>TALON</td>\n",
       "      <td>exon</td>\n",
       "      <td>3000</td>\n",
       "      <td>3206</td>\n",
       "      <td>.</td>\n",
       "      <td>+</td>\n",
       "      <td>.</td>\n",
       "      <td>hClu</td>\n",
       "      <td>hClu</td>\n",
       "      <td>KNOWN</td>\n",
       "      <td>NaN</td>\n",
       "      <td>TALONT000141863</td>\n",
       "      <td>NOVEL</td>\n",
       "      <td>TALONT000141863</td>\n",
       "      <td>1</td>\n",
       "      <td>730959</td>\n",
       "      <td>NOVEL</td>\n",
       "    </tr>\n",
       "    <tr>\n",
       "      <th>3</th>\n",
       "      <td>hCLU</td>\n",
       "      <td>TALON</td>\n",
       "      <td>exon</td>\n",
       "      <td>6249</td>\n",
       "      <td>6370</td>\n",
       "      <td>.</td>\n",
       "      <td>+</td>\n",
       "      <td>.</td>\n",
       "      <td>hClu</td>\n",
       "      <td>hClu</td>\n",
       "      <td>KNOWN</td>\n",
       "      <td>NaN</td>\n",
       "      <td>TALONT000141863</td>\n",
       "      <td>NOVEL</td>\n",
       "      <td>TALONT000141863</td>\n",
       "      <td>2</td>\n",
       "      <td>730947</td>\n",
       "      <td>NOVEL</td>\n",
       "    </tr>\n",
       "    <tr>\n",
       "      <th>4</th>\n",
       "      <td>hCLU</td>\n",
       "      <td>TALON</td>\n",
       "      <td>exon</td>\n",
       "      <td>7842</td>\n",
       "      <td>7991</td>\n",
       "      <td>.</td>\n",
       "      <td>+</td>\n",
       "      <td>.</td>\n",
       "      <td>hClu</td>\n",
       "      <td>hClu</td>\n",
       "      <td>KNOWN</td>\n",
       "      <td>NaN</td>\n",
       "      <td>TALONT000141863</td>\n",
       "      <td>NOVEL</td>\n",
       "      <td>TALONT000141863</td>\n",
       "      <td>3</td>\n",
       "      <td>730949</td>\n",
       "      <td>NOVEL</td>\n",
       "    </tr>\n",
       "  </tbody>\n",
       "</table>\n",
       "</div>"
      ],
      "text/plain": [
       "  Chromosome Source     Feature  Start    End Score Strand Frame gene_id  \\\n",
       "0       hCLU  TALON        gene   3000  10510     .      +     .    hClu   \n",
       "1       hCLU  TALON  transcript   3000  15595     .      +     .    hClu   \n",
       "2       hCLU  TALON        exon   3000   3206     .      +     .    hClu   \n",
       "3       hCLU  TALON        exon   6249   6370     .      +     .    hClu   \n",
       "4       hCLU  TALON        exon   7842   7991     .      +     .    hClu   \n",
       "\n",
       "  gene_name gene_status source_attr    transcript_id transcript_status  \\\n",
       "0      hClu       KNOWN       TALON              NaN               NaN   \n",
       "1      hClu       KNOWN         NaN  TALONT000141863             KNOWN   \n",
       "2      hClu       KNOWN         NaN  TALONT000141863             NOVEL   \n",
       "3      hClu       KNOWN         NaN  TALONT000141863             NOVEL   \n",
       "4      hClu       KNOWN         NaN  TALONT000141863             NOVEL   \n",
       "\n",
       "   transcript_name exon_number exon_id exon_status  \n",
       "0              NaN         NaN     NaN         NaN  \n",
       "1  TALONT000141863         NaN     NaN         NaN  \n",
       "2  TALONT000141863           1  730959       NOVEL  \n",
       "3  TALONT000141863           2  730947       NOVEL  \n",
       "4  TALONT000141863           3  730949       NOVEL  "
      ]
     },
     "execution_count": 16,
     "metadata": {},
     "output_type": "execute_result"
    }
   ],
   "source": [
    "df.loc[df.Feature == 'transcript', 'transcript_status'] = 'KNOWN'\n",
    "df.gene_status = 'KNOWN'\n",
    "df.gene_id = gname\n",
    "df.gene_name = gname\n",
    "df.head()"
   ]
  },
  {
   "cell_type": "code",
   "execution_count": 17,
   "id": "d02cf0da-71f1-40e1-84b3-add89be40431",
   "metadata": {},
   "outputs": [],
   "source": [
    "pr.PyRanges(df).to_gtf(ofile)"
   ]
  },
  {
   "cell_type": "code",
   "execution_count": 9,
   "id": "9c032b74-fd8f-40ec-925b-c920ea4f65c1",
   "metadata": {},
   "outputs": [],
   "source": [
    "# talon_initialize_database \\\n",
    "#     \t\t--f Clu_talon_reformatted.gtf \\\n",
    "#     \t\t--g test \\\n",
    "#     \t\t--a test \\\n",
    "#     \t\t--l 0 \\\n",
    "#     \t\t--idprefix TALON \\\n",
    "#     \t\t--5p 500 \\\n",
    "#     \t\t--3p 300 \\\n",
    "#     \t\t--o test"
   ]
  },
  {
   "cell_type": "code",
   "execution_count": 10,
   "id": "8e0b06d0-2201-4d30-bf02-6173bac6c7ff",
   "metadata": {},
   "outputs": [
    {
     "data": {
      "text/plain": [
       "Index(['Chromosome', 'Source', 'Feature', 'Start', 'End', 'Score', 'Strand',\n",
       "       'Frame', 'gene_id', 'gene_name', 'gene_status', 'source_attr',\n",
       "       'talon_gene', 'transcript_id', 'transcript_status', 'transcript_name',\n",
       "       'talon_transcript', 'exon_number', 'exon_id', 'talon_exon',\n",
       "       'exon_status'],\n",
       "      dtype='object')"
      ]
     },
     "execution_count": 10,
     "metadata": {},
     "output_type": "execute_result"
    }
   ],
   "source": [
    "df.columns"
   ]
  },
  {
   "cell_type": "code",
   "execution_count": null,
   "id": "cc8020d5-bf62-42e5-ab29-d524858f4dc7",
   "metadata": {},
   "outputs": [],
   "source": [
    "keep_cols = ['Chromosome', 'Source', 'Feature', 'Start', 'End', 'Score', 'Strand',\n",
    "       'Frame', 'gene_id', 'gene_name', 'gene_status', 'source_attr',\n",
    "       'transcript_id', 'transcript_status', 'transcript_name', 'exon_number', 'exon_id',\n",
    "       'exon_status']"
   ]
  }
 ],
 "metadata": {
  "kernelspec": {
   "display_name": "Python 3",
   "language": "python",
   "name": "python3"
  },
  "language_info": {
   "codemirror_mode": {
    "name": "ipython",
    "version": 3
   },
   "file_extension": ".py",
   "mimetype": "text/x-python",
   "name": "python",
   "nbconvert_exporter": "python",
   "pygments_lexer": "ipython3",
   "version": "3.7.12"
  }
 },
 "nbformat": 4,
 "nbformat_minor": 5
}
