{
 "cells": [
  {
   "cell_type": "code",
   "execution_count": 2,
   "id": "90ac027c-b92d-4700-9ba0-9c2fea3d74b8",
   "metadata": {},
   "outputs": [],
   "source": [
    "import pandas as pd\n",
    "import pdb\n",
    "import numpy as np\n",
    "import itertools\n",
    "from snakemake.io import expand\n",
    "import yaml\n",
    "import os\n",
    "import sys\n",
    "\n",
    "p = os.path.dirname(os.getcwd())\n",
    "sys.path.append(p)\n",
    "\n",
    "\n",
    "from utils import *\n",
    "from humanized_utils import *\n",
    "from sm_utils import *"
   ]
  },
  {
   "cell_type": "code",
   "execution_count": 3,
   "id": "9f3f78d3-9281-480a-8e1c-52b975b7ca34",
   "metadata": {},
   "outputs": [],
   "source": [
    "# config_file = s'../ad008/config.yml'\n",
    "config_file = '../config.yml'\n",
    "with open(config_file) as f:\n",
    "    config = yaml.safe_load(f)"
   ]
  },
  {
   "cell_type": "markdown",
   "id": "0cd7ab4a-af82-4c69-8c1a-79327fdb8ace",
   "metadata": {},
   "source": [
    "## 231106 get human / mouse gtfs from mapped transcripts"
   ]
  },
  {
   "cell_type": "code",
   "execution_count": 6,
   "id": "256d3570-de60-4f35-829d-d5e621cd087c",
   "metadata": {},
   "outputs": [],
   "source": [
    "config_tsv = '../231102_config_ad003.tsv'\n",
    "# config_tsv = '231102_config_ad003_local.tsv'\n",
    "\n",
    "\n",
    "p_meta_tsv = '../pseudochromosome_metadata.tsv'\n",
    "meta_tsv = '../mouse_metadata.tsv'\n",
    "auto_dedupe = True\n",
    "\n",
    "df, p_df = parse_config_file(config_tsv,\n",
    "                       meta_tsv,\n",
    "                       p_meta_tsv,\n",
    "                       auto_dedupe=auto_dedupe)"
   ]
  },
  {
   "cell_type": "code",
   "execution_count": null,
   "id": "07f3c007-a186-42a2-9cff-cede7141023e",
   "metadata": {},
   "outputs": [
    {
     "data": {
      "text/plain": [
       "array(['5xCLU-h2kbKI_HO', '5xFADHEMI', '5xFADWT', 'CLU-h2kbKI_HO'],\n",
       "      dtype=object)"
      ]
     },
     "execution_count": 7,
     "metadata": {},
     "output_type": "execute_result"
    }
   ],
   "source": [
    "df.genotype.unique()"
   ]
  },
  {
   "cell_type": "code",
   "execution_count": 8,
   "id": "95cd7ebe-0a14-40b4-89e4-89b4000cdb73",
   "metadata": {},
   "outputs": [],
   "source": [
    "wc = {'genotype': '5xCLU-h2kbKI_HO'}"
   ]
  },
  {
   "cell_type": "code",
   "execution_count": 12,
   "id": "ba9b8f4c-9410-4c20-b963-2e683cb11041",
   "metadata": {},
   "outputs": [
    {
     "data": {
      "text/plain": [
       "['human_ref/pseudochrom/hCLU/CLU/CLU_fmt.gtf',\n",
       " 'ref/pseudochrom/hCLU/Clu/Clu_fmt.gtf']"
      ]
     },
     "execution_count": 12,
     "metadata": {},
     "output_type": "execute_result"
    }
   ],
   "source": [
    "get_cfg_entries(wc,\n",
    "                p_df,\n",
    "                config['ref']['pseudochrom']['human_gene']['fmt_gtf'])+\\\n",
    " get_cfg_entries(wc,\n",
    "                 p_df,\n",
    "                 config['ref']['pseudochrom']['gene']['fmt_gtf'])"
   ]
  },
  {
   "cell_type": "code",
   "execution_count": 11,
   "id": "fca17f5b-2e2d-4552-b6d9-963d43a6430a",
   "metadata": {},
   "outputs": [
    {
     "data": {
      "text/plain": [
       "['ref/pseudochrom/hCLU/Clu/Clu_fmt.gtf']"
      ]
     },
     "execution_count": 11,
     "metadata": {},
     "output_type": "execute_result"
    }
   ],
   "source": [
    " get_cfg_entries(wc,\n",
    "                 p_df,\n",
    "                 config['ref']['pseudochrom']['gene']['fmt_gtf'])"
   ]
  },
  {
   "cell_type": "code",
   "execution_count": null,
   "id": "66ec4e86-56c0-4bb7-bb59-0fb028361dbc",
   "metadata": {},
   "outputs": [],
   "source": [
    "# lambda wc: get_cfg_entries(wc,\n",
    "# #                                            p_df,\n",
    "# #                                            config['ref']['pseudochrom']['human_gene']['fmt_gtf'])+\\\n",
    "# # lambda wc: get_cfg_entries(wc,\n",
    "# #                                            p_df,\n",
    "# #                                            config['ref']['pseudochrom']['gene']['fmt_gtf'])"
   ]
  },
  {
   "cell_type": "code",
   "execution_count": null,
   "id": "a3cf17fa-8df6-4ad3-aa3f-8efa5bb1c21f",
   "metadata": {},
   "outputs": [],
   "source": []
  },
  {
   "cell_type": "code",
   "execution_count": null,
   "id": "80919843-081a-446d-89eb-979d7eef219a",
   "metadata": {},
   "outputs": [],
   "source": []
  },
  {
   "cell_type": "code",
   "execution_count": null,
   "id": "cbc8214b-4b81-43ac-9a00-146b69fcb0d2",
   "metadata": {},
   "outputs": [],
   "source": []
  },
  {
   "cell_type": "code",
   "execution_count": null,
   "id": "060e9450-a205-40cd-8fba-8dab92303cb3",
   "metadata": {},
   "outputs": [],
   "source": []
  },
  {
   "cell_type": "code",
   "execution_count": null,
   "id": "8a5af7a9-4bf6-4d39-8bb3-33d614336f4f",
   "metadata": {},
   "outputs": [],
   "source": []
  },
  {
   "cell_type": "code",
   "execution_count": null,
   "id": "45366efb-1b99-4dba-a860-6a7ba82dfd15",
   "metadata": {},
   "outputs": [],
   "source": []
  },
  {
   "cell_type": "code",
   "execution_count": null,
   "id": "c873b423-10db-4d7f-8c27-7568532f3aba",
   "metadata": {},
   "outputs": [],
   "source": []
  },
  {
   "cell_type": "code",
   "execution_count": 3,
   "id": "4b6adc14-63c2-4d88-8ea1-d59228eca4b8",
   "metadata": {},
   "outputs": [],
   "source": [
    "# config_tsv = '../ad008/231027_config.tsv'\n",
    "# meta_tsv = '../mouse_metadata.tsv'\n",
    "# auto_dedupe = True\n",
    "\n",
    "# df = parse_config_file(config_tsv,\n",
    "#                        meta_tsv,\n",
    "#                        auto_dedupe=auto_dedupe,\n",
    "#                        include_pseudochrom=True)\n",
    "# end_modes = ['tss', 'tes']\n",
    "# strands = ['fwd', 'rev']\n",
    "\n",
    "# # TODO - get rid of this at some point\n",
    "# temp_study_pass_list = ['ad008']\n",
    "# df = df.loc[df.study.isin(temp_study_pass_list)]\n",
    "# pseudochrom = 'hMAPT'"
   ]
  },
  {
   "cell_type": "markdown",
   "id": "6fe0eb0d-d9be-4c41-904c-d44a4ca3289f",
   "metadata": {},
   "source": [
    "## 231103"
   ]
  },
  {
   "cell_type": "code",
   "execution_count": null,
   "id": "3bcfa282-53ae-4e47-b8e6-ca2ed55c1250",
   "metadata": {},
   "outputs": [
    {
     "name": "stdout",
     "output_type": "stream",
     "text": [
      "> \u001b[0;32m/Users/fairliereese/Documents/programming/mortazavi_lab/bin/modelad_pipeline/proc_update/humanized_utils.py\u001b[0m(22)\u001b[0;36mget_gene_t_fastq\u001b[0;34m()\u001b[0m\n",
      "\u001b[0;32m     20 \u001b[0;31m    \u001b[0mgene_str\u001b[0m \u001b[0;34m=\u001b[0m \u001b[0;34mf'|{gene}|'\u001b[0m\u001b[0;34m\u001b[0m\u001b[0;34m\u001b[0m\u001b[0m\n",
      "\u001b[0m\u001b[0;32m     21 \u001b[0;31m    \u001b[0;32mimport\u001b[0m \u001b[0mpdb\u001b[0m\u001b[0;34m;\u001b[0m \u001b[0mpdb\u001b[0m\u001b[0;34m.\u001b[0m\u001b[0mset_trace\u001b[0m\u001b[0;34m(\u001b[0m\u001b[0;34m)\u001b[0m\u001b[0;34m\u001b[0m\u001b[0;34m\u001b[0m\u001b[0m\n",
      "\u001b[0m\u001b[0;32m---> 22 \u001b[0;31m    \u001b[0mt_keys\u001b[0m \u001b[0;34m=\u001b[0m \u001b[0mt_df\u001b[0m\u001b[0;34m.\u001b[0m\u001b[0mloc\u001b[0m\u001b[0;34m[\u001b[0m\u001b[0mt_df\u001b[0m\u001b[0;34m.\u001b[0m\u001b[0mt_key\u001b[0m\u001b[0;34m.\u001b[0m\u001b[0mstr\u001b[0m\u001b[0;34m.\u001b[0m\u001b[0mcontains\u001b[0m\u001b[0;34m(\u001b[0m\u001b[0mgene_str\u001b[0m\u001b[0;34m)\u001b[0m\u001b[0;34m]\u001b[0m\u001b[0;34m.\u001b[0m\u001b[0mt_key\u001b[0m\u001b[0;34m.\u001b[0m\u001b[0mtolist\u001b[0m\u001b[0;34m(\u001b[0m\u001b[0;34m)\u001b[0m\u001b[0;34m\u001b[0m\u001b[0;34m\u001b[0m\u001b[0m\n",
      "\u001b[0m\u001b[0;32m     23 \u001b[0;31m\u001b[0;34m\u001b[0m\u001b[0m\n",
      "\u001b[0m\u001b[0;32m     24 \u001b[0;31m    \u001b[0;32mif\u001b[0m \u001b[0mlen\u001b[0m\u001b[0;34m(\u001b[0m\u001b[0mt_keys\u001b[0m\u001b[0;34m)\u001b[0m \u001b[0;34m==\u001b[0m \u001b[0;36m0\u001b[0m\u001b[0;34m:\u001b[0m\u001b[0;34m\u001b[0m\u001b[0;34m\u001b[0m\u001b[0m\n",
      "\u001b[0m\n"
     ]
    },
    {
     "name": "stdin",
     "output_type": "stream",
     "text": [
      "ipdb>  t_keys\n"
     ]
    },
    {
     "name": "stderr",
     "output_type": "stream",
     "text": [
      "IOPub data rate exceeded.\n",
      "The Jupyter server will temporarily stop sending output\n",
      "to the client in order to avoid crashing it.\n",
      "To change this limit, set the config variable\n",
      "`--ServerApp.iopub_data_rate_limit`.\n",
      "\n",
      "Current values:\n",
      "ServerApp.iopub_data_rate_limit=1000000.0 (bytes/sec)\n",
      "ServerApp.rate_limit_window=3.0 (secs)\n",
      "\n"
     ]
    },
    {
     "name": "stdin",
     "output_type": "stream",
     "text": [
      "ipdb>  gene_str\n"
     ]
    },
    {
     "name": "stdout",
     "output_type": "stream",
     "text": [
      "'|Clu|'\n"
     ]
    },
    {
     "name": "stdin",
     "output_type": "stream",
     "text": [
      "ipdb>  len(t_keys)\n"
     ]
    },
    {
     "name": "stdout",
     "output_type": "stream",
     "text": [
      "141767\n"
     ]
    },
    {
     "name": "stdin",
     "output_type": "stream",
     "text": [
      "ipdb>  len(t_df.index)\n"
     ]
    },
    {
     "name": "stdout",
     "output_type": "stream",
     "text": [
      "141767\n"
     ]
    },
    {
     "name": "stdin",
     "output_type": "stream",
     "text": [
      "ipdb>  t_df.head()\n"
     ]
    },
    {
     "name": "stdout",
     "output_type": "stream",
     "text": [
      "                                               t_key\n",
      "0  ENSMUST00000193812.1|ENSMUSG00000102693.1|OTTM...\n",
      "1  ENSMUST00000082908.1|ENSMUSG00000064842.1|-|-|...\n",
      "2  ENSMUST00000162897.1|ENSMUSG00000051951.5|OTTM...\n",
      "3  ENSMUST00000159265.1|ENSMUSG00000051951.5|OTTM...\n",
      "4  ENSMUST00000070533.4|ENSMUSG00000051951.5|OTTM...\n"
     ]
    },
    {
     "name": "stdin",
     "output_type": "stream",
     "text": [
      "ipdb>  t_df.loc[t_df.t_key.str.contains(gene_str)].head()\n"
     ]
    },
    {
     "name": "stdout",
     "output_type": "stream",
     "text": [
      "                                               t_key\n",
      "0  ENSMUST00000193812.1|ENSMUSG00000102693.1|OTTM...\n",
      "1  ENSMUST00000082908.1|ENSMUSG00000064842.1|-|-|...\n",
      "2  ENSMUST00000162897.1|ENSMUSG00000051951.5|OTTM...\n",
      "3  ENSMUST00000159265.1|ENSMUSG00000051951.5|OTTM...\n",
      "4  ENSMUST00000070533.4|ENSMUSG00000051951.5|OTTM...\n"
     ]
    },
    {
     "name": "stdin",
     "output_type": "stream",
     "text": [
      "ipdb>  gene_str = f'\\|{gene_str}\\|'\n",
      "ipdb>  t_df.loc[t_df.t_key.str.contains(gene_str)].head()\n"
     ]
    },
    {
     "name": "stdout",
     "output_type": "stream",
     "text": [
      "                                               t_key\n",
      "0  ENSMUST00000193812.1|ENSMUSG00000102693.1|OTTM...\n",
      "1  ENSMUST00000082908.1|ENSMUSG00000064842.1|-|-|...\n",
      "2  ENSMUST00000162897.1|ENSMUSG00000051951.5|OTTM...\n",
      "3  ENSMUST00000159265.1|ENSMUSG00000051951.5|OTTM...\n",
      "4  ENSMUST00000070533.4|ENSMUSG00000051951.5|OTTM...\n"
     ]
    },
    {
     "name": "stdin",
     "output_type": "stream",
     "text": [
      "ipdb>  keys = [t for t in t_keys if gene_str in t]\n"
     ]
    },
    {
     "name": "stdout",
     "output_type": "stream",
     "text": [
      "*** NameError: name 'gene_str' is not defined\n"
     ]
    },
    {
     "name": "stdin",
     "output_type": "stream",
     "text": [
      "ipdb>  gene_str\n"
     ]
    },
    {
     "name": "stdout",
     "output_type": "stream",
     "text": [
      "'\\\\||Clu|\\\\|'\n"
     ]
    },
    {
     "name": "stdin",
     "output_type": "stream",
     "text": [
      "ipdb>  gene_str = f'|{gene}|'\n",
      "ipdb>  keys = [t for t in t_keys if gene_str in t]\n"
     ]
    },
    {
     "name": "stdout",
     "output_type": "stream",
     "text": [
      "*** NameError: name 'gene_str' is not defined\n"
     ]
    },
    {
     "name": "stdin",
     "output_type": "stream",
     "text": [
      "ipdb>  interact\n"
     ]
    },
    {
     "name": "stderr",
     "output_type": "stream",
     "text": [
      "*interactive*\n"
     ]
    },
    {
     "name": "stdin",
     "output_type": "stream",
     "text": [
      "In :  keys = [t for t in t_keys if gene_str in t]\n",
      "In :  len(keys)\n"
     ]
    },
    {
     "data": {
      "text/plain": [
       "9"
      ]
     },
     "execution_count": 4,
     "metadata": {},
     "output_type": "execute_result"
    },
    {
     "name": "stdin",
     "output_type": "stream",
     "text": [
      "In :  keys\n"
     ]
    },
    {
     "data": {
      "text/plain": [
       "['ENSMUST00000022616.13|ENSMUSG00000022037.15|OTTMUSG00000032654.7|OTTMUST00000081231.3|Clu-201|Clu|1810|protein_coding|',\n",
       " 'ENSMUST00000138665.1|ENSMUSG00000022037.15|OTTMUSG00000032654.7|OTTMUST00000081417.1|Clu-205|Clu|558|nonsense_mediated_decay|',\n",
       " 'ENSMUST00000146990.1|ENSMUSG00000022037.15|OTTMUSG00000032654.7|OTTMUST00000081418.1|Clu-207|Clu|841|retained_intron|',\n",
       " 'ENSMUST00000153460.7|ENSMUSG00000022037.15|OTTMUSG00000032654.7|OTTMUST00000081398.3|Clu-209|Clu|1004|protein_coding|',\n",
       " 'ENSMUST00000127387.7|ENSMUSG00000022037.15|OTTMUSG00000032654.7|OTTMUST00000081399.2|Clu-202|Clu|811|protein_coding|',\n",
       " 'ENSMUST00000138191.7|ENSMUSG00000022037.15|OTTMUSG00000032654.7|OTTMUST00000081400.3|Clu-204|Clu|844|protein_coding|',\n",
       " 'ENSMUST00000128539.7|ENSMUSG00000022037.15|OTTMUSG00000032654.7|OTTMUST00000081401.2|Clu-203|Clu|756|protein_coding|',\n",
       " 'ENSMUST00000144619.1|ENSMUSG00000022037.15|OTTMUSG00000032654.7|OTTMUST00000081406.3|Clu-206|Clu|632|protein_coding|',\n",
       " 'ENSMUST00000152903.1|ENSMUSG00000022037.15|OTTMUSG00000032654.7|OTTMUST00000081419.1|Clu-208|Clu|739|retained_intron|']"
      ]
     },
     "execution_count": 4,
     "metadata": {},
     "output_type": "execute_result"
    },
    {
     "name": "stdin",
     "output_type": "stream",
     "text": [
      "In :  q\n"
     ]
    },
    {
     "ename": "NameError",
     "evalue": "name 'q' is not defined",
     "output_type": "error",
     "traceback": [
      "\u001b[0;31m---------------------------------------------------------------------------\u001b[0m",
      "\u001b[0;31mNameError\u001b[0m                                 Traceback (most recent call last)",
      "\u001b[0;32m~/miniconda3/envs/base_clone/lib/python3.7/code.py\u001b[0m in \u001b[0;36mruncode\u001b[0;34m(self, code)\u001b[0m\n\u001b[1;32m     88\u001b[0m         \"\"\"\n\u001b[1;32m     89\u001b[0m         \u001b[0;32mtry\u001b[0m\u001b[0;34m:\u001b[0m\u001b[0;34m\u001b[0m\u001b[0;34m\u001b[0m\u001b[0m\n\u001b[0;32m---> 90\u001b[0;31m             \u001b[0mexec\u001b[0m\u001b[0;34m(\u001b[0m\u001b[0mcode\u001b[0m\u001b[0;34m,\u001b[0m \u001b[0mself\u001b[0m\u001b[0;34m.\u001b[0m\u001b[0mlocals\u001b[0m\u001b[0;34m)\u001b[0m\u001b[0;34m\u001b[0m\u001b[0;34m\u001b[0m\u001b[0m\n\u001b[0m\u001b[1;32m     91\u001b[0m         \u001b[0;32mexcept\u001b[0m \u001b[0mSystemExit\u001b[0m\u001b[0;34m:\u001b[0m\u001b[0;34m\u001b[0m\u001b[0;34m\u001b[0m\u001b[0m\n\u001b[1;32m     92\u001b[0m             \u001b[0;32mraise\u001b[0m\u001b[0;34m\u001b[0m\u001b[0;34m\u001b[0m\u001b[0m\n",
      "\u001b[0;32m~/Documents/programming/mortazavi_lab/bin/modelad_pipeline/proc_update/humanized_utils.py\u001b[0m in \u001b[0;36m<module>\u001b[0;34m\u001b[0m\n",
      "\u001b[0;31mNameError\u001b[0m: name 'q' is not defined"
     ]
    }
   ],
   "source": [
    "gene = 'Clu' \n",
    "fa = '../'+config['ref']['t_fa']\n",
    "ofile = 'test.fastq'\n",
    "get_gene_t_fastq(fa,\n",
    "                 gene,\n",
    "                 ofile)"
   ]
  },
  {
   "cell_type": "code",
   "execution_count": null,
   "id": "c83d71a6-d404-4344-84d9-c4859c510203",
   "metadata": {},
   "outputs": [],
   "source": []
  },
  {
   "cell_type": "code",
   "execution_count": null,
   "id": "4b4473c9-9e5c-4de6-9a49-94107ec34315",
   "metadata": {},
   "outputs": [],
   "source": []
  },
  {
   "cell_type": "code",
   "execution_count": null,
   "id": "9c5a3304-a3c6-4c26-8af0-3514455e0b65",
   "metadata": {},
   "outputs": [],
   "source": []
  },
  {
   "cell_type": "markdown",
   "id": "1afd150b-2e71-4f60-83c7-4d9185eb7cc2",
   "metadata": {},
   "source": [
    "## 231031 just map to whole human chr17"
   ]
  },
  {
   "cell_type": "code",
   "execution_count": 6,
   "id": "7ed3e383-22e6-431b-a5fb-b16ce1380dbd",
   "metadata": {},
   "outputs": [],
   "source": [
    "# get gene gtf entries for human MAPT\n",
    "gene = 'MAPT'\n",
    "gtf_file = config['human_ref']['gtf']\n",
    "fa_file = config['human_ref']['fa']\n"
   ]
  },
  {
   "cell_type": "code",
   "execution_count": 7,
   "id": "d839ea1c-a5f4-491e-bd26-608fa81ea7bf",
   "metadata": {},
   "outputs": [
    {
     "name": "stdout",
     "output_type": "stream",
     "text": [
      "chr17\n",
      "45894381\n",
      "46028334\n",
      "Length of pseudochrom: 83257441\n"
     ]
    }
   ],
   "source": [
    "_ = get_gene_seq(fa_file,\n",
    "                gtf_file, \n",
    "                gene,\n",
    "                ofile='temp_hchr17',\n",
    "                whole_chr=True,\n",
    "                chr_name='hchr17')"
   ]
  },
  {
   "cell_type": "code",
   "execution_count": 6,
   "id": "41ebfba8-555d-40c0-8298-c93e9874cb27",
   "metadata": {},
   "outputs": [
    {
     "ename": "NameError",
     "evalue": "name 'whole_chr' is not defined",
     "output_type": "error",
     "traceback": [
      "\u001b[0;31m---------------------------------------------------------------------------\u001b[0m",
      "\u001b[0;31mNameError\u001b[0m                                 Traceback (most recent call last)",
      "\u001b[0;32m<ipython-input-6-25ef0fc02230>\u001b[0m in \u001b[0;36m<module>\u001b[0;34m\u001b[0m\n\u001b[1;32m      1\u001b[0m \u001b[0mfa\u001b[0m \u001b[0;34m=\u001b[0m \u001b[0mpyfaidx\u001b[0m\u001b[0;34m.\u001b[0m\u001b[0mFasta\u001b[0m\u001b[0;34m(\u001b[0m\u001b[0mfa_file\u001b[0m\u001b[0;34m)\u001b[0m\u001b[0;34m\u001b[0m\u001b[0;34m\u001b[0m\u001b[0m\n\u001b[0;32m----> 2\u001b[0;31m \u001b[0;32mif\u001b[0m \u001b[0mwhole_chr\u001b[0m\u001b[0;34m:\u001b[0m\u001b[0;34m\u001b[0m\u001b[0;34m\u001b[0m\u001b[0m\n\u001b[0m\u001b[1;32m      3\u001b[0m     \u001b[0mgene_seq\u001b[0m \u001b[0;34m=\u001b[0m \u001b[0mfa\u001b[0m\u001b[0;34m[\u001b[0m\u001b[0mch\u001b[0m\u001b[0;34m]\u001b[0m\u001b[0;34m[\u001b[0m\u001b[0;34m:\u001b[0m\u001b[0;34m]\u001b[0m\u001b[0;34m\u001b[0m\u001b[0;34m\u001b[0m\u001b[0m\n",
      "\u001b[0;31mNameError\u001b[0m: name 'whole_chr' is not defined"
     ]
    }
   ],
   "source": [
    "fa = pyfaidx.Fasta(fa_file)\n",
    "if whole_chr:\n",
    "    gene_seq = fa[ch][:]"
   ]
  },
  {
   "cell_type": "code",
   "execution_count": 16,
   "id": "aaf4d02a-cf81-4890-a05a-72660abdb4ad",
   "metadata": {},
   "outputs": [
    {
     "data": {
      "text/plain": [
       "83257441"
      ]
     },
     "execution_count": 16,
     "metadata": {},
     "output_type": "execute_result"
    }
   ],
   "source": [
    "len(gene_seq.seq)"
   ]
  },
  {
   "cell_type": "code",
   "execution_count": 17,
   "id": "e250a819-611c-4a94-9ba9-8cf96bde3869",
   "metadata": {},
   "outputs": [
    {
     "data": {
      "text/plain": [
       "'beep'"
      ]
     },
     "execution_count": 17,
     "metadata": {},
     "output_type": "execute_result"
    }
   ],
   "source": [
    "'beep'[:]"
   ]
  },
  {
   "cell_type": "code",
   "execution_count": null,
   "id": "37f50a0e-982c-4248-9946-34c7eca3a9d9",
   "metadata": {},
   "outputs": [],
   "source": []
  },
  {
   "cell_type": "code",
   "execution_count": null,
   "id": "cd035c90-2a28-4cb3-9e4a-7ee6e816d61e",
   "metadata": {},
   "outputs": [],
   "source": []
  },
  {
   "cell_type": "code",
   "execution_count": null,
   "id": "7dd3d772-36f4-49d3-b7c8-8a9f07101f99",
   "metadata": {},
   "outputs": [],
   "source": []
  },
  {
   "cell_type": "code",
   "execution_count": null,
   "id": "477b35db-a5fa-4a2f-bf2d-ae8a25d1c2b3",
   "metadata": {},
   "outputs": [],
   "source": []
  },
  {
   "cell_type": "markdown",
   "id": "51dd8f86-2170-4e47-8f25-61ca377c6fb6",
   "metadata": {},
   "source": [
    "## 231031 debugging "
   ]
  },
  {
   "cell_type": "code",
   "execution_count": 17,
   "id": "da5e2b19-e860-45ad-9ed1-71e0e0b181e1",
   "metadata": {},
   "outputs": [],
   "source": [
    "beep = expand(config['tc']['ind_bam'],\n",
    "               zip,\n",
    "               study=df.study.tolist(),\n",
    "               genotype=df.genotype.tolist(),\n",
    "               sex=df.sex.tolist(),\n",
    "               age=df.age.tolist(),\n",
    "               tissue=df.tissue.tolist(),\n",
    "               biorep_num=df.biorep_num.tolist(),\n",
    "               flowcell=df.flowcell.tolist())"
   ]
  },
  {
   "cell_type": "code",
   "execution_count": 18,
   "id": "886325f1-2147-44ea-9870-600d968204f5",
   "metadata": {},
   "outputs": [
    {
     "data": {
      "text/plain": [
       "['data/tc/ad008/hABKI_Swe_IB_HET_F_8_weeks_HC_3_1_sorted.bam.bai',\n",
       " 'data/tc/ad008/hABKI_Swe_IB_HET_F_8_weeks_HC_2_1_sorted.bam.bai',\n",
       " 'data/tc/ad008/hABKI_Swe_IB_HET_F_8_weeks_HC_1_1_sorted.bam.bai',\n",
       " 'data/tc/ad008/hABKI_Swe_IB_HET_M_8_weeks_HC_1_1_sorted.bam.bai',\n",
       " 'data/tc/ad008/hABKI_Swe_IB_WT_F_8_weeks_HC_3_1_sorted.bam.bai',\n",
       " 'data/tc/ad008/hABKI_Swe_IB_WT_F_8_weeks_HC_2_1_sorted.bam.bai',\n",
       " 'data/tc/ad008/hABKI_Swe_IB_WT_F_8_weeks_HC_1_1_sorted.bam.bai']"
      ]
     },
     "execution_count": 18,
     "metadata": {},
     "output_type": "execute_result"
    }
   ],
   "source": [
    "beep"
   ]
  },
  {
   "cell_type": "code",
   "execution_count": 12,
   "id": "d1a54e98-8bb5-45f0-8cf6-acb59ef06234",
   "metadata": {},
   "outputs": [
    {
     "ename": "ValueError",
     "evalue": "Issues getting data from DF with wildcards\nstudy: ad008\ngenotype: hABKI_Swe_IB_HET\nsex: M\nage: 8_weeks\ntissue: HC\nbiorep_num: 3\nflowcell: 1",
     "output_type": "error",
     "traceback": [
      "\u001b[0;31m---------------------------------------------------------------------------\u001b[0m",
      "\u001b[0;31mValueError\u001b[0m                                Traceback (most recent call last)",
      "\u001b[0;32m<ipython-input-12-5fbf198975c4>\u001b[0m in \u001b[0;36m<module>\u001b[0;34m\u001b[0m\n\u001b[1;32m     14\u001b[0m       \u001b[0;34m'biorep_num'\u001b[0m\u001b[0;34m:\u001b[0m \u001b[0;36m3\u001b[0m\u001b[0;34m,\u001b[0m\u001b[0;34m\u001b[0m\u001b[0;34m\u001b[0m\u001b[0m\n\u001b[1;32m     15\u001b[0m       'flowcell': 1}\n\u001b[0;32m---> 16\u001b[0;31m \u001b[0mget_df_col\u001b[0m\u001b[0;34m(\u001b[0m\u001b[0mwc\u001b[0m\u001b[0;34m,\u001b[0m \u001b[0mdf\u001b[0m\u001b[0;34m,\u001b[0m \u001b[0;34m'fname'\u001b[0m\u001b[0;34m)\u001b[0m\u001b[0;34m\u001b[0m\u001b[0;34m\u001b[0m\u001b[0m\n\u001b[0m",
      "\u001b[0;32m~/Documents/programming/mortazavi_lab/bin/modelad_pipeline/proc_update/sm_utils.py\u001b[0m in \u001b[0;36mget_df_col\u001b[0;34m(wc, df, col)\u001b[0m\n\u001b[1;32m    180\u001b[0m         \u001b[0;32mfor\u001b[0m \u001b[0mkey\u001b[0m\u001b[0;34m,\u001b[0m \u001b[0mitem\u001b[0m \u001b[0;32min\u001b[0m \u001b[0mwc\u001b[0m\u001b[0;34m.\u001b[0m\u001b[0mitems\u001b[0m\u001b[0;34m(\u001b[0m\u001b[0;34m)\u001b[0m\u001b[0;34m:\u001b[0m\u001b[0;34m\u001b[0m\u001b[0;34m\u001b[0m\u001b[0m\n\u001b[1;32m    181\u001b[0m             \u001b[0mmsg\u001b[0m\u001b[0;34m+=\u001b[0m\u001b[0;34mf'\\n{key}: {item}'\u001b[0m\u001b[0;34m\u001b[0m\u001b[0;34m\u001b[0m\u001b[0m\n\u001b[0;32m--> 182\u001b[0;31m         \u001b[0;32mraise\u001b[0m \u001b[0mValueError\u001b[0m\u001b[0;34m(\u001b[0m\u001b[0mmsg\u001b[0m\u001b[0;34m)\u001b[0m\u001b[0;34m\u001b[0m\u001b[0;34m\u001b[0m\u001b[0m\n\u001b[0m\u001b[1;32m    183\u001b[0m \u001b[0;34m\u001b[0m\u001b[0m\n\u001b[1;32m    184\u001b[0m     \u001b[0mval\u001b[0m \u001b[0;34m=\u001b[0m \u001b[0mtemp\u001b[0m\u001b[0;34m[\u001b[0m\u001b[0mcol\u001b[0m\u001b[0;34m]\u001b[0m\u001b[0;34m.\u001b[0m\u001b[0mtolist\u001b[0m\u001b[0;34m(\u001b[0m\u001b[0;34m)\u001b[0m\u001b[0;34m[\u001b[0m\u001b[0;36m0\u001b[0m\u001b[0;34m]\u001b[0m\u001b[0;34m\u001b[0m\u001b[0;34m\u001b[0m\u001b[0m\n",
      "\u001b[0;31mValueError\u001b[0m: Issues getting data from DF with wildcards\nstudy: ad008\ngenotype: hABKI_Swe_IB_HET\nsex: M\nage: 8_weeks\ntissue: HC\nbiorep_num: 3\nflowcell: 1"
     ]
    }
   ],
   "source": [
    "#   study=ad008\n",
    "\n",
    "#   genotype=hABKI_Swe_IB_HET\n",
    "#   sex=M\n",
    "#   age=8_weeks\n",
    "#   tissue=HC\n",
    "#   biorep_num=3\n",
    "#   flowcell=1\n",
    "wc = {'study': 'ad008',\n",
    "      'genotype': 'hABKI_Swe_IB_HET',\n",
    "      'sex': 'M',\n",
    "      'age': '8_weeks',\n",
    "      'tissue': 'HC',\n",
    "      'biorep_num': 3,\n",
    "      'flowcell': 1}\n",
    "get_df_col(wc, df, 'fname')"
   ]
  },
  {
   "cell_type": "code",
   "execution_count": null,
   "id": "132eb139-5b38-44ab-8d7f-84e3806c15bf",
   "metadata": {},
   "outputs": [],
   "source": []
  },
  {
   "cell_type": "code",
   "execution_count": null,
   "id": "3fd5fd3f-761b-4b49-9856-9b7c903f91d5",
   "metadata": {},
   "outputs": [],
   "source": []
  },
  {
   "cell_type": "code",
   "execution_count": null,
   "id": "15bd47b7-d042-4994-9021-d0500b260cbd",
   "metadata": {},
   "outputs": [],
   "source": []
  },
  {
   "cell_type": "code",
   "execution_count": null,
   "id": "70f5a497-1325-487c-8650-0a63820e4f12",
   "metadata": {},
   "outputs": [],
   "source": []
  },
  {
   "cell_type": "code",
   "execution_count": 10,
   "id": "4253e600-672c-41da-a666-b1f8b5d463e3",
   "metadata": {},
   "outputs": [
    {
     "data": {
      "text/html": [
       "<div>\n",
       "<style scoped>\n",
       "    .dataframe tbody tr th:only-of-type {\n",
       "        vertical-align: middle;\n",
       "    }\n",
       "\n",
       "    .dataframe tbody tr th {\n",
       "        vertical-align: top;\n",
       "    }\n",
       "\n",
       "    .dataframe thead th {\n",
       "        text-align: right;\n",
       "    }\n",
       "</style>\n",
       "<table border=\"1\" class=\"dataframe\">\n",
       "  <thead>\n",
       "    <tr style=\"text-align: right;\">\n",
       "      <th></th>\n",
       "      <th>batch</th>\n",
       "      <th>platform</th>\n",
       "      <th>fname</th>\n",
       "      <th>basename</th>\n",
       "      <th>path</th>\n",
       "      <th>flowcell</th>\n",
       "      <th>file_stem</th>\n",
       "      <th>chop_num</th>\n",
       "      <th>sample_temp</th>\n",
       "      <th>mouse_id</th>\n",
       "      <th>...</th>\n",
       "      <th>sex</th>\n",
       "      <th>age</th>\n",
       "      <th>tissue</th>\n",
       "      <th>humanized</th>\n",
       "      <th>humanized_loci</th>\n",
       "      <th>sample</th>\n",
       "      <th>biorep_num</th>\n",
       "      <th>dataset</th>\n",
       "      <th>source</th>\n",
       "      <th>cerberus_run</th>\n",
       "    </tr>\n",
       "  </thead>\n",
       "  <tbody>\n",
       "    <tr>\n",
       "      <th>112</th>\n",
       "      <td>230516</td>\n",
       "      <td>ONT</td>\n",
       "      <td>/share/crsp/lab/model-ad/share/LRRNA_nanopore/...</td>\n",
       "      <td>ad008_20362_lig-blk_1_t1.fastq.gz</td>\n",
       "      <td>/share/crsp/lab/model-ad/share/LRRNA_nanopore/...</td>\n",
       "      <td>1</td>\n",
       "      <td>ad008_20362_lig-blk_1</td>\n",
       "      <td>1.0</td>\n",
       "      <td>ad008_20362</td>\n",
       "      <td>20362</td>\n",
       "      <td>...</td>\n",
       "      <td>M</td>\n",
       "      <td>8_weeks</td>\n",
       "      <td>HC</td>\n",
       "      <td>True</td>\n",
       "      <td>NaN</td>\n",
       "      <td>hABKI_Swe_IB_WT_M_8_weeks_HC</td>\n",
       "      <td>1</td>\n",
       "      <td>hABKI_Swe_IB_WT_M_8_weeks_HC_1</td>\n",
       "      <td>ad008_hABKI_Swe_IB_WT_M_8_weeks_HC</td>\n",
       "      <td>25</td>\n",
       "    </tr>\n",
       "  </tbody>\n",
       "</table>\n",
       "<p>1 rows × 22 columns</p>\n",
       "</div>"
      ],
      "text/plain": [
       "      batch platform                                              fname  \\\n",
       "112  230516      ONT  /share/crsp/lab/model-ad/share/LRRNA_nanopore/...   \n",
       "\n",
       "                              basename  \\\n",
       "112  ad008_20362_lig-blk_1_t1.fastq.gz   \n",
       "\n",
       "                                                  path flowcell  \\\n",
       "112  /share/crsp/lab/model-ad/share/LRRNA_nanopore/...        1   \n",
       "\n",
       "                 file_stem  chop_num  sample_temp  mouse_id  ... sex      age  \\\n",
       "112  ad008_20362_lig-blk_1       1.0  ad008_20362     20362  ...   M  8_weeks   \n",
       "\n",
       "    tissue humanized humanized_loci                        sample  biorep_num  \\\n",
       "112     HC      True            NaN  hABKI_Swe_IB_WT_M_8_weeks_HC           1   \n",
       "\n",
       "                            dataset                              source  \\\n",
       "112  hABKI_Swe_IB_WT_M_8_weeks_HC_1  ad008_hABKI_Swe_IB_WT_M_8_weeks_HC   \n",
       "\n",
       "    cerberus_run  \n",
       "112           25  \n",
       "\n",
       "[1 rows x 22 columns]"
      ]
     },
     "execution_count": 10,
     "metadata": {},
     "output_type": "execute_result"
    }
   ],
   "source": [
    "df.loc[df.mouse_id==20362]"
   ]
  },
  {
   "cell_type": "code",
   "execution_count": 8,
   "id": "09bc4287-30da-47cd-b423-c46c1c782e55",
   "metadata": {},
   "outputs": [],
   "source": [
    "# get gene gtf entries for human MAPT\n",
    "gname = 'MAPT'\n",
    "gtf_file = '../'+config['human_ref']['gtf']\n",
    "fa_file = '../'+config['human_ref']['fa']\n",
    "\n",
    "\n",
    "df = get_gene_gtf_entry(gtf_file, gname)"
   ]
  },
  {
   "cell_type": "code",
   "execution_count": null,
   "id": "e1d1e907-de6c-4cae-bc98-99c1374b381c",
   "metadata": {},
   "outputs": [],
   "source": [
    "seq = get_gene_seq(fa_file, gtf_file, gname)"
   ]
  },
  {
   "cell_type": "code",
   "execution_count": 6,
   "id": "a37d76fa-fe5b-48a8-b7b8-52542e9b35d2",
   "metadata": {},
   "outputs": [
    {
     "data": {
      "text/plain": [
       "'GGACGGCCGA'"
      ]
     },
     "execution_count": 6,
     "metadata": {},
     "output_type": "execute_result"
    }
   ],
   "source": [
    "seq[:10]"
   ]
  },
  {
   "cell_type": "code",
   "execution_count": 7,
   "id": "dd5b2d41-1c02-4392-8335-ab94e941ae6a",
   "metadata": {},
   "outputs": [],
   "source": [
    "offset = 45894381-56806"
   ]
  },
  {
   "cell_type": "code",
   "execution_count": 8,
   "id": "d3493dd3-4701-4cff-b5f7-5a210569d544",
   "metadata": {},
   "outputs": [
    {
     "data": {
      "text/html": [
       "<div>\n",
       "<style scoped>\n",
       "    .dataframe tbody tr th:only-of-type {\n",
       "        vertical-align: middle;\n",
       "    }\n",
       "\n",
       "    .dataframe tbody tr th {\n",
       "        vertical-align: top;\n",
       "    }\n",
       "\n",
       "    .dataframe thead th {\n",
       "        text-align: right;\n",
       "    }\n",
       "</style>\n",
       "<table border=\"1\" class=\"dataframe\">\n",
       "  <thead>\n",
       "    <tr style=\"text-align: right;\">\n",
       "      <th></th>\n",
       "      <th>Chromosome</th>\n",
       "      <th>Source</th>\n",
       "      <th>Feature</th>\n",
       "      <th>Start</th>\n",
       "      <th>End</th>\n",
       "      <th>Score</th>\n",
       "      <th>Strand</th>\n",
       "      <th>Frame</th>\n",
       "      <th>gene_id</th>\n",
       "      <th>gene_type</th>\n",
       "      <th>...</th>\n",
       "      <th>transcript_type</th>\n",
       "      <th>transcript_name</th>\n",
       "      <th>transcript_support_level</th>\n",
       "      <th>tag</th>\n",
       "      <th>havana_transcript</th>\n",
       "      <th>exon_number</th>\n",
       "      <th>exon_id</th>\n",
       "      <th>ont</th>\n",
       "      <th>protein_id</th>\n",
       "      <th>ccdsid</th>\n",
       "    </tr>\n",
       "  </thead>\n",
       "  <tbody>\n",
       "    <tr>\n",
       "      <th>2201025</th>\n",
       "      <td>chr17</td>\n",
       "      <td>HAVANA</td>\n",
       "      <td>gene</td>\n",
       "      <td>45894381</td>\n",
       "      <td>46028334</td>\n",
       "      <td>.</td>\n",
       "      <td>+</td>\n",
       "      <td>.</td>\n",
       "      <td>ENSG00000186868.15</td>\n",
       "      <td>protein_coding</td>\n",
       "      <td>...</td>\n",
       "      <td>NaN</td>\n",
       "      <td>NaN</td>\n",
       "      <td>NaN</td>\n",
       "      <td>overlapping_locus</td>\n",
       "      <td>NaN</td>\n",
       "      <td>NaN</td>\n",
       "      <td>NaN</td>\n",
       "      <td>NaN</td>\n",
       "      <td>NaN</td>\n",
       "      <td>NaN</td>\n",
       "    </tr>\n",
       "    <tr>\n",
       "      <th>2201026</th>\n",
       "      <td>chr17</td>\n",
       "      <td>ENSEMBL</td>\n",
       "      <td>transcript</td>\n",
       "      <td>45894381</td>\n",
       "      <td>46028334</td>\n",
       "      <td>.</td>\n",
       "      <td>+</td>\n",
       "      <td>.</td>\n",
       "      <td>ENSG00000186868.15</td>\n",
       "      <td>protein_coding</td>\n",
       "      <td>...</td>\n",
       "      <td>protein_coding</td>\n",
       "      <td>MAPT-201</td>\n",
       "      <td>1</td>\n",
       "      <td>CCDS</td>\n",
       "      <td>NaN</td>\n",
       "      <td>NaN</td>\n",
       "      <td>NaN</td>\n",
       "      <td>NaN</td>\n",
       "      <td>ENSP00000262410.5</td>\n",
       "      <td>CCDS11501.1</td>\n",
       "    </tr>\n",
       "    <tr>\n",
       "      <th>2201027</th>\n",
       "      <td>chr17</td>\n",
       "      <td>ENSEMBL</td>\n",
       "      <td>exon</td>\n",
       "      <td>45894381</td>\n",
       "      <td>45894686</td>\n",
       "      <td>.</td>\n",
       "      <td>+</td>\n",
       "      <td>.</td>\n",
       "      <td>ENSG00000186868.15</td>\n",
       "      <td>protein_coding</td>\n",
       "      <td>...</td>\n",
       "      <td>protein_coding</td>\n",
       "      <td>MAPT-201</td>\n",
       "      <td>1</td>\n",
       "      <td>CCDS</td>\n",
       "      <td>NaN</td>\n",
       "      <td>1</td>\n",
       "      <td>ENSE00001472062.3</td>\n",
       "      <td>NaN</td>\n",
       "      <td>ENSP00000262410.5</td>\n",
       "      <td>CCDS11501.1</td>\n",
       "    </tr>\n",
       "    <tr>\n",
       "      <th>2201028</th>\n",
       "      <td>chr17</td>\n",
       "      <td>ENSEMBL</td>\n",
       "      <td>exon</td>\n",
       "      <td>45962320</td>\n",
       "      <td>45962470</td>\n",
       "      <td>.</td>\n",
       "      <td>+</td>\n",
       "      <td>.</td>\n",
       "      <td>ENSG00000186868.15</td>\n",
       "      <td>protein_coding</td>\n",
       "      <td>...</td>\n",
       "      <td>protein_coding</td>\n",
       "      <td>MAPT-201</td>\n",
       "      <td>1</td>\n",
       "      <td>CCDS</td>\n",
       "      <td>NaN</td>\n",
       "      <td>2</td>\n",
       "      <td>ENSE00003549966.1</td>\n",
       "      <td>NaN</td>\n",
       "      <td>ENSP00000262410.5</td>\n",
       "      <td>CCDS11501.1</td>\n",
       "    </tr>\n",
       "    <tr>\n",
       "      <th>2201029</th>\n",
       "      <td>chr17</td>\n",
       "      <td>ENSEMBL</td>\n",
       "      <td>CDS</td>\n",
       "      <td>45962337</td>\n",
       "      <td>45962470</td>\n",
       "      <td>.</td>\n",
       "      <td>+</td>\n",
       "      <td>0</td>\n",
       "      <td>ENSG00000186868.15</td>\n",
       "      <td>protein_coding</td>\n",
       "      <td>...</td>\n",
       "      <td>protein_coding</td>\n",
       "      <td>MAPT-201</td>\n",
       "      <td>1</td>\n",
       "      <td>CCDS</td>\n",
       "      <td>NaN</td>\n",
       "      <td>2</td>\n",
       "      <td>ENSE00003549966.1</td>\n",
       "      <td>NaN</td>\n",
       "      <td>ENSP00000262410.5</td>\n",
       "      <td>CCDS11501.1</td>\n",
       "    </tr>\n",
       "  </tbody>\n",
       "</table>\n",
       "<p>5 rows × 24 columns</p>\n",
       "</div>"
      ],
      "text/plain": [
       "        Chromosome   Source     Feature     Start       End Score Strand  \\\n",
       "2201025      chr17   HAVANA        gene  45894381  46028334     .      +   \n",
       "2201026      chr17  ENSEMBL  transcript  45894381  46028334     .      +   \n",
       "2201027      chr17  ENSEMBL        exon  45894381  45894686     .      +   \n",
       "2201028      chr17  ENSEMBL        exon  45962320  45962470     .      +   \n",
       "2201029      chr17  ENSEMBL         CDS  45962337  45962470     .      +   \n",
       "\n",
       "        Frame             gene_id       gene_type  ... transcript_type  \\\n",
       "2201025     .  ENSG00000186868.15  protein_coding  ...             NaN   \n",
       "2201026     .  ENSG00000186868.15  protein_coding  ...  protein_coding   \n",
       "2201027     .  ENSG00000186868.15  protein_coding  ...  protein_coding   \n",
       "2201028     .  ENSG00000186868.15  protein_coding  ...  protein_coding   \n",
       "2201029     0  ENSG00000186868.15  protein_coding  ...  protein_coding   \n",
       "\n",
       "        transcript_name transcript_support_level                tag  \\\n",
       "2201025             NaN                      NaN  overlapping_locus   \n",
       "2201026        MAPT-201                        1               CCDS   \n",
       "2201027        MAPT-201                        1               CCDS   \n",
       "2201028        MAPT-201                        1               CCDS   \n",
       "2201029        MAPT-201                        1               CCDS   \n",
       "\n",
       "        havana_transcript exon_number            exon_id  ont  \\\n",
       "2201025               NaN         NaN                NaN  NaN   \n",
       "2201026               NaN         NaN                NaN  NaN   \n",
       "2201027               NaN           1  ENSE00001472062.3  NaN   \n",
       "2201028               NaN           2  ENSE00003549966.1  NaN   \n",
       "2201029               NaN           2  ENSE00003549966.1  NaN   \n",
       "\n",
       "                protein_id       ccdsid  \n",
       "2201025                NaN          NaN  \n",
       "2201026  ENSP00000262410.5  CCDS11501.1  \n",
       "2201027  ENSP00000262410.5  CCDS11501.1  \n",
       "2201028  ENSP00000262410.5  CCDS11501.1  \n",
       "2201029  ENSP00000262410.5  CCDS11501.1  \n",
       "\n",
       "[5 rows x 24 columns]"
      ]
     },
     "execution_count": 8,
     "metadata": {},
     "output_type": "execute_result"
    }
   ],
   "source": [
    "df.head()"
   ]
  },
  {
   "cell_type": "code",
   "execution_count": 9,
   "id": "91cc5133-7c8f-43f1-a626-05016b50ebf6",
   "metadata": {},
   "outputs": [],
   "source": [
    "df.Start = df.Start-offset\n",
    "df.End = df.End-offset\n",
    "df['Chromosome'] = 'hMAPT'"
   ]
  },
  {
   "cell_type": "code",
   "execution_count": 14,
   "id": "5419aef9-1960-4615-82c6-d1d0011d6d66",
   "metadata": {},
   "outputs": [],
   "source": [
    "df = pr.PyRanges(df)\n",
    "df.to_gtf('pseudochrom/hMAPT/hMAPT_annot.gtf')"
   ]
  },
  {
   "cell_type": "code",
   "execution_count": 15,
   "id": "cdecb9a0-4ecd-48b9-bad3-d4fb0d74523b",
   "metadata": {},
   "outputs": [
    {
     "data": {
      "text/html": [
       "<div>\n",
       "<style scoped>\n",
       "    .dataframe tbody tr th:only-of-type {\n",
       "        vertical-align: middle;\n",
       "    }\n",
       "\n",
       "    .dataframe tbody tr th {\n",
       "        vertical-align: top;\n",
       "    }\n",
       "\n",
       "    .dataframe thead th {\n",
       "        text-align: right;\n",
       "    }\n",
       "</style>\n",
       "<table border=\"1\" class=\"dataframe\">\n",
       "  <thead>\n",
       "    <tr style=\"text-align: right;\">\n",
       "      <th></th>\n",
       "      <th>Chromosome</th>\n",
       "      <th>Source</th>\n",
       "      <th>Feature</th>\n",
       "      <th>Start</th>\n",
       "      <th>End</th>\n",
       "      <th>Score</th>\n",
       "      <th>Strand</th>\n",
       "      <th>Frame</th>\n",
       "      <th>gene_id</th>\n",
       "      <th>gene_type</th>\n",
       "      <th>...</th>\n",
       "      <th>transcript_type</th>\n",
       "      <th>transcript_name</th>\n",
       "      <th>transcript_support_level</th>\n",
       "      <th>tag</th>\n",
       "      <th>havana_transcript</th>\n",
       "      <th>exon_number</th>\n",
       "      <th>exon_id</th>\n",
       "      <th>ont</th>\n",
       "      <th>protein_id</th>\n",
       "      <th>ccdsid</th>\n",
       "    </tr>\n",
       "  </thead>\n",
       "  <tbody>\n",
       "    <tr>\n",
       "      <th>0</th>\n",
       "      <td>hMAPT</td>\n",
       "      <td>HAVANA</td>\n",
       "      <td>gene</td>\n",
       "      <td>56806</td>\n",
       "      <td>190759</td>\n",
       "      <td>.</td>\n",
       "      <td>+</td>\n",
       "      <td>.</td>\n",
       "      <td>ENSG00000186868.15</td>\n",
       "      <td>protein_coding</td>\n",
       "      <td>...</td>\n",
       "      <td>NaN</td>\n",
       "      <td>NaN</td>\n",
       "      <td>NaN</td>\n",
       "      <td>overlapping_locus</td>\n",
       "      <td>NaN</td>\n",
       "      <td>NaN</td>\n",
       "      <td>NaN</td>\n",
       "      <td>NaN</td>\n",
       "      <td>NaN</td>\n",
       "      <td>NaN</td>\n",
       "    </tr>\n",
       "    <tr>\n",
       "      <th>1</th>\n",
       "      <td>hMAPT</td>\n",
       "      <td>ENSEMBL</td>\n",
       "      <td>transcript</td>\n",
       "      <td>56806</td>\n",
       "      <td>190759</td>\n",
       "      <td>.</td>\n",
       "      <td>+</td>\n",
       "      <td>.</td>\n",
       "      <td>ENSG00000186868.15</td>\n",
       "      <td>protein_coding</td>\n",
       "      <td>...</td>\n",
       "      <td>protein_coding</td>\n",
       "      <td>MAPT-201</td>\n",
       "      <td>1</td>\n",
       "      <td>CCDS</td>\n",
       "      <td>NaN</td>\n",
       "      <td>NaN</td>\n",
       "      <td>NaN</td>\n",
       "      <td>NaN</td>\n",
       "      <td>ENSP00000262410.5</td>\n",
       "      <td>CCDS11501.1</td>\n",
       "    </tr>\n",
       "    <tr>\n",
       "      <th>2</th>\n",
       "      <td>hMAPT</td>\n",
       "      <td>ENSEMBL</td>\n",
       "      <td>exon</td>\n",
       "      <td>56806</td>\n",
       "      <td>57111</td>\n",
       "      <td>.</td>\n",
       "      <td>+</td>\n",
       "      <td>.</td>\n",
       "      <td>ENSG00000186868.15</td>\n",
       "      <td>protein_coding</td>\n",
       "      <td>...</td>\n",
       "      <td>protein_coding</td>\n",
       "      <td>MAPT-201</td>\n",
       "      <td>1</td>\n",
       "      <td>CCDS</td>\n",
       "      <td>NaN</td>\n",
       "      <td>1</td>\n",
       "      <td>ENSE00001472062.3</td>\n",
       "      <td>NaN</td>\n",
       "      <td>ENSP00000262410.5</td>\n",
       "      <td>CCDS11501.1</td>\n",
       "    </tr>\n",
       "    <tr>\n",
       "      <th>3</th>\n",
       "      <td>hMAPT</td>\n",
       "      <td>ENSEMBL</td>\n",
       "      <td>exon</td>\n",
       "      <td>124745</td>\n",
       "      <td>124895</td>\n",
       "      <td>.</td>\n",
       "      <td>+</td>\n",
       "      <td>.</td>\n",
       "      <td>ENSG00000186868.15</td>\n",
       "      <td>protein_coding</td>\n",
       "      <td>...</td>\n",
       "      <td>protein_coding</td>\n",
       "      <td>MAPT-201</td>\n",
       "      <td>1</td>\n",
       "      <td>CCDS</td>\n",
       "      <td>NaN</td>\n",
       "      <td>2</td>\n",
       "      <td>ENSE00003549966.1</td>\n",
       "      <td>NaN</td>\n",
       "      <td>ENSP00000262410.5</td>\n",
       "      <td>CCDS11501.1</td>\n",
       "    </tr>\n",
       "    <tr>\n",
       "      <th>4</th>\n",
       "      <td>hMAPT</td>\n",
       "      <td>ENSEMBL</td>\n",
       "      <td>CDS</td>\n",
       "      <td>124762</td>\n",
       "      <td>124895</td>\n",
       "      <td>.</td>\n",
       "      <td>+</td>\n",
       "      <td>0</td>\n",
       "      <td>ENSG00000186868.15</td>\n",
       "      <td>protein_coding</td>\n",
       "      <td>...</td>\n",
       "      <td>protein_coding</td>\n",
       "      <td>MAPT-201</td>\n",
       "      <td>1</td>\n",
       "      <td>CCDS</td>\n",
       "      <td>NaN</td>\n",
       "      <td>2</td>\n",
       "      <td>ENSE00003549966.1</td>\n",
       "      <td>NaN</td>\n",
       "      <td>ENSP00000262410.5</td>\n",
       "      <td>CCDS11501.1</td>\n",
       "    </tr>\n",
       "    <tr>\n",
       "      <th>5</th>\n",
       "      <td>hMAPT</td>\n",
       "      <td>ENSEMBL</td>\n",
       "      <td>start_codon</td>\n",
       "      <td>124762</td>\n",
       "      <td>124765</td>\n",
       "      <td>.</td>\n",
       "      <td>+</td>\n",
       "      <td>0</td>\n",
       "      <td>ENSG00000186868.15</td>\n",
       "      <td>protein_coding</td>\n",
       "      <td>...</td>\n",
       "      <td>protein_coding</td>\n",
       "      <td>MAPT-201</td>\n",
       "      <td>1</td>\n",
       "      <td>CCDS</td>\n",
       "      <td>NaN</td>\n",
       "      <td>2</td>\n",
       "      <td>ENSE00003549966.1</td>\n",
       "      <td>NaN</td>\n",
       "      <td>ENSP00000262410.5</td>\n",
       "      <td>CCDS11501.1</td>\n",
       "    </tr>\n",
       "    <tr>\n",
       "      <th>6</th>\n",
       "      <td>hMAPT</td>\n",
       "      <td>ENSEMBL</td>\n",
       "      <td>exon</td>\n",
       "      <td>134283</td>\n",
       "      <td>134370</td>\n",
       "      <td>.</td>\n",
       "      <td>+</td>\n",
       "      <td>.</td>\n",
       "      <td>ENSG00000186868.15</td>\n",
       "      <td>protein_coding</td>\n",
       "      <td>...</td>\n",
       "      <td>protein_coding</td>\n",
       "      <td>MAPT-201</td>\n",
       "      <td>1</td>\n",
       "      <td>CCDS</td>\n",
       "      <td>NaN</td>\n",
       "      <td>3</td>\n",
       "      <td>ENSE00003598892.1</td>\n",
       "      <td>NaN</td>\n",
       "      <td>ENSP00000262410.5</td>\n",
       "      <td>CCDS11501.1</td>\n",
       "    </tr>\n",
       "    <tr>\n",
       "      <th>7</th>\n",
       "      <td>hMAPT</td>\n",
       "      <td>ENSEMBL</td>\n",
       "      <td>CDS</td>\n",
       "      <td>134283</td>\n",
       "      <td>134370</td>\n",
       "      <td>.</td>\n",
       "      <td>+</td>\n",
       "      <td>2</td>\n",
       "      <td>ENSG00000186868.15</td>\n",
       "      <td>protein_coding</td>\n",
       "      <td>...</td>\n",
       "      <td>protein_coding</td>\n",
       "      <td>MAPT-201</td>\n",
       "      <td>1</td>\n",
       "      <td>CCDS</td>\n",
       "      <td>NaN</td>\n",
       "      <td>3</td>\n",
       "      <td>ENSE00003598892.1</td>\n",
       "      <td>NaN</td>\n",
       "      <td>ENSP00000262410.5</td>\n",
       "      <td>CCDS11501.1</td>\n",
       "    </tr>\n",
       "  </tbody>\n",
       "</table>\n",
       "<p>8 rows × 24 columns</p>\n",
       "</div>"
      ],
      "text/plain": [
       "+--------------+------------+-------------+-----------+-----------+-------+\n",
       "| Chromosome   | Source     | Feature     |     Start |       End | +19   |\n",
       "| (category)   | (object)   | (object)    |   (int64) |   (int64) | ...   |\n",
       "|--------------+------------+-------------+-----------+-----------+-------|\n",
       "| hMAPT        | HAVANA     | gene        |     56806 |    190759 | ...   |\n",
       "| hMAPT        | ENSEMBL    | transcript  |     56806 |    190759 | ...   |\n",
       "| hMAPT        | ENSEMBL    | exon        |     56806 |     57111 | ...   |\n",
       "| hMAPT        | ENSEMBL    | exon        |    124745 |    124895 | ...   |\n",
       "| hMAPT        | ENSEMBL    | CDS         |    124762 |    124895 | ...   |\n",
       "| hMAPT        | ENSEMBL    | start_codon |    124762 |    124765 | ...   |\n",
       "| hMAPT        | ENSEMBL    | exon        |    134283 |    134370 | ...   |\n",
       "| hMAPT        | ENSEMBL    | CDS         |    134283 |    134370 | ...   |\n",
       "+--------------+------------+-------------+-----------+-----------+-------+\n",
       "Stranded PyRanges object has 8 rows and 24 columns from 1 chromosomes.\n",
       "For printing, the PyRanges was sorted on Chromosome and Strand.\n",
       "19 hidden columns: Score, Strand, Frame, gene_id, gene_type, gene_name, level, ... (+ 12 more.)"
      ]
     },
     "execution_count": 15,
     "metadata": {},
     "output_type": "execute_result"
    }
   ],
   "source": [
    "df.head()"
   ]
  },
  {
   "cell_type": "code",
   "execution_count": null,
   "id": "d4069055-6902-4cf9-93e5-50ac984840ba",
   "metadata": {},
   "outputs": [],
   "source": []
  }
 ],
 "metadata": {
  "kernelspec": {
   "display_name": "Python 3",
   "language": "python",
   "name": "python3"
  },
  "language_info": {
   "codemirror_mode": {
    "name": "ipython",
    "version": 3
   },
   "file_extension": ".py",
   "mimetype": "text/x-python",
   "name": "python",
   "nbconvert_exporter": "python",
   "pygments_lexer": "ipython3",
   "version": "3.7.12"
  }
 },
 "nbformat": 4,
 "nbformat_minor": 5
}
