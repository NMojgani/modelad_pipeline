{
 "cells": [
  {
   "cell_type": "code",
   "execution_count": 7,
   "id": "c292b169-216c-4e67-b176-481b7c1b1046",
   "metadata": {},
   "outputs": [],
   "source": [
    "import pandas as pd\n",
    "import pdb\n",
    "import numpy as np\n",
    "import itertools\n",
    "from snakemake.io import expand\n",
    "import yaml\n",
    "import os\n",
    "import sys\n",
    "\n",
    "p = os.path.dirname(os.getcwd())\n",
    "sys.path.append(p)\n",
    "\n",
    "from utils import *\n",
    "from sm_utils import *"
   ]
  },
  {
   "cell_type": "code",
   "execution_count": 8,
   "id": "d1578149-75d5-419b-a13d-450aac29bbcc",
   "metadata": {},
   "outputs": [],
   "source": [
    "config_file = 'config.yml'\n",
    "with open(config_file) as f:\n",
    "    config = yaml.safe_load(f)"
   ]
  },
  {
   "cell_type": "code",
   "execution_count": 9,
   "id": "251635b7-0662-45b0-a92f-630748f4cc6a",
   "metadata": {},
   "outputs": [],
   "source": [
    "config_tsv = '231027_config.tsv'\n",
    "meta_tsv = '../mouse_metadata.tsv'\n",
    "auto_dedupe = True\n",
    "\n",
    "df = parse_config_file(config_tsv,\n",
    "                       meta_tsv,\n",
    "                       auto_dedupe=auto_dedupe,\n",
    "                       include_humanized=True)\n",
    "end_modes = ['tss', 'tes']\n",
    "strands = ['fwd', 'rev']\n",
    "\n",
    "# TODO - get rid of this at some point\n",
    "temp_study_pass_list = ['ad008']\n",
    "df = df.loc[df.study.isin(temp_study_pass_list)]\n",
    "pseudochrom = 'hMAPT'"
   ]
  },
  {
   "cell_type": "code",
   "execution_count": 11,
   "id": "8e263e94-7118-4eb6-8e17-089eed62ca80",
   "metadata": {},
   "outputs": [
    {
     "data": {
      "text/plain": [
       "['hABKI_Swe_IB_HET',\n",
       " 'hABKI_Swe_IB_HET',\n",
       " 'hABKI_Swe_IB_HET',\n",
       " 'hABKI_Swe_IB_WT',\n",
       " 'hABKI_Swe_IB_WT',\n",
       " 'hABKI_Swe_IB_WT']"
      ]
     },
     "execution_count": 11,
     "metadata": {},
     "output_type": "execute_result"
    }
   ],
   "source": [
    "df.genotype.tolist()"
   ]
  },
  {
   "cell_type": "code",
   "execution_count": null,
   "id": "84a663f3-5489-4563-a365-24a43060d004",
   "metadata": {},
   "outputs": [],
   "source": []
  }
 ],
 "metadata": {
  "kernelspec": {
   "display_name": "Python 3",
   "language": "python",
   "name": "python3"
  },
  "language_info": {
   "codemirror_mode": {
    "name": "ipython",
    "version": 3
   },
   "file_extension": ".py",
   "mimetype": "text/x-python",
   "name": "python",
   "nbconvert_exporter": "python",
   "pygments_lexer": "ipython3",
   "version": "3.7.12"
  }
 },
 "nbformat": 4,
 "nbformat_minor": 5
}
