{
 "cells": [
  {
   "cell_type": "code",
   "execution_count": 2,
   "id": "5b20e87d-ebff-496f-8213-ea59d52ea188",
   "metadata": {},
   "outputs": [],
   "source": [
    "import pandas as pd\n",
    "import pdb\n",
    "import numpy as np\n",
    "import itertools\n",
    "from snakemake.io import expand\n",
    "import yaml\n",
    "import os\n",
    "import sys\n",
    "import pathlib\n",
    "import pyranges as pr\n",
    "import cerberus \n",
    "import swan_vis as swan\n",
    "\n",
    "p = os.path.dirname(os.getcwd())\n",
    "sys.path.append(p)\n",
    "\n",
    "from utils import *\n",
    "from sm_utils import *\n",
    "from humanized_utils import *"
   ]
  },
  {
   "cell_type": "code",
   "execution_count": 3,
   "id": "6fafc586-fb18-4d2d-a04a-6929085ddca0",
   "metadata": {},
   "outputs": [],
   "source": [
    "config_file = 'config.yml'\n",
    "with open(config_file) as f:\n",
    "    config = yaml.safe_load(f)"
   ]
  },
  {
   "cell_type": "code",
   "execution_count": 4,
   "id": "1245cc69-ea47-42cd-959e-8fb0fedfdbc3",
   "metadata": {},
   "outputs": [],
   "source": [
    "swan_file = expand(config['swan']['swan_graph'], \n",
    "                   analysis='hABKI_Swe_IB_HET_WT')[0]\n"
   ]
  },
  {
   "cell_type": "code",
   "execution_count": 6,
   "id": "18f6183b-d0c2-4513-b368-fb72ac06d72e",
   "metadata": {},
   "outputs": [
    {
     "name": "stdout",
     "output_type": "stream",
     "text": [
      "Read in graph from data/swan/hABKI_Swe_IB_HET_WT/swan_graph.p\n"
     ]
    }
   ],
   "source": [
    "sg = swan.read(swan_file)"
   ]
  },
  {
   "cell_type": "code",
   "execution_count": 7,
   "id": "4799b1d8-752e-4acf-886c-b6bf0c35ba85",
   "metadata": {},
   "outputs": [
    {
     "data": {
      "text/html": [
       "<div>\n",
       "<style scoped>\n",
       "    .dataframe tbody tr th:only-of-type {\n",
       "        vertical-align: middle;\n",
       "    }\n",
       "\n",
       "    .dataframe tbody tr th {\n",
       "        vertical-align: top;\n",
       "    }\n",
       "\n",
       "    .dataframe thead th {\n",
       "        text-align: right;\n",
       "    }\n",
       "</style>\n",
       "<table border=\"1\" class=\"dataframe\">\n",
       "  <thead>\n",
       "    <tr style=\"text-align: right;\">\n",
       "      <th></th>\n",
       "      <th>dataset</th>\n",
       "      <th>total_counts</th>\n",
       "      <th>batch</th>\n",
       "      <th>mouse_id</th>\n",
       "      <th>study</th>\n",
       "      <th>genotype</th>\n",
       "      <th>sex</th>\n",
       "      <th>age</th>\n",
       "      <th>tissue</th>\n",
       "      <th>biorep_num</th>\n",
       "    </tr>\n",
       "    <tr>\n",
       "      <th>dataset</th>\n",
       "      <th></th>\n",
       "      <th></th>\n",
       "      <th></th>\n",
       "      <th></th>\n",
       "      <th></th>\n",
       "      <th></th>\n",
       "      <th></th>\n",
       "      <th></th>\n",
       "      <th></th>\n",
       "      <th></th>\n",
       "    </tr>\n",
       "  </thead>\n",
       "  <tbody>\n",
       "    <tr>\n",
       "      <th>hABKI_Swe_IB_HET_F_8_weeks_HC_1</th>\n",
       "      <td>hABKI_Swe_IB_HET_F_8_weeks_HC_1</td>\n",
       "      <td>4864720.0</td>\n",
       "      <td>0</td>\n",
       "      <td>19613</td>\n",
       "      <td>ad008</td>\n",
       "      <td>hABKI_Swe_IB_HET</td>\n",
       "      <td>F</td>\n",
       "      <td>8_weeks</td>\n",
       "      <td>HC</td>\n",
       "      <td>1</td>\n",
       "    </tr>\n",
       "    <tr>\n",
       "      <th>hABKI_Swe_IB_HET_F_8_weeks_HC_2</th>\n",
       "      <td>hABKI_Swe_IB_HET_F_8_weeks_HC_2</td>\n",
       "      <td>5706665.0</td>\n",
       "      <td>0</td>\n",
       "      <td>19614</td>\n",
       "      <td>ad008</td>\n",
       "      <td>hABKI_Swe_IB_HET</td>\n",
       "      <td>F</td>\n",
       "      <td>8_weeks</td>\n",
       "      <td>HC</td>\n",
       "      <td>2</td>\n",
       "    </tr>\n",
       "    <tr>\n",
       "      <th>hABKI_Swe_IB_HET_F_8_weeks_HC_3</th>\n",
       "      <td>hABKI_Swe_IB_HET_F_8_weeks_HC_3</td>\n",
       "      <td>3149221.0</td>\n",
       "      <td>0</td>\n",
       "      <td>20564</td>\n",
       "      <td>ad008</td>\n",
       "      <td>hABKI_Swe_IB_HET</td>\n",
       "      <td>F</td>\n",
       "      <td>8_weeks</td>\n",
       "      <td>HC</td>\n",
       "      <td>3</td>\n",
       "    </tr>\n",
       "    <tr>\n",
       "      <th>hABKI_Swe_IB_HET_M_8_weeks_HC_3</th>\n",
       "      <td>hABKI_Swe_IB_HET_M_8_weeks_HC_3</td>\n",
       "      <td>6563375.0</td>\n",
       "      <td>0</td>\n",
       "      <td>19994</td>\n",
       "      <td>ad008</td>\n",
       "      <td>hABKI_Swe_IB_HET</td>\n",
       "      <td>M</td>\n",
       "      <td>8_weeks</td>\n",
       "      <td>HC</td>\n",
       "      <td>3</td>\n",
       "    </tr>\n",
       "    <tr>\n",
       "      <th>hABKI_Swe_IB_HET_M_8_weeks_HC_1</th>\n",
       "      <td>hABKI_Swe_IB_HET_M_8_weeks_HC_1</td>\n",
       "      <td>5149424.0</td>\n",
       "      <td>0</td>\n",
       "      <td>19573</td>\n",
       "      <td>ad008</td>\n",
       "      <td>hABKI_Swe_IB_HET</td>\n",
       "      <td>M</td>\n",
       "      <td>8_weeks</td>\n",
       "      <td>HC</td>\n",
       "      <td>1</td>\n",
       "    </tr>\n",
       "  </tbody>\n",
       "</table>\n",
       "</div>"
      ],
      "text/plain": [
       "                                                         dataset  \\\n",
       "dataset                                                            \n",
       "hABKI_Swe_IB_HET_F_8_weeks_HC_1  hABKI_Swe_IB_HET_F_8_weeks_HC_1   \n",
       "hABKI_Swe_IB_HET_F_8_weeks_HC_2  hABKI_Swe_IB_HET_F_8_weeks_HC_2   \n",
       "hABKI_Swe_IB_HET_F_8_weeks_HC_3  hABKI_Swe_IB_HET_F_8_weeks_HC_3   \n",
       "hABKI_Swe_IB_HET_M_8_weeks_HC_3  hABKI_Swe_IB_HET_M_8_weeks_HC_3   \n",
       "hABKI_Swe_IB_HET_M_8_weeks_HC_1  hABKI_Swe_IB_HET_M_8_weeks_HC_1   \n",
       "\n",
       "                                 total_counts batch mouse_id  study  \\\n",
       "dataset                                                               \n",
       "hABKI_Swe_IB_HET_F_8_weeks_HC_1     4864720.0     0    19613  ad008   \n",
       "hABKI_Swe_IB_HET_F_8_weeks_HC_2     5706665.0     0    19614  ad008   \n",
       "hABKI_Swe_IB_HET_F_8_weeks_HC_3     3149221.0     0    20564  ad008   \n",
       "hABKI_Swe_IB_HET_M_8_weeks_HC_3     6563375.0     0    19994  ad008   \n",
       "hABKI_Swe_IB_HET_M_8_weeks_HC_1     5149424.0     0    19573  ad008   \n",
       "\n",
       "                                         genotype sex      age tissue  \\\n",
       "dataset                                                                 \n",
       "hABKI_Swe_IB_HET_F_8_weeks_HC_1  hABKI_Swe_IB_HET   F  8_weeks     HC   \n",
       "hABKI_Swe_IB_HET_F_8_weeks_HC_2  hABKI_Swe_IB_HET   F  8_weeks     HC   \n",
       "hABKI_Swe_IB_HET_F_8_weeks_HC_3  hABKI_Swe_IB_HET   F  8_weeks     HC   \n",
       "hABKI_Swe_IB_HET_M_8_weeks_HC_3  hABKI_Swe_IB_HET   M  8_weeks     HC   \n",
       "hABKI_Swe_IB_HET_M_8_weeks_HC_1  hABKI_Swe_IB_HET   M  8_weeks     HC   \n",
       "\n",
       "                                biorep_num  \n",
       "dataset                                     \n",
       "hABKI_Swe_IB_HET_F_8_weeks_HC_1          1  \n",
       "hABKI_Swe_IB_HET_F_8_weeks_HC_2          2  \n",
       "hABKI_Swe_IB_HET_F_8_weeks_HC_3          3  \n",
       "hABKI_Swe_IB_HET_M_8_weeks_HC_3          3  \n",
       "hABKI_Swe_IB_HET_M_8_weeks_HC_1          1  "
      ]
     },
     "execution_count": 7,
     "metadata": {},
     "output_type": "execute_result"
    }
   ],
   "source": [
    "sg.adata.obs.head()"
   ]
  },
  {
   "cell_type": "code",
   "execution_count": 9,
   "id": "54ac67d6-9d3b-4f4c-89de-6576a582e2c7",
   "metadata": {},
   "outputs": [
    {
     "data": {
      "text/plain": [
       "array(['F', 'M'], dtype=object)"
      ]
     },
     "execution_count": 9,
     "metadata": {},
     "output_type": "execute_result"
    }
   ],
   "source": [
    "sg.adata.obs.sex.unique()"
   ]
  },
  {
   "cell_type": "code",
   "execution_count": null,
   "id": "476708d7-a601-4c7f-84d4-63d1cca3ec56",
   "metadata": {},
   "outputs": [],
   "source": [
    "# compare genotypes for f, m, and f+m\n"
   ]
  }
 ],
 "metadata": {
  "kernelspec": {
   "display_name": "Python 3",
   "language": "python",
   "name": "python3"
  },
  "language_info": {
   "codemirror_mode": {
    "name": "ipython",
    "version": 3
   },
   "file_extension": ".py",
   "mimetype": "text/x-python",
   "name": "python",
   "nbconvert_exporter": "python",
   "pygments_lexer": "ipython3",
   "version": "3.7.12"
  }
 },
 "nbformat": 4,
 "nbformat_minor": 5
}
