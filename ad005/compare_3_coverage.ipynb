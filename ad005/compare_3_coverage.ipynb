{
 "cells": [
  {
   "cell_type": "code",
   "execution_count": 11,
   "id": "ea23726a-9a8f-48ad-a906-acf0d2c8f525",
   "metadata": {},
   "outputs": [],
   "source": [
    "import swan_vis as swan"
   ]
  },
  {
   "cell_type": "code",
   "execution_count": 12,
   "id": "ada2b949-4f15-4626-aae5-00842d623786",
   "metadata": {},
   "outputs": [
    {
     "name": "stdout",
     "output_type": "stream",
     "text": [
      "Read in graph from swan.p\n"
     ]
    }
   ],
   "source": [
    "sg = swan.read('swan.p')"
   ]
  },
  {
   "cell_type": "code",
   "execution_count": 3,
   "id": "2cfb1070-5dc9-4537-9443-d7aa645f0fd1",
   "metadata": {},
   "outputs": [
    {
     "data": {
      "text/html": [
       "<div>\n",
       "<style scoped>\n",
       "    .dataframe tbody tr th:only-of-type {\n",
       "        vertical-align: middle;\n",
       "    }\n",
       "\n",
       "    .dataframe tbody tr th {\n",
       "        vertical-align: top;\n",
       "    }\n",
       "\n",
       "    .dataframe thead th {\n",
       "        text-align: right;\n",
       "    }\n",
       "</style>\n",
       "<table border=\"1\" class=\"dataframe\">\n",
       "  <thead>\n",
       "    <tr style=\"text-align: right;\">\n",
       "      <th></th>\n",
       "      <th>dataset</th>\n",
       "      <th>total_counts</th>\n",
       "      <th>batch</th>\n",
       "      <th>sample</th>\n",
       "      <th>mouse_id</th>\n",
       "      <th>genotype</th>\n",
       "      <th>sex</th>\n",
       "      <th>study</th>\n",
       "      <th>age</th>\n",
       "      <th>tissue</th>\n",
       "      <th>biorep_num</th>\n",
       "      <th>platform</th>\n",
       "      <th>talon_run_num</th>\n",
       "    </tr>\n",
       "    <tr>\n",
       "      <th>index</th>\n",
       "      <th></th>\n",
       "      <th></th>\n",
       "      <th></th>\n",
       "      <th></th>\n",
       "      <th></th>\n",
       "      <th></th>\n",
       "      <th></th>\n",
       "      <th></th>\n",
       "      <th></th>\n",
       "      <th></th>\n",
       "      <th></th>\n",
       "      <th></th>\n",
       "      <th></th>\n",
       "    </tr>\n",
       "  </thead>\n",
       "  <tbody>\n",
       "    <tr>\n",
       "      <th>5xBIN1_HO_F_4_months_HC_2</th>\n",
       "      <td>5xBIN1_HO_F_4_months_HC_2</td>\n",
       "      <td>2063701.0</td>\n",
       "      <td>0</td>\n",
       "      <td>5xBIN1_HO_F_4_months_HC</td>\n",
       "      <td>13022</td>\n",
       "      <td>5xBIN1_HO</td>\n",
       "      <td>F</td>\n",
       "      <td>ad005</td>\n",
       "      <td>4_months</td>\n",
       "      <td>HC</td>\n",
       "      <td>2</td>\n",
       "      <td>ONT</td>\n",
       "      <td>1</td>\n",
       "    </tr>\n",
       "    <tr>\n",
       "      <th>5xBIN1_HO_F_4_months_HC_1</th>\n",
       "      <td>5xBIN1_HO_F_4_months_HC_1</td>\n",
       "      <td>1615349.0</td>\n",
       "      <td>0</td>\n",
       "      <td>5xBIN1_HO_F_4_months_HC</td>\n",
       "      <td>13019</td>\n",
       "      <td>5xBIN1_HO</td>\n",
       "      <td>F</td>\n",
       "      <td>ad005</td>\n",
       "      <td>4_months</td>\n",
       "      <td>HC</td>\n",
       "      <td>1</td>\n",
       "      <td>ONT</td>\n",
       "      <td>1</td>\n",
       "    </tr>\n",
       "    <tr>\n",
       "      <th>BIN1_HO_F_4_months_HC_2</th>\n",
       "      <td>BIN1_HO_F_4_months_HC_2</td>\n",
       "      <td>3957167.0</td>\n",
       "      <td>0</td>\n",
       "      <td>BIN1_HO_F_4_months_HC</td>\n",
       "      <td>13047</td>\n",
       "      <td>BIN1_HO</td>\n",
       "      <td>F</td>\n",
       "      <td>ad005</td>\n",
       "      <td>4_months</td>\n",
       "      <td>HC</td>\n",
       "      <td>2</td>\n",
       "      <td>ONT</td>\n",
       "      <td>1</td>\n",
       "    </tr>\n",
       "    <tr>\n",
       "      <th>5xBIN1_HO_F_4_months_HC_3</th>\n",
       "      <td>5xBIN1_HO_F_4_months_HC_3</td>\n",
       "      <td>3269263.0</td>\n",
       "      <td>0</td>\n",
       "      <td>5xBIN1_HO_F_4_months_HC</td>\n",
       "      <td>13053</td>\n",
       "      <td>5xBIN1_HO</td>\n",
       "      <td>F</td>\n",
       "      <td>ad005</td>\n",
       "      <td>4_months</td>\n",
       "      <td>HC</td>\n",
       "      <td>3</td>\n",
       "      <td>ONT</td>\n",
       "      <td>1</td>\n",
       "    </tr>\n",
       "    <tr>\n",
       "      <th>BIN1_HO_F_4_months_HC_3</th>\n",
       "      <td>BIN1_HO_F_4_months_HC_3</td>\n",
       "      <td>5867917.0</td>\n",
       "      <td>0</td>\n",
       "      <td>BIN1_HO_F_4_months_HC</td>\n",
       "      <td>13051</td>\n",
       "      <td>BIN1_HO</td>\n",
       "      <td>F</td>\n",
       "      <td>ad005</td>\n",
       "      <td>4_months</td>\n",
       "      <td>HC</td>\n",
       "      <td>3</td>\n",
       "      <td>ONT</td>\n",
       "      <td>2</td>\n",
       "    </tr>\n",
       "  </tbody>\n",
       "</table>\n",
       "</div>"
      ],
      "text/plain": [
       "                                             dataset  total_counts batch  \\\n",
       "index                                                                      \n",
       "5xBIN1_HO_F_4_months_HC_2  5xBIN1_HO_F_4_months_HC_2     2063701.0     0   \n",
       "5xBIN1_HO_F_4_months_HC_1  5xBIN1_HO_F_4_months_HC_1     1615349.0     0   \n",
       "BIN1_HO_F_4_months_HC_2      BIN1_HO_F_4_months_HC_2     3957167.0     0   \n",
       "5xBIN1_HO_F_4_months_HC_3  5xBIN1_HO_F_4_months_HC_3     3269263.0     0   \n",
       "BIN1_HO_F_4_months_HC_3      BIN1_HO_F_4_months_HC_3     5867917.0     0   \n",
       "\n",
       "                                            sample mouse_id   genotype sex  \\\n",
       "index                                                                        \n",
       "5xBIN1_HO_F_4_months_HC_2  5xBIN1_HO_F_4_months_HC    13022  5xBIN1_HO   F   \n",
       "5xBIN1_HO_F_4_months_HC_1  5xBIN1_HO_F_4_months_HC    13019  5xBIN1_HO   F   \n",
       "BIN1_HO_F_4_months_HC_2      BIN1_HO_F_4_months_HC    13047    BIN1_HO   F   \n",
       "5xBIN1_HO_F_4_months_HC_3  5xBIN1_HO_F_4_months_HC    13053  5xBIN1_HO   F   \n",
       "BIN1_HO_F_4_months_HC_3      BIN1_HO_F_4_months_HC    13051    BIN1_HO   F   \n",
       "\n",
       "                           study       age tissue biorep_num platform  \\\n",
       "index                                                                   \n",
       "5xBIN1_HO_F_4_months_HC_2  ad005  4_months     HC          2      ONT   \n",
       "5xBIN1_HO_F_4_months_HC_1  ad005  4_months     HC          1      ONT   \n",
       "BIN1_HO_F_4_months_HC_2    ad005  4_months     HC          2      ONT   \n",
       "5xBIN1_HO_F_4_months_HC_3  ad005  4_months     HC          3      ONT   \n",
       "BIN1_HO_F_4_months_HC_3    ad005  4_months     HC          3      ONT   \n",
       "\n",
       "                          talon_run_num  \n",
       "index                                    \n",
       "5xBIN1_HO_F_4_months_HC_2             1  \n",
       "5xBIN1_HO_F_4_months_HC_1             1  \n",
       "BIN1_HO_F_4_months_HC_2               1  \n",
       "5xBIN1_HO_F_4_months_HC_3             1  \n",
       "BIN1_HO_F_4_months_HC_3               2  "
      ]
     },
     "execution_count": 3,
     "metadata": {},
     "output_type": "execute_result"
    }
   ],
   "source": [
    "sg.adata.obs.head()"
   ]
  },
  {
   "cell_type": "code",
   "execution_count": 5,
   "id": "a476628b-52da-485b-be84-65e2c2036857",
   "metadata": {},
   "outputs": [
    {
     "data": {
      "text/plain": [
       "index\n",
       "BIN1_HO_F_4_months_HC_2    13047\n",
       "BIN1_HO_F_4_months_HC_3    13051\n",
       "BIN1_HO_F_4_months_HC_1    13036\n",
       "Name: mouse_id, dtype: object"
      ]
     },
     "execution_count": 5,
     "metadata": {},
     "output_type": "execute_result"
    }
   ],
   "source": [
    "sg.adata.obs.loc[sg.adata.obs.genotype=='BIN1_HO'].mouse_id\n",
    "# all are valid but 13051 based on mouse ids in `/share/crsp/lab/model-ad/share/analysis/bulk_novogene/5xBin1/dataexpressionList_sorted.csv`\n",
    "# head expressionList_sorted.csv | head -1 | grep 13036"
   ]
  },
  {
   "cell_type": "code",
   "execution_count": 6,
   "id": "9a4cc279-a3eb-4d55-9df5-552fbfcf3b8d",
   "metadata": {},
   "outputs": [
    {
     "data": {
      "text/plain": [
       "index\n",
       "5xBIN1_HO_F_4_months_HC_2    13022\n",
       "5xBIN1_HO_F_4_months_HC_1    13019\n",
       "5xBIN1_HO_F_4_months_HC_3    13053\n",
       "Name: mouse_id, dtype: object"
      ]
     },
     "execution_count": 6,
     "metadata": {},
     "output_type": "execute_result"
    }
   ],
   "source": [
    "sg.adata.obs.loc[sg.adata.obs.genotype=='5xBIN1_HO'].mouse_id\n",
    "# only 13019 is valid"
   ]
  },
  {
   "cell_type": "code",
   "execution_count": 8,
   "id": "c7d51af4-cfe3-47a7-8939-e41ca62c585d",
   "metadata": {},
   "outputs": [
    {
     "data": {
      "text/plain": [
       "index\n",
       "5xFADWT_F_4_months_HC_1    11627\n",
       "5xFADWT_F_4_months_HC_3    11629\n",
       "5xFADWT_F_4_months_HC_2    11628\n",
       "Name: mouse_id, dtype: object"
      ]
     },
     "execution_count": 8,
     "metadata": {},
     "output_type": "execute_result"
    }
   ],
   "source": [
    "sg.adata.obs.loc[sg.adata.obs.genotype=='5xFADWT'].mouse_id\n",
    "# 11627 and 11629 are good"
   ]
  },
  {
   "cell_type": "code",
   "execution_count": 9,
   "id": "11021ae6-53f0-4b56-93fa-b7226298f046",
   "metadata": {},
   "outputs": [
    {
     "data": {
      "text/plain": [
       "index\n",
       "5xFADHEMI_F_4_months_HC_1    11616\n",
       "5xFADHEMI_F_4_months_HC_3    11625\n",
       "5xFADHEMI_F_4_months_HC_2    11617\n",
       "Name: mouse_id, dtype: object"
      ]
     },
     "execution_count": 9,
     "metadata": {},
     "output_type": "execute_result"
    }
   ],
   "source": [
    "sg.adata.obs.loc[sg.adata.obs.genotype=='5xFADHEMI'].mouse_id\n",
    "# all are good"
   ]
  },
  {
   "cell_type": "code",
   "execution_count": 5,
   "id": "5b93d198-b5c0-46e9-b97a-289486fb4a36",
   "metadata": {},
   "outputs": [],
   "source": [
    "import pandas as pd"
   ]
  },
  {
   "cell_type": "code",
   "execution_count": 6,
   "id": "dbe20926-f1af-40c6-bf1b-3a2011923d9b",
   "metadata": {},
   "outputs": [],
   "source": [
    "sr_files = ['/share/crsp/lab/model-ad/share/bulkRNA/5x_GWAS/5xBin1/5xBin1_4mo/hipp_F_BIN1_HO_4mo_13047_S16-STARAligned.out.bam',\n",
    "            '/share/crsp/lab/model-ad/share/bulkRNA/5x_GWAS/5xBin1/5xBin1_4mo/hipp_F_5xFADHEMI_BIN1_HO_4mo_13019_S1-STARAligned.out.bam',\n",
    "            '/share/crsp/lab/model-ad/share/bulkRNA/5x_GWAS/5xGWAScontrols_4mo_2021July/hipp_F_5xFADWT_4mo_11627_S43-STARAligned.out.bam',\n",
    "            '/share/crsp/lab/model-ad/share/bulkRNA/5x_GWAS/5xGWAScontrols_4mo_2021July/hipp_F_5xFADHEMI_4mo_11616_S21-STARAligned.out.bam']\n",
    "sr_df = pd.DataFrame(data=sr_files, columns=['fname'])\n",
    "sr_df['mouse_id'] = sr_df['fname'].str.rsplit('_', n=3, expand=True)[2]\n"
   ]
  },
  {
   "cell_type": "code",
   "execution_count": 13,
   "id": "8d99cd48-c326-40dc-b4cf-f2b85d0b395c",
   "metadata": {},
   "outputs": [
    {
     "data": {
      "text/html": [
       "<div>\n",
       "<style scoped>\n",
       "    .dataframe tbody tr th:only-of-type {\n",
       "        vertical-align: middle;\n",
       "    }\n",
       "\n",
       "    .dataframe tbody tr th {\n",
       "        vertical-align: top;\n",
       "    }\n",
       "\n",
       "    .dataframe thead th {\n",
       "        text-align: right;\n",
       "    }\n",
       "</style>\n",
       "<table border=\"1\" class=\"dataframe\">\n",
       "  <thead>\n",
       "    <tr style=\"text-align: right;\">\n",
       "      <th></th>\n",
       "      <th>dataset</th>\n",
       "      <th>total_counts</th>\n",
       "      <th>batch</th>\n",
       "      <th>sample</th>\n",
       "      <th>mouse_id</th>\n",
       "      <th>genotype</th>\n",
       "      <th>sex</th>\n",
       "      <th>study</th>\n",
       "      <th>age</th>\n",
       "      <th>tissue</th>\n",
       "      <th>biorep_num</th>\n",
       "      <th>platform</th>\n",
       "      <th>talon_run_num</th>\n",
       "    </tr>\n",
       "    <tr>\n",
       "      <th>index</th>\n",
       "      <th></th>\n",
       "      <th></th>\n",
       "      <th></th>\n",
       "      <th></th>\n",
       "      <th></th>\n",
       "      <th></th>\n",
       "      <th></th>\n",
       "      <th></th>\n",
       "      <th></th>\n",
       "      <th></th>\n",
       "      <th></th>\n",
       "      <th></th>\n",
       "      <th></th>\n",
       "    </tr>\n",
       "  </thead>\n",
       "  <tbody>\n",
       "    <tr>\n",
       "      <th>5xBIN1_HO_F_4_months_HC_1</th>\n",
       "      <td>5xBIN1_HO_F_4_months_HC_1</td>\n",
       "      <td>1615349.0</td>\n",
       "      <td>0</td>\n",
       "      <td>5xBIN1_HO_F_4_months_HC</td>\n",
       "      <td>13019</td>\n",
       "      <td>5xBIN1_HO</td>\n",
       "      <td>F</td>\n",
       "      <td>ad005</td>\n",
       "      <td>4_months</td>\n",
       "      <td>HC</td>\n",
       "      <td>1</td>\n",
       "      <td>ONT</td>\n",
       "      <td>1</td>\n",
       "    </tr>\n",
       "    <tr>\n",
       "      <th>BIN1_HO_F_4_months_HC_2</th>\n",
       "      <td>BIN1_HO_F_4_months_HC_2</td>\n",
       "      <td>3957167.0</td>\n",
       "      <td>0</td>\n",
       "      <td>BIN1_HO_F_4_months_HC</td>\n",
       "      <td>13047</td>\n",
       "      <td>BIN1_HO</td>\n",
       "      <td>F</td>\n",
       "      <td>ad005</td>\n",
       "      <td>4_months</td>\n",
       "      <td>HC</td>\n",
       "      <td>2</td>\n",
       "      <td>ONT</td>\n",
       "      <td>1</td>\n",
       "    </tr>\n",
       "    <tr>\n",
       "      <th>5xFADHEMI_F_4_months_HC_1</th>\n",
       "      <td>5xFADHEMI_F_4_months_HC_1</td>\n",
       "      <td>4956181.0</td>\n",
       "      <td>1</td>\n",
       "      <td>5xFADHEMI_F_4_months_HC</td>\n",
       "      <td>11616</td>\n",
       "      <td>5xFADHEMI</td>\n",
       "      <td>F</td>\n",
       "      <td>ad003</td>\n",
       "      <td>4_months</td>\n",
       "      <td>HC</td>\n",
       "      <td>1</td>\n",
       "      <td>ONT</td>\n",
       "      <td>1</td>\n",
       "    </tr>\n",
       "    <tr>\n",
       "      <th>5xFADWT_F_4_months_HC_1</th>\n",
       "      <td>5xFADWT_F_4_months_HC_1</td>\n",
       "      <td>4943353.0</td>\n",
       "      <td>1</td>\n",
       "      <td>5xFADWT_F_4_months_HC</td>\n",
       "      <td>11627</td>\n",
       "      <td>5xFADWT</td>\n",
       "      <td>F</td>\n",
       "      <td>ad003</td>\n",
       "      <td>4_months</td>\n",
       "      <td>HC</td>\n",
       "      <td>1</td>\n",
       "      <td>ONT</td>\n",
       "      <td>3</td>\n",
       "    </tr>\n",
       "  </tbody>\n",
       "</table>\n",
       "</div>"
      ],
      "text/plain": [
       "                                             dataset  total_counts batch  \\\n",
       "index                                                                      \n",
       "5xBIN1_HO_F_4_months_HC_1  5xBIN1_HO_F_4_months_HC_1     1615349.0     0   \n",
       "BIN1_HO_F_4_months_HC_2      BIN1_HO_F_4_months_HC_2     3957167.0     0   \n",
       "5xFADHEMI_F_4_months_HC_1  5xFADHEMI_F_4_months_HC_1     4956181.0     1   \n",
       "5xFADWT_F_4_months_HC_1      5xFADWT_F_4_months_HC_1     4943353.0     1   \n",
       "\n",
       "                                            sample mouse_id   genotype sex  \\\n",
       "index                                                                        \n",
       "5xBIN1_HO_F_4_months_HC_1  5xBIN1_HO_F_4_months_HC    13019  5xBIN1_HO   F   \n",
       "BIN1_HO_F_4_months_HC_2      BIN1_HO_F_4_months_HC    13047    BIN1_HO   F   \n",
       "5xFADHEMI_F_4_months_HC_1  5xFADHEMI_F_4_months_HC    11616  5xFADHEMI   F   \n",
       "5xFADWT_F_4_months_HC_1      5xFADWT_F_4_months_HC    11627    5xFADWT   F   \n",
       "\n",
       "                           study       age tissue biorep_num platform  \\\n",
       "index                                                                   \n",
       "5xBIN1_HO_F_4_months_HC_1  ad005  4_months     HC          1      ONT   \n",
       "BIN1_HO_F_4_months_HC_2    ad005  4_months     HC          2      ONT   \n",
       "5xFADHEMI_F_4_months_HC_1  ad003  4_months     HC          1      ONT   \n",
       "5xFADWT_F_4_months_HC_1    ad003  4_months     HC          1      ONT   \n",
       "\n",
       "                          talon_run_num  \n",
       "index                                    \n",
       "5xBIN1_HO_F_4_months_HC_1             1  \n",
       "BIN1_HO_F_4_months_HC_2               1  \n",
       "5xFADHEMI_F_4_months_HC_1             1  \n",
       "5xFADWT_F_4_months_HC_1               3  "
      ]
     },
     "execution_count": 13,
     "metadata": {},
     "output_type": "execute_result"
    }
   ],
   "source": [
    "sg.adata.obs.loc[sg.adata.obs.mouse_id.isin(sr_df.mouse_id.tolist())]\n",
    "                                            "
   ]
  },
  {
   "cell_type": "code",
   "execution_count": null,
   "id": "4e662aee-878b-47e4-8ab3-bedca3405aaf",
   "metadata": {},
   "outputs": [],
   "source": []
  },
  {
   "cell_type": "code",
   "execution_count": 3,
   "id": "258a28ee-d390-46d8-9b6e-f472a14ae348",
   "metadata": {},
   "outputs": [
    {
     "data": {
      "text/plain": [
       "'13047'"
      ]
     },
     "execution_count": 3,
     "metadata": {},
     "output_type": "execute_result"
    }
   ],
   "source": [
    "f = '/share/crsp/lab/model-ad/share/bulkRNA/5x_GWAS/5xBin1/5xBin1_4mo/hipp_F_BIN1_HO_4mo_13047_S16-STARAligned.out.bam'\n",
    "f.rsplit('_', 3)[2]"
   ]
  },
  {
   "cell_type": "code",
   "execution_count": null,
   "id": "766b5ae4-afd6-45f5-a47a-5a9f93b10263",
   "metadata": {},
   "outputs": [],
   "source": []
  }
 ],
 "metadata": {
  "kernelspec": {
   "display_name": "Python 3",
   "language": "python",
   "name": "python3"
  },
  "language_info": {
   "codemirror_mode": {
    "name": "ipython",
    "version": 3
   },
   "file_extension": ".py",
   "mimetype": "text/x-python",
   "name": "python",
   "nbconvert_exporter": "python",
   "pygments_lexer": "ipython3",
   "version": "3.7.12"
  }
 },
 "nbformat": 4,
 "nbformat_minor": 5
}
