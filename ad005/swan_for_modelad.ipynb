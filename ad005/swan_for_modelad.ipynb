{
 "cells": [
  {
   "cell_type": "code",
   "execution_count": 1,
   "id": "ddf551cb-84cc-41cc-9498-bb6b765de73a",
   "metadata": {},
   "outputs": [],
   "source": [
    "import swan_vis as swan\n",
    "import pandas as pd\n",
    "import met_brewer\n",
    "import seaborn as sns"
   ]
  },
  {
   "cell_type": "code",
   "execution_count": 2,
   "id": "469e6697-9db4-42cc-8689-11446ebfc156",
   "metadata": {},
   "outputs": [
    {
     "name": "stdout",
     "output_type": "stream",
     "text": [
      "Read in graph from swan.p\n"
     ]
    }
   ],
   "source": [
    "swan_file = 'swan.p'\n",
    "sg = swan.read(swan_file)"
   ]
  },
  {
   "cell_type": "code",
   "execution_count": 3,
   "id": "8d2da4ba-42c4-41de-bffa-b3632e26ae1b",
   "metadata": {},
   "outputs": [
    {
     "data": {
      "text/plain": [
       "['5xBIN1_HO', 'BIN1_HO', '5xCLU-h2kbKI_HO', '5xFADHEMI', 'CLU-h2kbKI_HO', '5xFADWT']\n",
       "Categories (6, object): ['5xBIN1_HO', '5xCLU-h2kbKI_HO', '5xFADHEMI', '5xFADWT', 'BIN1_HO', 'CLU-h2kbKI_HO']"
      ]
     },
     "execution_count": 3,
     "metadata": {},
     "output_type": "execute_result"
    }
   ],
   "source": [
    "sg.adata.obs.genotype.unique()"
   ]
  },
  {
   "cell_type": "code",
   "execution_count": 4,
   "id": "9c7ab84e-2c0f-4ce0-96dd-28a937b461fe",
   "metadata": {},
   "outputs": [],
   "source": [
    "# change me (based on valid values from prev. block\n",
    "genotypes = ['BIN1_HO', '5xBIN1_HO', '5xFADWT', '5xFADHEMI']"
   ]
  },
  {
   "cell_type": "code",
   "execution_count": 5,
   "id": "b0457d02-9183-4d96-a1b3-8aae15e12038",
   "metadata": {},
   "outputs": [],
   "source": [
    "def plot_report(sg, gene):\n",
    "    study = sg.adata.obs.study.tolist()[0]\n",
    "    sg.gen_report(g,\n",
    "                  f'figures/{g}_{study}',\n",
    "                  novelty=True,\n",
    "                  cmap='viridis',\n",
    "                  indicate_novel=True,\n",
    "                  transcript_col='tname',\n",
    "                  metadata_cols=['genotype', 'sex', 'tissue', 'age'],\n",
    "                  datasets={'genotype': genotypes})\n",
    "    sg.gen_report(g,\n",
    "                  f'figures/{g}_{study}',\n",
    "                  novelty=True,\n",
    "                  cmap='viridis',\n",
    "                  transcript_col='tname',\n",
    "                  display_numbers=True,\n",
    "                  browser=True,\n",
    "                  layer='pi',\n",
    "                  metadata_cols=['genotype', 'sex', 'tissue', 'age'],\n",
    "                  datasets={'genotype': genotypes})"
   ]
  },
  {
   "cell_type": "code",
   "execution_count": 6,
   "id": "5b8d3ae2-2c10-4c14-af3a-57a37c1bc829",
   "metadata": {},
   "outputs": [
    {
     "name": "stdout",
     "output_type": "stream",
     "text": [
      "\n",
      "Plotting transcripts for ENSMUSG00000000567\n",
      "Saving transcript path graph for ENSMUSG00000000567[1,1,1] as figures/Sox9_ad005_novel_ENSMUSG00000000567[1,1,1]_path.png\n",
      "Saving transcript path graph for ENSMUSG00000000567[1,1,4] as figures/Sox9_ad005_novel_ENSMUSG00000000567[1,1,4]_path.png\n",
      "Saving transcript path graph for ENSMUSG00000000567[1,1,3] as figures/Sox9_ad005_novel_ENSMUSG00000000567[1,1,3]_path.png\n",
      "Saving transcript path graph for ENSMUSG00000000567[2,2,5] as figures/Sox9_ad005_novel_ENSMUSG00000000567[2,2,5]_path.png\n",
      "Saving transcript path graph for ENSMUSG00000000567[2,2,1] as figures/Sox9_ad005_novel_ENSMUSG00000000567[2,2,1]_path.png\n",
      "Saving transcript path graph for ENSMUSG00000000567[1,1,5] as figures/Sox9_ad005_novel_ENSMUSG00000000567[1,1,5]_path.png\n",
      "Saving transcript path graph for ENSMUSG00000000567[2,2,4] as figures/Sox9_ad005_novel_ENSMUSG00000000567[2,2,4]_path.png\n",
      "Saving transcript path graph for ENSMUSG00000000567[2,2,3] as figures/Sox9_ad005_novel_ENSMUSG00000000567[2,2,3]_path.png\n",
      "Saving transcript path graph for ENSMUSG00000000567[1,3,3] as figures/Sox9_ad005_novel_ENSMUSG00000000567[1,3,3]_path.png\n",
      "Saving transcript path graph for ENSMUSG00000000567[1,3,4] as figures/Sox9_ad005_novel_ENSMUSG00000000567[1,3,4]_path.png\n",
      "Generating report for ENSMUSG00000000567\n",
      "\n",
      "Plotting transcripts for ENSMUSG00000000567\n",
      "Saving transcript path graph for ENSMUSG00000000567[1,1,1] as figures/Sox9_ad005_browser_ENSMUSG00000000567[1,1,1]_path.png\n",
      "Saving transcript path graph for ENSMUSG00000000567[1,1,4] as figures/Sox9_ad005_browser_ENSMUSG00000000567[1,1,4]_path.png\n",
      "Saving transcript path graph for ENSMUSG00000000567[1,1,3] as figures/Sox9_ad005_browser_ENSMUSG00000000567[1,1,3]_path.png\n",
      "Saving transcript path graph for ENSMUSG00000000567[2,2,5] as figures/Sox9_ad005_browser_ENSMUSG00000000567[2,2,5]_path.png\n",
      "Saving transcript path graph for ENSMUSG00000000567[2,2,1] as figures/Sox9_ad005_browser_ENSMUSG00000000567[2,2,1]_path.png\n",
      "Saving transcript path graph for ENSMUSG00000000567[1,1,5] as figures/Sox9_ad005_browser_ENSMUSG00000000567[1,1,5]_path.png\n",
      "Saving transcript path graph for ENSMUSG00000000567[2,2,4] as figures/Sox9_ad005_browser_ENSMUSG00000000567[2,2,4]_path.png\n",
      "Saving transcript path graph for ENSMUSG00000000567[2,2,3] as figures/Sox9_ad005_browser_ENSMUSG00000000567[2,2,3]_path.png\n",
      "Saving transcript path graph for ENSMUSG00000000567[1,3,3] as figures/Sox9_ad005_browser_ENSMUSG00000000567[1,3,3]_path.png\n",
      "Saving transcript path graph for ENSMUSG00000000567[1,3,4] as figures/Sox9_ad005_browser_ENSMUSG00000000567[1,3,4]_path.png\n",
      "Generating report for ENSMUSG00000000567\n"
     ]
    }
   ],
   "source": [
    "# change me\n",
    "g = 'Sox9'\n",
    "plot_report(sg,g)"
   ]
  },
  {
   "cell_type": "code",
   "execution_count": 7,
   "id": "3b30c3eb-4dcf-4939-a56a-fea6a266067a",
   "metadata": {},
   "outputs": [
    {
     "name": "stdout",
     "output_type": "stream",
     "text": [
      "\n",
      "Plotting transcripts for ENSMUSG00000026473\n",
      "Saving transcript path graph for ENSMUSG00000026473[1,8,5] as figures/Glul_ad005_novel_ENSMUSG00000026473[1,8,5]_path.png\n",
      "Saving transcript path graph for ENSMUSG00000026473[1,7,3] as figures/Glul_ad005_novel_ENSMUSG00000026473[1,7,3]_path.png\n",
      "Saving transcript path graph for ENSMUSG00000026473[1,7,4] as figures/Glul_ad005_novel_ENSMUSG00000026473[1,7,4]_path.png\n",
      "Saving transcript path graph for ENSMUSG00000026473[1,12,2] as figures/Glul_ad005_novel_ENSMUSG00000026473[1,12,2]_path.png\n",
      "Saving transcript path graph for ENSMUSG00000026473[1,8,2] as figures/Glul_ad005_novel_ENSMUSG00000026473[1,8,2]_path.png\n",
      "Saving transcript path graph for ENSMUSG00000026473[6,14,4] as figures/Glul_ad005_novel_ENSMUSG00000026473[6,14,4]_path.png\n",
      "Saving transcript path graph for ENSMUSG00000026473[5,13,6] as figures/Glul_ad005_novel_ENSMUSG00000026473[5,13,6]_path.png\n",
      "Saving transcript path graph for ENSMUSG00000026473[1,8,7] as figures/Glul_ad005_novel_ENSMUSG00000026473[1,8,7]_path.png\n",
      "Saving transcript path graph for ENSMUSG00000026473[1,10,3] as figures/Glul_ad005_novel_ENSMUSG00000026473[1,10,3]_path.png\n",
      "Saving transcript path graph for ENSMUSG00000026473[1,11,3] as figures/Glul_ad005_novel_ENSMUSG00000026473[1,11,3]_path.png\n",
      "Saving transcript path graph for ENSMUSG00000026473[1,9,3] as figures/Glul_ad005_novel_ENSMUSG00000026473[1,9,3]_path.png\n",
      "Generating report for ENSMUSG00000026473\n",
      "\n",
      "Plotting transcripts for ENSMUSG00000026473\n",
      "Saving transcript path graph for ENSMUSG00000026473[1,8,5] as figures/Glul_ad005_browser_ENSMUSG00000026473[1,8,5]_path.png\n",
      "Saving transcript path graph for ENSMUSG00000026473[1,7,3] as figures/Glul_ad005_browser_ENSMUSG00000026473[1,7,3]_path.png\n",
      "Saving transcript path graph for ENSMUSG00000026473[1,7,4] as figures/Glul_ad005_browser_ENSMUSG00000026473[1,7,4]_path.png\n",
      "Saving transcript path graph for ENSMUSG00000026473[1,12,2] as figures/Glul_ad005_browser_ENSMUSG00000026473[1,12,2]_path.png\n",
      "Saving transcript path graph for ENSMUSG00000026473[1,8,2] as figures/Glul_ad005_browser_ENSMUSG00000026473[1,8,2]_path.png\n",
      "Saving transcript path graph for ENSMUSG00000026473[6,14,4] as figures/Glul_ad005_browser_ENSMUSG00000026473[6,14,4]_path.png\n",
      "Saving transcript path graph for ENSMUSG00000026473[5,13,6] as figures/Glul_ad005_browser_ENSMUSG00000026473[5,13,6]_path.png\n",
      "Saving transcript path graph for ENSMUSG00000026473[1,8,7] as figures/Glul_ad005_browser_ENSMUSG00000026473[1,8,7]_path.png\n",
      "Saving transcript path graph for ENSMUSG00000026473[1,10,3] as figures/Glul_ad005_browser_ENSMUSG00000026473[1,10,3]_path.png\n",
      "Saving transcript path graph for ENSMUSG00000026473[1,11,3] as figures/Glul_ad005_browser_ENSMUSG00000026473[1,11,3]_path.png\n",
      "Saving transcript path graph for ENSMUSG00000026473[1,9,3] as figures/Glul_ad005_browser_ENSMUSG00000026473[1,9,3]_path.png\n",
      "Generating report for ENSMUSG00000026473\n"
     ]
    }
   ],
   "source": [
    "# change me\n",
    "g = 'Glul'\n",
    "plot_report(sg,g)"
   ]
  },
  {
   "cell_type": "code",
   "execution_count": null,
   "id": "8a3d18e8-9029-4ad7-a32e-e3863bf7c98a",
   "metadata": {},
   "outputs": [],
   "source": []
  }
 ],
 "metadata": {
  "kernelspec": {
   "display_name": "Python 3",
   "language": "python",
   "name": "python3"
  },
  "language_info": {
   "codemirror_mode": {
    "name": "ipython",
    "version": 3
   },
   "file_extension": ".py",
   "mimetype": "text/x-python",
   "name": "python",
   "nbconvert_exporter": "python",
   "pygments_lexer": "ipython3",
   "version": "3.7.12"
  }
 },
 "nbformat": 4,
 "nbformat_minor": 5
}
