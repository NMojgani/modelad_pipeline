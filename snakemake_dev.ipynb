{
 "cells": [
  {
   "cell_type": "code",
   "execution_count": 1,
   "id": "e39caf19-421e-470c-885c-aac8d7e2dc48",
   "metadata": {},
   "outputs": [],
   "source": [
    "import pandas as pd"
   ]
  },
  {
   "cell_type": "code",
   "execution_count": 81,
   "id": "a78e7e6c-e14f-47b9-8f95-4c5aed0e4a06",
   "metadata": {},
   "outputs": [],
   "source": [
    "df = pd.read_csv('230429_config.tsv', sep='\\t')\n",
    "\n",
    "# check to make sure the same file stem isn't there more than once \n",
    "# (can happen if different flow cells needed different amounts of chopping)\n",
    "df['file_stem'] = df.basename.str.rsplit('_', n=1, expand=True)[0]\n",
    "if df.file_stem.duplicated().any():\n",
    "    dupe_stems = df.loc[df.file_stem.duplicated(keep=False), 'basename'].tolist()\n",
    "    raise ValueError(f'Files {dupe_stems} seem to be duplicated. Check config file.')\n",
    "\n",
    "# extract the sample name (?)\n",
    "temp = df.basename.str.split('_', expand=True)[[0,1]]#.str.join('_')\n",
    "df['sample_temp'] = temp[0]+'_'+temp[1]\n",
    "\n",
    "# get tech rep numbers -- each mouse has multiple reps \n",
    "# and are therefore technical reps\n",
    "df['techrep_num'] = df.sort_values(['genotype', 'sample_temp'],\n",
    "\t\t\t\t\t\t\tascending=[True, True])\\\n",
    "\t\t\t\t\t\t\t.groupby(['sample_temp']) \\\n",
    "\t\t\t\t\t\t\t.cumcount() + 1\n",
    "\n",
    "# get biorep numbers -- each sample is a different mouse\n",
    "# and therefore a different biorep\n",
    "temp = df[['genotype', 'sample_temp']].drop_duplicates()\n",
    "temp.reset_index(inplace=True, drop=True)\n",
    "temp['biorep_num'] = temp.sort_values(['genotype', 'sample_temp'],\n",
    "\t\t\t\t\t\t\tascending=[True, True])\\\n",
    "\t\t\t\t\t\t\t.groupby(['genotype']) \\\n",
    "\t\t\t\t\t\t\t.cumcount()+1\n",
    "df = df.merge(temp, how='left',\n",
    "              on=['genotype', 'sample_temp'])\n",
    "\n",
    "# sample should be the genotype + mouse id \n",
    "# so genotype + biorep\n",
    "df['sample'] = df.genotype+'_'+df.biorep_num.astype(str)\n",
    "\n",
    "# dataset should be genotype + mouse id + tech rep \n",
    "df['dataset'] = df.genotype+'_'+df.biorep_num.astype(str)+'_'+df.techrep_num.astype(str)"
   ]
  },
  {
   "cell_type": "code",
   "execution_count": null,
   "id": "a4f5a19d-8973-4e75-8954-67e43d7a84f6",
   "metadata": {},
   "outputs": [],
   "source": []
  }
 ],
 "metadata": {
  "kernelspec": {
   "display_name": "Python 3",
   "language": "python",
   "name": "python3"
  },
  "language_info": {
   "codemirror_mode": {
    "name": "ipython",
    "version": 3
   },
   "file_extension": ".py",
   "mimetype": "text/x-python",
   "name": "python",
   "nbconvert_exporter": "python",
   "pygments_lexer": "ipython3",
   "version": "3.7.12"
  }
 },
 "nbformat": 4,
 "nbformat_minor": 5
}
