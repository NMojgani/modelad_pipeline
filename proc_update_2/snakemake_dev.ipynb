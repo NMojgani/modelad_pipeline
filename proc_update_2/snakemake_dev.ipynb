{
 "cells": [
  {
   "cell_type": "code",
   "execution_count": 1,
   "id": "e39caf19-421e-470c-885c-aac8d7e2dc48",
   "metadata": {},
   "outputs": [],
   "source": [
    "import pandas as pd\n",
    "import pdb\n",
    "import numpy as np\n",
    "import itertools\n",
    "from utils import *\n",
    "from sm_utils import *\n",
    "\n",
    "from snakemake.io import expand\n",
    "import yaml"
   ]
  },
  {
   "cell_type": "code",
   "execution_count": 2,
   "id": "338cfdd8-05e6-4c85-9464-2f43604fa1c7",
   "metadata": {},
   "outputs": [],
   "source": [
    "config_file = 'config.yml'\n",
    "with open(config_file) as f:\n",
    "    config = yaml.safe_load(f)"
   ]
  },
  {
   "cell_type": "markdown",
   "id": "4540666e-484c-45cb-9002-1907ef4b69c2",
   "metadata": {},
   "source": [
    "## 240129"
   ]
  },
  {
   "cell_type": "code",
   "execution_count": 3,
   "id": "399a35b2-1a07-4831-83a4-42f4f68ee383",
   "metadata": {},
   "outputs": [],
   "source": [
    "configfile: 'config.yml'\n",
    "config_tsv = 'config.tsv'\n",
    "p_meta_tsv = 'pseudochromosome_metadata.tsv'\n",
    "meta_tsv = 'mouse_metadata.tsv'\n",
    "an_meta_tsv = 'analysis_config.tsv'\n",
    "auto_dedupe = True\n",
    "\n",
    "df, p_df = parse_config_file_analysis(config_tsv,\n",
    "                       meta_tsv,\n",
    "                       p_meta_tsv,\n",
    "                       an_meta_tsv,\n",
    "                       auto_dedupe=auto_dedupe)"
   ]
  },
  {
   "cell_type": "code",
   "execution_count": 4,
   "id": "cbd36554-0b39-48a6-8667-491352b16778",
   "metadata": {},
   "outputs": [
    {
     "data": {
      "text/plain": [
       "91"
      ]
     },
     "execution_count": 4,
     "metadata": {},
     "output_type": "execute_result"
    }
   ],
   "source": [
    "len(p_df.index)"
   ]
  },
  {
   "cell_type": "code",
   "execution_count": null,
   "id": "deb62703-a769-4106-bf7c-f336dce7b5f1",
   "metadata": {},
   "outputs": [],
   "source": [
    "expand(config['ref']['cerberus']['ends'],\n",
    "               end_mode=end_modes)"
   ]
  },
  {
   "cell_type": "code",
   "execution_count": 6,
   "id": "1a34597b-d365-48c9-9ef8-ab6900b6ec38",
   "metadata": {},
   "outputs": [
    {
     "data": {
      "text/plain": [
       "array(['1', '2', '3', '4', '5', '6', '7', '8', '9', '10', '11', '12',\n",
       "       '13', '14', '15', '16', '17', '18', '19'], dtype=object)"
      ]
     },
     "execution_count": 6,
     "metadata": {},
     "output_type": "execute_result"
    }
   ],
   "source": [
    "df.cerberus_run.unique()"
   ]
  },
  {
   "cell_type": "code",
   "execution_count": null,
   "id": "1c8aefe3-f877-436b-8e17-3bdd10bad3bc",
   "metadata": {},
   "outputs": [],
   "source": []
  },
  {
   "cell_type": "code",
   "execution_count": null,
   "id": "cfa7c489-2e1d-48d5-a19f-c55f7a1b0e70",
   "metadata": {},
   "outputs": [],
   "source": []
  },
  {
   "cell_type": "code",
   "execution_count": null,
   "id": "507a5fe2-93d4-49d7-b369-e3d75e47e098",
   "metadata": {},
   "outputs": [],
   "source": []
  },
  {
   "cell_type": "code",
   "execution_count": null,
   "id": "b99d02bd-c69f-4b10-9cd1-29dd8bb05be8",
   "metadata": {},
   "outputs": [],
   "source": []
  },
  {
   "cell_type": "code",
   "execution_count": null,
   "id": "3783d162-ca46-40ff-8692-68855a94523d",
   "metadata": {},
   "outputs": [],
   "source": []
  }
 ],
 "metadata": {
  "kernelspec": {
   "display_name": "Python 3",
   "language": "python",
   "name": "python3"
  },
  "language_info": {
   "codemirror_mode": {
    "name": "ipython",
    "version": 3
   },
   "file_extension": ".py",
   "mimetype": "text/x-python",
   "name": "python",
   "nbconvert_exporter": "python",
   "pygments_lexer": "ipython3",
   "version": "3.7.12"
  }
 },
 "nbformat": 4,
 "nbformat_minor": 5
}
