{
 "cells": [
  {
   "cell_type": "code",
   "execution_count": 1,
   "id": "e39caf19-421e-470c-885c-aac8d7e2dc48",
   "metadata": {},
   "outputs": [],
   "source": [
    "import pandas as pd\n",
    "import pdb\n",
    "import numpy as np\n",
    "import itertools\n",
    "from utils import *\n",
    "from sm_utils import *\n",
    "\n",
    "from snakemake.io import expand\n",
    "import yaml"
   ]
  },
  {
   "cell_type": "code",
   "execution_count": 2,
   "id": "338cfdd8-05e6-4c85-9464-2f43604fa1c7",
   "metadata": {},
   "outputs": [],
   "source": [
    "config_file = 'config.yml'\n",
    "with open(config_file) as f:\n",
    "    config = yaml.safe_load(f)"
   ]
  },
  {
   "cell_type": "markdown",
   "id": "4540666e-484c-45cb-9002-1907ef4b69c2",
   "metadata": {},
   "source": [
    "## 240129"
   ]
  },
  {
   "cell_type": "code",
   "execution_count": 3,
   "id": "399a35b2-1a07-4831-83a4-42f4f68ee383",
   "metadata": {},
   "outputs": [],
   "source": [
    "configfile: 'config.yml'\n",
    "config_tsv = 'config.tsv'\n",
    "p_meta_tsv = 'pseudochromosome_metadata.tsv'\n",
    "meta_tsv = 'mouse_metadata.tsv'\n",
    "an_meta_tsv = 'test_analysis_config.tsv'\n",
    "auto_dedupe = True\n",
    "\n",
    "df, p_df = parse_config_file_analysis(config_tsv,\n",
    "                       meta_tsv,\n",
    "                       p_meta_tsv,\n",
    "                       an_meta_tsv,\n",
    "                       auto_dedupe=auto_dedupe)"
   ]
  },
  {
   "cell_type": "code",
   "execution_count": 4,
   "id": "cbd36554-0b39-48a6-8667-491352b16778",
   "metadata": {},
   "outputs": [
    {
     "data": {
      "text/plain": [
       "13"
      ]
     },
     "execution_count": 4,
     "metadata": {},
     "output_type": "execute_result"
    }
   ],
   "source": [
    "len(p_df.index)"
   ]
  },
  {
   "cell_type": "code",
   "execution_count": 5,
   "id": "b03967ad-d4b1-43da-81e0-e57aa0e889c2",
   "metadata": {},
   "outputs": [
    {
     "data": {
      "text/plain": [
       "Index(['batch', 'platform', 'fname', 'basename', 'path', 'flowcell',\n",
       "       'file_stem', 'chop_num', 'sample_temp', 'mouse_id', 'study', 'genotype',\n",
       "       'sex', 'age', 'tissue', 'pseudochrom_needed', 'pseudochrom', 'sample',\n",
       "       'biorep_num', 'dataset', 'source', 'genotype_sex', 'human_gene',\n",
       "       'mouse_gene', 'locus_type', 'notes', 'analysis', 'cerberus_run'],\n",
       "      dtype='object')"
      ]
     },
     "execution_count": 5,
     "metadata": {},
     "output_type": "execute_result"
    }
   ],
   "source": [
    "p_df.columns"
   ]
  },
  {
   "cell_type": "code",
   "execution_count": 6,
   "id": "e2fdd113-419a-4386-8a22-89e9e6796b2c",
   "metadata": {},
   "outputs": [
    {
     "data": {
      "text/plain": [
       "Index(['batch', 'platform', 'fname', 'basename', 'path', 'flowcell',\n",
       "       'file_stem', 'chop_num', 'sample_temp', 'mouse_id', 'study', 'genotype',\n",
       "       'sex', 'age', 'tissue', 'pseudochrom_needed', 'pseudochrom', 'sample',\n",
       "       'biorep_num', 'dataset', 'source', 'genotype_sex', 'cerberus_run'],\n",
       "      dtype='object')"
      ]
     },
     "execution_count": 6,
     "metadata": {},
     "output_type": "execute_result"
    }
   ],
   "source": [
    "df.columns"
   ]
  },
  {
   "cell_type": "code",
   "execution_count": null,
   "id": "16c8e6c8-2bda-4479-afcc-41b4914093f0",
   "metadata": {},
   "outputs": [],
   "source": [
    "wc = {'}"
   ]
  },
  {
   "cell_type": "code",
   "execution_count": 12,
   "id": "303fda36-3dfe-428a-8aa0-100f7831d074",
   "metadata": {},
   "outputs": [
    {
     "ename": "NameError",
     "evalue": "name 'wc' is not defined",
     "output_type": "error",
     "traceback": [
      "\u001b[0;31m---------------------------------------------------------------------------\u001b[0m",
      "\u001b[0;31mNameError\u001b[0m                                 Traceback (most recent call last)",
      "\u001b[0;32m<ipython-input-12-773142616077>\u001b[0m in \u001b[0;36m<module>\u001b[0;34m\u001b[0m\n\u001b[0;32m----> 1\u001b[0;31m \u001b[0mget_cfg_entries\u001b[0m\u001b[0;34m(\u001b[0m\u001b[0mwc\u001b[0m\u001b[0;34m,\u001b[0m \u001b[0mdf\u001b[0m\u001b[0;34m,\u001b[0m \u001b[0mconfig\u001b[0m\u001b[0;34m[\u001b[0m\u001b[0;34m'analysis'\u001b[0m\u001b[0;34m]\u001b[0m\u001b[0;34m[\u001b[0m\u001b[0;34m'cerberus'\u001b[0m\u001b[0;34m]\u001b[0m\u001b[0;34m[\u001b[0m\u001b[0;34m'gtf'\u001b[0m\u001b[0;34m]\u001b[0m\u001b[0;34m)\u001b[0m\u001b[0;34m\u001b[0m\u001b[0;34m\u001b[0m\u001b[0m\n\u001b[0m",
      "\u001b[0;31mNameError\u001b[0m: name 'wc' is not defined"
     ]
    }
   ],
   "source": [
    "get_cfg_entries(wc, df, config['analysis']['cerberus']['gtf'])"
   ]
  },
  {
   "cell_type": "code",
   "execution_count": 5,
   "id": "deb62703-a769-4106-bf7c-f336dce7b5f1",
   "metadata": {},
   "outputs": [
    {
     "data": {
      "text/plain": [
       "['analysis/hClu/swan/5xFADHEMI_vs_C57B6J_genotype_du_tss.tsv',\n",
       " 'analysis/hClu/swan/5xFADHEMI_vs_C57B6J_genotype_du_tes.tsv',\n",
       " 'analysis/hClu/swan/5xFADHEMI_vs_C57B6J_genotype_du_ic.tsv',\n",
       " 'analysis/hClu/swan/5xFADHEMI_vs_C57B6J_genotype_du_iso.tsv',\n",
       " 'analysis/hClu/swan/5xFADHEMI_vs_5xCLU-h2kbKI_HO_genotype_du_tss.tsv',\n",
       " 'analysis/hClu/swan/5xFADHEMI_vs_5xCLU-h2kbKI_HO_genotype_du_tes.tsv',\n",
       " 'analysis/hClu/swan/5xFADHEMI_vs_5xCLU-h2kbKI_HO_genotype_du_ic.tsv',\n",
       " 'analysis/hClu/swan/5xFADHEMI_vs_5xCLU-h2kbKI_HO_genotype_du_iso.tsv',\n",
       " 'analysis/hClu/swan/5xFADHEMI_vs_CLU-h2kbKI_HO_genotype_du_tss.tsv',\n",
       " 'analysis/hClu/swan/5xFADHEMI_vs_CLU-h2kbKI_HO_genotype_du_tes.tsv',\n",
       " 'analysis/hClu/swan/5xFADHEMI_vs_CLU-h2kbKI_HO_genotype_du_ic.tsv',\n",
       " 'analysis/hClu/swan/5xFADHEMI_vs_CLU-h2kbKI_HO_genotype_du_iso.tsv',\n",
       " 'analysis/hClu/swan/C57B6J_vs_5xCLU-h2kbKI_HO_genotype_du_tss.tsv',\n",
       " 'analysis/hClu/swan/C57B6J_vs_5xCLU-h2kbKI_HO_genotype_du_tes.tsv',\n",
       " 'analysis/hClu/swan/C57B6J_vs_5xCLU-h2kbKI_HO_genotype_du_ic.tsv',\n",
       " 'analysis/hClu/swan/C57B6J_vs_5xCLU-h2kbKI_HO_genotype_du_iso.tsv',\n",
       " 'analysis/hClu/swan/C57B6J_vs_CLU-h2kbKI_HO_genotype_du_tss.tsv',\n",
       " 'analysis/hClu/swan/C57B6J_vs_CLU-h2kbKI_HO_genotype_du_tes.tsv',\n",
       " 'analysis/hClu/swan/C57B6J_vs_CLU-h2kbKI_HO_genotype_du_ic.tsv',\n",
       " 'analysis/hClu/swan/C57B6J_vs_CLU-h2kbKI_HO_genotype_du_iso.tsv',\n",
       " 'analysis/hClu/swan/5xCLU-h2kbKI_HO_vs_CLU-h2kbKI_HO_genotype_du_tss.tsv',\n",
       " 'analysis/hClu/swan/5xCLU-h2kbKI_HO_vs_CLU-h2kbKI_HO_genotype_du_tes.tsv',\n",
       " 'analysis/hClu/swan/5xCLU-h2kbKI_HO_vs_CLU-h2kbKI_HO_genotype_du_ic.tsv',\n",
       " 'analysis/hClu/swan/5xCLU-h2kbKI_HO_vs_CLU-h2kbKI_HO_genotype_du_iso.tsv',\n",
       " 'analysis/hClu/swan/5xFADHEMI_F_vs_C57B6J_F_genotype_sex_du_tss.tsv',\n",
       " 'analysis/hClu/swan/5xFADHEMI_F_vs_C57B6J_F_genotype_sex_du_tes.tsv',\n",
       " 'analysis/hClu/swan/5xFADHEMI_F_vs_C57B6J_F_genotype_sex_du_ic.tsv',\n",
       " 'analysis/hClu/swan/5xFADHEMI_F_vs_C57B6J_F_genotype_sex_du_iso.tsv',\n",
       " 'analysis/hClu/swan/5xFADHEMI_F_vs_5xCLU-h2kbKI_HO_F_genotype_sex_du_tss.tsv',\n",
       " 'analysis/hClu/swan/5xFADHEMI_F_vs_5xCLU-h2kbKI_HO_F_genotype_sex_du_tes.tsv',\n",
       " 'analysis/hClu/swan/5xFADHEMI_F_vs_5xCLU-h2kbKI_HO_F_genotype_sex_du_ic.tsv',\n",
       " 'analysis/hClu/swan/5xFADHEMI_F_vs_5xCLU-h2kbKI_HO_F_genotype_sex_du_iso.tsv',\n",
       " 'analysis/hClu/swan/5xFADHEMI_F_vs_CLU-h2kbKI_HO_F_genotype_sex_du_tss.tsv',\n",
       " 'analysis/hClu/swan/5xFADHEMI_F_vs_CLU-h2kbKI_HO_F_genotype_sex_du_tes.tsv',\n",
       " 'analysis/hClu/swan/5xFADHEMI_F_vs_CLU-h2kbKI_HO_F_genotype_sex_du_ic.tsv',\n",
       " 'analysis/hClu/swan/5xFADHEMI_F_vs_CLU-h2kbKI_HO_F_genotype_sex_du_iso.tsv',\n",
       " 'analysis/hClu/swan/C57B6J_F_vs_5xCLU-h2kbKI_HO_F_genotype_sex_du_tss.tsv',\n",
       " 'analysis/hClu/swan/C57B6J_F_vs_5xCLU-h2kbKI_HO_F_genotype_sex_du_tes.tsv',\n",
       " 'analysis/hClu/swan/C57B6J_F_vs_5xCLU-h2kbKI_HO_F_genotype_sex_du_ic.tsv',\n",
       " 'analysis/hClu/swan/C57B6J_F_vs_5xCLU-h2kbKI_HO_F_genotype_sex_du_iso.tsv',\n",
       " 'analysis/hClu/swan/C57B6J_F_vs_CLU-h2kbKI_HO_F_genotype_sex_du_tss.tsv',\n",
       " 'analysis/hClu/swan/C57B6J_F_vs_CLU-h2kbKI_HO_F_genotype_sex_du_tes.tsv',\n",
       " 'analysis/hClu/swan/C57B6J_F_vs_CLU-h2kbKI_HO_F_genotype_sex_du_ic.tsv',\n",
       " 'analysis/hClu/swan/C57B6J_F_vs_CLU-h2kbKI_HO_F_genotype_sex_du_iso.tsv',\n",
       " 'analysis/hClu/swan/5xCLU-h2kbKI_HO_F_vs_CLU-h2kbKI_HO_F_genotype_sex_du_tss.tsv',\n",
       " 'analysis/hClu/swan/5xCLU-h2kbKI_HO_F_vs_CLU-h2kbKI_HO_F_genotype_sex_du_tes.tsv',\n",
       " 'analysis/hClu/swan/5xCLU-h2kbKI_HO_F_vs_CLU-h2kbKI_HO_F_genotype_sex_du_ic.tsv',\n",
       " 'analysis/hClu/swan/5xCLU-h2kbKI_HO_F_vs_CLU-h2kbKI_HO_F_genotype_sex_du_iso.tsv',\n",
       " 'analysis/hABKI_Swe_IB_HET_WT/swan/C57B6J_vs_hABKI_Swe_IB_WT_genotype_du_tss.tsv',\n",
       " 'analysis/hABKI_Swe_IB_HET_WT/swan/C57B6J_vs_hABKI_Swe_IB_WT_genotype_du_tes.tsv',\n",
       " 'analysis/hABKI_Swe_IB_HET_WT/swan/C57B6J_vs_hABKI_Swe_IB_WT_genotype_du_ic.tsv',\n",
       " 'analysis/hABKI_Swe_IB_HET_WT/swan/C57B6J_vs_hABKI_Swe_IB_WT_genotype_du_iso.tsv',\n",
       " 'analysis/hABKI_Swe_IB_HET_WT/swan/C57B6J_vs_hABKI_Swe_IB_HET_genotype_du_tss.tsv',\n",
       " 'analysis/hABKI_Swe_IB_HET_WT/swan/C57B6J_vs_hABKI_Swe_IB_HET_genotype_du_tes.tsv',\n",
       " 'analysis/hABKI_Swe_IB_HET_WT/swan/C57B6J_vs_hABKI_Swe_IB_HET_genotype_du_ic.tsv',\n",
       " 'analysis/hABKI_Swe_IB_HET_WT/swan/C57B6J_vs_hABKI_Swe_IB_HET_genotype_du_iso.tsv',\n",
       " 'analysis/hABKI_Swe_IB_HET_WT/swan/hABKI_Swe_IB_WT_vs_hABKI_Swe_IB_HET_genotype_du_tss.tsv',\n",
       " 'analysis/hABKI_Swe_IB_HET_WT/swan/hABKI_Swe_IB_WT_vs_hABKI_Swe_IB_HET_genotype_du_tes.tsv',\n",
       " 'analysis/hABKI_Swe_IB_HET_WT/swan/hABKI_Swe_IB_WT_vs_hABKI_Swe_IB_HET_genotype_du_ic.tsv',\n",
       " 'analysis/hABKI_Swe_IB_HET_WT/swan/hABKI_Swe_IB_WT_vs_hABKI_Swe_IB_HET_genotype_du_iso.tsv',\n",
       " 'analysis/hABKI_Swe_IB_HET_WT/swan/C57B6J_M_vs_hABKI_Swe_IB_WT_M_genotype_sex_du_tss.tsv',\n",
       " 'analysis/hABKI_Swe_IB_HET_WT/swan/C57B6J_M_vs_hABKI_Swe_IB_WT_M_genotype_sex_du_tes.tsv',\n",
       " 'analysis/hABKI_Swe_IB_HET_WT/swan/C57B6J_M_vs_hABKI_Swe_IB_WT_M_genotype_sex_du_ic.tsv',\n",
       " 'analysis/hABKI_Swe_IB_HET_WT/swan/C57B6J_M_vs_hABKI_Swe_IB_WT_M_genotype_sex_du_iso.tsv',\n",
       " 'analysis/hABKI_Swe_IB_HET_WT/swan/C57B6J_M_vs_hABKI_Swe_IB_HET_M_genotype_sex_du_tss.tsv',\n",
       " 'analysis/hABKI_Swe_IB_HET_WT/swan/C57B6J_M_vs_hABKI_Swe_IB_HET_M_genotype_sex_du_tes.tsv',\n",
       " 'analysis/hABKI_Swe_IB_HET_WT/swan/C57B6J_M_vs_hABKI_Swe_IB_HET_M_genotype_sex_du_ic.tsv',\n",
       " 'analysis/hABKI_Swe_IB_HET_WT/swan/C57B6J_M_vs_hABKI_Swe_IB_HET_M_genotype_sex_du_iso.tsv',\n",
       " 'analysis/hABKI_Swe_IB_HET_WT/swan/hABKI_Swe_IB_WT_M_vs_hABKI_Swe_IB_HET_M_genotype_sex_du_tss.tsv',\n",
       " 'analysis/hABKI_Swe_IB_HET_WT/swan/hABKI_Swe_IB_WT_M_vs_hABKI_Swe_IB_HET_M_genotype_sex_du_tes.tsv',\n",
       " 'analysis/hABKI_Swe_IB_HET_WT/swan/hABKI_Swe_IB_WT_M_vs_hABKI_Swe_IB_HET_M_genotype_sex_du_ic.tsv',\n",
       " 'analysis/hABKI_Swe_IB_HET_WT/swan/hABKI_Swe_IB_WT_M_vs_hABKI_Swe_IB_HET_M_genotype_sex_du_iso.tsv',\n",
       " 'analysis/hABKI_Swe_IB_HET_WT/swan/C57B6J_F_vs_hABKI_Swe_IB_WT_F_genotype_sex_du_tss.tsv',\n",
       " 'analysis/hABKI_Swe_IB_HET_WT/swan/C57B6J_F_vs_hABKI_Swe_IB_WT_F_genotype_sex_du_tes.tsv',\n",
       " 'analysis/hABKI_Swe_IB_HET_WT/swan/C57B6J_F_vs_hABKI_Swe_IB_WT_F_genotype_sex_du_ic.tsv',\n",
       " 'analysis/hABKI_Swe_IB_HET_WT/swan/C57B6J_F_vs_hABKI_Swe_IB_WT_F_genotype_sex_du_iso.tsv',\n",
       " 'analysis/hABKI_Swe_IB_HET_WT/swan/C57B6J_F_vs_hABKI_Swe_IB_HET_F_genotype_sex_du_tss.tsv',\n",
       " 'analysis/hABKI_Swe_IB_HET_WT/swan/C57B6J_F_vs_hABKI_Swe_IB_HET_F_genotype_sex_du_tes.tsv',\n",
       " 'analysis/hABKI_Swe_IB_HET_WT/swan/C57B6J_F_vs_hABKI_Swe_IB_HET_F_genotype_sex_du_ic.tsv',\n",
       " 'analysis/hABKI_Swe_IB_HET_WT/swan/C57B6J_F_vs_hABKI_Swe_IB_HET_F_genotype_sex_du_iso.tsv',\n",
       " 'analysis/hABKI_Swe_IB_HET_WT/swan/hABKI_Swe_IB_WT_F_vs_hABKI_Swe_IB_HET_F_genotype_sex_du_tss.tsv',\n",
       " 'analysis/hABKI_Swe_IB_HET_WT/swan/hABKI_Swe_IB_WT_F_vs_hABKI_Swe_IB_HET_F_genotype_sex_du_tes.tsv',\n",
       " 'analysis/hABKI_Swe_IB_HET_WT/swan/hABKI_Swe_IB_WT_F_vs_hABKI_Swe_IB_HET_F_genotype_sex_du_ic.tsv',\n",
       " 'analysis/hABKI_Swe_IB_HET_WT/swan/hABKI_Swe_IB_WT_F_vs_hABKI_Swe_IB_HET_F_genotype_sex_du_iso.tsv',\n",
       " 'analysis/hTREM2/swan/C57B6J_vs_hTREM2_KI_WT_genotype_du_tss.tsv',\n",
       " 'analysis/hTREM2/swan/C57B6J_vs_hTREM2_KI_WT_genotype_du_tes.tsv',\n",
       " 'analysis/hTREM2/swan/C57B6J_vs_hTREM2_KI_WT_genotype_du_ic.tsv',\n",
       " 'analysis/hTREM2/swan/C57B6J_vs_hTREM2_KI_WT_genotype_du_iso.tsv',\n",
       " 'analysis/hTREM2/swan/C57B6J_vs_hTREM2_KI_HET_genotype_du_tss.tsv',\n",
       " 'analysis/hTREM2/swan/C57B6J_vs_hTREM2_KI_HET_genotype_du_tes.tsv',\n",
       " 'analysis/hTREM2/swan/C57B6J_vs_hTREM2_KI_HET_genotype_du_ic.tsv',\n",
       " 'analysis/hTREM2/swan/C57B6J_vs_hTREM2_KI_HET_genotype_du_iso.tsv',\n",
       " 'analysis/hTREM2/swan/C57B6J_vs_hTREM2-R47HKI_HET_genotype_du_tss.tsv',\n",
       " 'analysis/hTREM2/swan/C57B6J_vs_hTREM2-R47HKI_HET_genotype_du_tes.tsv',\n",
       " 'analysis/hTREM2/swan/C57B6J_vs_hTREM2-R47HKI_HET_genotype_du_ic.tsv',\n",
       " 'analysis/hTREM2/swan/C57B6J_vs_hTREM2-R47HKI_HET_genotype_du_iso.tsv',\n",
       " 'analysis/hTREM2/swan/hTREM2_KI_WT_vs_hTREM2_KI_HET_genotype_du_tss.tsv',\n",
       " 'analysis/hTREM2/swan/hTREM2_KI_WT_vs_hTREM2_KI_HET_genotype_du_tes.tsv',\n",
       " 'analysis/hTREM2/swan/hTREM2_KI_WT_vs_hTREM2_KI_HET_genotype_du_ic.tsv',\n",
       " 'analysis/hTREM2/swan/hTREM2_KI_WT_vs_hTREM2_KI_HET_genotype_du_iso.tsv',\n",
       " 'analysis/hTREM2/swan/hTREM2_KI_WT_vs_hTREM2-R47HKI_HET_genotype_du_tss.tsv',\n",
       " 'analysis/hTREM2/swan/hTREM2_KI_WT_vs_hTREM2-R47HKI_HET_genotype_du_tes.tsv',\n",
       " 'analysis/hTREM2/swan/hTREM2_KI_WT_vs_hTREM2-R47HKI_HET_genotype_du_ic.tsv',\n",
       " 'analysis/hTREM2/swan/hTREM2_KI_WT_vs_hTREM2-R47HKI_HET_genotype_du_iso.tsv',\n",
       " 'analysis/hTREM2/swan/hTREM2_KI_HET_vs_hTREM2-R47HKI_HET_genotype_du_tss.tsv',\n",
       " 'analysis/hTREM2/swan/hTREM2_KI_HET_vs_hTREM2-R47HKI_HET_genotype_du_tes.tsv',\n",
       " 'analysis/hTREM2/swan/hTREM2_KI_HET_vs_hTREM2-R47HKI_HET_genotype_du_ic.tsv',\n",
       " 'analysis/hTREM2/swan/hTREM2_KI_HET_vs_hTREM2-R47HKI_HET_genotype_du_iso.tsv',\n",
       " 'analysis/hTREM2/swan/C57B6J_M_vs_hTREM2_KI_WT_M_genotype_sex_du_tss.tsv',\n",
       " 'analysis/hTREM2/swan/C57B6J_M_vs_hTREM2_KI_WT_M_genotype_sex_du_tes.tsv',\n",
       " 'analysis/hTREM2/swan/C57B6J_M_vs_hTREM2_KI_WT_M_genotype_sex_du_ic.tsv',\n",
       " 'analysis/hTREM2/swan/C57B6J_M_vs_hTREM2_KI_WT_M_genotype_sex_du_iso.tsv',\n",
       " 'analysis/hTREM2/swan/C57B6J_M_vs_hTREM2_KI_HET_M_genotype_sex_du_tss.tsv',\n",
       " 'analysis/hTREM2/swan/C57B6J_M_vs_hTREM2_KI_HET_M_genotype_sex_du_tes.tsv',\n",
       " 'analysis/hTREM2/swan/C57B6J_M_vs_hTREM2_KI_HET_M_genotype_sex_du_ic.tsv',\n",
       " 'analysis/hTREM2/swan/C57B6J_M_vs_hTREM2_KI_HET_M_genotype_sex_du_iso.tsv',\n",
       " 'analysis/hTREM2/swan/C57B6J_M_vs_hTREM2-R47HKI_HET_M_genotype_sex_du_tss.tsv',\n",
       " 'analysis/hTREM2/swan/C57B6J_M_vs_hTREM2-R47HKI_HET_M_genotype_sex_du_tes.tsv',\n",
       " 'analysis/hTREM2/swan/C57B6J_M_vs_hTREM2-R47HKI_HET_M_genotype_sex_du_ic.tsv',\n",
       " 'analysis/hTREM2/swan/C57B6J_M_vs_hTREM2-R47HKI_HET_M_genotype_sex_du_iso.tsv',\n",
       " 'analysis/hTREM2/swan/hTREM2_KI_WT_M_vs_hTREM2_KI_HET_M_genotype_sex_du_tss.tsv',\n",
       " 'analysis/hTREM2/swan/hTREM2_KI_WT_M_vs_hTREM2_KI_HET_M_genotype_sex_du_tes.tsv',\n",
       " 'analysis/hTREM2/swan/hTREM2_KI_WT_M_vs_hTREM2_KI_HET_M_genotype_sex_du_ic.tsv',\n",
       " 'analysis/hTREM2/swan/hTREM2_KI_WT_M_vs_hTREM2_KI_HET_M_genotype_sex_du_iso.tsv',\n",
       " 'analysis/hTREM2/swan/hTREM2_KI_WT_M_vs_hTREM2-R47HKI_HET_M_genotype_sex_du_tss.tsv',\n",
       " 'analysis/hTREM2/swan/hTREM2_KI_WT_M_vs_hTREM2-R47HKI_HET_M_genotype_sex_du_tes.tsv',\n",
       " 'analysis/hTREM2/swan/hTREM2_KI_WT_M_vs_hTREM2-R47HKI_HET_M_genotype_sex_du_ic.tsv',\n",
       " 'analysis/hTREM2/swan/hTREM2_KI_WT_M_vs_hTREM2-R47HKI_HET_M_genotype_sex_du_iso.tsv',\n",
       " 'analysis/hTREM2/swan/hTREM2_KI_HET_M_vs_hTREM2-R47HKI_HET_M_genotype_sex_du_tss.tsv',\n",
       " 'analysis/hTREM2/swan/hTREM2_KI_HET_M_vs_hTREM2-R47HKI_HET_M_genotype_sex_du_tes.tsv',\n",
       " 'analysis/hTREM2/swan/hTREM2_KI_HET_M_vs_hTREM2-R47HKI_HET_M_genotype_sex_du_ic.tsv',\n",
       " 'analysis/hTREM2/swan/hTREM2_KI_HET_M_vs_hTREM2-R47HKI_HET_M_genotype_sex_du_iso.tsv',\n",
       " 'analysis/hTREM2/swan/C57B6J_F_vs_hTREM2_KI_WT_F_genotype_sex_du_tss.tsv',\n",
       " 'analysis/hTREM2/swan/C57B6J_F_vs_hTREM2_KI_WT_F_genotype_sex_du_tes.tsv',\n",
       " 'analysis/hTREM2/swan/C57B6J_F_vs_hTREM2_KI_WT_F_genotype_sex_du_ic.tsv',\n",
       " 'analysis/hTREM2/swan/C57B6J_F_vs_hTREM2_KI_WT_F_genotype_sex_du_iso.tsv',\n",
       " 'analysis/hTREM2/swan/C57B6J_F_vs_hTREM2-R47HKI_HET_F_genotype_sex_du_tss.tsv',\n",
       " 'analysis/hTREM2/swan/C57B6J_F_vs_hTREM2-R47HKI_HET_F_genotype_sex_du_tes.tsv',\n",
       " 'analysis/hTREM2/swan/C57B6J_F_vs_hTREM2-R47HKI_HET_F_genotype_sex_du_ic.tsv',\n",
       " 'analysis/hTREM2/swan/C57B6J_F_vs_hTREM2-R47HKI_HET_F_genotype_sex_du_iso.tsv',\n",
       " 'analysis/hTREM2/swan/C57B6J_F_vs_hTREM2_KI_HET_F_genotype_sex_du_tss.tsv',\n",
       " 'analysis/hTREM2/swan/C57B6J_F_vs_hTREM2_KI_HET_F_genotype_sex_du_tes.tsv',\n",
       " 'analysis/hTREM2/swan/C57B6J_F_vs_hTREM2_KI_HET_F_genotype_sex_du_ic.tsv',\n",
       " 'analysis/hTREM2/swan/C57B6J_F_vs_hTREM2_KI_HET_F_genotype_sex_du_iso.tsv',\n",
       " 'analysis/hTREM2/swan/hTREM2_KI_WT_F_vs_hTREM2-R47HKI_HET_F_genotype_sex_du_tss.tsv',\n",
       " 'analysis/hTREM2/swan/hTREM2_KI_WT_F_vs_hTREM2-R47HKI_HET_F_genotype_sex_du_tes.tsv',\n",
       " 'analysis/hTREM2/swan/hTREM2_KI_WT_F_vs_hTREM2-R47HKI_HET_F_genotype_sex_du_ic.tsv',\n",
       " 'analysis/hTREM2/swan/hTREM2_KI_WT_F_vs_hTREM2-R47HKI_HET_F_genotype_sex_du_iso.tsv',\n",
       " 'analysis/hTREM2/swan/hTREM2_KI_WT_F_vs_hTREM2_KI_HET_F_genotype_sex_du_tss.tsv',\n",
       " 'analysis/hTREM2/swan/hTREM2_KI_WT_F_vs_hTREM2_KI_HET_F_genotype_sex_du_tes.tsv',\n",
       " 'analysis/hTREM2/swan/hTREM2_KI_WT_F_vs_hTREM2_KI_HET_F_genotype_sex_du_ic.tsv',\n",
       " 'analysis/hTREM2/swan/hTREM2_KI_WT_F_vs_hTREM2_KI_HET_F_genotype_sex_du_iso.tsv',\n",
       " 'analysis/hTREM2/swan/hTREM2-R47HKI_HET_F_vs_hTREM2_KI_HET_F_genotype_sex_du_tss.tsv',\n",
       " 'analysis/hTREM2/swan/hTREM2-R47HKI_HET_F_vs_hTREM2_KI_HET_F_genotype_sex_du_tes.tsv',\n",
       " 'analysis/hTREM2/swan/hTREM2-R47HKI_HET_F_vs_hTREM2_KI_HET_F_genotype_sex_du_ic.tsv',\n",
       " 'analysis/hTREM2/swan/hTREM2-R47HKI_HET_F_vs_hTREM2_KI_HET_F_genotype_sex_du_iso.tsv']"
      ]
     },
     "execution_count": 5,
     "metadata": {},
     "output_type": "execute_result"
    }
   ],
   "source": [
    "# get_de_cfg_entries(p_df, config['analysis']['swan']['du'], how='du')\n",
    "# get_de_cfg_entries(p_df, config['analysis']['swan']['deg'], how='de'),\n",
    "# get_de_cfg_entries(p_df, config['analysis']['swan']['det'], how='de')"
   ]
  },
  {
   "cell_type": "code",
   "execution_count": 6,
   "id": "1a34597b-d365-48c9-9ef8-ab6900b6ec38",
   "metadata": {},
   "outputs": [
    {
     "data": {
      "text/plain": [
       "array(['1', '2', '3', '4', '5', '6', '7', '8', '9', '10', '11', '12',\n",
       "       '13', '14', '15', '16', '17', '18', '19'], dtype=object)"
      ]
     },
     "execution_count": 6,
     "metadata": {},
     "output_type": "execute_result"
    }
   ],
   "source": []
  },
  {
   "cell_type": "code",
   "execution_count": null,
   "id": "1c8aefe3-f877-436b-8e17-3bdd10bad3bc",
   "metadata": {},
   "outputs": [],
   "source": []
  },
  {
   "cell_type": "code",
   "execution_count": null,
   "id": "cfa7c489-2e1d-48d5-a19f-c55f7a1b0e70",
   "metadata": {},
   "outputs": [],
   "source": []
  },
  {
   "cell_type": "code",
   "execution_count": null,
   "id": "507a5fe2-93d4-49d7-b369-e3d75e47e098",
   "metadata": {},
   "outputs": [],
   "source": []
  },
  {
   "cell_type": "code",
   "execution_count": null,
   "id": "b99d02bd-c69f-4b10-9cd1-29dd8bb05be8",
   "metadata": {},
   "outputs": [],
   "source": []
  },
  {
   "cell_type": "code",
   "execution_count": null,
   "id": "3783d162-ca46-40ff-8692-68855a94523d",
   "metadata": {},
   "outputs": [],
   "source": []
  }
 ],
 "metadata": {
  "kernelspec": {
   "display_name": "Python 3",
   "language": "python",
   "name": "python3"
  },
  "language_info": {
   "codemirror_mode": {
    "name": "ipython",
    "version": 3
   },
   "file_extension": ".py",
   "mimetype": "text/x-python",
   "name": "python",
   "nbconvert_exporter": "python",
   "pygments_lexer": "ipython3",
   "version": "3.7.12"
  }
 },
 "nbformat": 4,
 "nbformat_minor": 5
}
