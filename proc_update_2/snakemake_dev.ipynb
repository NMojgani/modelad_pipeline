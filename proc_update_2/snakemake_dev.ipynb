{
 "cells": [
  {
   "cell_type": "code",
   "execution_count": 9,
   "id": "e39caf19-421e-470c-885c-aac8d7e2dc48",
   "metadata": {},
   "outputs": [],
   "source": [
    "import pandas as pd\n",
    "import pdb\n",
    "import numpy as np\n",
    "import itertools\n",
    "import re\n",
    "from utils import *\n",
    "from sm_utils import *\n",
    "\n",
    "from snakemake.io import expand\n",
    "import yaml"
   ]
  },
  {
   "cell_type": "code",
   "execution_count": 2,
   "id": "338cfdd8-05e6-4c85-9464-2f43604fa1c7",
   "metadata": {},
   "outputs": [],
   "source": [
    "config_file = 'config.yml'\n",
    "with open(config_file) as f:\n",
    "    config = yaml.safe_load(f)"
   ]
  },
  {
   "cell_type": "markdown",
   "id": "6df8a583-64ab-4dcb-b99a-96e33d52867f",
   "metadata": {},
   "source": [
    "## 243101"
   ]
  },
  {
   "cell_type": "code",
   "execution_count": 3,
   "id": "d16ba117-e1b4-435d-816f-876a51d48095",
   "metadata": {},
   "outputs": [],
   "source": [
    "config_tsv = 'config.tsv'\n",
    "p_meta_tsv = 'pseudochromosome_metadata.tsv'\n",
    "meta_tsv = 'mouse_metadata.tsv'\n",
    "geno_tsv = 'genotype_metadata.tsv'\n",
    "an_meta_tsv = 'analysis_config.tsv'\n",
    "auto_dedupe = True\n",
    "\n",
    "df, p_df = parse_config_file_analysis(config_tsv,\n",
    "                       meta_tsv,\n",
    "                       p_meta_tsv,\n",
    "                       geno_tsv,\n",
    "                       an_meta_tsv,\n",
    "                       auto_dedupe=auto_dedupe)"
   ]
  },
  {
   "cell_type": "code",
   "execution_count": 8,
   "id": "c3002fe9-739c-4e36-a15e-7555545608fc",
   "metadata": {},
   "outputs": [
    {
     "data": {
      "text/plain": [
       "array(['5xFAD-HEMI', 'B6J', '5xFAD-HEMI;Clu-h2kbKI-HO', 'Clu-h2kbKI-HO',\n",
       "       'hTREM2KI-HET', 'hTREM2-R47HKI-HET', 'hMAPT-HO;hABKI-SweIb-HET',\n",
       "       'hMAPT-HO'], dtype=object)"
      ]
     },
     "execution_count": 8,
     "metadata": {},
     "output_type": "execute_result"
    }
   ],
   "source": [
    "p_df.genotype_alias.unique()"
   ]
  },
  {
   "cell_type": "code",
   "execution_count": 13,
   "id": "55890713-49eb-488e-be99-1f09d8ef7cf0",
   "metadata": {},
   "outputs": [],
   "source": [
    "# sanitize genotype alias internally (int) w/ characters better for file names\n",
    "import re\n",
    "exp = '[^0-9a-zA-Z-_]+'\n",
    "p_df['genotype_alias_int'] = p_df.genotype_alias.str.replace(exp, '_', regex=True)\n"
   ]
  },
  {
   "cell_type": "code",
   "execution_count": 14,
   "id": "60beaf49-40f5-4699-a758-b7a84ba69461",
   "metadata": {},
   "outputs": [
    {
     "data": {
      "text/plain": [
       "array(['5xFAD-HEMI', 'B6J', '5xFAD-HEMI_Clu-h2kbKI-HO', 'Clu-h2kbKI-HO',\n",
       "       'hTREM2KI-HET', 'hTREM2-R47HKI-HET', 'hMAPT-HO_hABKI-SweIb-HET',\n",
       "       'hMAPT-HO'], dtype=object)"
      ]
     },
     "execution_count": 14,
     "metadata": {},
     "output_type": "execute_result"
    }
   ],
   "source": [
    "p_df.genotype_alias_int.unique()"
   ]
  },
  {
   "cell_type": "code",
   "execution_count": null,
   "id": "72676c61-7dbb-4399-8da1-526bac82bb9a",
   "metadata": {},
   "outputs": [],
   "source": []
  },
  {
   "cell_type": "code",
   "execution_count": null,
   "id": "6443d048-aeca-463e-a3c0-2e93be698cce",
   "metadata": {},
   "outputs": [],
   "source": []
  },
  {
   "cell_type": "markdown",
   "id": "00459fd1-2c8f-4817-8533-140082e3af18",
   "metadata": {},
   "source": [
    "## 243001"
   ]
  },
  {
   "cell_type": "code",
   "execution_count": 3,
   "id": "6690eeed-b2f6-47f4-ac97-4ea714ef7d60",
   "metadata": {},
   "outputs": [],
   "source": [
    "config_tsv = 'config.tsv'\n",
    "p_meta_tsv = 'pseudochromosome_metadata.tsv'\n",
    "meta_tsv = 'mouse_metadata.tsv'\n",
    "geno_tsv = 'genotype_metadata.tsv'\n",
    "auto_dedupe = True\n",
    "\n",
    "df, p_df = parse_config_file(config_tsv,\n",
    "                       meta_tsv,\n",
    "                       p_meta_tsv,\n",
    "                       geno_tsv,\n",
    "                       auto_dedupe=auto_dedupe)"
   ]
  },
  {
   "cell_type": "code",
   "execution_count": 4,
   "id": "8f678b36-ac99-4f43-8c8f-9470afb40e0c",
   "metadata": {},
   "outputs": [
    {
     "data": {
      "text/plain": [
       "114"
      ]
     },
     "execution_count": 4,
     "metadata": {},
     "output_type": "execute_result"
    }
   ],
   "source": [
    "len(p_df.index)"
   ]
  },
  {
   "cell_type": "code",
   "execution_count": 5,
   "id": "ec750b2a-4518-410f-aec9-22c3c72d619b",
   "metadata": {},
   "outputs": [
    {
     "name": "stdout",
     "output_type": "stream",
     "text": [
      "> \u001b[0;32m/Users/fairliereese/Documents/programming/mortazavi_lab/bin/modelad_pipeline/proc_update_2/sm_utils.py\u001b[0m(232)\u001b[0;36mparse_config_file_analysis\u001b[0;34m()\u001b[0m\n",
      "\u001b[0;32m    230 \u001b[0;31m    \u001b[0mi3\u001b[0m \u001b[0;34m=\u001b[0m \u001b[0mlen\u001b[0m\u001b[0;34m(\u001b[0m\u001b[0mp_df\u001b[0m\u001b[0;34m[\u001b[0m\u001b[0;34m[\u001b[0m\u001b[0;34m'genotype'\u001b[0m\u001b[0;34m,\u001b[0m \u001b[0;34m'study'\u001b[0m\u001b[0;34m]\u001b[0m\u001b[0;34m]\u001b[0m\u001b[0;34m.\u001b[0m\u001b[0mdrop_duplicates\u001b[0m\u001b[0;34m(\u001b[0m\u001b[0;34m)\u001b[0m\u001b[0;34m.\u001b[0m\u001b[0mindex\u001b[0m\u001b[0;34m)\u001b[0m\u001b[0;34m\u001b[0m\u001b[0;34m\u001b[0m\u001b[0m\n",
      "\u001b[0m\u001b[0;32m    231 \u001b[0;31m    \u001b[0;32mimport\u001b[0m \u001b[0mpdb\u001b[0m\u001b[0;34m;\u001b[0m \u001b[0mpdb\u001b[0m\u001b[0;34m.\u001b[0m\u001b[0mset_trace\u001b[0m\u001b[0;34m(\u001b[0m\u001b[0;34m)\u001b[0m\u001b[0;34m\u001b[0m\u001b[0;34m\u001b[0m\u001b[0m\n",
      "\u001b[0m\u001b[0;32m--> 232 \u001b[0;31m    \u001b[0;32mif\u001b[0m \u001b[0;32mnot\u001b[0m \u001b[0;34m(\u001b[0m\u001b[0mi\u001b[0m\u001b[0;34m==\u001b[0m\u001b[0mi2\u001b[0m\u001b[0;34m==\u001b[0m\u001b[0mi3\u001b[0m\u001b[0;34m)\u001b[0m\u001b[0;34m:\u001b[0m\u001b[0;34m\u001b[0m\u001b[0;34m\u001b[0m\u001b[0m\n",
      "\u001b[0m\u001b[0;32m    233 \u001b[0;31m        genotypes = list(set(genotypes)-\\\n",
      "\u001b[0m\u001b[0;32m    234 \u001b[0;31m                         set(df.genotype.unique().tolist()))\n",
      "\u001b[0m\n"
     ]
    },
    {
     "name": "stdin",
     "output_type": "stream",
     "text": [
      "ipdb>  genotypes\n"
     ]
    },
    {
     "name": "stdout",
     "output_type": "stream",
     "text": [
      "['hMAPT-HO_hABKI-SweIb-HET', 'hMAPT-HO_hABKI-SweIb-WT', 'hABKI-Swe-WT', '5xFAD-HEMI_Clu-h2kbKI-HO', '5xFAD-WT', '5xFAD-HEMI', '5xFAD-WT_Clu-h2kbKI-HO', 'hTREM2KI-HET', 'hTREM2-R47HKI-HET', 'hTREM2KI-WT']\n"
     ]
    },
    {
     "name": "stdin",
     "output_type": "stream",
     "text": [
      "ipdb>  c\n"
     ]
    }
   ],
   "source": [
    "config_tsv = 'config.tsv'\n",
    "p_meta_tsv = 'pseudochromosome_metadata.tsv'\n",
    "meta_tsv = 'mouse_metadata.tsv'\n",
    "geno_tsv = 'genotype_metadata.tsv'\n",
    "an_meta_tsv = 'analysis_config.tsv'\n",
    "auto_dedupe = True\n",
    "\n",
    "df, p_df = parse_config_file_analysis(config_tsv,\n",
    "                       meta_tsv,\n",
    "                       p_meta_tsv,\n",
    "                       geno_tsv,\n",
    "                       an_meta_tsv,\n",
    "                       auto_dedupe=auto_dedupe)"
   ]
  },
  {
   "cell_type": "code",
   "execution_count": 6,
   "id": "4e7a02fa-1b00-4c67-ba30-81c33e2d5c7b",
   "metadata": {},
   "outputs": [
    {
     "data": {
      "text/html": [
       "<div>\n",
       "<style scoped>\n",
       "    .dataframe tbody tr th:only-of-type {\n",
       "        vertical-align: middle;\n",
       "    }\n",
       "\n",
       "    .dataframe tbody tr th {\n",
       "        vertical-align: top;\n",
       "    }\n",
       "\n",
       "    .dataframe thead th {\n",
       "        text-align: right;\n",
       "    }\n",
       "</style>\n",
       "<table border=\"1\" class=\"dataframe\">\n",
       "  <thead>\n",
       "    <tr style=\"text-align: right;\">\n",
       "      <th></th>\n",
       "      <th>genotype</th>\n",
       "      <th>study</th>\n",
       "      <th>analysis</th>\n",
       "    </tr>\n",
       "  </thead>\n",
       "  <tbody>\n",
       "    <tr>\n",
       "      <th>24</th>\n",
       "      <td>hABKI-Swe-WT</td>\n",
       "      <td>ad006</td>\n",
       "      <td>hABKI_Swe_IB_HET_WT</td>\n",
       "    </tr>\n",
       "    <tr>\n",
       "      <th>66</th>\n",
       "      <td>hMAPT-HO_hABKI-SweIb-WT</td>\n",
       "      <td>ad008</td>\n",
       "      <td>hABKI_Swe_IB_HET_WT</td>\n",
       "    </tr>\n",
       "    <tr>\n",
       "      <th>67</th>\n",
       "      <td>hMAPT-HO_hABKI-SweIb-HET</td>\n",
       "      <td>ad008</td>\n",
       "      <td>hABKI_Swe_IB_HET_WT</td>\n",
       "    </tr>\n",
       "    <tr>\n",
       "      <th>0</th>\n",
       "      <td>5xFAD-HEMI</td>\n",
       "      <td>ad003</td>\n",
       "      <td>hClu</td>\n",
       "    </tr>\n",
       "    <tr>\n",
       "      <th>6</th>\n",
       "      <td>5xFAD-WT</td>\n",
       "      <td>ad003</td>\n",
       "      <td>hClu</td>\n",
       "    </tr>\n",
       "    <tr>\n",
       "      <th>36</th>\n",
       "      <td>5xFAD-HEMI_Clu-h2kbKI-HO</td>\n",
       "      <td>ad003</td>\n",
       "      <td>hClu</td>\n",
       "    </tr>\n",
       "    <tr>\n",
       "      <th>38</th>\n",
       "      <td>5xFAD-WT_Clu-h2kbKI-HO</td>\n",
       "      <td>ad003</td>\n",
       "      <td>hClu</td>\n",
       "    </tr>\n",
       "    <tr>\n",
       "      <th>12</th>\n",
       "      <td>hTREM2KI-WT</td>\n",
       "      <td>ad004</td>\n",
       "      <td>hTREM2</td>\n",
       "    </tr>\n",
       "    <tr>\n",
       "      <th>48</th>\n",
       "      <td>hTREM2KI-HET</td>\n",
       "      <td>ad004</td>\n",
       "      <td>hTREM2</td>\n",
       "    </tr>\n",
       "    <tr>\n",
       "      <th>50</th>\n",
       "      <td>hTREM2-R47HKI-HET</td>\n",
       "      <td>ad004</td>\n",
       "      <td>hTREM2</td>\n",
       "    </tr>\n",
       "  </tbody>\n",
       "</table>\n",
       "</div>"
      ],
      "text/plain": [
       "                    genotype  study             analysis\n",
       "24              hABKI-Swe-WT  ad006  hABKI_Swe_IB_HET_WT\n",
       "66   hMAPT-HO_hABKI-SweIb-WT  ad008  hABKI_Swe_IB_HET_WT\n",
       "67  hMAPT-HO_hABKI-SweIb-HET  ad008  hABKI_Swe_IB_HET_WT\n",
       "0                 5xFAD-HEMI  ad003                 hClu\n",
       "6                   5xFAD-WT  ad003                 hClu\n",
       "36  5xFAD-HEMI_Clu-h2kbKI-HO  ad003                 hClu\n",
       "38    5xFAD-WT_Clu-h2kbKI-HO  ad003                 hClu\n",
       "12               hTREM2KI-WT  ad004               hTREM2\n",
       "48              hTREM2KI-HET  ad004               hTREM2\n",
       "50         hTREM2-R47HKI-HET  ad004               hTREM2"
      ]
     },
     "execution_count": 6,
     "metadata": {},
     "output_type": "execute_result"
    }
   ],
   "source": [
    "p_df[['genotype', 'study', 'analysis']].drop_duplicates().sort_values(by='analysis')"
   ]
  },
  {
   "cell_type": "code",
   "execution_count": 9,
   "id": "9a82cc06-7506-4eca-b2f0-087a10227bae",
   "metadata": {},
   "outputs": [
    {
     "data": {
      "text/plain": [
       "7"
      ]
     },
     "execution_count": 9,
     "metadata": {},
     "output_type": "execute_result"
    }
   ],
   "source": [
    "len(p_df[['genotype', 'study', 'analysis']].drop_duplicates().index)"
   ]
  },
  {
   "cell_type": "code",
   "execution_count": 10,
   "id": "e5745087-ffb6-4b91-b1d7-4a8ca01e1d51",
   "metadata": {},
   "outputs": [
    {
     "data": {
      "text/plain": [
       "53"
      ]
     },
     "execution_count": 10,
     "metadata": {},
     "output_type": "execute_result"
    }
   ],
   "source": [
    "len(df.index)"
   ]
  },
  {
   "cell_type": "code",
   "execution_count": null,
   "id": "45360b45-b2a9-485e-94b4-17ad5986d900",
   "metadata": {},
   "outputs": [],
   "source": []
  },
  {
   "cell_type": "code",
   "execution_count": null,
   "id": "0a6f5254-abd1-402a-8c13-9c9cbdf94c9d",
   "metadata": {},
   "outputs": [],
   "source": []
  },
  {
   "cell_type": "code",
   "execution_count": null,
   "id": "bf9c2745-4361-426d-bf02-38d3db0acd4a",
   "metadata": {},
   "outputs": [],
   "source": []
  },
  {
   "cell_type": "code",
   "execution_count": null,
   "id": "9bdc496a-8f83-405b-8c78-2d9ebe50a464",
   "metadata": {},
   "outputs": [],
   "source": []
  },
  {
   "cell_type": "code",
   "execution_count": null,
   "id": "dafc351e-f7ff-4adc-b6b4-1f0c6c0141f2",
   "metadata": {},
   "outputs": [],
   "source": []
  },
  {
   "cell_type": "code",
   "execution_count": null,
   "id": "d05076db-529f-42a1-bf67-cc7b2d3f4598",
   "metadata": {},
   "outputs": [],
   "source": []
  },
  {
   "cell_type": "code",
   "execution_count": null,
   "id": "8435af07-d2d8-4c15-b3a0-27fb670671e6",
   "metadata": {},
   "outputs": [],
   "source": []
  },
  {
   "cell_type": "code",
   "execution_count": null,
   "id": "20252b07-849b-404e-8b94-145ca6deef3e",
   "metadata": {},
   "outputs": [],
   "source": []
  },
  {
   "cell_type": "code",
   "execution_count": null,
   "id": "7183a2ea-3bd9-42d3-ba7a-d34b7fb341a9",
   "metadata": {},
   "outputs": [],
   "source": []
  },
  {
   "cell_type": "code",
   "execution_count": null,
   "id": "fd618356-6894-40af-9c5f-710a57e859a6",
   "metadata": {},
   "outputs": [],
   "source": []
  },
  {
   "cell_type": "markdown",
   "id": "4540666e-484c-45cb-9002-1907ef4b69c2",
   "metadata": {},
   "source": [
    "## 240129"
   ]
  },
  {
   "cell_type": "code",
   "execution_count": 3,
   "id": "399a35b2-1a07-4831-83a4-42f4f68ee383",
   "metadata": {},
   "outputs": [],
   "source": [
    "configfile: 'config.yml'\n",
    "config_tsv = 'config.tsv'\n",
    "p_meta_tsv = 'pseudochromosome_metadata.tsv'\n",
    "meta_tsv = 'mouse_metadata.tsv'\n",
    "an_meta_tsv = 'test_analysis_config.tsv'\n",
    "auto_dedupe = True\n",
    "\n",
    "df, p_df = parse_config_file_analysis(config_tsv,\n",
    "                       meta_tsv,\n",
    "                       p_meta_tsv,\n",
    "                       an_meta_tsv,\n",
    "                       auto_dedupe=auto_dedupe)"
   ]
  },
  {
   "cell_type": "code",
   "execution_count": 4,
   "id": "cbd36554-0b39-48a6-8667-491352b16778",
   "metadata": {},
   "outputs": [
    {
     "data": {
      "text/plain": [
       "13"
      ]
     },
     "execution_count": 4,
     "metadata": {},
     "output_type": "execute_result"
    }
   ],
   "source": [
    "len(p_df.index)"
   ]
  },
  {
   "cell_type": "code",
   "execution_count": 5,
   "id": "b03967ad-d4b1-43da-81e0-e57aa0e889c2",
   "metadata": {},
   "outputs": [
    {
     "data": {
      "text/plain": [
       "Index(['batch', 'platform', 'fname', 'basename', 'path', 'flowcell',\n",
       "       'file_stem', 'chop_num', 'sample_temp', 'mouse_id', 'study', 'genotype',\n",
       "       'sex', 'age', 'tissue', 'pseudochrom_needed', 'pseudochrom', 'sample',\n",
       "       'biorep_num', 'dataset', 'source', 'genotype_sex', 'human_gene',\n",
       "       'mouse_gene', 'locus_type', 'notes', 'analysis', 'cerberus_run'],\n",
       "      dtype='object')"
      ]
     },
     "execution_count": 5,
     "metadata": {},
     "output_type": "execute_result"
    }
   ],
   "source": [
    "p_df.columns"
   ]
  },
  {
   "cell_type": "code",
   "execution_count": 6,
   "id": "e2fdd113-419a-4386-8a22-89e9e6796b2c",
   "metadata": {},
   "outputs": [
    {
     "data": {
      "text/plain": [
       "Index(['batch', 'platform', 'fname', 'basename', 'path', 'flowcell',\n",
       "       'file_stem', 'chop_num', 'sample_temp', 'mouse_id', 'study', 'genotype',\n",
       "       'sex', 'age', 'tissue', 'pseudochrom_needed', 'pseudochrom', 'sample',\n",
       "       'biorep_num', 'dataset', 'source', 'genotype_sex', 'cerberus_run'],\n",
       "      dtype='object')"
      ]
     },
     "execution_count": 6,
     "metadata": {},
     "output_type": "execute_result"
    }
   ],
   "source": [
    "df.columns"
   ]
  },
  {
   "cell_type": "code",
   "execution_count": null,
   "id": "16c8e6c8-2bda-4479-afcc-41b4914093f0",
   "metadata": {},
   "outputs": [],
   "source": [
    "wc = {'}"
   ]
  },
  {
   "cell_type": "code",
   "execution_count": 12,
   "id": "303fda36-3dfe-428a-8aa0-100f7831d074",
   "metadata": {},
   "outputs": [
    {
     "ename": "NameError",
     "evalue": "name 'wc' is not defined",
     "output_type": "error",
     "traceback": [
      "\u001b[0;31m---------------------------------------------------------------------------\u001b[0m",
      "\u001b[0;31mNameError\u001b[0m                                 Traceback (most recent call last)",
      "\u001b[0;32m<ipython-input-12-773142616077>\u001b[0m in \u001b[0;36m<module>\u001b[0;34m\u001b[0m\n\u001b[0;32m----> 1\u001b[0;31m \u001b[0mget_cfg_entries\u001b[0m\u001b[0;34m(\u001b[0m\u001b[0mwc\u001b[0m\u001b[0;34m,\u001b[0m \u001b[0mdf\u001b[0m\u001b[0;34m,\u001b[0m \u001b[0mconfig\u001b[0m\u001b[0;34m[\u001b[0m\u001b[0;34m'analysis'\u001b[0m\u001b[0;34m]\u001b[0m\u001b[0;34m[\u001b[0m\u001b[0;34m'cerberus'\u001b[0m\u001b[0;34m]\u001b[0m\u001b[0;34m[\u001b[0m\u001b[0;34m'gtf'\u001b[0m\u001b[0;34m]\u001b[0m\u001b[0;34m)\u001b[0m\u001b[0;34m\u001b[0m\u001b[0;34m\u001b[0m\u001b[0m\n\u001b[0m",
      "\u001b[0;31mNameError\u001b[0m: name 'wc' is not defined"
     ]
    }
   ],
   "source": [
    "get_cfg_entries(wc, df, config['analysis']['cerberus']['gtf'])"
   ]
  },
  {
   "cell_type": "code",
   "execution_count": 5,
   "id": "deb62703-a769-4106-bf7c-f336dce7b5f1",
   "metadata": {},
   "outputs": [
    {
     "data": {
      "text/plain": [
       "['analysis/hClu/swan/5xFADHEMI_vs_C57B6J_genotype_du_tss.tsv',\n",
       " 'analysis/hClu/swan/5xFADHEMI_vs_C57B6J_genotype_du_tes.tsv',\n",
       " 'analysis/hClu/swan/5xFADHEMI_vs_C57B6J_genotype_du_ic.tsv',\n",
       " 'analysis/hClu/swan/5xFADHEMI_vs_C57B6J_genotype_du_iso.tsv',\n",
       " 'analysis/hClu/swan/5xFADHEMI_vs_5xCLU-h2kbKI_HO_genotype_du_tss.tsv',\n",
       " 'analysis/hClu/swan/5xFADHEMI_vs_5xCLU-h2kbKI_HO_genotype_du_tes.tsv',\n",
       " 'analysis/hClu/swan/5xFADHEMI_vs_5xCLU-h2kbKI_HO_genotype_du_ic.tsv',\n",
       " 'analysis/hClu/swan/5xFADHEMI_vs_5xCLU-h2kbKI_HO_genotype_du_iso.tsv',\n",
       " 'analysis/hClu/swan/5xFADHEMI_vs_CLU-h2kbKI_HO_genotype_du_tss.tsv',\n",
       " 'analysis/hClu/swan/5xFADHEMI_vs_CLU-h2kbKI_HO_genotype_du_tes.tsv',\n",
       " 'analysis/hClu/swan/5xFADHEMI_vs_CLU-h2kbKI_HO_genotype_du_ic.tsv',\n",
       " 'analysis/hClu/swan/5xFADHEMI_vs_CLU-h2kbKI_HO_genotype_du_iso.tsv',\n",
       " 'analysis/hClu/swan/C57B6J_vs_5xCLU-h2kbKI_HO_genotype_du_tss.tsv',\n",
       " 'analysis/hClu/swan/C57B6J_vs_5xCLU-h2kbKI_HO_genotype_du_tes.tsv',\n",
       " 'analysis/hClu/swan/C57B6J_vs_5xCLU-h2kbKI_HO_genotype_du_ic.tsv',\n",
       " 'analysis/hClu/swan/C57B6J_vs_5xCLU-h2kbKI_HO_genotype_du_iso.tsv',\n",
       " 'analysis/hClu/swan/C57B6J_vs_CLU-h2kbKI_HO_genotype_du_tss.tsv',\n",
       " 'analysis/hClu/swan/C57B6J_vs_CLU-h2kbKI_HO_genotype_du_tes.tsv',\n",
       " 'analysis/hClu/swan/C57B6J_vs_CLU-h2kbKI_HO_genotype_du_ic.tsv',\n",
       " 'analysis/hClu/swan/C57B6J_vs_CLU-h2kbKI_HO_genotype_du_iso.tsv',\n",
       " 'analysis/hClu/swan/5xCLU-h2kbKI_HO_vs_CLU-h2kbKI_HO_genotype_du_tss.tsv',\n",
       " 'analysis/hClu/swan/5xCLU-h2kbKI_HO_vs_CLU-h2kbKI_HO_genotype_du_tes.tsv',\n",
       " 'analysis/hClu/swan/5xCLU-h2kbKI_HO_vs_CLU-h2kbKI_HO_genotype_du_ic.tsv',\n",
       " 'analysis/hClu/swan/5xCLU-h2kbKI_HO_vs_CLU-h2kbKI_HO_genotype_du_iso.tsv',\n",
       " 'analysis/hClu/swan/5xFADHEMI_F_vs_C57B6J_F_genotype_sex_du_tss.tsv',\n",
       " 'analysis/hClu/swan/5xFADHEMI_F_vs_C57B6J_F_genotype_sex_du_tes.tsv',\n",
       " 'analysis/hClu/swan/5xFADHEMI_F_vs_C57B6J_F_genotype_sex_du_ic.tsv',\n",
       " 'analysis/hClu/swan/5xFADHEMI_F_vs_C57B6J_F_genotype_sex_du_iso.tsv',\n",
       " 'analysis/hClu/swan/5xFADHEMI_F_vs_5xCLU-h2kbKI_HO_F_genotype_sex_du_tss.tsv',\n",
       " 'analysis/hClu/swan/5xFADHEMI_F_vs_5xCLU-h2kbKI_HO_F_genotype_sex_du_tes.tsv',\n",
       " 'analysis/hClu/swan/5xFADHEMI_F_vs_5xCLU-h2kbKI_HO_F_genotype_sex_du_ic.tsv',\n",
       " 'analysis/hClu/swan/5xFADHEMI_F_vs_5xCLU-h2kbKI_HO_F_genotype_sex_du_iso.tsv',\n",
       " 'analysis/hClu/swan/5xFADHEMI_F_vs_CLU-h2kbKI_HO_F_genotype_sex_du_tss.tsv',\n",
       " 'analysis/hClu/swan/5xFADHEMI_F_vs_CLU-h2kbKI_HO_F_genotype_sex_du_tes.tsv',\n",
       " 'analysis/hClu/swan/5xFADHEMI_F_vs_CLU-h2kbKI_HO_F_genotype_sex_du_ic.tsv',\n",
       " 'analysis/hClu/swan/5xFADHEMI_F_vs_CLU-h2kbKI_HO_F_genotype_sex_du_iso.tsv',\n",
       " 'analysis/hClu/swan/C57B6J_F_vs_5xCLU-h2kbKI_HO_F_genotype_sex_du_tss.tsv',\n",
       " 'analysis/hClu/swan/C57B6J_F_vs_5xCLU-h2kbKI_HO_F_genotype_sex_du_tes.tsv',\n",
       " 'analysis/hClu/swan/C57B6J_F_vs_5xCLU-h2kbKI_HO_F_genotype_sex_du_ic.tsv',\n",
       " 'analysis/hClu/swan/C57B6J_F_vs_5xCLU-h2kbKI_HO_F_genotype_sex_du_iso.tsv',\n",
       " 'analysis/hClu/swan/C57B6J_F_vs_CLU-h2kbKI_HO_F_genotype_sex_du_tss.tsv',\n",
       " 'analysis/hClu/swan/C57B6J_F_vs_CLU-h2kbKI_HO_F_genotype_sex_du_tes.tsv',\n",
       " 'analysis/hClu/swan/C57B6J_F_vs_CLU-h2kbKI_HO_F_genotype_sex_du_ic.tsv',\n",
       " 'analysis/hClu/swan/C57B6J_F_vs_CLU-h2kbKI_HO_F_genotype_sex_du_iso.tsv',\n",
       " 'analysis/hClu/swan/5xCLU-h2kbKI_HO_F_vs_CLU-h2kbKI_HO_F_genotype_sex_du_tss.tsv',\n",
       " 'analysis/hClu/swan/5xCLU-h2kbKI_HO_F_vs_CLU-h2kbKI_HO_F_genotype_sex_du_tes.tsv',\n",
       " 'analysis/hClu/swan/5xCLU-h2kbKI_HO_F_vs_CLU-h2kbKI_HO_F_genotype_sex_du_ic.tsv',\n",
       " 'analysis/hClu/swan/5xCLU-h2kbKI_HO_F_vs_CLU-h2kbKI_HO_F_genotype_sex_du_iso.tsv',\n",
       " 'analysis/hABKI_Swe_IB_HET_WT/swan/C57B6J_vs_hABKI_Swe_IB_WT_genotype_du_tss.tsv',\n",
       " 'analysis/hABKI_Swe_IB_HET_WT/swan/C57B6J_vs_hABKI_Swe_IB_WT_genotype_du_tes.tsv',\n",
       " 'analysis/hABKI_Swe_IB_HET_WT/swan/C57B6J_vs_hABKI_Swe_IB_WT_genotype_du_ic.tsv',\n",
       " 'analysis/hABKI_Swe_IB_HET_WT/swan/C57B6J_vs_hABKI_Swe_IB_WT_genotype_du_iso.tsv',\n",
       " 'analysis/hABKI_Swe_IB_HET_WT/swan/C57B6J_vs_hABKI_Swe_IB_HET_genotype_du_tss.tsv',\n",
       " 'analysis/hABKI_Swe_IB_HET_WT/swan/C57B6J_vs_hABKI_Swe_IB_HET_genotype_du_tes.tsv',\n",
       " 'analysis/hABKI_Swe_IB_HET_WT/swan/C57B6J_vs_hABKI_Swe_IB_HET_genotype_du_ic.tsv',\n",
       " 'analysis/hABKI_Swe_IB_HET_WT/swan/C57B6J_vs_hABKI_Swe_IB_HET_genotype_du_iso.tsv',\n",
       " 'analysis/hABKI_Swe_IB_HET_WT/swan/hABKI_Swe_IB_WT_vs_hABKI_Swe_IB_HET_genotype_du_tss.tsv',\n",
       " 'analysis/hABKI_Swe_IB_HET_WT/swan/hABKI_Swe_IB_WT_vs_hABKI_Swe_IB_HET_genotype_du_tes.tsv',\n",
       " 'analysis/hABKI_Swe_IB_HET_WT/swan/hABKI_Swe_IB_WT_vs_hABKI_Swe_IB_HET_genotype_du_ic.tsv',\n",
       " 'analysis/hABKI_Swe_IB_HET_WT/swan/hABKI_Swe_IB_WT_vs_hABKI_Swe_IB_HET_genotype_du_iso.tsv',\n",
       " 'analysis/hABKI_Swe_IB_HET_WT/swan/C57B6J_M_vs_hABKI_Swe_IB_WT_M_genotype_sex_du_tss.tsv',\n",
       " 'analysis/hABKI_Swe_IB_HET_WT/swan/C57B6J_M_vs_hABKI_Swe_IB_WT_M_genotype_sex_du_tes.tsv',\n",
       " 'analysis/hABKI_Swe_IB_HET_WT/swan/C57B6J_M_vs_hABKI_Swe_IB_WT_M_genotype_sex_du_ic.tsv',\n",
       " 'analysis/hABKI_Swe_IB_HET_WT/swan/C57B6J_M_vs_hABKI_Swe_IB_WT_M_genotype_sex_du_iso.tsv',\n",
       " 'analysis/hABKI_Swe_IB_HET_WT/swan/C57B6J_M_vs_hABKI_Swe_IB_HET_M_genotype_sex_du_tss.tsv',\n",
       " 'analysis/hABKI_Swe_IB_HET_WT/swan/C57B6J_M_vs_hABKI_Swe_IB_HET_M_genotype_sex_du_tes.tsv',\n",
       " 'analysis/hABKI_Swe_IB_HET_WT/swan/C57B6J_M_vs_hABKI_Swe_IB_HET_M_genotype_sex_du_ic.tsv',\n",
       " 'analysis/hABKI_Swe_IB_HET_WT/swan/C57B6J_M_vs_hABKI_Swe_IB_HET_M_genotype_sex_du_iso.tsv',\n",
       " 'analysis/hABKI_Swe_IB_HET_WT/swan/hABKI_Swe_IB_WT_M_vs_hABKI_Swe_IB_HET_M_genotype_sex_du_tss.tsv',\n",
       " 'analysis/hABKI_Swe_IB_HET_WT/swan/hABKI_Swe_IB_WT_M_vs_hABKI_Swe_IB_HET_M_genotype_sex_du_tes.tsv',\n",
       " 'analysis/hABKI_Swe_IB_HET_WT/swan/hABKI_Swe_IB_WT_M_vs_hABKI_Swe_IB_HET_M_genotype_sex_du_ic.tsv',\n",
       " 'analysis/hABKI_Swe_IB_HET_WT/swan/hABKI_Swe_IB_WT_M_vs_hABKI_Swe_IB_HET_M_genotype_sex_du_iso.tsv',\n",
       " 'analysis/hABKI_Swe_IB_HET_WT/swan/C57B6J_F_vs_hABKI_Swe_IB_WT_F_genotype_sex_du_tss.tsv',\n",
       " 'analysis/hABKI_Swe_IB_HET_WT/swan/C57B6J_F_vs_hABKI_Swe_IB_WT_F_genotype_sex_du_tes.tsv',\n",
       " 'analysis/hABKI_Swe_IB_HET_WT/swan/C57B6J_F_vs_hABKI_Swe_IB_WT_F_genotype_sex_du_ic.tsv',\n",
       " 'analysis/hABKI_Swe_IB_HET_WT/swan/C57B6J_F_vs_hABKI_Swe_IB_WT_F_genotype_sex_du_iso.tsv',\n",
       " 'analysis/hABKI_Swe_IB_HET_WT/swan/C57B6J_F_vs_hABKI_Swe_IB_HET_F_genotype_sex_du_tss.tsv',\n",
       " 'analysis/hABKI_Swe_IB_HET_WT/swan/C57B6J_F_vs_hABKI_Swe_IB_HET_F_genotype_sex_du_tes.tsv',\n",
       " 'analysis/hABKI_Swe_IB_HET_WT/swan/C57B6J_F_vs_hABKI_Swe_IB_HET_F_genotype_sex_du_ic.tsv',\n",
       " 'analysis/hABKI_Swe_IB_HET_WT/swan/C57B6J_F_vs_hABKI_Swe_IB_HET_F_genotype_sex_du_iso.tsv',\n",
       " 'analysis/hABKI_Swe_IB_HET_WT/swan/hABKI_Swe_IB_WT_F_vs_hABKI_Swe_IB_HET_F_genotype_sex_du_tss.tsv',\n",
       " 'analysis/hABKI_Swe_IB_HET_WT/swan/hABKI_Swe_IB_WT_F_vs_hABKI_Swe_IB_HET_F_genotype_sex_du_tes.tsv',\n",
       " 'analysis/hABKI_Swe_IB_HET_WT/swan/hABKI_Swe_IB_WT_F_vs_hABKI_Swe_IB_HET_F_genotype_sex_du_ic.tsv',\n",
       " 'analysis/hABKI_Swe_IB_HET_WT/swan/hABKI_Swe_IB_WT_F_vs_hABKI_Swe_IB_HET_F_genotype_sex_du_iso.tsv',\n",
       " 'analysis/hTREM2/swan/C57B6J_vs_hTREM2_KI_WT_genotype_du_tss.tsv',\n",
       " 'analysis/hTREM2/swan/C57B6J_vs_hTREM2_KI_WT_genotype_du_tes.tsv',\n",
       " 'analysis/hTREM2/swan/C57B6J_vs_hTREM2_KI_WT_genotype_du_ic.tsv',\n",
       " 'analysis/hTREM2/swan/C57B6J_vs_hTREM2_KI_WT_genotype_du_iso.tsv',\n",
       " 'analysis/hTREM2/swan/C57B6J_vs_hTREM2_KI_HET_genotype_du_tss.tsv',\n",
       " 'analysis/hTREM2/swan/C57B6J_vs_hTREM2_KI_HET_genotype_du_tes.tsv',\n",
       " 'analysis/hTREM2/swan/C57B6J_vs_hTREM2_KI_HET_genotype_du_ic.tsv',\n",
       " 'analysis/hTREM2/swan/C57B6J_vs_hTREM2_KI_HET_genotype_du_iso.tsv',\n",
       " 'analysis/hTREM2/swan/C57B6J_vs_hTREM2-R47HKI_HET_genotype_du_tss.tsv',\n",
       " 'analysis/hTREM2/swan/C57B6J_vs_hTREM2-R47HKI_HET_genotype_du_tes.tsv',\n",
       " 'analysis/hTREM2/swan/C57B6J_vs_hTREM2-R47HKI_HET_genotype_du_ic.tsv',\n",
       " 'analysis/hTREM2/swan/C57B6J_vs_hTREM2-R47HKI_HET_genotype_du_iso.tsv',\n",
       " 'analysis/hTREM2/swan/hTREM2_KI_WT_vs_hTREM2_KI_HET_genotype_du_tss.tsv',\n",
       " 'analysis/hTREM2/swan/hTREM2_KI_WT_vs_hTREM2_KI_HET_genotype_du_tes.tsv',\n",
       " 'analysis/hTREM2/swan/hTREM2_KI_WT_vs_hTREM2_KI_HET_genotype_du_ic.tsv',\n",
       " 'analysis/hTREM2/swan/hTREM2_KI_WT_vs_hTREM2_KI_HET_genotype_du_iso.tsv',\n",
       " 'analysis/hTREM2/swan/hTREM2_KI_WT_vs_hTREM2-R47HKI_HET_genotype_du_tss.tsv',\n",
       " 'analysis/hTREM2/swan/hTREM2_KI_WT_vs_hTREM2-R47HKI_HET_genotype_du_tes.tsv',\n",
       " 'analysis/hTREM2/swan/hTREM2_KI_WT_vs_hTREM2-R47HKI_HET_genotype_du_ic.tsv',\n",
       " 'analysis/hTREM2/swan/hTREM2_KI_WT_vs_hTREM2-R47HKI_HET_genotype_du_iso.tsv',\n",
       " 'analysis/hTREM2/swan/hTREM2_KI_HET_vs_hTREM2-R47HKI_HET_genotype_du_tss.tsv',\n",
       " 'analysis/hTREM2/swan/hTREM2_KI_HET_vs_hTREM2-R47HKI_HET_genotype_du_tes.tsv',\n",
       " 'analysis/hTREM2/swan/hTREM2_KI_HET_vs_hTREM2-R47HKI_HET_genotype_du_ic.tsv',\n",
       " 'analysis/hTREM2/swan/hTREM2_KI_HET_vs_hTREM2-R47HKI_HET_genotype_du_iso.tsv',\n",
       " 'analysis/hTREM2/swan/C57B6J_M_vs_hTREM2_KI_WT_M_genotype_sex_du_tss.tsv',\n",
       " 'analysis/hTREM2/swan/C57B6J_M_vs_hTREM2_KI_WT_M_genotype_sex_du_tes.tsv',\n",
       " 'analysis/hTREM2/swan/C57B6J_M_vs_hTREM2_KI_WT_M_genotype_sex_du_ic.tsv',\n",
       " 'analysis/hTREM2/swan/C57B6J_M_vs_hTREM2_KI_WT_M_genotype_sex_du_iso.tsv',\n",
       " 'analysis/hTREM2/swan/C57B6J_M_vs_hTREM2_KI_HET_M_genotype_sex_du_tss.tsv',\n",
       " 'analysis/hTREM2/swan/C57B6J_M_vs_hTREM2_KI_HET_M_genotype_sex_du_tes.tsv',\n",
       " 'analysis/hTREM2/swan/C57B6J_M_vs_hTREM2_KI_HET_M_genotype_sex_du_ic.tsv',\n",
       " 'analysis/hTREM2/swan/C57B6J_M_vs_hTREM2_KI_HET_M_genotype_sex_du_iso.tsv',\n",
       " 'analysis/hTREM2/swan/C57B6J_M_vs_hTREM2-R47HKI_HET_M_genotype_sex_du_tss.tsv',\n",
       " 'analysis/hTREM2/swan/C57B6J_M_vs_hTREM2-R47HKI_HET_M_genotype_sex_du_tes.tsv',\n",
       " 'analysis/hTREM2/swan/C57B6J_M_vs_hTREM2-R47HKI_HET_M_genotype_sex_du_ic.tsv',\n",
       " 'analysis/hTREM2/swan/C57B6J_M_vs_hTREM2-R47HKI_HET_M_genotype_sex_du_iso.tsv',\n",
       " 'analysis/hTREM2/swan/hTREM2_KI_WT_M_vs_hTREM2_KI_HET_M_genotype_sex_du_tss.tsv',\n",
       " 'analysis/hTREM2/swan/hTREM2_KI_WT_M_vs_hTREM2_KI_HET_M_genotype_sex_du_tes.tsv',\n",
       " 'analysis/hTREM2/swan/hTREM2_KI_WT_M_vs_hTREM2_KI_HET_M_genotype_sex_du_ic.tsv',\n",
       " 'analysis/hTREM2/swan/hTREM2_KI_WT_M_vs_hTREM2_KI_HET_M_genotype_sex_du_iso.tsv',\n",
       " 'analysis/hTREM2/swan/hTREM2_KI_WT_M_vs_hTREM2-R47HKI_HET_M_genotype_sex_du_tss.tsv',\n",
       " 'analysis/hTREM2/swan/hTREM2_KI_WT_M_vs_hTREM2-R47HKI_HET_M_genotype_sex_du_tes.tsv',\n",
       " 'analysis/hTREM2/swan/hTREM2_KI_WT_M_vs_hTREM2-R47HKI_HET_M_genotype_sex_du_ic.tsv',\n",
       " 'analysis/hTREM2/swan/hTREM2_KI_WT_M_vs_hTREM2-R47HKI_HET_M_genotype_sex_du_iso.tsv',\n",
       " 'analysis/hTREM2/swan/hTREM2_KI_HET_M_vs_hTREM2-R47HKI_HET_M_genotype_sex_du_tss.tsv',\n",
       " 'analysis/hTREM2/swan/hTREM2_KI_HET_M_vs_hTREM2-R47HKI_HET_M_genotype_sex_du_tes.tsv',\n",
       " 'analysis/hTREM2/swan/hTREM2_KI_HET_M_vs_hTREM2-R47HKI_HET_M_genotype_sex_du_ic.tsv',\n",
       " 'analysis/hTREM2/swan/hTREM2_KI_HET_M_vs_hTREM2-R47HKI_HET_M_genotype_sex_du_iso.tsv',\n",
       " 'analysis/hTREM2/swan/C57B6J_F_vs_hTREM2_KI_WT_F_genotype_sex_du_tss.tsv',\n",
       " 'analysis/hTREM2/swan/C57B6J_F_vs_hTREM2_KI_WT_F_genotype_sex_du_tes.tsv',\n",
       " 'analysis/hTREM2/swan/C57B6J_F_vs_hTREM2_KI_WT_F_genotype_sex_du_ic.tsv',\n",
       " 'analysis/hTREM2/swan/C57B6J_F_vs_hTREM2_KI_WT_F_genotype_sex_du_iso.tsv',\n",
       " 'analysis/hTREM2/swan/C57B6J_F_vs_hTREM2-R47HKI_HET_F_genotype_sex_du_tss.tsv',\n",
       " 'analysis/hTREM2/swan/C57B6J_F_vs_hTREM2-R47HKI_HET_F_genotype_sex_du_tes.tsv',\n",
       " 'analysis/hTREM2/swan/C57B6J_F_vs_hTREM2-R47HKI_HET_F_genotype_sex_du_ic.tsv',\n",
       " 'analysis/hTREM2/swan/C57B6J_F_vs_hTREM2-R47HKI_HET_F_genotype_sex_du_iso.tsv',\n",
       " 'analysis/hTREM2/swan/C57B6J_F_vs_hTREM2_KI_HET_F_genotype_sex_du_tss.tsv',\n",
       " 'analysis/hTREM2/swan/C57B6J_F_vs_hTREM2_KI_HET_F_genotype_sex_du_tes.tsv',\n",
       " 'analysis/hTREM2/swan/C57B6J_F_vs_hTREM2_KI_HET_F_genotype_sex_du_ic.tsv',\n",
       " 'analysis/hTREM2/swan/C57B6J_F_vs_hTREM2_KI_HET_F_genotype_sex_du_iso.tsv',\n",
       " 'analysis/hTREM2/swan/hTREM2_KI_WT_F_vs_hTREM2-R47HKI_HET_F_genotype_sex_du_tss.tsv',\n",
       " 'analysis/hTREM2/swan/hTREM2_KI_WT_F_vs_hTREM2-R47HKI_HET_F_genotype_sex_du_tes.tsv',\n",
       " 'analysis/hTREM2/swan/hTREM2_KI_WT_F_vs_hTREM2-R47HKI_HET_F_genotype_sex_du_ic.tsv',\n",
       " 'analysis/hTREM2/swan/hTREM2_KI_WT_F_vs_hTREM2-R47HKI_HET_F_genotype_sex_du_iso.tsv',\n",
       " 'analysis/hTREM2/swan/hTREM2_KI_WT_F_vs_hTREM2_KI_HET_F_genotype_sex_du_tss.tsv',\n",
       " 'analysis/hTREM2/swan/hTREM2_KI_WT_F_vs_hTREM2_KI_HET_F_genotype_sex_du_tes.tsv',\n",
       " 'analysis/hTREM2/swan/hTREM2_KI_WT_F_vs_hTREM2_KI_HET_F_genotype_sex_du_ic.tsv',\n",
       " 'analysis/hTREM2/swan/hTREM2_KI_WT_F_vs_hTREM2_KI_HET_F_genotype_sex_du_iso.tsv',\n",
       " 'analysis/hTREM2/swan/hTREM2-R47HKI_HET_F_vs_hTREM2_KI_HET_F_genotype_sex_du_tss.tsv',\n",
       " 'analysis/hTREM2/swan/hTREM2-R47HKI_HET_F_vs_hTREM2_KI_HET_F_genotype_sex_du_tes.tsv',\n",
       " 'analysis/hTREM2/swan/hTREM2-R47HKI_HET_F_vs_hTREM2_KI_HET_F_genotype_sex_du_ic.tsv',\n",
       " 'analysis/hTREM2/swan/hTREM2-R47HKI_HET_F_vs_hTREM2_KI_HET_F_genotype_sex_du_iso.tsv']"
      ]
     },
     "execution_count": 5,
     "metadata": {},
     "output_type": "execute_result"
    }
   ],
   "source": [
    "# get_de_cfg_entries(p_df, config['analysis']['swan']['du'], how='du')\n",
    "# get_de_cfg_entries(p_df, config['analysis']['swan']['deg'], how='de'),\n",
    "# get_de_cfg_entries(p_df, config['analysis']['swan']['det'], how='de')"
   ]
  },
  {
   "cell_type": "code",
   "execution_count": 6,
   "id": "1a34597b-d365-48c9-9ef8-ab6900b6ec38",
   "metadata": {},
   "outputs": [
    {
     "data": {
      "text/plain": [
       "array(['1', '2', '3', '4', '5', '6', '7', '8', '9', '10', '11', '12',\n",
       "       '13', '14', '15', '16', '17', '18', '19'], dtype=object)"
      ]
     },
     "execution_count": 6,
     "metadata": {},
     "output_type": "execute_result"
    }
   ],
   "source": []
  },
  {
   "cell_type": "code",
   "execution_count": null,
   "id": "1c8aefe3-f877-436b-8e17-3bdd10bad3bc",
   "metadata": {},
   "outputs": [],
   "source": []
  },
  {
   "cell_type": "code",
   "execution_count": null,
   "id": "cfa7c489-2e1d-48d5-a19f-c55f7a1b0e70",
   "metadata": {},
   "outputs": [],
   "source": []
  },
  {
   "cell_type": "code",
   "execution_count": null,
   "id": "507a5fe2-93d4-49d7-b369-e3d75e47e098",
   "metadata": {},
   "outputs": [],
   "source": []
  },
  {
   "cell_type": "code",
   "execution_count": null,
   "id": "b99d02bd-c69f-4b10-9cd1-29dd8bb05be8",
   "metadata": {},
   "outputs": [],
   "source": []
  },
  {
   "cell_type": "code",
   "execution_count": null,
   "id": "3783d162-ca46-40ff-8692-68855a94523d",
   "metadata": {},
   "outputs": [],
   "source": []
  }
 ],
 "metadata": {
  "kernelspec": {
   "display_name": "Python 3",
   "language": "python",
   "name": "python3"
  },
  "language_info": {
   "codemirror_mode": {
    "name": "ipython",
    "version": 3
   },
   "file_extension": ".py",
   "mimetype": "text/x-python",
   "name": "python",
   "nbconvert_exporter": "python",
   "pygments_lexer": "ipython3",
   "version": "3.7.12"
  }
 },
 "nbformat": 4,
 "nbformat_minor": 5
}
