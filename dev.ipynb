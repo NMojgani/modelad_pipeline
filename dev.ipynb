{
 "cells": [
  {
   "cell_type": "code",
   "execution_count": 5,
   "id": "e02e2be9-1fad-41db-be3a-77997fbadf29",
   "metadata": {},
   "outputs": [],
   "source": [
    "import matplotlib.pyplot as plt\n",
    "import seaborn as sns\n",
    "import numpy as np\n",
    "from matplotlib_venn import venn2\n",
    "from matplotlib.colors import ListedColormap\n",
    "import matplotlib as mpl\n",
    "import upsetplot\n",
    "from scipy import stats\n",
    "import pandas as pd"
   ]
  },
  {
   "cell_type": "code",
   "execution_count": 6,
   "id": "b8fad2d8-5939-4674-a303-7594aaa01e43",
   "metadata": {},
   "outputs": [],
   "source": [
    "def get_talon_nov_colors():\n",
    "    c_dict = {'Known': '#009E73',\n",
    "              'ISM': '#0072B2',\n",
    "              'NIC': '#D55E00',\n",
    "              'NNC': '#E69F00',\n",
    "              'Antisense': '#000000',\n",
    "              'Intergenic': '#CC79A7',\n",
    "              'Genomic': '#F0E442'}\n",
    "    order = ['Known', 'ISM', 'NIC', 'NNC', 'Antisense', 'Intergenic', 'Genomic']\n",
    "    \n",
    "    return c_dict, order\n",
    "\n",
    "def add_perc(ax, data, feature):\n",
    "    total = data[feature].sum()\n",
    "    ylim = ax.get_ylim()[1]\n",
    "    for p in ax.patches:\n",
    "        percentage = '{:.1f}%'.format(100 * p.get_height()/total)\n",
    "        x = p.get_x() + p.get_width() / 2 - 0.45\n",
    "        y = p.get_y() + p.get_height() + ylim*0.00625\n",
    "        ax.annotate(percentage, (x, y), size = 12)\n",
    "        \n",
    "def plot_read_novelty(df, opref, c_dict, order,\n",
    "                      ylim=None, title=None, \n",
    "                      datasets='all'):\n",
    "    sns.set_context(\"paper\", font_scale=1.6)\n",
    "    \n",
    "    temp = df.copy(deep=True)\n",
    "    \n",
    "    # filter on datasets\n",
    "    if datasets != 'all':\n",
    "        temp = temp.loc[temp.dataset.isin(datasets)]        \n",
    "    \n",
    "    # count number of reads per cat\n",
    "    temp = temp[['transcript_novelty', 'read_name']].groupby('transcript_novelty').count()\n",
    "    temp.reset_index(inplace=True)\n",
    "    temp.rename({'read_name':'counts'}, axis=1, inplace=True)\n",
    "    print(temp)\n",
    "    \n",
    "    # actual plotting\n",
    "    g = sns.catplot(data=temp, x='transcript_novelty',\n",
    "                y='counts', kind='bar', \n",
    "                palette=c_dict, order=order)\n",
    "    [plt.setp(ax.get_xticklabels(), rotation=90) for ax in g.axes.flat]\n",
    "    g.set_ylabels('Reads')\n",
    "    g.set_xlabels('Transcript novelty')\n",
    "    \n",
    "    # add percentage labels\n",
    "    ax = g.axes[0,0]\n",
    "    add_perc(ax, temp, 'counts')\n",
    "    \n",
    "    if ylim:\n",
    "        g.set(ylim=(0,ylim))\n",
    "    \n",
    "    # add title\n",
    "    if not title:\n",
    "        g.fig.suptitle('Reads per novelty category')\n",
    "    else:\n",
    "        g.fig.suptitle('{} reads per novelty category'.format(title))\n",
    "        \n",
    "    # save figure\n",
    "    fname = '{}_read_novelty'.format(opref)\n",
    "    g.savefig(fname+'.pdf', dpi=300)\n",
    "    \n",
    "def plot_transcript_novelty(df, oprefix, c_dict, order, \\\n",
    "                            ylim=None, title=None,\n",
    "                            whitelist=None, datasets='all', save_type='pdf'):\n",
    "    sns.set_context('paper', font_scale=1.6)\n",
    "    \n",
    "    temp = df.copy(deep=True)\n",
    "    \n",
    "    # remove transcripts that are not on whitelist\n",
    "    if whitelist:\n",
    "        temp = temp.loc[temp.transcript_ID.isin(whitelist)]\n",
    "    \n",
    "    # filter on datasets\n",
    "    if datasets != 'all':\n",
    "        temp = temp.loc[temp.dataset.isin(datasets)]        \n",
    "    \n",
    "    # count number of isoforms per cat\n",
    "    temp = temp[['transcript_ID', 'transcript_novelty', 'read_name']].groupby(['transcript_ID', 'transcript_novelty']).count()\n",
    "    temp.reset_index(inplace=True)\n",
    "    temp.drop('read_name', axis=1, inplace=True)\n",
    "    temp = temp.groupby('transcript_novelty').count()\n",
    "    temp.reset_index(inplace=True)\n",
    "    temp.rename({'transcript_ID': 'counts'}, axis=1, inplace=True)\n",
    "    print(temp)\n",
    "    \n",
    "    # actual plotting\n",
    "    g = sns.catplot(data=temp, x='transcript_novelty',\n",
    "                y='counts', kind='bar', \n",
    "                palette=c_dict, order=order)\n",
    "    [plt.setp(ax.get_xticklabels(), rotation=90) for ax in g.axes.flat]\n",
    "    g.set_ylabels('Isoforms')\n",
    "    g.set_xlabels('Transcript novelty')\n",
    "    \n",
    "    # add percentage labels\n",
    "    ax = g.axes[0,0]\n",
    "    add_perc(ax, temp, 'counts')\n",
    "    \n",
    "    if ylim:\n",
    "        g.set(ylim=(0,ylim))\n",
    "    \n",
    "    # add title\n",
    "    if not title:\n",
    "        g.fig.suptitle('Transcript models per novelty category')\n",
    "    else:\n",
    "        g.fig.suptitle('{} transcript models per novelty category'.format(title))\n",
    "        \n",
    "    # save figure\n",
    "    fname = '{}_isoform_novelty'.format(oprefix)\n",
    "    if save_type == 'png':\n",
    "        g.savefig(fname+'.png', dpi=300)        \n",
    "    elif save_type == 'pdf':\n",
    "        g.savefig(fname+'.pdf', dpi=300)        \n",
    "    \n",
    "    plt.show()\n",
    "    plt.clf()"
   ]
  },
  {
   "cell_type": "code",
   "execution_count": null,
   "id": "2b24f418-26d6-4bfa-b53e-5931241fc518",
   "metadata": {},
   "outputs": [],
   "source": [
    "# with just bam tag change + reversing fastq reads"
   ]
  },
  {
   "cell_type": "code",
   "execution_count": 17,
   "id": "a3c52e66-42e4-4c4f-a9fa-dd2cc21e6a7f",
   "metadata": {},
   "outputs": [],
   "source": [
    "read_annot = 'data/230418/talon/annot_talon_read_annot.tsv'\n",
    "filt_ab = 'data/230418/talon/annot_talon_abundance_filtered.tsv'"
   ]
  },
  {
   "cell_type": "code",
   "execution_count": 18,
   "id": "d6b3d1c0-35c3-44f3-90cd-e8cc477ff232",
   "metadata": {},
   "outputs": [
    {
     "name": "stdout",
     "output_type": "stream",
     "text": [
      "  transcript_novelty   counts\n",
      "0          Antisense     9725\n",
      "1            Genomic    13959\n",
      "2                ISM  1406787\n",
      "3         Intergenic     4699\n",
      "4              Known  7080683\n",
      "5                NIC   676050\n",
      "6                NNC   538026\n"
     ]
    },
    {
     "data": {
      "image/png": "[encoded data removed]",
      "text/plain": [
       "<Figure size 360x360 with 1 Axes>"
      ]
     },
     "metadata": {
      "needs_background": "light"
     },
     "output_type": "display_data"
    }
   ],
   "source": [
    "df = pd.read_csv(read_annot,sep='\\t')\n",
    "c_dict, order = get_talon_nov_colors()\n",
    "opref = 'test'\n",
    "plot_read_novelty(df, opref, c_dict, order,\n",
    "                      ylim=None, title=None, \n",
    "                      datasets='all')"
   ]
  },
  {
   "cell_type": "code",
   "execution_count": 15,
   "id": "a0dfa8b2-7e50-4c0c-9adb-7555e983c460",
   "metadata": {},
   "outputs": [
    {
     "data": {
      "text/plain": [
       "16888510"
      ]
     },
     "execution_count": 15,
     "metadata": {},
     "output_type": "execute_result"
    }
   ],
   "source": [
    "# post minimap reads\n",
    "3633544+4507237+3836377+4911352"
   ]
  },
  {
   "cell_type": "code",
   "execution_count": 16,
   "id": "9016cc7e-c2a5-4af3-813d-739c6846abe2",
   "metadata": {},
   "outputs": [
    {
     "data": {
      "text/plain": [
       "10267670"
      ]
     },
     "execution_count": 16,
     "metadata": {},
     "output_type": "execute_result"
    }
   ],
   "source": [
    "# post tc reads\n",
    "2242793+2700697+2299489+3024691"
   ]
  },
  {
   "cell_type": "code",
   "execution_count": 19,
   "id": "e3618feb-92d0-47fc-8893-84581c4d64a5",
   "metadata": {},
   "outputs": [
    {
     "data": {
      "text/plain": [
       "9729929"
      ]
     },
     "execution_count": 19,
     "metadata": {},
     "output_type": "execute_result"
    }
   ],
   "source": [
    "# post talon reads\n",
    "len(df.index)"
   ]
  },
  {
   "cell_type": "code",
   "execution_count": null,
   "id": "6b9490ac-ce57-4ac8-89a4-c311eb5ff408",
   "metadata": {},
   "outputs": [],
   "source": []
  },
  {
   "cell_type": "code",
   "execution_count": null,
   "id": "febb1e69-1d8f-4468-865e-6017e68ff01c",
   "metadata": {},
   "outputs": [],
   "source": []
  },
  {
   "cell_type": "code",
   "execution_count": null,
   "id": "c3667217-8e4d-4737-a68d-b26b63f5e1f8",
   "metadata": {},
   "outputs": [],
   "source": []
  },
  {
   "cell_type": "code",
   "execution_count": null,
   "id": "312815af-5107-48d5-a5b0-2ceb907bcf6c",
   "metadata": {},
   "outputs": [],
   "source": [
    "# with just bam tag change"
   ]
  },
  {
   "cell_type": "code",
   "execution_count": 7,
   "id": "7c45965f-2bfa-42f7-b08f-61512b2c4f00",
   "metadata": {},
   "outputs": [],
   "source": [
    "read_annot = 'data/230418/talon/annot_talon_read_annot.tsv'\n",
    "filt_ab = 'data/230418/talon/annot_talon_abundance_filtered.tsv'"
   ]
  },
  {
   "cell_type": "code",
   "execution_count": 8,
   "id": "04ea9b20-d736-4930-a43a-c016b418ead4",
   "metadata": {},
   "outputs": [],
   "source": [
    "df = pd.read_csv(read_annot,sep='\\t')"
   ]
  },
  {
   "cell_type": "code",
   "execution_count": 9,
   "id": "32c0da51-107a-4180-a80e-150d0f0415bb",
   "metadata": {},
   "outputs": [
    {
     "name": "stdout",
     "output_type": "stream",
     "text": [
      "  transcript_novelty   counts\n",
      "0          Antisense     9726\n",
      "1            Genomic    13939\n",
      "2                ISM  1406832\n",
      "3         Intergenic     4692\n",
      "4              Known  7080673\n",
      "5                NIC   676048\n",
      "6                NNC   538010\n"
     ]
    },
    {
     "data": {
      "image/png": "[encoded data removed]",
      "text/plain": [
       "<Figure size 360x360 with 1 Axes>"
      ]
     },
     "metadata": {
      "needs_background": "light"
     },
     "output_type": "display_data"
    }
   ],
   "source": [
    "c_dict, order = get_talon_nov_colors()\n",
    "opref = 'test'\n",
    "plot_read_novelty(df, opref, c_dict, order,\n",
    "                      ylim=None, title=None, \n",
    "                      datasets='all')"
   ]
  },
  {
   "cell_type": "code",
   "execution_count": 10,
   "id": "e14d42b9-e4a0-419e-92a5-8f014ef89a3c",
   "metadata": {},
   "outputs": [
    {
     "data": {
      "text/plain": [
       "16888524"
      ]
     },
     "execution_count": 10,
     "metadata": {},
     "output_type": "execute_result"
    }
   ],
   "source": [
    "# post minimap reads\n",
    "3633558+4507243+3836381+4911342"
   ]
  },
  {
   "cell_type": "code",
   "execution_count": 12,
   "id": "b634e6ed-d553-4176-a292-b1951eca3d62",
   "metadata": {},
   "outputs": [
    {
     "data": {
      "text/plain": [
       "10267664"
      ]
     },
     "execution_count": 12,
     "metadata": {},
     "output_type": "execute_result"
    }
   ],
   "source": [
    "# post tc reads\n",
    "2242821+2700669+2299503+3024671"
   ]
  },
  {
   "cell_type": "code",
   "execution_count": 13,
   "id": "33137a5e-4b75-472c-a5b0-2b26e11a73fc",
   "metadata": {},
   "outputs": [
    {
     "data": {
      "text/plain": [
       "9729920"
      ]
     },
     "execution_count": 13,
     "metadata": {},
     "output_type": "execute_result"
    }
   ],
   "source": [
    "# post talon reads\n",
    "len(df.index)"
   ]
  },
  {
   "cell_type": "code",
   "execution_count": 14,
   "id": "f9a0bf5b-5368-40e7-9de5-b8e31ee51e6c",
   "metadata": {},
   "outputs": [
    {
     "data": {
      "text/plain": [
       "0.375"
      ]
     },
     "execution_count": 14,
     "metadata": {},
     "output_type": "execute_result"
    }
   ],
   "source": [
    "6/16"
   ]
  },
  {
   "cell_type": "code",
   "execution_count": null,
   "id": "71df0c98-525e-4820-a311-31cf2049d3d9",
   "metadata": {},
   "outputs": [],
   "source": []
  }
 ],
 "metadata": {
  "kernelspec": {
   "display_name": "Python 3",
   "language": "python",
   "name": "python3"
  },
  "language_info": {
   "codemirror_mode": {
    "name": "ipython",
    "version": 3
   },
   "file_extension": ".py",
   "mimetype": "text/x-python",
   "name": "python",
   "nbconvert_exporter": "python",
   "pygments_lexer": "ipython3",
   "version": "3.7.12"
  }
 },
 "nbformat": 4,
 "nbformat_minor": 5
}
